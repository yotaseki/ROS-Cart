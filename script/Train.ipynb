{
 "cells": [
  {
   "cell_type": "code",
   "execution_count": 1,
   "metadata": {},
   "outputs": [
    {
     "name": "stderr",
     "output_type": "stream",
     "text": [
      "/usr/local/lib/python3.5/dist-packages/h5py/__init__.py:36: FutureWarning: Conversion of the second argument of issubdtype from `float` to `np.floating` is deprecated. In future, it will be treated as `np.float64 == np.dtype(float).type`.\n",
      "  from ._conv import register_converters as _register_converters\n"
     ]
    }
   ],
   "source": [
    "import chainer\n",
    "from chainer import Link, Chain, ChainList, Variable, optimizers, iterators\n",
    "import chainer.functions as F\n",
    "import chainer.links as L\n",
    "from chainer import cuda\n",
    "from chainer import initializers\n",
    "from chainer import serializers\n",
    "\n",
    "import os\n",
    "import time, datetime\n",
    "import numpy as np\n",
    "import random\n",
    "import matplotlib.pyplot as plt\n",
    "%matplotlib inline\n",
    "import coordinate\n",
    "import data\n",
    "from model import oplus, Generator\n",
    "import xp_settings as settings\n",
    "settings.set_gpu(0)\n",
    "xp = settings.xp\n"
   ]
  },
  {
   "cell_type": "code",
   "execution_count": 2,
   "metadata": {},
   "outputs": [],
   "source": [
    "def plot_path(cart_path,target,xlim=[-5,5],ylim=[-5,5]):\n",
    "    fig = plt.figure()\n",
    "    path = cart_path\n",
    "    target = target\n",
    "    if(settings.gpu_index >= 0):\n",
    "        path = xp.asnumpy(path)\n",
    "        target = xp.asnumpy(target)\n",
    "    plt.scatter(target[:,0],target[:,1],c=\"red\",s=80,marker=\"o\")\n",
    "    for i in range(1,len(path)):\n",
    "        plt.quiver(path[i-1,0],path[i-1,1]\n",
    "                   , path[i,0]-path[i-1,0],path[i,1]-path[i-1,1]\n",
    "                   , scale_units='xy', angles='xy', scale=1,color=\"blue\")\n",
    "    num_step = len(target)\n",
    "    #plt.scatter(t[num_step-1,0],t[num_step-1,1],c=\"yellow\",s=500,marker=\"*\")\n",
    "    plt.xlabel(\"x[m]\")\n",
    "    plt.ylabel(\"y[m]\")\n",
    "    plt.axis('scaled')\n",
    "    plt.xlim(xlim[0],xlim[1])\n",
    "    plt.ylim(ylim[0],ylim[1])\n",
    "    plt.grid()\n",
    "    plt.show()\n",
    "    return fig"
   ]
  },
  {
   "cell_type": "code",
   "execution_count": 3,
   "metadata": {},
   "outputs": [
    {
     "name": "stdout",
     "output_type": "stream",
     "text": [
      "Sample 1 : check Oplus\n",
      "(3,)\n",
      "variable([-0.14263964  2.9220755   1.0000002 ])\n",
      "variable([-0.14263964  2.9220755   0.        ])\n",
      "variable(8.558871)\n",
      "()\n"
     ]
    }
   ],
   "source": [
    "print('Sample 1 : check Oplus')\n",
    "sample_x1 = Variable(xp.array([1, 1, 1], dtype = 'float32'))\n",
    "sample_x2 = Variable(xp.array([1, 2, 0], dtype = 'float32'))\n",
    "print(sample_x1.shape)\n",
    "sample_z = oplus(sample_x1,sample_x2)\n",
    "print(sample_z)\n",
    "sample_z = sample_z * xp.array([1., 1., 0], dtype='float32')\n",
    "sample_zt = F.transpose(sample_z)\n",
    "print(sample_zt)\n",
    "sample_e = F.matmul(sample_z, sample_zt)\n",
    "print(sample_e)\n",
    "print(sample_e.shape)\n",
    "sample_e.backward()"
   ]
  },
  {
   "cell_type": "code",
   "execution_count": 4,
   "metadata": {},
   "outputs": [
    {
     "name": "stdout",
     "output_type": "stream",
     "text": [
      "Sample 2 : plot Oplus\n",
      "variable([1.8660254 0.5       1.0471976])\n",
      "variable([2.3660254 1.3660254 1.5707963])\n",
      "variable([2.3660254 2.3660254 2.094395 ])\n",
      "[[1.        0.        0.5235988]\n",
      " [1.8660254 0.5       1.0471976]\n",
      " [2.3660254 1.3660254 1.5707963]\n",
      " [2.3660254 2.3660254 2.094395 ]]\n"
     ]
    },
    {
     "data": {
      "image/png": "[encoded data removed]",
      "text/plain": [
       "<matplotlib.figure.Figure at 0x7febcf2e3e10>"
      ]
     },
     "metadata": {},
     "output_type": "display_data"
    },
    {
     "data": {
      "image/png": "[encoded data removed]",
      "text/plain": [
       "<matplotlib.figure.Figure at 0x7febcf2e3e10>"
      ]
     },
     "execution_count": 4,
     "metadata": {},
     "output_type": "execute_result"
    }
   ],
   "source": [
    "print('Sample 2 : plot Oplus')\n",
    "sample_x1 = Variable(xp.array([1, 0, xp.pi/6], dtype = 'float32'))\n",
    "sample_x2 = Variable(xp.array([1, 0, xp.pi/6], dtype = 'float32'))\n",
    "sample_x3 = Variable(xp.array([1, 0, xp.pi/6], dtype = 'float32'))\n",
    "sample_x4 = Variable(xp.array([1, 0, xp.pi/6], dtype = 'float32'))\n",
    "sample_z1 = oplus(sample_x1,sample_x2)\n",
    "print(sample_z1)\n",
    "sample_z2 = oplus(sample_z1,sample_x3)\n",
    "print(sample_z2)\n",
    "sample_z3 = oplus(sample_z2,sample_x4)\n",
    "print(sample_z3)\n",
    "sample_z = sample_z3 * xp.array([1., 1., 0], dtype='float32')\n",
    "sample_pathes = xp.array(xp.vstack((sample_x1.data,sample_z1.data,sample_z2.data,sample_z3.data)),dtype='float32')\n",
    "print(sample_pathes)\n",
    "plot_path(sample_pathes,sample_pathes,[-3,3],[-3,3])"
   ]
  },
  {
   "cell_type": "code",
   "execution_count": 5,
   "metadata": {
    "scrolled": true
   },
   "outputs": [
    {
     "name": "stdout",
     "output_type": "stream",
     "text": [
      "DATA_SIZE          : 1000\n",
      "DATA_NUM_WAYPOINTS : 10\n",
      "DATA_NUM_STEP      : 10\n",
      "DATA_HZ            : 10\n",
      "DATA_MAX_TRANS_VEL : 0.3\n",
      "DATA_MAX_ROTATE_VEL: 6.283185307179586\n",
      "DATA_M_PER_STEP    : 0.03\n",
      "DATA_RAD_PER_STEP  : 0.6283185307179586\n",
      "1000\n",
      "(10, 3)\n"
     ]
    }
   ],
   "source": [
    "# dataset\n",
    "DATA_SIZE = 1000\n",
    "DATA_NUM_WAYPOINTS = 10\n",
    "DATA_NUM_STEP = DATA_NUM_WAYPOINTS\n",
    "DATA_HZ = 10\n",
    "DATA_MAX_TRANS_VEL = 0.3 # [m/s]\n",
    "DATA_MAX_ROTATE_VEL = 2*xp.pi # [rad/s]\n",
    "DATA_M_PER_STEP = DATA_MAX_TRANS_VEL / DATA_HZ # [m/step]\n",
    "DATA_RAD_PER_STEP = DATA_MAX_ROTATE_VEL / DATA_HZ # [rad/step]\n",
    "\n",
    "print('DATA_SIZE          :',DATA_SIZE)\n",
    "print('DATA_NUM_WAYPOINTS :',DATA_NUM_WAYPOINTS)\n",
    "print('DATA_NUM_STEP      :',DATA_NUM_STEP)\n",
    "print('DATA_HZ            :',DATA_HZ) \n",
    "print('DATA_MAX_TRANS_VEL :',DATA_MAX_TRANS_VEL)\n",
    "print('DATA_MAX_ROTATE_VEL:',DATA_MAX_ROTATE_VEL)\n",
    "print('DATA_M_PER_STEP    :',DATA_M_PER_STEP)\n",
    "print('DATA_RAD_PER_STEP  :', DATA_RAD_PER_STEP)\n",
    "\n",
    "X_train = []\n",
    "\n",
    "for i in range(DATA_SIZE):\n",
    "    rand_rad = xp.random.rand()*(2*DATA_RAD_PER_STEP)-DATA_RAD_PER_STEP # -36 ~ 36 m/step\n",
    "    d = data.generate_arc_path(DATA_NUM_STEP,rand_rad,DATA_M_PER_STEP)\n",
    "    d_rotate = data.rotate_path(d,rand_rad/2)\n",
    "    #d_xy_fl = xp.ravel(d_xy[0:DATA_WAYPOINTS])\n",
    "    X_train.append(d_rotate)\n",
    "'''\n",
    "# old version\n",
    "for i in range(DATA_SIZE):\n",
    "    l = int(DATA_NUM_WAYPOINTS*DATA_M_PER_STEP)+1\n",
    "    rand_rad = xp.random.rand()*(2*DATA_RAD_PER_STEP)-DATA_RAD_PER_STEP # -36 ~ 36 m/step\n",
    "    d = data.make_arc_path_2(l,rand_rad,s=DATA_M_PER_STEP)\n",
    "    d_es,_ = data.old_get_evenly_spaced_points(d,DATA_M_PER_STEP)\n",
    "    d_xy = d_es[0:DATA_NUM_WAYPOINTS]\n",
    "    X_train.append(d_xy)\n",
    "'''\n",
    "print(len(X_train))\n",
    "print(X_train[0].shape)"
   ]
  },
  {
   "cell_type": "code",
   "execution_count": 6,
   "metadata": {
    "scrolled": true
   },
   "outputs": [
    {
     "data": {
      "image/png": "[encoded data removed]",
      "text/plain": [
       "<matplotlib.figure.Figure at 0x7febcf2e33c8>"
      ]
     },
     "metadata": {},
     "output_type": "display_data"
    },
    {
     "name": "stdout",
     "output_type": "stream",
     "text": [
      " -- x_train -- \n",
      "[[ 2.99122627e-02 -8.13111342e-08 -1.17321861e+00]\n",
      " [ 5.87799927e-02  7.83558245e-03 -9.08168608e-01]\n",
      " [ 8.45870332e-02  2.29597392e-02 -6.43118608e-01]\n",
      " [ 1.05530990e-01  4.43160998e-02 -3.78068608e-01]\n",
      " [ 1.20149112e-01  7.04131105e-02 -1.13018608e-01]\n",
      " [ 1.27420452e-01  9.94281251e-02  1.52031392e-01]\n",
      " [ 1.26837171e-01  1.29334700e-01  4.17081392e-01]\n",
      " [ 1.18440007e-01  1.58044125e-01  6.82131392e-01]\n",
      " [ 1.02815426e-01  1.83551300e-01  9.47181392e-01]\n",
      " [ 8.10546694e-02  2.04074772e-01  1.21223139e+00]]\n"
     ]
    },
    {
     "data": {
      "image/png": "[encoded data removed]",
      "text/plain": [
       "<matplotlib.figure.Figure at 0x7febc80a8ef0>"
      ]
     },
     "metadata": {},
     "output_type": "display_data"
    },
    {
     "name": "stdout",
     "output_type": "stream",
     "text": [
      " -- x_train -- \n",
      "[[ 2.95409386e-02 -7.80003575e-08 -6.59678686e-01]\n",
      " [ 5.37979043e-02  1.68601316e-02 -5.22686864e-02]\n",
      " [ 6.40931614e-02  4.45490235e-02  5.55141314e-01]\n",
      " [ 5.67436639e-02  7.31611178e-02  1.16255131e+00]\n",
      " [ 3.43786358e-02  9.24606663e-02  1.76996131e+00]\n",
      " [ 4.99898725e-03  9.55434096e-02  2.37737131e+00]\n",
      " [-2.08849471e-02  8.13065211e-02  2.98478131e+00]\n",
      " [-3.40133965e-02  5.48431337e-02  3.59219131e+00]\n",
      " [-2.96897631e-02  2.56203131e-02  4.19960131e+00]\n",
      " [-9.46079211e-03  4.09228975e-03  4.80701131e+00]]\n"
     ]
    },
    {
     "data": {
      "image/png": "[encoded data removed]",
      "text/plain": [
       "<matplotlib.figure.Figure at 0x7febc80ba940>"
      ]
     },
     "metadata": {},
     "output_type": "display_data"
    },
    {
     "name": "stdout",
     "output_type": "stream",
     "text": [
      " -- x_train -- \n",
      "[[ 2.98198161e-02  7.72907777e-08 -2.14081392e+00]\n",
      " [ 5.75123427e-02 -1.10609080e-02 -2.52082392e+00]\n",
      " [ 7.91264616e-02 -3.16047951e-02 -2.90083392e+00]\n",
      " [ 9.15783103e-02 -5.87004201e-02 -3.28084392e+00]\n",
      " [ 9.30912820e-02 -8.84818295e-02 -3.66085392e+00]\n",
      " [ 8.34495088e-02 -1.16699867e-01 -4.04086392e+00]\n",
      " [ 6.40286610e-02 -1.39328435e-01 -4.42087392e+00]\n",
      " [ 3.75996692e-02 -1.53138932e-01 -4.80088392e+00]\n",
      " [ 7.93337303e-03 -1.56160901e-01 -5.18089392e+00]\n",
      " [-2.07374954e-02 -1.47963174e-01 -5.56090392e+00]]\n"
     ]
    },
    {
     "data": {
      "image/png": "[encoded data removed]",
      "text/plain": [
       "<matplotlib.figure.Figure at 0x7febc079c240>"
      ]
     },
     "metadata": {},
     "output_type": "display_data"
    },
    {
     "name": "stdout",
     "output_type": "stream",
     "text": [
      " -- x_train -- \n",
      "[[ 2.99670761e-02  6.77500684e-08 -1.81427859e+00]\n",
      " [ 5.95402462e-02 -4.84278892e-03 -1.97659859e+00]\n",
      " [ 8.79420322e-02 -1.44012514e-02 -2.13891859e+00]\n",
      " [ 1.14425752e-01 -2.84240278e-02 -2.30123859e+00]\n",
      " [ 1.38295148e-01 -4.65424597e-02 -2.46355859e+00]\n",
      " [ 1.58922695e-01 -6.82802138e-02 -2.62587859e+00]\n",
      " [ 1.75766095e-01 -9.30658048e-02 -2.78819859e+00]\n",
      " [ 1.88382535e-01 -1.20247620e-01 -2.95051859e+00]\n",
      " [ 1.96440330e-01 -1.49111050e-01 -3.11283859e+00]\n",
      " [ 1.99727640e-01 -1.78897276e-01 -3.27515859e+00]]\n"
     ]
    },
    {
     "data": {
      "image/png": "[encoded data removed]",
      "text/plain": [
       "<matplotlib.figure.Figure at 0x7febc80becf8>"
      ]
     },
     "metadata": {},
     "output_type": "display_data"
    },
    {
     "name": "stdout",
     "output_type": "stream",
     "text": [
      " -- x_train -- \n",
      "[[ 2.98901490e-02 -1.08527189e-07 -1.12587770e+00]\n",
      " [ 5.84751110e-02  8.73607817e-03 -8.29267696e-01]\n",
      " [ 8.32584360e-02  2.54455907e-02 -5.32657696e-01]\n",
      " [ 1.02075688e-01  4.86691141e-02 -2.36047696e-01]\n",
      " [ 1.13283474e-01  7.63784365e-02  6.05623041e-02]\n",
      " [ 1.15902968e-01  1.06153581e-01  3.57172304e-01]\n",
      " [ 1.09705400e-01  1.35394155e-01  6.53782304e-01]\n",
      " [ 9.52320289e-02  1.61546450e-01  9.50392304e-01]\n",
      " [ 7.37468787e-02  1.82326473e-01  1.24700230e+00]\n",
      " [ 4.71263412e-02  1.95919412e-01  1.54361230e+00]]\n"
     ]
    },
    {
     "data": {
      "image/png": "[encoded data removed]",
      "text/plain": [
       "<matplotlib.figure.Figure at 0x7febc06bea58>"
      ]
     },
     "metadata": {},
     "output_type": "display_data"
    },
    {
     "name": "stdout",
     "output_type": "stream",
     "text": [
      " -- x_train -- \n",
      "[[ 2.98066058e-02 -5.14219436e-08 -9.80214602e-01]\n",
      " [ 5.73326792e-02  1.14345031e-02 -5.86494602e-01]\n",
      " [ 7.83660901e-02  3.25539106e-02 -1.92774602e-01]\n",
      " [ 8.96882373e-02  6.01264102e-02  2.00945398e-01]\n",
      " [ 8.95665686e-02  8.99327677e-02  5.94665398e-01]\n",
      " [ 7.80197022e-02  1.17411917e-01  9.88385398e-01]\n",
      " [ 5.68145775e-02  1.38358908e-01  1.38210540e+00]\n",
      " [ 2.91960719e-02  1.49568364e-01  1.77582540e+00]\n",
      " [-6.09540179e-04  1.49324977e-01  2.16954540e+00]\n",
      " [-2.80413065e-02  1.37665991e-01  2.56326540e+00]]\n"
     ]
    },
    {
     "data": {
      "image/png": "[encoded data removed]",
      "text/plain": [
       "<matplotlib.figure.Figure at 0x7febc064c128>"
      ]
     },
     "metadata": {},
     "output_type": "display_data"
    },
    {
     "name": "stdout",
     "output_type": "stream",
     "text": [
      " -- x_train -- \n",
      "[[ 2.95572087e-02 -7.08432076e-08 -6.76043930e-01]\n",
      " [ 5.40101283e-02  1.66036427e-02 -7.95439300e-02]\n",
      " [ 6.49130533e-02  4.40764441e-02  5.16956070e-01]\n",
      " [ 5.85002616e-02  7.29296014e-02  1.11345607e+00]\n",
      " [ 3.69866443e-02  9.31976268e-02  1.70995607e+00]\n",
      " [ 7.80271205e-03  9.78802202e-02  2.30645607e+00]\n",
      " [-1.89718022e-02  8.53600776e-02  2.90295607e+00]\n",
      " [-3.40893455e-02  5.99614857e-02  3.49945607e+00]\n",
      " [-3.23285242e-02  3.04567727e-02  4.09595607e+00]\n",
      " [-1.42975019e-02  7.03646477e-03  4.69245607e+00]]\n"
     ]
    },
    {
     "data": {
      "image/png": "[encoded data removed]",
      "text/plain": [
       "<matplotlib.figure.Figure at 0x7febc071fcf8>"
      ]
     },
     "metadata": {},
     "output_type": "display_data"
    },
    {
     "name": "stdout",
     "output_type": "stream",
     "text": [
      " -- x_train -- \n",
      "[[ 2.99812641e-02 -6.89874190e-08 -1.38713403e+00]\n",
      " [ 5.97380843e-02  3.66160329e-03 -1.26469403e+00]\n",
      " [ 8.88249168e-02  1.09301912e-02 -1.14225403e+00]\n",
      " [ 1.16806249e-01  2.16968634e-02 -1.01981403e+00]\n",
      " [ 1.43263122e-01  3.58004124e-02 -8.97374026e-01]\n",
      " [ 1.67799400e-01  5.30296679e-02 -7.74934026e-01]\n",
      " [ 1.90047706e-01  7.31266592e-02 -6.52494026e-01]\n",
      " [ 2.09674921e-01  9.57904774e-02 -5.30054026e-01]\n",
      " [ 2.26387168e-01  1.20681781e-01 -4.07614026e-01]\n",
      " [ 2.39934218e-01  1.47427876e-01 -2.85174026e-01]]\n"
     ]
    },
    {
     "data": {
      "image/png": "[encoded data removed]",
      "text/plain": [
       "<matplotlib.figure.Figure at 0x7febc065cda0>"
      ]
     },
     "metadata": {},
     "output_type": "display_data"
    },
    {
     "name": "stdout",
     "output_type": "stream",
     "text": [
      " -- x_train -- \n",
      "[[ 2.95437929e-02  8.98715892e-09 -2.47906163e+00]\n",
      " [ 5.38350567e-02 -1.68157633e-02 -3.08457163e+00]\n",
      " [ 6.42363973e-02 -4.44680293e-02 -3.69008163e+00]\n",
      " [ 5.70493459e-02 -7.31243024e-02 -4.29559163e+00]\n",
      " [ 3.48294467e-02 -9.25950953e-02 -4.90110163e+00]\n",
      " [ 5.47756596e-03 -9.59570583e-02 -5.50661163e+00]\n",
      " [-2.05694674e-02 -8.20147574e-02 -6.11212163e+00]\n",
      " [-3.40499493e-02 -5.57257425e-02 -6.71763163e+00]\n",
      " [-3.01705419e-02 -2.64377604e-02 -7.32314163e+00]\n",
      " [-1.03106699e-02 -4.56491918e-03 -7.92865163e+00]]\n"
     ]
    },
    {
     "data": {
      "image/png": "[encoded data removed]",
      "text/plain": [
       "<matplotlib.figure.Figure at 0x7febc06b3ba8>"
      ]
     },
     "metadata": {},
     "output_type": "display_data"
    },
    {
     "name": "stdout",
     "output_type": "stream",
     "text": [
      " -- x_train -- \n",
      "[[ 2.97596347e-02 -1.13986194e-07 -9.12232497e-01]\n",
      " [ 5.66969186e-02  1.26497318e-02 -4.73192497e-01]\n",
      " [ 7.57023955e-02  3.55501184e-02 -3.41524966e-02]\n",
      " [ 8.31711122e-02  6.43573073e-02  4.04887503e-01]\n",
      " [ 7.76864049e-02  9.36071593e-02  8.43927503e-01]\n",
      " [ 6.02886111e-02  1.17751571e-01  1.28296750e+00]\n",
      " [ 3.42777392e-02  1.32210838e-01  1.72200750e+00]\n",
      " [ 4.58752366e-03  1.34242331e-01  2.16104750e+00]\n",
      " [-2.31504042e-02  1.23460716e-01  2.60008750e+00]\n",
      " [-4.36747224e-02  1.01911047e-01  3.03912750e+00]]\n"
     ]
    },
    {
     "data": {
      "image/png": "[encoded data removed]",
      "text/plain": [
       "<matplotlib.figure.Figure at 0x7febc0664668>"
      ]
     },
     "metadata": {},
     "output_type": "display_data"
    },
    {
     "name": "stdout",
     "output_type": "stream",
     "text": [
      " -- x_train -- \n",
      "[[ 2.96706396e-02  6.60477376e-08 -2.34203855e+00]\n",
      " [ 5.55050803e-02 -1.45920047e-02 -2.85619855e+00]\n",
      " [ 7.08228533e-02 -4.00028821e-02 -3.37035855e+00]\n",
      " [ 7.16629705e-02 -6.96616255e-02 -3.88451855e+00]\n",
      " [ 5.78081882e-02 -9.58988483e-02 -4.39867855e+00]\n",
      " [ 3.28411826e-02 -1.11929927e-01 -4.91283855e+00]\n",
      " [ 3.21811471e-03 -1.13609422e-01 -5.42699855e+00]\n",
      " [-2.34008542e-02 -1.00503036e-01 -5.94115855e+00]\n",
      " [-4.01323860e-02 -7.59999202e-02 -6.45531855e+00]\n",
      " [-4.26499120e-02 -4.64362783e-02 -6.96947855e+00]]\n"
     ]
    },
    {
     "data": {
      "image/png": "[encoded data removed]",
      "text/plain": [
       "<matplotlib.figure.Figure at 0x7febc07f8c18>"
      ]
     },
     "metadata": {},
     "output_type": "display_data"
    },
    {
     "name": "stdout",
     "output_type": "stream",
     "text": [
      " -- x_train -- \n",
      "[[ 2.98490571e-02  2.96714594e-08 -2.09243732e+00]\n",
      " [ 5.79113134e-02 -1.01722848e-02 -2.44019732e+00]\n",
      " [ 8.08270683e-02 -2.92990823e-02 -2.78795732e+00]\n",
      " [ 9.58527766e-02 -5.50904433e-02 -3.13571732e+00]\n",
      " [ 1.01189514e-01 -8.44585458e-02 -3.48347732e+00]\n",
      " [ 9.61983489e-02 -1.13887349e-01 -3.83123732e+00]\n",
      " [ 8.14768399e-02 -1.39853546e-01 -4.17899732e+00]\n",
      " [ 5.87874915e-02 -1.59248383e-01 -4.52675732e+00]\n",
      " [ 3.08467431e-02 -1.69749849e-01 -4.87451732e+00]\n",
      " [ 9.99747760e-04 -1.70100676e-01 -5.22227732e+00]]\n"
     ]
    },
    {
     "data": {
      "image/png": "[encoded data removed]",
      "text/plain": [
       "<matplotlib.figure.Figure at 0x7febc06f19e8>"
      ]
     },
     "metadata": {},
     "output_type": "display_data"
    },
    {
     "name": "stdout",
     "output_type": "stream",
     "text": [
      " -- x_train -- \n",
      "[[ 2.96832487e-02 -1.38597844e-07 -8.14506658e-01]\n",
      " [ 5.56729612e-02  1.43396697e-02 -3.10316658e-01]\n",
      " [ 7.15011333e-02  3.94507076e-02  1.93873342e-01]\n",
      " [ 7.32286417e-02  6.90836449e-02  6.98063342e-01]\n",
      " [ 6.04255652e-02  9.58637959e-02  1.20225334e+00]\n",
      " [ 3.62781780e-02  1.13126442e-01  1.70644334e+00]\n",
      " [ 6.79598857e-03  1.16575465e-01  2.21063334e+00]\n",
      " [-2.06838338e-02  1.05352515e-01  2.71482334e+00]\n",
      " [-3.93224445e-02  8.22506218e-02  3.21901334e+00]\n",
      " [-4.44812925e-02  5.30191056e-02  3.72320334e+00]]\n"
     ]
    },
    {
     "data": {
      "image/png": "[encoded data removed]",
      "text/plain": [
       "<matplotlib.figure.Figure at 0x7febc06729b0>"
      ]
     },
     "metadata": {},
     "output_type": "display_data"
    },
    {
     "name": "stdout",
     "output_type": "stream",
     "text": [
      " -- x_train -- \n",
      "[[ 2.99898107e-02 -6.87438846e-08 -1.43535903e+00]\n",
      " [ 5.98574679e-02  2.70396520e-03 -1.34506903e+00]\n",
      " [ 8.93596473e-02  8.09007275e-03 -1.25477903e+00]\n",
      " [ 1.18256002e-01  1.61143746e-02 -1.16448903e+00]\n",
      " [ 1.46311121e-01  2.67114989e-02 -1.07419903e+00]\n",
      " [ 1.73296446e-01  3.97951135e-02 -9.83909035e-01]\n",
      " [ 1.98992135e-01  5.52586295e-02 -8.93619035e-01]\n",
      " [ 2.23188851e-01  7.29760695e-02 -8.03329035e-01]\n",
      " [ 2.45689470e-01  9.28030941e-02 -7.13039035e-01]\n",
      " [ 2.66310684e-01  1.14578177e-01 -6.22749035e-01]]\n"
     ]
    },
    {
     "data": {
      "image/png": "[encoded data removed]",
      "text/plain": [
       "<matplotlib.figure.Figure at 0x7febc0781048>"
      ]
     },
     "metadata": {},
     "output_type": "display_data"
    },
    {
     "name": "stdout",
     "output_type": "stream",
     "text": [
      " -- x_train -- \n",
      "[[ 2.99913999e-02  8.21511909e-08 -1.69522407e+00]\n",
      " [ 5.98796847e-02 -2.48477063e-03 -1.77817407e+00]\n",
      " [ 8.94593201e-02 -7.43747060e-03 -1.86112407e+00]\n",
      " [ 1.18526894e-01 -1.48239593e-02 -1.94407407e+00]\n",
      " [ 1.46882516e-01 -2.45934415e-02 -2.02702407e+00]\n",
      " [ 1.74331190e-01 -3.66787349e-02 -2.10997407e+00]\n",
      " [ 2.00684160e-01 -5.09967320e-02 -2.19292407e+00]\n",
      " [ 2.25760203e-01 -6.74489712e-02 -2.27587407e+00]\n",
      " [ 2.49386875e-01 -8.59223145e-02 -2.35882407e+00]\n",
      " [ 2.71401703e-01 -1.06289725e-01 -2.44177407e+00]]\n"
     ]
    },
    {
     "data": {
      "image/png": "[encoded data removed]",
      "text/plain": [
       "<matplotlib.figure.Figure at 0x7febc06a7048>"
      ]
     },
     "metadata": {},
     "output_type": "display_data"
    },
    {
     "name": "stdout",
     "output_type": "stream",
     "text": [
      " -- x_train -- \n",
      "[[ 2.97721079e-02 -1.09673817e-07 -9.29587643e-01]\n",
      " [ 5.68652933e-02  1.23424070e-02 -5.02117643e-01]\n",
      " [ 7.64037322e-02  3.48063295e-02 -7.46476430e-02]\n",
      " [ 8.48711904e-02  6.33489390e-02  3.52822357e-01]\n",
      " [ 8.07438221e-02  9.28335662e-02  7.80292357e-01]\n",
      " [ 6.47644091e-02  1.17954011e-01  1.20776236e+00]\n",
      " [ 3.98086855e-02  1.34189475e-01  1.63523236e+00]\n",
      " [ 1.03678072e-02  1.38618142e-01  2.06270236e+00]\n",
      " [-1.82598995e-02  1.30443008e-01  2.49017236e+00]\n",
      " [-4.09224508e-02  1.11135311e-01  2.91764236e+00]]\n"
     ]
    },
    {
     "data": {
      "image/png": "[encoded data removed]",
      "text/plain": [
       "<matplotlib.figure.Figure at 0x7febc06bf358>"
      ]
     },
     "metadata": {},
     "output_type": "display_data"
    },
    {
     "name": "stdout",
     "output_type": "stream",
     "text": [
      " -- x_train -- \n",
      "[[ 2.99773923e-02 -1.41766031e-08 -1.36904585e+00]\n",
      " [ 5.96840458e-02  4.01978551e-03 -1.23454585e+00]\n",
      " [ 8.85833692e-02  1.19867894e-02 -1.10004585e+00]\n",
      " [ 1.16153354e-01  2.37570896e-02 -9.65545854e-01]\n",
      " [ 1.41896005e-01  3.91180792e-02 -8.31045854e-01]\n",
      " [ 1.65346331e-01  5.77922928e-02 -6.96545854e-01]\n",
      " [ 1.86080750e-01  7.94424180e-02 -5.62045854e-01]\n",
      " [ 2.03724736e-01  1.03677389e-01 -4.27545854e-01]\n",
      " [ 2.17959585e-01  1.30059449e-01 -2.93045854e-01]\n",
      " [ 2.28528175e-01  1.58112060e-01 -1.58545854e-01]]\n"
     ]
    },
    {
     "data": {
      "image/png": "[encoded data removed]",
      "text/plain": [
       "<matplotlib.figure.Figure at 0x7febc07902e8>"
      ]
     },
     "metadata": {},
     "output_type": "display_data"
    },
    {
     "name": "stdout",
     "output_type": "stream",
     "text": [
      " -- x_train -- \n",
      "[[ 2.95967217e-02 -5.94543742e-08 -7.17069318e-01]\n",
      " [ 5.45278293e-02  1.59500444e-02 -1.47919318e-01]\n",
      " [ 6.69330111e-02  4.28215424e-02  4.21230682e-01]\n",
      " [ 6.29011455e-02  7.21423541e-02  9.90380682e-01]\n",
      " [ 4.37034043e-02  9.46681763e-02  1.55953068e+00]\n",
      " [ 1.53924759e-02  1.03297039e-01  2.12868068e+00]\n",
      " [-1.31057338e-02  9.53084232e-02  2.69783068e+00]\n",
      " [-3.28062727e-02  7.32209900e-02  3.26698068e+00]\n",
      " [-3.74979295e-02  4.39984936e-02  3.83613068e+00]\n",
      " [-2.57015128e-02  1.68542403e-02  4.40528068e+00]]\n"
     ]
    },
    {
     "data": {
      "image/png": "[encoded data removed]",
      "text/plain": [
       "<matplotlib.figure.Figure at 0x7febc05488d0>"
      ]
     },
     "metadata": {},
     "output_type": "display_data"
    },
    {
     "name": "stdout",
     "output_type": "stream",
     "text": [
      " -- x_train -- \n",
      "[[ 2.99800580e-02 -1.30048385e-07 -1.38131199e+00]\n",
      " [ 5.97212583e-02  3.77675833e-03 -1.25499199e+00]\n",
      " [ 8.87496589e-02  1.12704784e-02 -1.12867199e+00]\n",
      " [ 1.16602677e-01  2.23616137e-02 -1.00235199e+00]\n",
      " [ 1.42836459e-01  3.68734210e-02 -8.76031989e-01]\n",
      " [ 1.67032956e-01  5.45746470e-02 -7.49711989e-01]\n",
      " [ 1.88806584e-01  7.51832132e-02 -6.23391989e-01]\n",
      " [ 2.07810369e-01  9.83707109e-02 -4.97071989e-01]\n",
      " [ 2.23741475e-01  1.23767635e-01 -3.70751989e-01]\n",
      " [ 2.36346031e-01  1.50969272e-01 -2.44431989e-01]]\n"
     ]
    },
    {
     "data": {
      "image/png": "[encoded data removed]",
      "text/plain": [
       "<matplotlib.figure.Figure at 0x7febc05a9400>"
      ]
     },
     "metadata": {},
     "output_type": "display_data"
    },
    {
     "name": "stdout",
     "output_type": "stream",
     "text": [
      " -- x_train -- \n",
      "[[ 2.99545101e-02  3.59686185e-08 -1.85701253e+00]\n",
      " [ 5.93653808e-02 -5.68092906e-03 -2.04782253e+00]\n",
      " [ 8.71650526e-02 -1.68366867e-02 -2.23863253e+00]\n",
      " [ 1.12344449e-01 -3.30623039e-02 -2.42944253e+00]\n",
      " [ 1.33989606e-01 -5.37688211e-02 -2.62025253e+00]\n",
      " [ 1.51314845e-01 -7.82046306e-02 -2.81106253e+00]\n",
      " [ 1.63691291e-01 -1.05482758e-01 -3.00187253e+00]\n",
      " [ 1.70669704e-01 -1.34613059e-01 -3.19268253e+00]\n",
      " [ 1.71996779e-01 -1.64538158e-01 -3.38349253e+00]\n",
      " [ 1.67624347e-01 -1.94171830e-01 -3.57430253e+00]]\n"
     ]
    }
   ],
   "source": [
    "# plot data\n",
    "p = X_train\n",
    "random.shuffle(p)\n",
    "if(settings.gpu_index >= 0):\n",
    "    p = chainer.cuda.to_cpu(X_train)\n",
    "\n",
    "for num in range(20):\n",
    "    plt.scatter(0, 0,c=\"black\",edgecolor=\"black\",s=30,marker=\"o\")\n",
    "    plt.scatter(p[num][:,0], p[num][:,1],c=\"red\",edgecolor=\"red\",s=30,marker=\"o\")\n",
    "    plt.xlim([-.2,.2])\n",
    "    plt.ylim([-.2,.2])\n",
    "    plt.grid()\n",
    "    plt.show()\n",
    "    print(' -- x_train -- ')\n",
    "    print(p[num])\n"
   ]
  },
  {
   "cell_type": "code",
   "execution_count": 7,
   "metadata": {},
   "outputs": [],
   "source": [
    "# loss\n",
    "def error_squares(z_oplus,z_true, scale=DATA_M_PER_STEP):\n",
    "    #print(predict)\n",
    "    #print(groundtruth)\n",
    "    w = xp.array([1., 1., 0.],dtype=xp.float32)\n",
    "    t = z_true * w\n",
    "    p = z_oplus * w\n",
    "    error = F.sqrt(F.sum((t-p)*(t-p))) / scale\n",
    "    return error\n",
    "\n",
    "def error_limit_rotate_vel(predict,limit):\n",
    "    w = xp.array([0., 0., 1.],dtype=xp.float32)\n",
    "    p = predict * w\n",
    "    vel = F.sum(F.absolute(p))\n",
    "    if vel.data < limit:\n",
    "        error = vel * .0\n",
    "    else:\n",
    "        error = (vel - limit) / limit\n",
    "    return error\n",
    "\n",
    "def error_limit_trans_vel(predict,limit):\n",
    "    w = xp.array([1., 0., 0.],dtype=xp.float32)\n",
    "    p = predict * w\n",
    "    vel = F.sum(F.absolute(p))\n",
    "    if vel.data <= limit:\n",
    "        error = vel * .0\n",
    "    else:\n",
    "        error = (vel - limit) / limit\n",
    "    return error\n",
    "\n",
    "def error_diff_v(y0, y1, scale=DATA_M_PER_STEP):\n",
    "    w = xp.array([0., 0., 1.],dtype=xp.float32)\n",
    "    v0 = y0 * w\n",
    "    v1 = y1 * w\n",
    "    error = F.absolute(F.sum(v1 - v0)) / scale\n",
    "    return error\n",
    "\n",
    "def error_diff_w(y0, y1, scale=DATA_RAD_PER_STEP):\n",
    "    w = xp.array([0., 0., 1.],dtype=xp.float32)\n",
    "    v0 = y0 * w\n",
    "    v1 = y1 * w\n",
    "    error = F.absolute(F.sum(v1 - v0)) / scale\n",
    "    return error\n",
    "\n",
    "def calc_oplus(y):\n",
    "    dst = []\n",
    "    z = y[0,0]\n",
    "    dst.append(z)\n",
    "    for step in range(1,DATA_NUM_STEP):\n",
    "        z = oplus(z,y[0,step])\n",
    "        dst.append(z)\n",
    "    return dst\n",
    "\n",
    "def loss_function(y, y_true,disp_loss=0):\n",
    "    dmesg = ''\n",
    "    z_true = y_true\n",
    "    z_oplus = calc_oplus(y)\n",
    "    # distance\n",
    "    e_distance = error_squares(z_oplus[0],z_true[0])\n",
    "    for i in range(1,DATA_NUM_WAYPOINTS):\n",
    "        e_distance = e_distance + error_squares(z_oplus[i],z_true[i])\n",
    "    dmesg = dmesg + 'e_distance: ' + str(e_distance) + '\\t'\n",
    "    '''\n",
    "    # limit v\n",
    "    e_lim_v = error_limit_trans_vel(y[0,0], DATA_M_PER_STEP)\n",
    "    for i in range(1,DATA_NUM_STEP):\n",
    "        e_lim_v = e_lim_v + error_limit_trans_vel(y[0,i], DATA_M_PER_STEP)\n",
    "    dmesg = dmesg + 'e_distance: ' + str(e_distance) + '\\t'\n",
    "    # limit w\n",
    "    e_lim_w = error_limit_rotate_vel(y[0,0], DATA_RAD_PER_STEP)\n",
    "    for i in range(1,DATA_NUM_STEP):\n",
    "        e_lim_w = e_lim_w + error_limit_rotate_vel(y[0,i] , DATA_RAD_PER_STEP)\n",
    "    dmesg = dmesg + 'e_distance: ' + str(e_distance) + '\\t'\n",
    "    '''\n",
    "    e_diff_v = error_diff_v(y[0,0],y[0,1])\n",
    "    for i in range(2,DATA_NUM_STEP):\n",
    "        e_diff_v = error_diff_v(y[0,i-1],y[0,i])\n",
    "    dmesg = dmesg + 'e_dv: ' + str(e_distance) + '\\t'\n",
    "    e_diff_w = error_diff_v(y[0,0],y[0,1])\n",
    "    for i in range(2,DATA_NUM_STEP):\n",
    "        e_diff_w = error_diff_w(y[0,i-1],y[0,i])\n",
    "    dmesg = dmesg + 'e_dw: ' + str(e_distance) + '\\t'\n",
    "    loss = (5 * e_distance) + (1 * e_diff_v) + (1 * e_diff_w)\n",
    "    #loss = loss + (1 * e_lim_w)\n",
    "    #loss = loss + (1 * e_lim_v)\n",
    "    if(disp_loss):\n",
    "        print(dmesg)\n",
    "    return loss"
   ]
  },
  {
   "cell_type": "code",
   "execution_count": null,
   "metadata": {},
   "outputs": [],
   "source": [
    "# training\n",
    "def train(model,X,epoch=10):\n",
    "    if settings.gpu_index >= 0:\n",
    "        cuda.cupy.cuda.Device(settings.gpu_index).use()\n",
    "        model.to_gpu(settings.gpu_index)\n",
    "    opt = optimizers.Adam()\n",
    "    opt.setup(model)\n",
    "    ep = 0\n",
    "    AvgLoss = []\n",
    "    while ep < epoch:\n",
    "        random.shuffle(X)\n",
    "        L = .0\n",
    "        for itr in range(len(X)):\n",
    "            x = xp.ravel(X[itr][:,0:2])\n",
    "            x = Variable(xp.array([x],dtype=xp.float32))\n",
    "            y = model(x)\n",
    "            # zero-padding\n",
    "            pad = Variable(xp.zeros((1,DATA_NUM_WAYPOINTS,1),dtype=xp.float32))\n",
    "            y_pad = F.concat((y,pad),axis=2)\n",
    "            y_pad = F.permutate(y_pad, xp.array([0,2,1],'i'), axis=2)\n",
    "            # loss\n",
    "            loss = loss_function(y_pad, X[itr][:])\n",
    "            model.cleargrads()\n",
    "            loss.backward()\n",
    "            opt.update()\n",
    "            # y_grad = chainer.grad( (e,), (y,) )[0]\n",
    "            # print(y_grad)\n",
    "            # x_grad = chainer.grad( (e,), (x,) )[0]\n",
    "            # print(x_grad)\n",
    "            L = L + loss.data\n",
    "        ep = ep + 1\n",
    "        print('Epoch:',ep,', Average loss:',L / len(X))\n",
    "        AvgLoss.append(L / len(X))\n",
    "    fig = plt.figure()\n",
    "    plt.plot(range(len(AvgLoss)),AvgLoss)\n",
    "    plt.xlabel('Epoch')\n",
    "    plt.ylabel('Average loss (squares)') #*10, lim_v, lim_w, )')\n",
    "    plt.text(len(AvgLoss)-1, AvgLoss[-1],str(AvgLoss[-1]),ha='center',va='top' )\n",
    "    return model, fig"
   ]
  },
  {
   "cell_type": "code",
   "execution_count": null,
   "metadata": {
    "scrolled": false
   },
   "outputs": [
    {
     "name": "stdout",
     "output_type": "stream",
     "text": [
      "Epoch: 1 , Average loss: 86.453255\n",
      "Epoch: 2 , Average loss: 45.165207\n",
      "Epoch: 3 , Average loss: 38.75094\n",
      "Epoch: 4 , Average loss: 34.557243\n",
      "Epoch: 5 , Average loss: 31.326872\n",
      "Epoch: 6 , Average loss: 29.723188\n",
      "Epoch: 7 , Average loss: 27.613672\n",
      "Epoch: 8 , Average loss: 27.255192\n",
      "Epoch: 9 , Average loss: 26.49938\n",
      "Epoch: 10 , Average loss: 25.309528\n",
      "Epoch: 11 , Average loss: 24.94529\n",
      "Epoch: 12 , Average loss: 24.396702\n",
      "Epoch: 13 , Average loss: 23.975027\n",
      "Epoch: 14 , Average loss: 23.641592\n",
      "Epoch: 15 , Average loss: 22.864855\n",
      "Epoch: 16 , Average loss: 22.208931\n",
      "Epoch: 17 , Average loss: 21.75056\n",
      "Epoch: 18 , Average loss: 21.384953\n",
      "Epoch: 19 , Average loss: 21.37564\n",
      "Epoch: 20 , Average loss: 20.50253\n",
      "Epoch: 21 , Average loss: 20.77202\n",
      "Epoch: 22 , Average loss: 20.152382\n",
      "Epoch: 23 , Average loss: 20.02352\n",
      "Epoch: 24 , Average loss: 19.921278\n",
      "Epoch: 25 , Average loss: 19.798262\n",
      "Epoch: 26 , Average loss: 19.44207\n",
      "Epoch: 27 , Average loss: 19.324495\n",
      "Epoch: 28 , Average loss: 19.194502\n",
      "Epoch: 29 , Average loss: 19.384954\n",
      "Epoch: 30 , Average loss: 19.057457\n",
      "Epoch: 31 , Average loss: 19.008347\n",
      "Epoch: 32 , Average loss: 18.451986\n",
      "Epoch: 33 , Average loss: 18.185799\n",
      "Epoch: 34 , Average loss: 18.558586\n",
      "Epoch: 35 , Average loss: 18.34041\n",
      "Epoch: 36 , Average loss: 18.006243\n",
      "Epoch: 37 , Average loss: 17.877533\n",
      "Epoch: 38 , Average loss: 17.87729\n",
      "Epoch: 39 , Average loss: 17.751957\n",
      "Epoch: 40 , Average loss: 17.702875\n",
      "Epoch: 41 , Average loss: 17.588755\n",
      "Epoch: 42 , Average loss: 17.769777\n",
      "Epoch: 43 , Average loss: 17.210632\n",
      "Epoch: 44 , Average loss: 17.504448\n",
      "Epoch: 45 , Average loss: 17.520697\n",
      "Epoch: 46 , Average loss: 17.454529\n",
      "Epoch: 47 , Average loss: 17.013924\n",
      "Epoch: 48 , Average loss: 17.074028\n",
      "Epoch: 49 , Average loss: 16.991905\n",
      "Epoch: 50 , Average loss: 17.1272\n",
      "Epoch: 51 , Average loss: 16.632597\n",
      "Epoch: 52 , Average loss: 16.635633\n",
      "Epoch: 53 , Average loss: 16.388481\n",
      "Epoch: 54 , Average loss: 16.475101\n",
      "Epoch: 55 , Average loss: 16.08359\n",
      "Epoch: 56 , Average loss: 15.916913\n",
      "Epoch: 57 , Average loss: 15.896285\n",
      "Epoch: 58 , Average loss: 16.07052\n",
      "Epoch: 59 , Average loss: 15.281197\n",
      "Epoch: 60 , Average loss: 15.811363\n",
      "Epoch: 61 , Average loss: 15.171311\n",
      "Epoch: 62 , Average loss: 15.236257\n",
      "Epoch: 63 , Average loss: 15.066824\n",
      "Epoch: 64 , Average loss: 15.027497\n",
      "Epoch: 65 , Average loss: 15.181937\n",
      "Epoch: 66 , Average loss: 14.903728\n",
      "Epoch: 67 , Average loss: 14.73352\n",
      "Epoch: 68 , Average loss: 14.637401\n",
      "Epoch: 69 , Average loss: 14.460568\n",
      "Epoch: 70 , Average loss: 14.106255\n",
      "Epoch: 71 , Average loss: 14.440032\n",
      "Epoch: 72 , Average loss: 14.533428\n",
      "Epoch: 73 , Average loss: 14.026816\n",
      "Epoch: 74 , Average loss: 13.80564\n"
     ]
    }
   ],
   "source": [
    "EPOCH = 100\n",
    "model = Generator(DATA_NUM_WAYPOINTS,DATA_NUM_STEP)\n",
    "start_time = '{0:%Y/%m/%d %H:%M:%S}'.format(datetime.datetime.now())\n",
    "model, fig = train(model,X_train,epoch=EPOCH)\n",
    "finish_time = '{0:%Y/%m/%d %H:%M:%S}'.format(datetime.datetime.now())\n",
    "print('start:',start_time)\n",
    "print('finish:',finish_time)"
   ]
  },
  {
   "cell_type": "code",
   "execution_count": null,
   "metadata": {},
   "outputs": [],
   "source": [
    "# log\n",
    "def gen_filename():\n",
    "    name_date = '{0:%Y%m%d%H%M}'.format(datetime.datetime.now())\n",
    "    name_epoch = '{}ep'.format(EPOCH)\n",
    "    name_datasize  = '{}data'.format(DATA_SIZE)\n",
    "    name_num_step = '{}step'.format(DATA_NUM_STEP)\n",
    "    name_space = '{}mm'.format(int(DATA_M_PER_STEP * 1000))\n",
    "    fn = 'Cart' + name_space + name_num_step + '_' + name_date + '_'   + name_datasize + name_epoch\n",
    "    return fn\n",
    "dirname = gen_filename()\n",
    "os.mkdir(dirname)\n",
    "serializers.save_npz(dirname +'/'+ dirname+'.model', model)\n",
    "fig.savefig(dirname + '/' + 'loss.png')"
   ]
  },
  {
   "cell_type": "code",
   "execution_count": null,
   "metadata": {},
   "outputs": [],
   "source": [
    "rand_rad = xp.random.rand()*(2*DATA_RAD_PER_STEP)-DATA_RAD_PER_STEP # -36 ~ 36 m/step\n",
    "x_test = data.generate_arc_path(DATA_NUM_WAYPOINTS,rand_rad,DATA_M_PER_STEP)\n",
    "'''\n",
    "x_test = xp.array(\n",
    "    [[ 0.02293546, -0.04092823,0],\n",
    "     [ 0.05309581, -0.05415406,0],\n",
    "     [ 0.08393338, -0.06682136,0],\n",
    "     [ 0.11579048, -0.07606434,0],\n",
    "     [ 0.14647007, -0.08932315,0],\n",
    "     [ 0.17848524, -0.09797464,0],\n",
    "     [ 0.21082233, -0.10660645,0],\n",
    "     [ 0.24306089, -0.11521195,0],\n",
    "     [ 0.27361556, -0.12854306,0],\n",
    "     [ 0.3055584,  -0.13706963,0]]\n",
    "    , dtype = xp.float32)\n",
    "'''\n",
    "x = xp.ravel(x_test[:,0:2])\n",
    "x = Variable(xp.array([x],dtype=xp.float32))\n",
    "y = model(x)\n",
    "# zero-padding\n",
    "pad = Variable(xp.zeros((1,DATA_NUM_STEP,1),dtype=xp.float32))\n",
    "y_pad = F.concat((y,pad),axis=2)\n",
    "y_pad = F.permutate(y_pad, xp.array([0,2,1],'i'), axis=2)\n",
    "print(' --- input --- ')\n",
    "print(x_test)\n",
    "print(' --- output --- ')\n",
    "print(y_pad.data)\n",
    "print(xp.rad2deg(y_pad.data[:,:,2]))\n",
    "# loss\n",
    "z_true = x_test\n",
    "z = y_pad[0,0]\n",
    "print(' --- error --- ')\n",
    "Z = xp.array([([0,0,0]),(z.data)],dtype='float32')\n",
    "for step in range(1,DATA_NUM_STEP):\n",
    "    z = oplus(z,y_pad[0,step])\n",
    "    Z = xp.vstack((Z,z.data))\n",
    "loss = loss_function(y_pad, x_test, disp_loss=1)\n",
    "print('loss:',loss)\n",
    "print(' --- trajectory --- ')\n",
    "print(Z)\n",
    "print(z_true.shape)\n",
    "fig = plot_path(Z,z_true,[-.1,.4],[-.4,.4])\n",
    "print(' --- grad --- ')\n",
    "loss.backward()\n",
    "y_grad = chainer.grad( (loss,), (y,) )[0]\n",
    "print(y_grad)"
   ]
  },
  {
   "cell_type": "code",
   "execution_count": null,
   "metadata": {
    "scrolled": false
   },
   "outputs": [],
   "source": [
    "for i in range(10):\n",
    "    rand_rad = xp.random.rand()*(2*DATA_RAD_PER_STEP)-DATA_RAD_PER_STEP # -36 ~ 36 m/step\n",
    "    x_test = data.generate_arc_path(DATA_NUM_WAYPOINTS,rand_rad,DATA_M_PER_STEP)\n",
    "    x = xp.ravel(x_test[:,0:2])\n",
    "    x = Variable(xp.array([x],dtype=xp.float32))\n",
    "    y = model(x)\n",
    "    # zero-padding\n",
    "    pad = Variable(xp.zeros((1,DATA_NUM_STEP,1),dtype=xp.float32))\n",
    "    y_pad = F.concat((y,pad),axis=2)\n",
    "    y_pad = F.permutate(y_pad, xp.array([0,2,1],'i'), axis=2)\n",
    "    print(' --- input --- ')\n",
    "    print(x_test)\n",
    "    print(' --- output --- ')\n",
    "    print(y_pad.data)\n",
    "    # loss\n",
    "    z_true = x_test\n",
    "    z = y_pad[0,0]\n",
    "    e = error_squares(z,z_true[0])\n",
    "    print(' --- error --- ')\n",
    "    print('loss:',e)\n",
    "    Z = xp.array([([0,0,0]),(z.data)],dtype='float32')\n",
    "    for step in range(1,DATA_NUM_STEP):\n",
    "        z = oplus(z,y_pad[0,step])\n",
    "        e = error_squares(z,z_true[step])\n",
    "        print('loss:',e)\n",
    "        Z = xp.vstack((Z,z.data))\n",
    "    print(' --- trajectory --- ')\n",
    "    print(Z)\n",
    "    print(z_true.shape)\n",
    "    fig = plot_path(Z,z_true,[-.1,.4],[-.4,.4])\n",
    "    fig.savefig(dirname + '/test' + str(i) + '.png')"
   ]
  }
 ],
 "metadata": {
  "kernelspec": {
   "display_name": "Python 3",
   "language": "python",
   "name": "python3"
  },
  "language_info": {
   "codemirror_mode": {
    "name": "ipython",
    "version": 3
   },
   "file_extension": ".py",
   "mimetype": "text/x-python",
   "name": "python",
   "nbconvert_exporter": "python",
   "pygments_lexer": "ipython3",
   "version": "3.5.2"
  }
 },
 "nbformat": 4,
 "nbformat_minor": 2
}
