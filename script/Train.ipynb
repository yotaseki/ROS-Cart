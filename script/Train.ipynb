{
 "cells": [
  {
   "cell_type": "code",
   "execution_count": 1,
   "metadata": {},
   "outputs": [
    {
     "name": "stderr",
     "output_type": "stream",
     "text": [
      "/usr/local/lib/python3.5/dist-packages/h5py/__init__.py:36: FutureWarning: Conversion of the second argument of issubdtype from `float` to `np.floating` is deprecated. In future, it will be treated as `np.float64 == np.dtype(float).type`.\n",
      "  from ._conv import register_converters as _register_converters\n"
     ]
    }
   ],
   "source": [
    "import chainer\n",
    "from chainer import Link, Chain, ChainList, Variable, optimizers, iterators\n",
    "import chainer.functions as F\n",
    "import chainer.links as L\n",
    "from chainer import cuda\n",
    "from chainer import initializers\n",
    "from chainer import serializers\n",
    "\n",
    "import os\n",
    "import time, datetime\n",
    "import numpy as np\n",
    "import random\n",
    "import matplotlib.pyplot as plt\n",
    "%matplotlib inline\n",
    "import coordinate\n",
    "import data\n",
    "from model import oplus, Generator\n",
    "import xp_settings as settings\n",
    "settings.set_gpu(0)\n",
    "xp = settings.xp\n"
   ]
  },
  {
   "cell_type": "code",
   "execution_count": 2,
   "metadata": {},
   "outputs": [],
   "source": [
    "def plot_path(cart_path,target,xlim=[-5,5],ylim=[-5,5]):\n",
    "    fig = plt.figure()\n",
    "    path = cart_path\n",
    "    target = target\n",
    "    if(settings.gpu_index >= 0):\n",
    "        path = xp.asnumpy(path)\n",
    "        target = xp.asnumpy(target)\n",
    "    plt.scatter(target[:,0],target[:,1],c=\"red\",s=80,marker=\"o\")\n",
    "    for i in range(1,len(path)):\n",
    "        plt.quiver(path[i-1,0],path[i-1,1]\n",
    "                   , path[i,0]-path[i-1,0],path[i,1]-path[i-1,1]\n",
    "                   , scale_units='xy', angles='xy', scale=1,color=\"blue\")\n",
    "    num_step = len(target)\n",
    "    #plt.scatter(t[num_step-1,0],t[num_step-1,1],c=\"yellow\",s=500,marker=\"*\")\n",
    "    plt.xlabel(\"x[m]\")\n",
    "    plt.ylabel(\"y[m]\")\n",
    "    plt.axis('scaled')\n",
    "    plt.xlim(xlim[0],xlim[1])\n",
    "    plt.ylim(ylim[0],ylim[1])\n",
    "    plt.grid()\n",
    "    plt.show()\n",
    "    return fig"
   ]
  },
  {
   "cell_type": "code",
   "execution_count": 3,
   "metadata": {},
   "outputs": [
    {
     "name": "stdout",
     "output_type": "stream",
     "text": [
      "Sample 1 : check Oplus\n",
      "(3,)\n",
      "variable([-0.14263964  2.9220755   1.0000002 ])\n",
      "variable([-0.14263964  2.9220755   0.        ])\n",
      "variable(8.558871)\n",
      "()\n"
     ]
    }
   ],
   "source": [
    "print('Sample 1 : check Oplus')\n",
    "sample_x1 = Variable(xp.array([1, 1, 1], dtype = 'float32'))\n",
    "sample_x2 = Variable(xp.array([1, 2, 0], dtype = 'float32'))\n",
    "print(sample_x1.shape)\n",
    "sample_z = oplus(sample_x1,sample_x2)\n",
    "print(sample_z)\n",
    "sample_z = sample_z * xp.array([1., 1., 0], dtype='float32')\n",
    "sample_zt = F.transpose(sample_z)\n",
    "print(sample_zt)\n",
    "sample_e = F.matmul(sample_z, sample_zt)\n",
    "print(sample_e)\n",
    "print(sample_e.shape)\n",
    "sample_e.backward()"
   ]
  },
  {
   "cell_type": "code",
   "execution_count": 4,
   "metadata": {},
   "outputs": [
    {
     "name": "stdout",
     "output_type": "stream",
     "text": [
      "Sample 2 : plot Oplus\n",
      "variable([1.8660254 0.5       1.0471976])\n",
      "variable([2.3660254 1.3660254 1.5707963])\n",
      "variable([2.3660254 2.3660254 2.094395 ])\n",
      "[[1.        0.        0.5235988]\n",
      " [1.8660254 0.5       1.0471976]\n",
      " [2.3660254 1.3660254 1.5707963]\n",
      " [2.3660254 2.3660254 2.094395 ]]\n"
     ]
    },
    {
     "data": {
      "image/png": "[encoded data removed]",
      "text/plain": [
       "<matplotlib.figure.Figure at 0x7fc921972cc0>"
      ]
     },
     "metadata": {},
     "output_type": "display_data"
    },
    {
     "data": {
      "image/png": "[encoded data removed]",
      "text/plain": [
       "<matplotlib.figure.Figure at 0x7fc921972cc0>"
      ]
     },
     "execution_count": 4,
     "metadata": {},
     "output_type": "execute_result"
    }
   ],
   "source": [
    "print('Sample 2 : plot Oplus')\n",
    "sample_x1 = Variable(xp.array([1, 0, xp.pi/6], dtype = 'float32'))\n",
    "sample_x2 = Variable(xp.array([1, 0, xp.pi/6], dtype = 'float32'))\n",
    "sample_x3 = Variable(xp.array([1, 0, xp.pi/6], dtype = 'float32'))\n",
    "sample_x4 = Variable(xp.array([1, 0, xp.pi/6], dtype = 'float32'))\n",
    "sample_z1 = oplus(sample_x1,sample_x2)\n",
    "print(sample_z1)\n",
    "sample_z2 = oplus(sample_z1,sample_x3)\n",
    "print(sample_z2)\n",
    "sample_z3 = oplus(sample_z2,sample_x4)\n",
    "print(sample_z3)\n",
    "sample_z = sample_z3 * xp.array([1., 1., 0], dtype='float32')\n",
    "sample_pathes = xp.array(xp.vstack((sample_x1.data,sample_z1.data,sample_z2.data,sample_z3.data)),dtype='float32')\n",
    "print(sample_pathes)\n",
    "plot_path(sample_pathes,sample_pathes,[-3,3],[-3,3])"
   ]
  },
  {
   "cell_type": "code",
   "execution_count": 5,
   "metadata": {
    "scrolled": true
   },
   "outputs": [
    {
     "name": "stdout",
     "output_type": "stream",
     "text": [
      "DATA_SIZE          : 1000\n",
      "DATA_NUM_WAYPOINTS : 10\n",
      "DATA_NUM_STEP      : 10\n",
      "DATA_HZ            : 10\n",
      "DATA_MAX_TRANS_VEL : 0.5\n",
      "DATA_MAX_ROTATE_VEL: 6.283185307179586\n",
      "DATA_M_PER_STEP    : 0.05\n",
      "DATA_RAD_PER_STEP  : 0.6283185307179586\n",
      "1000\n",
      "(10, 3)\n"
     ]
    }
   ],
   "source": [
    "# dataset\n",
    "DATA_SIZE = 1000\n",
    "DATA_NUM_WAYPOINTS = 10\n",
    "DATA_NUM_STEP = DATA_NUM_WAYPOINTS\n",
    "DATA_HZ = 10\n",
    "DATA_MAX_TRANS_VEL = 0.5 # [m/s]\n",
    "DATA_MAX_ROTATE_VEL = 2*xp.pi # [rad/s]\n",
    "DATA_M_PER_STEP = DATA_MAX_TRANS_VEL / DATA_HZ # [m/step]\n",
    "DATA_RAD_PER_STEP = DATA_MAX_ROTATE_VEL / DATA_HZ # [rad/step]\n",
    "\n",
    "print('DATA_SIZE          :',DATA_SIZE)\n",
    "print('DATA_NUM_WAYPOINTS :',DATA_NUM_WAYPOINTS)\n",
    "print('DATA_NUM_STEP      :',DATA_NUM_STEP)\n",
    "print('DATA_HZ            :',DATA_HZ) \n",
    "print('DATA_MAX_TRANS_VEL :',DATA_MAX_TRANS_VEL)\n",
    "print('DATA_MAX_ROTATE_VEL:',DATA_MAX_ROTATE_VEL)\n",
    "print('DATA_M_PER_STEP    :',DATA_M_PER_STEP)\n",
    "print('DATA_RAD_PER_STEP  :', DATA_RAD_PER_STEP)\n",
    "\n",
    "X_train = []\n",
    "for i in range(DATA_SIZE):\n",
    "    rand_rad = xp.random.rand()*(2*DATA_RAD_PER_STEP)-DATA_RAD_PER_STEP # -36 ~ 36 m/step\n",
    "    d = data.generate_arc_path(DATA_NUM_STEP,rand_rad,DATA_M_PER_STEP) \n",
    "    if(len(d) > 10):\n",
    "        print(rand_rad)\n",
    "        print(d)\n",
    "    #d_xy_fl = xp.ravel(d_xy[0:DATA_WAYPOINTS])\n",
    "    X_train.append(d)\n",
    "print(len(X_train))\n",
    "print(X_train[0].shape)"
   ]
  },
  {
   "cell_type": "code",
   "execution_count": 6,
   "metadata": {},
   "outputs": [
    {
     "data": {
      "image/png": "[encoded data removed]",
      "text/plain": [
       "<matplotlib.figure.Figure at 0x7fc928316eb8>"
      ]
     },
     "metadata": {},
     "output_type": "display_data"
    },
    {
     "name": "stdout",
     "output_type": "stream",
     "text": [
      " -- x_train -- \n",
      "[[ 4.69027098e-02  1.49067793e-02 -9.55341745e-01]\n",
      " [ 7.65931652e-02  5.41566597e-02 -3.39887164e-01]\n",
      " [ 7.81756275e-02  1.03345806e-01  2.75567417e-01]\n",
      " [ 5.10693681e-02  1.44422891e-01  8.91021999e-01]\n",
      " [ 5.22178313e-03  1.62313537e-01  1.50647658e+00]\n",
      " [-4.25420805e-02  1.50452273e-01  2.12193116e+00]\n",
      " [-7.46939440e-02  1.13191919e-01  2.73738574e+00]\n",
      " [-7.94347864e-02  6.42062003e-02  3.35284032e+00]\n",
      " [-5.50248238e-02  2.14717881e-02  3.96829491e+00]\n",
      " [-1.04219710e-02  6.71264473e-04  4.58374949e+00]]\n"
     ]
    },
    {
     "data": {
      "image/png": "[encoded data removed]",
      "text/plain": [
       "<matplotlib.figure.Figure at 0x7fc921935940>"
      ]
     },
     "metadata": {},
     "output_type": "display_data"
    },
    {
     "name": "stdout",
     "output_type": "stream",
     "text": [
      " -- x_train -- \n",
      "[[ 0.04976568 -0.00418524 -1.73859914]\n",
      " [ 0.09813336 -0.01662337 -1.90640196]\n",
      " [ 0.14374429 -0.036965   -2.07420478]\n",
      " [ 0.1853172  -0.06463869 -2.24200759]\n",
      " [ 0.22168421 -0.09886704 -2.40981041]\n",
      " [ 0.25182372 -0.1386885  -2.57761322]\n",
      " [ 0.27488906 -0.18298443 -2.74541604]\n",
      " [ 0.29023227 -0.23051048 -2.91321886]\n",
      " [ 0.29742234 -0.27993155 -3.08102167]\n",
      " [ 0.2962573  -0.32985932 -3.24882449]]\n"
     ]
    },
    {
     "data": {
      "image/png": "[encoded data removed]",
      "text/plain": [
       "<matplotlib.figure.Figure at 0x7fc908795fd0>"
      ]
     },
     "metadata": {},
     "output_type": "display_data"
    },
    {
     "name": "stdout",
     "output_type": "stream",
     "text": [
      " -- x_train -- \n",
      "[[ 0.04930534 -0.00718279 -1.86012056]\n",
      " [ 0.09451212 -0.02813408 -2.1494448 ]\n",
      " [ 0.13186246 -0.06111228 -2.43876903]\n",
      " [ 0.15825158 -0.10337602 -2.72809327]\n",
      " [ 0.17148584 -0.15141209 -3.0174175 ]\n",
      " [ 0.17046513 -0.20122742 -3.30674174]\n",
      " [ 0.1552743  -0.24868106 -3.59606597]\n",
      " [ 0.12717611 -0.28982837 -3.88539021]\n",
      " [ 0.08850624 -0.32124892 -4.17471444]\n",
      " [ 0.04247919 -0.34033085 -4.46403868]]\n"
     ]
    },
    {
     "data": {
      "image/png": "[encoded data removed]",
      "text/plain": [
       "<matplotlib.figure.Figure at 0x7fc9087b3a90>"
      ]
     },
     "metadata": {},
     "output_type": "display_data"
    },
    {
     "name": "stdout",
     "output_type": "stream",
     "text": [
      " -- x_train -- \n",
      "[[ 0.04908543  0.00822885 -1.23859854]\n",
      " [ 0.09280366  0.03201562 -0.90640076]\n",
      " [ 0.12637434  0.06875937 -0.57420298]\n",
      " [ 0.14612671  0.11444238 -0.2420052 ]\n",
      " [ 0.14990097  0.16406948  0.09019258]\n",
      " [ 0.13728443  0.21221423  0.42239037]\n",
      " [ 0.10965662  0.25361227  0.75458815]\n",
      " [ 0.07003849  0.28373698  1.08678593]\n",
      " [ 0.02276206  0.29929438  1.41898371]\n",
      " [-0.02700327  0.29858337  1.7511815 ]]\n"
     ]
    },
    {
     "data": {
      "image/png": "[encoded data removed]",
      "text/plain": [
       "<matplotlib.figure.Figure at 0x7fc90878d780>"
      ]
     },
     "metadata": {},
     "output_type": "display_data"
    },
    {
     "name": "stdout",
     "output_type": "stream",
     "text": [
      " -- x_train -- \n",
      "[[ 0.04990784  0.00262743 -1.46560214]\n",
      " [ 0.09926391  0.01048067 -1.36040794]\n",
      " [ 0.14752256  0.02347291 -1.25521375]\n",
      " [ 0.19415026  0.0414605  -1.15001956]\n",
      " [ 0.2386315   0.06424457 -1.04482537]\n",
      " [ 0.28047453  0.09157325 -0.93963118]\n",
      " [ 0.31921674  0.12314439 -0.83443699]\n",
      " [ 0.35442981  0.15860895 -0.7292428 ]\n",
      " [ 0.38572444  0.19757485 -0.62404861]\n",
      " [ 0.41275465  0.23961131 -0.51885441]]\n"
     ]
    },
    {
     "data": {
      "image/png": "[encoded data removed]",
      "text/plain": [
       "<matplotlib.figure.Figure at 0x7fc9087e1a58>"
      ]
     },
     "metadata": {},
     "output_type": "display_data"
    },
    {
     "name": "stdout",
     "output_type": "stream",
     "text": [
      " -- x_train -- \n",
      "[[ 0.04975766 -0.00425601 -1.74145033]\n",
      " [ 0.09806976 -0.01690038 -1.91210434]\n",
      " [ 0.14353271 -0.03756577 -2.08275835]\n",
      " [ 0.18482573 -0.06565181 -2.25341235]\n",
      " [ 0.22074915 -0.10034253 -2.42406636]\n",
      " [ 0.25025934 -0.14063009 -2.59472037]\n",
      " [ 0.27249894 -0.18534406 -2.76537437]\n",
      " [ 0.28682185 -0.23318539 -2.93602838]\n",
      " [ 0.29281196 -0.28276419 -3.10668238]\n",
      " [ 0.29029525 -0.33264008 -3.27733639]]\n"
     ]
    },
    {
     "data": {
      "image/png": "[encoded data removed]",
      "text/plain": [
       "<matplotlib.figure.Figure at 0x7fc90867d0b8>"
      ]
     },
     "metadata": {},
     "output_type": "display_data"
    },
    {
     "name": "stdout",
     "output_type": "stream",
     "text": [
      " -- x_train -- \n",
      "[[ 0.04942664  0.00653124 -1.30803837]\n",
      " [ 0.09546036  0.02567663 -1.04528042]\n",
      " [ 0.13494116  0.05612191 -0.78252246]\n",
      " [ 0.16515888  0.09577717 -0.51976451]\n",
      " [ 0.18403919  0.14192024 -0.25700655]\n",
      " [ 0.19028605  0.19138362  0.0057514 ]\n",
      " [ 0.18347064  0.24077187  0.26850936]\n",
      " [ 0.16406082  0.28669472  0.53126731]\n",
      " [ 0.13338897  0.32599977  0.79402527]\n",
      " [ 0.09356058  0.35598891  1.05678322]]\n"
     ]
    },
    {
     "data": {
      "image/png": "[encoded data removed]",
      "text/plain": [
       "<matplotlib.figure.Figure at 0x7fc9086cf9e8>"
      ]
     },
     "metadata": {},
     "output_type": "display_data"
    },
    {
     "name": "stdout",
     "output_type": "stream",
     "text": [
      " -- x_train -- \n",
      "[[ 0.04965091 -0.00510426 -1.77568252]\n",
      " [ 0.09722485 -0.02020353 -1.98056872]\n",
      " [ 0.14073169 -0.04466617 -2.18545491]\n",
      " [ 0.1783515  -0.07746887 -2.39034111]\n",
      " [ 0.20851055 -0.11723944 -2.5952273 ]\n",
      " [ 0.22994725 -0.1623142  -2.8001135 ]\n",
      " [ 0.24176487 -0.21080761 -3.00499969]\n",
      " [ 0.24346904 -0.2606911  -3.20988589]\n",
      " [ 0.23498849 -0.30987796 -3.41477209]\n",
      " [ 0.21667797 -0.35631062 -3.61965828]]\n"
     ]
    },
    {
     "data": {
      "image/png": "[encoded data removed]",
      "text/plain": [
       "<matplotlib.figure.Figure at 0x7fc9086bc828>"
      ]
     },
     "metadata": {},
     "output_type": "display_data"
    },
    {
     "name": "stdout",
     "output_type": "stream",
     "text": [
      " -- x_train -- \n",
      "[[ 0.04984284 -0.00342939 -1.70818794]\n",
      " [ 0.09874631 -0.01365293 -1.84557955]\n",
      " [ 0.14578873 -0.03047794 -1.98297116]\n",
      " [ 0.1900835  -0.05358731 -2.12036277]\n",
      " [ 0.23079581 -0.08254552 -2.25775437]\n",
      " [ 0.26715836 -0.11680679 -2.39514598]\n",
      " [ 0.29848583 -0.15572542 -2.53253759]\n",
      " [ 0.32418781 -0.1985679  -2.6699292 ]\n",
      " [ 0.34377989 -0.24452679 -2.80732081]\n",
      " [ 0.35689283 -0.29273593 -2.94471242]]\n"
     ]
    },
    {
     "data": {
      "image/png": "[encoded data removed]",
      "text/plain": [
       "<matplotlib.figure.Figure at 0x7fc92192e240>"
      ]
     },
     "metadata": {},
     "output_type": "display_data"
    },
    {
     "name": "stdout",
     "output_type": "stream",
     "text": [
      " -- x_train -- \n",
      "[[ 0.04790408 -0.01235223 -2.0755089 ]\n",
      " [ 0.08386218 -0.0463286  -2.58022147]\n",
      " [ 0.09890732 -0.09345633 -3.08493404]\n",
      " [ 0.08928764 -0.14198303 -3.58964661]\n",
      " [ 0.05740203 -0.17980745 -4.09435918]\n",
      " [ 0.01120191 -0.19749721 -4.59907175]\n",
      " [-0.03779167 -0.19064095 -5.10378432]\n",
      " [-0.07736102 -0.16094844 -5.60849689]\n",
      " [-0.09763863 -0.1158242  -6.11320946]\n",
      " [-0.09356779 -0.06652098 -6.61792203]]\n"
     ]
    },
    {
     "data": {
      "image/png": "[encoded data removed]",
      "text/plain": [
       "<matplotlib.figure.Figure at 0x7fc9086474e0>"
      ]
     },
     "metadata": {},
     "output_type": "display_data"
    },
    {
     "name": "stdout",
     "output_type": "stream",
     "text": [
      " -- x_train -- \n",
      "[[ 0.04943787  0.00646743 -1.31063517]\n",
      " [ 0.09554843  0.02543443 -1.05047401]\n",
      " [ 0.1352283   0.05562448 -0.79031285]\n",
      " [ 0.16580691  0.09500569 -0.53015169]\n",
      " [ 0.18522623  0.14092759 -0.26999053]\n",
      " [ 0.19217928  0.1902995  -0.00982937]\n",
      " [ 0.1861981   0.23979856  0.25033179]\n",
      " [ 0.16768524  0.28609332  0.51049295]\n",
      " [ 0.13788668  0.32606802  0.77065411]\n",
      " [ 0.09880794  0.35703224  1.03081527]]\n"
     ]
    },
    {
     "data": {
      "image/png": "[encoded data removed]",
      "text/plain": [
       "<matplotlib.figure.Figure at 0x7fc9086ef9b0>"
      ]
     },
     "metadata": {},
     "output_type": "display_data"
    },
    {
     "name": "stdout",
     "output_type": "stream",
     "text": [
      " -- x_train -- \n",
      "[[ 4.99926914e-02  7.40330570e-04 -1.54118094e+00]\n",
      " [ 9.99415388e-02  2.96067300e-03 -1.51156555e+00]\n",
      " [ 1.49802737e-01  6.65908005e-03 -1.48195016e+00]\n",
      " [ 1.99532557e-01  1.18323082e-02 -1.45233478e+00]\n",
      " [ 2.49087385e-01  1.84758204e-02 -1.42271939e+00]\n",
      " [ 2.98423762e-01  2.65837904e-02 -1.39310400e+00]\n",
      " [ 3.47498420e-01  3.61491073e-02 -1.36348862e+00]\n",
      " [ 3.96268319e-01  4.71633824e-02 -1.33387323e+00]\n",
      " [ 4.44690687e-01  5.96169559e-02 -1.30425784e+00]\n",
      " [ 4.92723059e-01  7.34989061e-02 -1.27464245e+00]]\n"
     ]
    },
    {
     "data": {
      "image/png": "[encoded data removed]",
      "text/plain": [
       "<matplotlib.figure.Figure at 0x7fc90866fd30>"
      ]
     },
     "metadata": {},
     "output_type": "display_data"
    },
    {
     "name": "stdout",
     "output_type": "stream",
     "text": [
      " -- x_train -- \n",
      "[[ 0.04843102 -0.01072787 -2.00677304]\n",
      " [ 0.08780138 -0.04090445 -2.44274976]\n",
      " [ 0.1107455  -0.0848842  -2.87872647]\n",
      " [ 0.11297091 -0.1344392  -3.31470319]\n",
      " [ 0.09406128 -0.18029852 -3.75067991]\n",
      " [ 0.05755429 -0.2138826  -4.18665662]\n",
      " [ 0.01027981 -0.2289084  -4.62263334]\n",
      " [-0.03891785 -0.22256484 -5.05861005]\n",
      " [-0.08083461 -0.1960387  -5.49458677]\n",
      " [-0.10762851 -0.15429259 -5.93056349]]\n"
     ]
    },
    {
     "data": {
      "image/png": "[encoded data removed]",
      "text/plain": [
       "<matplotlib.figure.Figure at 0x7fc9087090f0>"
      ]
     },
     "metadata": {},
     "output_type": "display_data"
    },
    {
     "name": "stdout",
     "output_type": "stream",
     "text": [
      " -- x_train -- \n",
      "[[ 4.99091275e-02 -2.60897791e-03 -1.67525038e+00]\n",
      " [ 9.92742090e-02 -1.04074719e-02 -1.77970443e+00]\n",
      " [ 1.47557129e-01 -2.33104726e-02 -1.88415849e+00]\n",
      " [ 1.94231568e-01 -4.11773279e-02 -1.98861254e+00]\n",
      " [ 2.38788740e-01 -6.38132760e-02 -2.09306660e+00]\n",
      " [ 2.80742941e-01 -9.09715685e-02 -2.19752065e+00]\n",
      " [ 3.19636837e-01 -1.22356160e-01 -2.30197470e+00]\n",
      " [ 3.55046458e-01 -1.57624936e-01 -2.40642876e+00]\n",
      " [ 3.86585812e-01 -1.96393440e-01 -2.51088281e+00]\n",
      " [ 4.13911098e-01 -2.38239067e-01 -2.61533686e+00]]\n"
     ]
    },
    {
     "data": {
      "image/png": "[encoded data removed]",
      "text/plain": [
       "<matplotlib.figure.Figure at 0x7fc90867eb38>"
      ]
     },
     "metadata": {},
     "output_type": "display_data"
    },
    {
     "name": "stdout",
     "output_type": "stream",
     "text": [
      " -- x_train -- \n",
      "[[ 4.99359196e-02 -2.19128215e-03 -1.65850382e+00]\n",
      " [ 9.94879481e-02 -8.74828274e-03 -1.74621132e+00]\n",
      " [ 1.48275146e-01 -1.96205937e-02 -1.83391882e+00]\n",
      " [ 1.95922452e-01 -3.47246322e-02 -1.92162631e+00]\n",
      " [ 2.42063570e-01 -5.39442833e-02 -2.00933381e+00]\n",
      " [ 2.86343783e-01 -7.71317926e-02 -2.09704131e+00]\n",
      " [ 3.28422677e-01 -1.04108902e-01 -2.18474880e+00]\n",
      " [ 3.67976764e-01 -1.34668221e-01 -2.27245630e+00]\n",
      " [ 4.04701966e-01 -1.68574818e-01 -2.36016380e+00]\n",
      " [ 4.38315951e-01 -2.05568031e-01 -2.44787129e+00]]\n"
     ]
    },
    {
     "data": {
      "image/png": "[encoded data removed]",
      "text/plain": [
       "<matplotlib.figure.Figure at 0x7fc9087bf630>"
      ]
     },
     "metadata": {},
     "output_type": "display_data"
    },
    {
     "name": "stdout",
     "output_type": "stream",
     "text": [
      " -- x_train -- \n",
      "[[ 4.99939463e-02  6.73785649e-04 -1.54384327e+00]\n",
      " [ 9.99515759e-02  2.69465314e-03 -1.51689021e+00]\n",
      " [ 1.49836598e-01  6.06113448e-03 -1.48993715e+00]\n",
      " [ 1.99612776e-01  1.07707842e-02 -1.46298410e+00]\n",
      " [ 2.49243950e-01  1.68201810e-02 -1.43603104e+00]\n",
      " [ 2.98694068e-01  2.42049305e-02 -1.40907798e+00]\n",
      " [ 3.47927207e-01  3.29196684e-02 -1.38212492e+00]\n",
      " [ 3.96907604e-01  4.29580639e-02 -1.35517187e+00]\n",
      " [ 4.45599678e-01  5.43128250e-02 -1.32821881e+00]\n",
      " [ 4.93968057e-01  6.69757032e-02 -1.30126575e+00]]\n"
     ]
    },
    {
     "data": {
      "image/png": "[encoded data removed]",
      "text/plain": [
       "<matplotlib.figure.Figure at 0x7fc90872f3c8>"
      ]
     },
     "metadata": {},
     "output_type": "display_data"
    },
    {
     "name": "stdout",
     "output_type": "stream",
     "text": [
      " -- x_train -- \n",
      "[[ 4.83413423e-02  1.10231045e-02 -1.12240996e+00]\n",
      " [ 8.71253889e-02  4.19131019e-02 -6.74023589e-01]\n",
      " [ 1.08684363e-01  8.65629041e-02 -2.25637220e-01]\n",
      " [ 1.08755962e-01  1.36145049e-01  2.22749148e-01]\n",
      " [ 8.73260290e-02  1.80856929e-01  6.71135517e-01]\n",
      " [ 4.86313565e-02  2.11858808e-01  1.11952189e+00]\n",
      " [ 3.22051295e-04  2.23021480e-01  1.56790825e+00]\n",
      " [-4.80509249e-02  2.12138034e-01  2.01629462e+00]\n",
      " [-8.69240222e-02  1.81360177e-01  2.46468099e+00]\n",
      " [-1.08611858e-01  1.36772825e-01  2.91306736e+00]]\n"
     ]
    },
    {
     "data": {
      "image/png": "[encoded data removed]",
      "text/plain": [
       "<matplotlib.figure.Figure at 0x7fc9087c4198>"
      ]
     },
     "metadata": {},
     "output_type": "display_data"
    },
    {
     "name": "stdout",
     "output_type": "stream",
     "text": [
      " -- x_train -- \n",
      "[[ 0.04991239  0.00256173 -1.46823719]\n",
      " [ 0.09930025  0.01022001 -1.36567805]\n",
      " [ 0.14764454  0.02289434 -1.26311892]\n",
      " [ 0.19443722  0.04045154 -1.16055978]\n",
      " [ 0.23918652  0.06270708 -1.05800065]\n",
      " [ 0.28142217  0.0894271  -0.95544151]\n",
      " [ 0.32070031  0.12033077 -0.85288237]\n",
      " [ 0.35660816  0.15509333 -0.75032324]\n",
      " [ 0.38876836  0.19334946 -0.6477641 ]\n",
      " [ 0.41684293  0.23469711 -0.54520496]]\n"
     ]
    },
    {
     "data": {
      "image/png": "[encoded data removed]",
      "text/plain": [
       "<matplotlib.figure.Figure at 0x7fc9085f37f0>"
      ]
     },
     "metadata": {},
     "output_type": "display_data"
    },
    {
     "name": "stdout",
     "output_type": "stream",
     "text": [
      " -- x_train -- \n",
      "[[ 0.04985642 -0.00327824 -1.70211457]\n",
      " [ 0.09885433 -0.01305651 -1.83343282]\n",
      " [ 0.14614999 -0.02916644 -1.96475107]\n",
      " [ 0.19092899 -0.05133061 -2.09606931]\n",
      " [ 0.23242025 -0.07916736 -2.22738756]\n",
      " [ 0.2699093  -0.11219736 -2.3587058 ]\n",
      " [ 0.30275059 -0.14985183 -2.49002405]\n",
      " [ 0.3303786  -0.19148238 -2.6213423 ]\n",
      " [ 0.35231758 -0.23637214 -2.75266054]\n",
      " [ 0.36818975 -0.28374812 -2.88397879]]\n"
     ]
    },
    {
     "data": {
      "image/png": "[encoded data removed]",
      "text/plain": [
       "<matplotlib.figure.Figure at 0x7fc90857fb70>"
      ]
     },
     "metadata": {},
     "output_type": "display_data"
    },
    {
     "name": "stdout",
     "output_type": "stream",
     "text": [
      " -- x_train -- \n",
      "[[ 0.04882482  0.00931061 -1.19393258]\n",
      " [ 0.09079692  0.03593567 -0.81706884]\n",
      " [ 0.12002538  0.07613826 -0.44020509]\n",
      " [ 0.13240788  0.12427582 -0.06334134]\n",
      " [ 0.12620651  0.17359208  0.3135224 ]\n",
      " [ 0.10229163  0.21716535  0.69038615]\n",
      " [ 0.0640198   0.24887998  1.06724989]\n",
      " [ 0.01676257  0.2642847   1.44411364]\n",
      " [-0.03284733  0.26121743  1.82097739]\n",
      " [-0.07784701  0.24010866  2.19784113]]\n"
     ]
    }
   ],
   "source": [
    "# plot data\n",
    "p = X_train\n",
    "random.shuffle(p)\n",
    "if(settings.gpu_index >= 0):\n",
    "    p = chainer.cuda.to_cpu(X_train)\n",
    "\n",
    "for num in range(20):\n",
    "    plt.scatter(p[num][:,0], p[num][:,1],c=\"red\",edgecolor=\"red\",s=30,marker=\"o\")\n",
    "    plt.xlim([-.5,1])\n",
    "    plt.ylim([-.5,.5])\n",
    "    plt.grid()\n",
    "    plt.show()\n",
    "    print(' -- x_train -- ')\n",
    "    print(p[num])\n"
   ]
  },
  {
   "cell_type": "code",
   "execution_count": 7,
   "metadata": {},
   "outputs": [],
   "source": [
    "# loss\n",
    "def error_squares(z_oplus,z_true):\n",
    "    #print(predict)\n",
    "    #print(groundtruth)\n",
    "    w = xp.array([1., 1., 0.],dtype=xp.float32)\n",
    "    t = z_true * w\n",
    "    p = z_oplus * w\n",
    "    error = F.sqrt(F.sum((t-p)*(t-p)))\n",
    "    return error\n",
    "\n",
    "def error_different_of_velocity(predict):\n",
    "    w = xp.array([0., 0., 1.],dtype=xp.float32)\n",
    "    p = predict * w\n",
    "    error = F.sum(F.absolute(p))\n",
    "    return error\n",
    "\n",
    "def error_limit_rotate_vel(predict,limit):\n",
    "    w = xp.array([0., 0., 1.],dtype=xp.float32)\n",
    "    p = predict * w\n",
    "    vel = F.sum(F.absolute(p))\n",
    "    if vel.data < limit:\n",
    "        error = vel * .0\n",
    "    else:\n",
    "        error = (vel - limit) / limit\n",
    "    return error\n",
    "\n",
    "def error_limit_trans_vel(predict,limit):\n",
    "    w = xp.array([1., 0., 0.],dtype=xp.float32)\n",
    "    p = predict * w\n",
    "    vel = F.sum(F.absolute(p))\n",
    "    if vel.data <= limit:\n",
    "        error = vel * .0\n",
    "    else:\n",
    "        error = (vel - limit) / limit\n",
    "    return error\n",
    "\n",
    "def loss_function(y, y_true,dmesg=0):\n",
    "    z_true = y_true\n",
    "    z = y[0,0]\n",
    "    e_distance = error_squares(z,z_true[0])\n",
    "    e_lim_w = error_limit_rotate_vel(y[0,0], DATA_RAD_PER_STEP)\n",
    "    e_lim_v = error_limit_trans_vel(y[0,0], DATA_M_PER_STEP)\n",
    "    for step in range(1,DATA_NUM_STEP):\n",
    "        z = oplus(z,y[0,step])\n",
    "        e_distance = e_distance + error_squares(z,z_true[step])\n",
    "        e_lim_w = e_lim_w + error_limit_rotate_vel(y[0,step] , DATA_RAD_PER_STEP)\n",
    "        e_lim_v = e_lim_v + error_limit_trans_vel(y[0,step], DATA_M_PER_STEP)\n",
    "    loss = (10 * e_distance) + (1 * e_lim_w) + (1 * e_lim_v)\n",
    "    if(dmesg):\n",
    "        print('e_distance: ' + str(e_distance) + '\\t e_lim_w: '  + str(e_lim_w) + '\\t e_lim_v: '  + str(e_lim_v))\n",
    "    return loss"
   ]
  },
  {
   "cell_type": "code",
   "execution_count": 8,
   "metadata": {},
   "outputs": [],
   "source": [
    "# training\n",
    "def train(model,X,epoch=10):\n",
    "    if settings.gpu_index >= 0:\n",
    "        cuda.cupy.cuda.Device(settings.gpu_index).use()\n",
    "        model.to_gpu(settings.gpu_index)\n",
    "    opt = optimizers.Adam()\n",
    "    opt.setup(model)\n",
    "    ep = 0\n",
    "    AvgLoss = []\n",
    "    while ep < epoch:\n",
    "        random.shuffle(X)\n",
    "        L = .0\n",
    "        for itr in range(len(X)):\n",
    "            x = xp.ravel(X[itr][:,0:2])\n",
    "            x = Variable(xp.array([x],dtype=xp.float32))\n",
    "            y = model(x)\n",
    "            # zero-padding\n",
    "            pad = Variable(xp.zeros((1,DATA_NUM_WAYPOINTS,1),dtype=xp.float32))\n",
    "            y_pad = F.concat((y,pad),axis=2)\n",
    "            y_pad = F.permutate(y_pad, xp.array([0,2,1],'i'), axis=2)\n",
    "            # loss\n",
    "            loss = loss_function(y_pad, X[itr][:])\n",
    "            model.cleargrads()\n",
    "            loss.backward()\n",
    "            opt.update()\n",
    "            # y_grad = chainer.grad( (e,), (y,) )[0]\n",
    "            # print(y_grad)\n",
    "            # x_grad = chainer.grad( (e,), (x,) )[0]\n",
    "            # print(x_grad)\n",
    "            L = L + loss.data\n",
    "        ep = ep + 1\n",
    "        print('Epoch:',ep,', Average loss:',L / len(X))\n",
    "        AvgLoss.append(L / len(X))\n",
    "    fig = plt.figure()\n",
    "    plt.plot(range(len(AvgLoss)),AvgLoss)\n",
    "    plt.xlabel('Epoch')\n",
    "    plt.ylabel('Average loss (squares*10, lim_v, lim_w, )')\n",
    "    plt.text(len(AvgLoss)-1, AvgLoss[-1],str(AvgLoss[-1]),ha='center',va='top' )\n",
    "    return model, fig"
   ]
  },
  {
   "cell_type": "code",
   "execution_count": 9,
   "metadata": {},
   "outputs": [
    {
     "name": "stdout",
     "output_type": "stream",
     "text": [
      "Epoch: 1 , Average loss: 13.67303\n",
      "Epoch: 2 , Average loss: 8.75524\n",
      "Epoch: 3 , Average loss: 6.049081\n",
      "Epoch: 4 , Average loss: 4.9541707\n",
      "Epoch: 5 , Average loss: 4.366834\n",
      "Epoch: 6 , Average loss: 4.0572042\n",
      "Epoch: 7 , Average loss: 3.723422\n",
      "Epoch: 8 , Average loss: 3.4067748\n",
      "Epoch: 9 , Average loss: 3.0872028\n",
      "Epoch: 10 , Average loss: 2.8733952\n",
      "Epoch: 11 , Average loss: 2.6768537\n",
      "Epoch: 12 , Average loss: 2.6409414\n",
      "Epoch: 13 , Average loss: 2.478437\n",
      "Epoch: 14 , Average loss: 2.376992\n",
      "Epoch: 15 , Average loss: 2.2476747\n",
      "Epoch: 16 , Average loss: 2.1765113\n",
      "Epoch: 17 , Average loss: 2.1363614\n",
      "Epoch: 18 , Average loss: 2.1320271\n",
      "Epoch: 19 , Average loss: 2.0544224\n",
      "Epoch: 20 , Average loss: 2.069011\n",
      "Epoch: 21 , Average loss: 2.0083547\n",
      "Epoch: 22 , Average loss: 1.9275616\n",
      "Epoch: 23 , Average loss: 1.9007062\n",
      "Epoch: 24 , Average loss: 2.0037634\n",
      "Epoch: 25 , Average loss: 2.0068948\n",
      "Epoch: 26 , Average loss: 1.8686923\n",
      "Epoch: 27 , Average loss: 1.8517896\n",
      "Epoch: 28 , Average loss: 1.69018\n",
      "Epoch: 29 , Average loss: 1.6852015\n",
      "Epoch: 30 , Average loss: 1.6929343\n",
      "Epoch: 31 , Average loss: 1.7195748\n",
      "Epoch: 32 , Average loss: 1.62551\n",
      "Epoch: 33 , Average loss: 1.6058111\n",
      "Epoch: 34 , Average loss: 1.6525046\n",
      "Epoch: 35 , Average loss: 1.579634\n",
      "Epoch: 36 , Average loss: 1.581024\n",
      "Epoch: 37 , Average loss: 1.445868\n",
      "Epoch: 38 , Average loss: 1.3165823\n",
      "Epoch: 39 , Average loss: 1.2768042\n",
      "Epoch: 40 , Average loss: 1.2946515\n",
      "Epoch: 41 , Average loss: 1.3214966\n",
      "Epoch: 42 , Average loss: 1.2291003\n",
      "Epoch: 43 , Average loss: 1.2543025\n",
      "Epoch: 44 , Average loss: 1.2625419\n",
      "Epoch: 45 , Average loss: 1.2290379\n",
      "Epoch: 46 , Average loss: 1.3148655\n",
      "Epoch: 47 , Average loss: 1.2164614\n",
      "Epoch: 48 , Average loss: 1.1440196\n",
      "Epoch: 49 , Average loss: 1.1309241\n",
      "Epoch: 50 , Average loss: 1.1819453\n",
      "Epoch: 51 , Average loss: 1.1626992\n",
      "Epoch: 52 , Average loss: 1.1588396\n",
      "Epoch: 53 , Average loss: 1.1328926\n",
      "Epoch: 54 , Average loss: 1.1882745\n",
      "Epoch: 55 , Average loss: 1.1596123\n",
      "Epoch: 56 , Average loss: 1.1920931\n",
      "Epoch: 57 , Average loss: 1.1099714\n",
      "Epoch: 58 , Average loss: 1.1515212\n",
      "Epoch: 59 , Average loss: 1.0913014\n",
      "Epoch: 60 , Average loss: 1.1394899\n",
      "Epoch: 61 , Average loss: 1.0783758\n",
      "Epoch: 62 , Average loss: 1.0756884\n",
      "Epoch: 63 , Average loss: 1.0987803\n",
      "Epoch: 64 , Average loss: 1.1461086\n",
      "Epoch: 65 , Average loss: 1.0297178\n",
      "Epoch: 66 , Average loss: 1.033652\n",
      "Epoch: 67 , Average loss: 1.1371746\n",
      "Epoch: 68 , Average loss: 1.1058831\n",
      "Epoch: 69 , Average loss: 1.1061177\n",
      "Epoch: 70 , Average loss: 1.1199054\n",
      "Epoch: 71 , Average loss: 1.0684981\n",
      "Epoch: 72 , Average loss: 1.0999727\n",
      "Epoch: 73 , Average loss: 1.0397733\n",
      "Epoch: 74 , Average loss: 1.0135562\n",
      "Epoch: 75 , Average loss: 1.0390717\n",
      "Epoch: 76 , Average loss: 1.0276924\n",
      "Epoch: 77 , Average loss: 1.0181566\n",
      "Epoch: 78 , Average loss: 0.98325604\n",
      "Epoch: 79 , Average loss: 1.0407665\n",
      "Epoch: 80 , Average loss: 1.0426245\n",
      "Epoch: 81 , Average loss: 1.0532072\n",
      "Epoch: 82 , Average loss: 1.1064584\n",
      "Epoch: 83 , Average loss: 1.038303\n",
      "Epoch: 84 , Average loss: 1.0753192\n",
      "Epoch: 85 , Average loss: 1.0282233\n",
      "Epoch: 86 , Average loss: 1.0355896\n",
      "Epoch: 87 , Average loss: 1.0271394\n",
      "Epoch: 88 , Average loss: 1.0389385\n",
      "Epoch: 89 , Average loss: 1.0293405\n",
      "Epoch: 90 , Average loss: 1.0518641\n",
      "Epoch: 91 , Average loss: 0.97374624\n",
      "Epoch: 92 , Average loss: 1.0105253\n",
      "Epoch: 93 , Average loss: 1.0520747\n",
      "Epoch: 94 , Average loss: 0.964208\n",
      "Epoch: 95 , Average loss: 0.94584644\n",
      "Epoch: 96 , Average loss: 1.008573\n",
      "Epoch: 97 , Average loss: 0.98499066\n",
      "Epoch: 98 , Average loss: 1.0632515\n",
      "Epoch: 99 , Average loss: 1.0036948\n",
      "Epoch: 100 , Average loss: 1.0109086\n",
      "start: 2019/08/27 11:37:25\n",
      "finish: 2019/08/27 12:54:58\n"
     ]
    },
    {
     "data": {
      "image/png": "[encoded data removed]",
      "text/plain": [
       "<matplotlib.figure.Figure at 0x7fc9084938d0>"
      ]
     },
     "metadata": {},
     "output_type": "display_data"
    }
   ],
   "source": [
    "EPOCH = 100\n",
    "model = Generator(DATA_NUM_WAYPOINTS,DATA_NUM_STEP)\n",
    "start_time = '{0:%Y/%m/%d %H:%M:%S}'.format(datetime.datetime.now())\n",
    "model, fig = train(model,X_train,epoch=EPOCH)\n",
    "finish_time = '{0:%Y/%m/%d %H:%M:%S}'.format(datetime.datetime.now())\n",
    "print('start:',start_time)\n",
    "print('finish:',finish_time)"
   ]
  },
  {
   "cell_type": "code",
   "execution_count": 10,
   "metadata": {},
   "outputs": [],
   "source": [
    "# log\n",
    "def gen_filename():\n",
    "    name_date = '{0:%Y%m%d%H%M%S}'.format(datetime.datetime.now())\n",
    "    name_epoch = '{}epoch'.format(EPOCH)\n",
    "    name_datasize  = '{}data'.format(DATA_SIZE)\n",
    "    name_num_step = '{}step'.format(DATA_NUM_WAYPOINTS)\n",
    "    name_space = '{}mm'.format(int(DATA_M_PER_STEP * 1000))\n",
    "    fn = 'Cart' + name_space + name_num_step + '_' + name_date + '_'   + name_datasize + name_epoch\n",
    "    return fn\n",
    "dirname = gen_filename()\n",
    "os.mkdir(dirname)\n",
    "serializers.save_npz(dirname +'/'+ dirname+'.model', model)\n",
    "fig.savefig(dirname + '/' + 'loss.png')"
   ]
  },
  {
   "cell_type": "code",
   "execution_count": 11,
   "metadata": {},
   "outputs": [
    {
     "name": "stdout",
     "output_type": "stream",
     "text": [
      " --- input --- \n",
      "[[ 0.0484582  -0.01063661 -2.00294425]\n",
      " [ 0.08800671 -0.04059074 -2.43509218]\n",
      " [ 0.11137399 -0.08435494 -2.86724011]\n",
      " [ 0.11426367 -0.13388255 -3.29938803]\n",
      " [ 0.09614442 -0.18006727 -3.73153596]\n",
      " [ 0.06034772 -0.21441739 -4.16368389]\n",
      " [ 0.01345528 -0.2306172  -4.59583181]\n",
      " [-0.0359111  -0.22568813 -5.02797974]\n",
      " [-0.07867473 -0.20053647 -5.46012767]\n",
      " [-0.10697296 -0.15978668 -5.89227559]]\n",
      " --- output --- \n",
      "[[[ 0.0475454   0.         -0.70966005]\n",
      "  [ 0.05526926  0.         -0.4508067 ]\n",
      "  [ 0.05183123  0.         -0.36109966]\n",
      "  [ 0.05083392  0.         -0.41246027]\n",
      "  [ 0.05142409  0.         -0.44964626]\n",
      "  [ 0.04845007  0.         -0.4485938 ]\n",
      "  [ 0.04737729  0.         -0.44749022]\n",
      "  [ 0.04618755  0.         -0.4332206 ]\n",
      "  [ 0.04577332  0.         -0.41019338]\n",
      "  [ 0.05401046  0.         -0.1259523 ]]]\n",
      "[[-40.660526  -25.829323  -20.689487  -23.632233  -25.762833  -25.702532\n",
      "  -25.639301  -24.821712  -23.50235    -7.2165356]]\n",
      " --- error --- \n",
      "e_distance: variable(0.04616962)\t e_lim_w: variable(0.12945902)\t e_lim_v: variable(0.26737913)\n",
      "loss: variable(0.85853446)\n",
      " --- trajectory --- \n",
      "[[ 0.          0.          0.        ]\n",
      " [ 0.0475454   0.         -0.70966005]\n",
      " [ 0.08947174 -0.03601212 -1.1604668 ]\n",
      " [ 0.11014782 -0.08354081 -1.5215664 ]\n",
      " [ 0.11264936 -0.13431315 -1.9340267 ]\n",
      " [ 0.0943786  -0.18238202 -2.383673  ]\n",
      " [ 0.05919088 -0.21568719 -2.8322668 ]\n",
      " [ 0.01406217 -0.23010962  3.0034287 ]\n",
      " [-0.03168524 -0.22374845  2.5702078 ]\n",
      " [-0.07018759 -0.19899435  2.1600144 ]\n",
      " [-0.1002018  -0.15409139  2.0340621 ]]\n",
      "(10, 3)\n"
     ]
    },
    {
     "data": {
      "image/png": "[encoded data removed]",
      "text/plain": [
       "<matplotlib.figure.Figure at 0x7fc908507c88>"
      ]
     },
     "metadata": {},
     "output_type": "display_data"
    },
    {
     "name": "stdout",
     "output_type": "stream",
     "text": [
      " --- grad --- \n",
      "variable([[[ 5.65039921e+00 -6.86025858e-01]\n",
      "           [ 1.45440235e+01  2.63631344e-03]\n",
      "           [ 1.54895802e+01 -2.94516504e-01]\n",
      "           [ 1.96895714e+01 -8.95293295e-01]\n",
      "           [ 9.13596821e+00 -1.86303914e+00]\n",
      "           [-2.78341007e+01 -2.37764215e+00]\n",
      "           [-3.83518982e+01 -2.02267122e+00]\n",
      "           [-2.46195354e+01 -1.28649545e+00]\n",
      "           [-1.02653761e+01 -5.36834657e-01]\n",
      "           [ 2.10987110e+01  0.00000000e+00]]])\n"
     ]
    }
   ],
   "source": [
    "rand_rad = xp.random.rand()*(2*DATA_RAD_PER_STEP)-DATA_RAD_PER_STEP # -36 ~ 36 m/step\n",
    "x_test = data.generate_arc_path(DATA_NUM_STEP,rand_rad,DATA_M_PER_STEP)\n",
    "x = xp.ravel(x_test[:,0:2])\n",
    "x = Variable(xp.array([x],dtype=xp.float32))\n",
    "y = model(x)\n",
    "# zero-padding\n",
    "pad = Variable(xp.zeros((1,DATA_NUM_WAYPOINTS,1),dtype=xp.float32))\n",
    "y_pad = F.concat((y,pad),axis=2)\n",
    "y_pad = F.permutate(y_pad, xp.array([0,2,1],'i'), axis=2)\n",
    "print(' --- input --- ')\n",
    "print(x_test)\n",
    "print(' --- output --- ')\n",
    "print(y_pad.data)\n",
    "print(xp.rad2deg(y_pad.data[:,:,2]))\n",
    "# loss\n",
    "z_true = x_test\n",
    "z = y_pad[0,0]\n",
    "print(' --- error --- ')\n",
    "Z = xp.array([([0,0,0]),(z.data)],dtype='float32')\n",
    "for step in range(1,DATA_NUM_STEP):\n",
    "    z = oplus(z,y_pad[0,step])\n",
    "    Z = xp.vstack((Z,z.data))\n",
    "loss = loss_function(y_pad, x_test, dmesg=1)\n",
    "print('loss:',loss)\n",
    "print(' --- trajectory --- ')\n",
    "print(Z)\n",
    "print(z_true.shape)\n",
    "fig = plot_path(Z,z_true,[-.5,1],[-.5,.5])\n",
    "print(' --- grad --- ')\n",
    "loss.backward()\n",
    "y_grad = chainer.grad( (loss,), (y,) )[0]\n",
    "print(y_grad)"
   ]
  },
  {
   "cell_type": "code",
   "execution_count": 12,
   "metadata": {},
   "outputs": [
    {
     "name": "stdout",
     "output_type": "stream",
     "text": [
      " --- input --- \n",
      "[[ 0.04948078 -0.00621761 -1.8208002 ]\n",
      " [ 0.09588498 -0.02448385 -2.07080408]\n",
      " [ 0.13632734 -0.05366298 -2.32080796]\n",
      " [ 0.16829326 -0.09194072 -2.57081184]\n",
      " [ 0.1897952  -0.13693708 -2.82081571]\n",
      " [ 0.19949623 -0.18585432 -3.07081959]\n",
      " [ 0.19679317 -0.2356509  -3.32082347]\n",
      " [ 0.18185408 -0.28323062 -3.57082735]\n",
      " [ 0.15560784 -0.3256351  -3.82083122]\n",
      " [ 0.11968636 -0.36022778 -4.0708351 ]]\n",
      " --- output --- \n",
      "[[[ 0.04982559  0.         -0.4440517 ]\n",
      "  [ 0.05379437  0.         -0.26448143]\n",
      "  [ 0.05114355  0.         -0.20469335]\n",
      "  [ 0.05050254  0.         -0.23661438]\n",
      "  [ 0.05135104  0.         -0.25993764]\n",
      "  [ 0.04890165  0.         -0.25557712]\n",
      "  [ 0.04773233  0.         -0.25825354]\n",
      "  [ 0.04710637  0.         -0.25075445]\n",
      "  [ 0.04623418  0.         -0.23883982]\n",
      "  [ 0.05248843  0.         -0.12566045]]]\n",
      " --- error --- \n",
      "loss: variable(0.00622717)\n",
      "loss: variable(0.00286827)\n",
      "loss: variable(0.00287507)\n",
      "loss: variable(0.00442539)\n",
      "loss: variable(0.00633266)\n",
      "loss: variable(0.00620174)\n",
      "loss: variable(0.00551862)\n",
      "loss: variable(0.00571017)\n",
      "loss: variable(0.00717271)\n",
      "loss: variable(0.00980617)\n",
      " --- trajectory --- \n",
      "[[ 0.          0.          0.        ]\n",
      " [ 0.04982559  0.         -0.4440517 ]\n",
      " [ 0.0984029  -0.02311016 -0.70853305]\n",
      " [ 0.13723709 -0.05639032 -0.91322637]\n",
      " [ 0.16810401 -0.09636206 -1.1498407 ]\n",
      " [ 0.18908772 -0.1432301  -1.4097784 ]\n",
      " [ 0.19692779 -0.19149919 -1.6653554 ]\n",
      " [ 0.19242099 -0.23901828 -1.923609  ]\n",
      " [ 0.17614391 -0.28322312 -2.1743634 ]\n",
      " [ 0.14990218 -0.32128847 -2.4132032 ]\n",
      " [ 0.11073282 -0.35622835 -2.5388637 ]]\n",
      "(10, 3)\n"
     ]
    },
    {
     "data": {
      "image/png": "[encoded data removed]",
      "text/plain": [
       "<matplotlib.figure.Figure at 0x7fc9085f15c0>"
      ]
     },
     "metadata": {},
     "output_type": "display_data"
    },
    {
     "name": "stdout",
     "output_type": "stream",
     "text": [
      " --- input --- \n",
      "[[ 0.049816    0.00371    -1.42212253]\n",
      " [ 0.09853291  0.01475816 -1.27344873]\n",
      " [ 0.14507586  0.03290071 -1.12477493]\n",
      " [ 0.18841797  0.05773737 -0.97610112]\n",
      " [ 0.22760297  0.08872017 -0.82742732]\n",
      " [ 0.26176633  0.12516553 -0.67875352]\n",
      " [ 0.29015427  0.16626933 -0.53007972]\n",
      " [ 0.31214048  0.21112471 -0.38140592]\n",
      " [ 0.32723987  0.25874201 -0.23273212]\n",
      " [ 0.33511929  0.30807063 -0.08405832]]\n",
      " --- output --- \n",
      "[[[ 0.0514485   0.          0.25519553]\n",
      "  [ 0.05125488  0.          0.12527275]\n",
      "  [ 0.05038332  0.          0.11102179]\n",
      "  [ 0.05022903  0.          0.1213115 ]\n",
      "  [ 0.05033786  0.          0.13117158]\n",
      "  [ 0.04988416  0.          0.14001915]\n",
      "  [ 0.04868439  0.          0.1325615 ]\n",
      "  [ 0.04822164  0.          0.12530737]\n",
      "  [ 0.04730679  0.          0.11339403]\n",
      "  [ 0.04829368  0.         -0.13087192]]]\n",
      " --- error --- \n",
      "loss: variable(0.00405329)\n",
      "loss: variable(0.00310063)\n",
      "loss: variable(0.00301983)\n",
      "loss: variable(0.00439241)\n",
      "loss: variable(0.00719565)\n",
      "loss: variable(0.01084933)\n",
      "loss: variable(0.01501871)\n",
      "loss: variable(0.02014249)\n",
      "loss: variable(0.02662772)\n",
      "loss: variable(0.03415408)\n",
      " --- trajectory --- \n",
      "[[0.         0.         0.        ]\n",
      " [0.0514485  0.         0.25519553]\n",
      " [0.10104343 0.01293851 0.38046837]\n",
      " [0.14782389 0.03164862 0.49149013]\n",
      " [0.19210733 0.05535372 0.61280155]\n",
      " [0.23328571 0.08430611 0.743973  ]\n",
      " [0.26998967 0.11808849 0.88399243]\n",
      " [0.3008589  0.15573499 1.0165541 ]\n",
      " [0.32623792 0.19673783 1.1418612 ]\n",
      " [0.34591293 0.23975906 1.255255  ]\n",
      " [0.36089996 0.2856684  1.1243832 ]]\n",
      "(10, 3)\n"
     ]
    },
    {
     "data": {
      "image/png": "[encoded data removed]",
      "text/plain": [
       "<matplotlib.figure.Figure at 0x7fc9085f1be0>"
      ]
     },
     "metadata": {},
     "output_type": "display_data"
    },
    {
     "name": "stdout",
     "output_type": "stream",
     "text": [
      " --- input --- \n",
      "[[ 0.04816233 -0.01158778 -2.04301774]\n",
      " [ 0.0857829  -0.04381479 -2.51523915]\n",
      " [ 0.10462731 -0.08962718 -2.98746056]\n",
      " [ 0.10057091 -0.13899754 -3.45968197]\n",
      " [ 0.07450155 -0.18111969 -3.93190338]\n",
      " [ 0.0321253  -0.20677394 -4.4041248 ]\n",
      " [-0.01728253 -0.21034509 -4.87634621]\n",
      " [-0.06290757 -0.19105148 -5.34856762]\n",
      " [-0.0947634  -0.1531161  -5.82078903]\n",
      " [-0.10587742 -0.10484224 -6.29301044]]\n",
      " --- output --- \n",
      "[[[ 0.04669095  0.         -0.7613065 ]\n",
      "  [ 0.05566039  0.         -0.49600473]\n",
      "  [ 0.05212835  0.         -0.40063524]\n",
      "  [ 0.05104189  0.         -0.45626888]\n",
      "  [ 0.05153692  0.         -0.4961498 ]\n",
      "  [ 0.0483102   0.         -0.496086  ]\n",
      "  [ 0.04734445  0.         -0.49412453]\n",
      "  [ 0.04599136  0.         -0.4778951 ]\n",
      "  [ 0.04567664  0.         -0.4521839 ]\n",
      "  [ 0.05448004  0.         -0.12699877]]]\n",
      " --- error --- \n",
      "loss: variable(0.01168082)\n",
      "loss: variable(0.00554837)\n",
      "loss: variable(0.00226882)\n",
      "loss: variable(0.00195981)\n",
      "loss: variable(0.00312228)\n",
      "loss: variable(0.00191995)\n",
      "loss: variable(0.00129273)\n",
      "loss: variable(0.00523248)\n",
      "loss: variable(0.00955667)\n",
      "loss: variable(0.01256986)\n",
      " --- trajectory --- \n",
      "[[ 0.          0.          0.        ]\n",
      " [ 0.04669095  0.         -0.7613065 ]\n",
      " [ 0.08698547 -0.03839831 -1.2573112 ]\n",
      " [ 0.10306059 -0.08798616 -1.6579465 ]\n",
      " [ 0.09861791 -0.13883434 -2.1142154 ]\n",
      " [ 0.07196995 -0.18294716 -2.6103652 ]\n",
      " [ 0.03031757 -0.20742072 -3.106451  ]\n",
      " [-0.01699765 -0.20908414  2.6826098 ]\n",
      " [-0.05822907 -0.18870829  2.204715  ]\n",
      " [-0.08528365 -0.15190604  1.7525313 ]\n",
      " [-0.09513017 -0.0983232   1.6255324 ]]\n",
      "(10, 3)\n"
     ]
    },
    {
     "data": {
      "image/png": "[encoded data removed]",
      "text/plain": [
       "<matplotlib.figure.Figure at 0x7fc908585400>"
      ]
     },
     "metadata": {},
     "output_type": "display_data"
    },
    {
     "name": "stdout",
     "output_type": "stream",
     "text": [
      " --- input --- \n",
      "[[ 0.04976339  0.00420556 -1.40217496]\n",
      " [ 0.09811521  0.01670293 -1.23355359]\n",
      " [ 0.1436839   0.03713762 -1.06493222]\n",
      " [ 0.18517687  0.06492998 -0.89631085]\n",
      " [ 0.22141714  0.09929165 -0.72768948]\n",
      " [ 0.25137672  0.13924794 -0.55906811]\n",
      " [ 0.27420579  0.18366546 -0.39044674]\n",
      " [ 0.28925678  0.23128426 -0.22182537]\n",
      " [ 0.29610274  0.28075359 -0.053204  ]\n",
      " [ 0.2945495   0.33067021  0.11541737]]\n",
      " --- output --- \n",
      "[[[ 0.05141275  0.          0.29039764]\n",
      "  [ 0.05120467  0.          0.14603312]\n",
      "  [ 0.05037956  0.          0.12802419]\n",
      "  [ 0.0502028   0.          0.14023462]\n",
      "  [ 0.05028564  0.          0.1515405 ]\n",
      "  [ 0.04989402  0.          0.16046844]\n",
      "  [ 0.04870156  0.          0.15286912]\n",
      "  [ 0.04822971  0.          0.14508991]\n",
      "  [ 0.0473244   0.          0.13206404]\n",
      "  [ 0.0481601   0.         -0.13157584]]]\n",
      " --- error --- \n",
      "loss: variable(0.00451742)\n",
      "loss: variable(0.00311906)\n",
      "loss: variable(0.00271664)\n",
      "loss: variable(0.0039788)\n",
      "loss: variable(0.00669312)\n",
      "loss: variable(0.01024057)\n",
      "loss: variable(0.01429955)\n",
      "loss: variable(0.01926851)\n",
      "loss: variable(0.02558419)\n",
      "loss: variable(0.0329079)\n",
      " --- trajectory --- \n",
      "[[0.         0.         0.        ]\n",
      " [0.05141275 0.         0.29039764]\n",
      " [0.10047349 0.0146616  0.4364307 ]\n",
      " [0.14613079 0.03595741 0.5644548 ]\n",
      " [0.18854615 0.06281366 0.70468926]\n",
      " [0.2268544  0.09538856 0.8562298 ]\n",
      " [0.25954944 0.13307737 1.0166981 ]\n",
      " [0.28517506 0.17449197 1.1695673 ]\n",
      " [0.30401117 0.21889137 1.3146574 ]\n",
      " [0.31600067 0.26467183 1.4467213 ]\n",
      " [0.3219608  0.3124617  1.3151457 ]]\n",
      "(10, 3)\n"
     ]
    },
    {
     "data": {
      "image/png": "[encoded data removed]",
      "text/plain": [
       "<matplotlib.figure.Figure at 0x7fc908583390>"
      ]
     },
     "metadata": {},
     "output_type": "display_data"
    },
    {
     "name": "stdout",
     "output_type": "stream",
     "text": [
      " --- input --- \n",
      "[[ 4.99698877e-02  1.50248778e-03 -1.51067871e+00]\n",
      " [ 9.97592323e-02  6.00452256e-03 -1.45056110e+00]\n",
      " [ 1.49188143e-01  1.34898383e-02 -1.39044348e+00]\n",
      " [ 1.98078031e-01  2.39313903e-02 -1.33032587e+00]\n",
      " [ 2.46252255e-01  3.72914528e-02 -1.27020825e+00]\n",
      " [ 2.93536760e-01  5.35217554e-02 -1.21009064e+00]\n",
      " [ 3.39760705e-01  7.25636573e-02 -1.14997302e+00]\n",
      " [ 3.84757082e-01  9.43483594e-02 -1.08985541e+00]\n",
      " [ 4.28363316e-01  1.18797153e-01 -1.02973779e+00]\n",
      " [ 4.70421857e-01  1.45821703e-01 -9.69620177e-01]]\n",
      " --- output --- \n",
      "[[[ 0.05091913  0.          0.09344375]\n",
      "  [ 0.05145543  0.          0.03646154]\n",
      "  [ 0.05048889  0.          0.04020717]\n",
      "  [ 0.05016376  0.          0.04051672]\n",
      "  [ 0.05025502  0.          0.04213302]\n",
      "  [ 0.04960894  0.          0.05030616]\n",
      "  [ 0.04854176  0.          0.04518979]\n",
      "  [ 0.04811737  0.          0.04018311]\n",
      "  [ 0.04739838  0.          0.03385311]\n",
      "  [ 0.04806392  0.         -0.12953794]]]\n",
      " --- error --- \n",
      "loss: variable(0.00177723)\n",
      "loss: variable(0.00267659)\n",
      "loss: variable(0.00371057)\n",
      "loss: variable(0.00543796)\n",
      "loss: variable(0.00830477)\n",
      "loss: variable(0.01200472)\n",
      "loss: variable(0.01625221)\n",
      "loss: variable(0.02144593)\n",
      "loss: variable(0.02782135)\n",
      "loss: variable(0.03535867)\n",
      " --- trajectory --- \n",
      "[[0.         0.         0.        ]\n",
      " [0.05091913 0.         0.09344375]\n",
      " [0.10215008 0.00480119 0.12990522]\n",
      " [0.15221356 0.01134153 0.17011237]\n",
      " [0.20165324 0.01983391 0.21062899]\n",
      " [0.2507976  0.03034098 0.25276208]\n",
      " [0.29883024 0.04274715 0.30306816]\n",
      " [0.3451597  0.05723443 0.34825802]\n",
      " [0.39038852 0.07365501 0.3884411 ]\n",
      " [0.43425575 0.09160696 0.42229414]\n",
      " [0.4780973  0.11130615 0.29275632]]\n",
      "(10, 3)\n"
     ]
    },
    {
     "data": {
      "image/png": "[encoded data removed]",
      "text/plain": [
       "<matplotlib.figure.Figure at 0x7fc9085142b0>"
      ]
     },
     "metadata": {},
     "output_type": "display_data"
    },
    {
     "name": "stdout",
     "output_type": "stream",
     "text": [
      " --- input --- \n",
      "[[ 4.69005343e-02 -1.49117757e-02 -2.18647120e+00]\n",
      " [ 7.65776810e-02 -5.41710183e-02 -2.80214607e+00]\n",
      " [ 7.81330357e-02 -1.03360469e-01 -3.41782094e+00]\n",
      " [ 5.09954220e-02 -1.44416176e-01 -4.03349581e+00]\n",
      " [ 5.13064608e-03 -1.62261161e-01 -4.64917068e+00]\n",
      " [-4.26182684e-02 -1.50342171e-01 -5.26484555e+00]\n",
      " [-7.47163815e-02 -1.13036242e-01 -5.88052042e+00]\n",
      " [-7.93762316e-02 -6.40433144e-02 -6.49619530e+00]\n",
      " [-5.48865717e-02 -2.13551694e-02 -7.11187017e+00]\n",
      " [-1.02407941e-02 -6.48269418e-04 -7.72754504e+00]]\n",
      " --- output --- \n",
      "[[[ 0.04992203  0.         -0.8745045 ]\n",
      "  [ 0.0520047   0.         -0.63927674]\n",
      "  [ 0.0511825   0.         -0.5395504 ]\n",
      "  [ 0.05123852  0.         -0.5934137 ]\n",
      "  [ 0.05176359  0.         -0.6315075 ]\n",
      "  [ 0.04855684  0.         -0.6306354 ]\n",
      "  [ 0.04839107  0.         -0.6255844 ]\n",
      "  [ 0.04877006  0.         -0.6139406 ]\n",
      "  [ 0.04817244  0.         -0.58612657]\n",
      "  [ 0.04906792  0.         -0.11002454]]]\n",
      " --- error --- \n",
      "loss: variable(0.01521481)\n",
      "loss: variable(0.01576569)\n",
      "loss: variable(0.01475739)\n",
      "loss: variable(0.01396164)\n",
      "loss: variable(0.01180337)\n",
      "loss: variable(0.01206388)\n",
      "loss: variable(0.01159291)\n",
      "loss: variable(0.0098911)\n",
      "loss: variable(0.00775871)\n",
      "loss: variable(0.00363769)\n",
      " --- trajectory --- \n",
      "[[ 0.          0.          0.        ]\n",
      " [ 0.04992203  0.         -0.8745045 ]\n",
      " [ 0.08327665 -0.03989935 -1.5137813 ]\n",
      " [ 0.08619324 -0.09099868 -2.0533319 ]\n",
      " [ 0.0624172  -0.13638684 -2.6467457 ]\n",
      " [ 0.0168631  -0.16096921  3.0049326 ]\n",
      " [-0.03124102 -0.15435407  2.3742974 ]\n",
      " [-0.06607247 -0.12076142  1.7487128 ]\n",
      " [-0.07470376 -0.07276122  1.1347721 ]\n",
      " [-0.05435866 -0.0290959   0.5486455 ]\n",
      " [-0.01249235 -0.00350541  0.43862104]]\n",
      "(10, 3)\n"
     ]
    },
    {
     "data": {
      "image/png": "[encoded data removed]",
      "text/plain": [
       "<matplotlib.figure.Figure at 0x7fc90852b9e8>"
      ]
     },
     "metadata": {},
     "output_type": "display_data"
    },
    {
     "name": "stdout",
     "output_type": "stream",
     "text": [
      " --- input --- \n",
      "[[ 0.0490037   0.00858368 -1.22398705]\n",
      " [ 0.09217225  0.0333126  -0.87717778]\n",
      " [ 0.12436529  0.07124215 -0.53036851]\n",
      " [ 0.14174942  0.11785582 -0.18355923]\n",
      " [ 0.1422546   0.16760306  0.16325004]\n",
      " [ 0.12582068  0.21456015  0.51005932]\n",
      " [ 0.09440454  0.25313565  0.85686859]\n",
      " [ 0.05174709  0.27873613  1.20367786]\n",
      " [ 0.0029278   0.28831319  1.55048714]\n",
      " [-0.04624011  0.28072644  1.89729641]]\n",
      " --- output --- \n",
      "[[[ 0.05126828  0.          0.6021385 ]\n",
      "  [ 0.05078883  0.          0.34755692]\n",
      "  [ 0.05003793  0.          0.29482183]\n",
      "  [ 0.05042383  0.          0.32546577]\n",
      "  [ 0.0489301   0.          0.35292426]\n",
      "  [ 0.05128687  0.          0.36232185]\n",
      "  [ 0.04931707  0.          0.3523649 ]\n",
      "  [ 0.04752873  0.          0.33836344]\n",
      "  [ 0.04722271  0.          0.31462651]\n",
      "  [ 0.04685426  0.         -0.13468483]]]\n",
      " --- error --- \n",
      "loss: variable(0.00887738)\n",
      "loss: variable(0.00464421)\n",
      "loss: variable(0.00277117)\n",
      "loss: variable(0.00340349)\n",
      "loss: variable(0.00407608)\n",
      "loss: variable(0.00507051)\n",
      "loss: variable(0.00616643)\n",
      "loss: variable(0.00649029)\n",
      "loss: variable(0.00659148)\n",
      "loss: variable(0.00539349)\n",
      " --- trajectory --- \n",
      "[[ 0.0000000e+00  0.0000000e+00  0.0000000e+00]\n",
      " [ 5.1268283e-02  0.0000000e+00  6.0213852e-01]\n",
      " [ 9.3124688e-02  2.8767107e-02  9.4969535e-01]\n",
      " [ 1.2224330e-01  6.9459863e-02  1.2445171e+00]\n",
      " [ 1.3840519e-01  1.1722341e-01  1.5699828e+00]\n",
      " [ 1.3844499e-01  1.6615349e-01  1.9229071e+00]\n",
      " [ 1.2075718e-01  2.1429375e-01  2.2852290e+00]\n",
      " [ 8.8445179e-02  2.5155106e-01  2.6375935e+00]\n",
      " [ 4.6826251e-02  2.7450418e-01  2.9759572e+00]\n",
      " [ 2.4983659e-04  2.8229022e-01 -2.9926016e+00]\n",
      " [-4.6085339e-02  2.7533516e-01 -3.1272864e+00]]\n",
      "(10, 3)\n"
     ]
    },
    {
     "data": {
      "image/png": "[encoded data removed]",
      "text/plain": [
       "<matplotlib.figure.Figure at 0x7fc90850e9e8>"
      ]
     },
     "metadata": {},
     "output_type": "display_data"
    },
    {
     "name": "stdout",
     "output_type": "stream",
     "text": [
      " --- input --- \n",
      "[[ 4.99853364e-02  1.04859172e-03 -1.52884651e+00]\n",
      " [ 9.98827221e-02  4.19252187e-03 -1.48689669e+00]\n",
      " [ 1.49604361e-01  9.42625859e-03 -1.44494687e+00]\n",
      " [ 1.99062767e-01  1.67405930e-02 -1.40299704e+00]\n",
      " [ 2.48170916e-01  2.61226553e-02 -1.36104722e+00]\n",
      " [ 2.96842401e-01  3.75559374e-02 -1.31909740e+00]\n",
      " [ 3.44991583e-01  5.10203222e-02 -1.27714758e+00]\n",
      " [ 3.92533743e-01  6.64921187e-02 -1.23519776e+00]\n",
      " [ 4.39385227e-01  8.39441039e-02 -1.19324794e+00]\n",
      " [ 4.85463601e-01  1.03345570e-01 -1.15129812e+00]]\n",
      " --- output --- \n",
      "[[[ 0.05073295  0.          0.0611941 ]\n",
      "  [ 0.05147891  0.          0.01952728]\n",
      "  [ 0.05050944  0.          0.02698967]\n",
      "  [ 0.05011547  0.          0.02517903]\n",
      "  [ 0.05017195  0.          0.02495136]\n",
      "  [ 0.04953011  0.          0.03297551]\n",
      "  [ 0.04850537  0.          0.02859751]\n",
      "  [ 0.04808442  0.          0.02389801]\n",
      "  [ 0.04744853  0.          0.01870308]\n",
      "  [ 0.04785741  0.         -0.1294213 ]]]\n",
      " --- error --- \n",
      "loss: variable(0.00128781)\n",
      "loss: variable(0.00246492)\n",
      "loss: variable(0.0036084)\n",
      "loss: variable(0.00524021)\n",
      "loss: variable(0.00786922)\n",
      "loss: variable(0.01128059)\n",
      "loss: variable(0.01520236)\n",
      "loss: variable(0.02000385)\n",
      "loss: variable(0.02589508)\n",
      "loss: variable(0.03289092)\n",
      " --- trajectory --- \n",
      "[[0.         0.         0.        ]\n",
      " [0.05073295 0.         0.0611941 ]\n",
      " [0.1021155  0.00314824 0.08072138]\n",
      " [0.15246049 0.00722101 0.10771108]\n",
      " [0.20228553 0.01260857 0.13288999]\n",
      " [0.2520151  0.01925631 0.15784144]\n",
      " [0.30092952 0.02704179 0.19081688]\n",
      " [0.3485545  0.03624137 0.21941447]\n",
      " [0.3954861  0.04670734 0.2433126 ]\n",
      " [0.44153702 0.05813859 0.26201558]\n",
      " [0.48776105 0.07053499 0.13259435]]\n",
      "(10, 3)\n"
     ]
    },
    {
     "data": {
      "image/png": "[encoded data removed]",
      "text/plain": [
       "<matplotlib.figure.Figure at 0x7fc90861be10>"
      ]
     },
     "metadata": {},
     "output_type": "display_data"
    },
    {
     "name": "stdout",
     "output_type": "stream",
     "text": [
      " --- input --- \n",
      "[[ 0.04949348 -0.00614165 -1.81771435]\n",
      " [ 0.09598471 -0.02419406 -2.06463237]\n",
      " [ 0.13665357 -0.05306217 -2.31155039]\n",
      " [ 0.16903311 -0.09099486 -2.55846841]\n",
      " [ 0.19115921 -0.13569117 -2.80538643]\n",
      " [ 0.2016897  -0.18443984 -3.05230446]\n",
      " [ 0.19998583 -0.2342838  -3.29922248]\n",
      " [ 0.18615094 -0.28219956 -3.5461405 ]\n",
      " [ 0.16102426 -0.32528057 -3.79305852]\n",
      " [ 0.12612994 -0.36091357 -4.03997654]]\n",
      " --- output --- \n",
      "[[[ 0.04980603  0.         -0.43901616]\n",
      "  [ 0.05376327  0.         -0.26122928]\n",
      "  [ 0.05114697  0.         -0.2019697 ]\n",
      "  [ 0.05050852  0.         -0.23362775]\n",
      "  [ 0.0513402   0.         -0.2567474 ]\n",
      "  [ 0.04890753  0.         -0.25237283]\n",
      "  [ 0.04774881  0.         -0.255046  ]\n",
      "  [ 0.04712246  0.         -0.24760057]\n",
      "  [ 0.04625474  0.         -0.23580335]\n",
      "  [ 0.05242423  0.         -0.12580974]]]\n",
      " --- error --- \n",
      "loss: variable(0.0061496)\n",
      "loss: variable(0.00282531)\n",
      "loss: variable(0.00290185)\n",
      "loss: variable(0.00445294)\n",
      "loss: variable(0.00634612)\n",
      "loss: variable(0.00622122)\n",
      "loss: variable(0.00555034)\n",
      "loss: variable(0.00573179)\n",
      "loss: variable(0.00716182)\n",
      "loss: variable(0.00974808)\n",
      " --- trajectory --- \n",
      "[[ 0.          0.          0.        ]\n",
      " [ 0.04980603  0.         -0.43901616]\n",
      " [ 0.09847094 -0.02285203 -0.7002454 ]\n",
      " [ 0.13758221 -0.05581141 -0.902215  ]\n",
      " [ 0.1688911  -0.09544554 -1.1358428 ]\n",
      " [ 0.19052424 -0.14200544 -1.3925902 ]\n",
      " [ 0.1991938  -0.19013844 -1.644963  ]\n",
      " [ 0.19565567 -0.23775598 -1.900009  ]\n",
      " [ 0.18042107 -0.28234783 -2.1476097 ]\n",
      " [ 0.15519579 -0.32111877 -2.383413  ]\n",
      " [ 0.11713113 -0.35716572 -2.5092227 ]]\n",
      "(10, 3)\n"
     ]
    },
    {
     "data": {
      "image/png": "[encoded data removed]",
      "text/plain": [
       "<matplotlib.figure.Figure at 0x7fc9086e8e48>"
      ]
     },
     "metadata": {},
     "output_type": "display_data"
    },
    {
     "name": "stdout",
     "output_type": "stream",
     "text": [
      " --- input --- \n",
      "[[ 0.04990258 -0.00270121 -1.67895023]\n",
      " [ 0.099222   -0.01077329 -1.78710414]\n",
      " [ 0.14738193 -0.02412189 -1.89525804]\n",
      " [ 0.19381958 -0.04259103 -2.00341194]\n",
      " [ 0.23799227 -0.06596489 -2.11156585]\n",
      " [ 0.27938382 -0.09397032 -2.21971975]\n",
      " [ 0.31751052 -0.12628005 -2.32787366]\n",
      " [ 0.35192684 -0.16251651 -2.43602756]\n",
      " [ 0.38223058 -0.20225625 -2.54418147]\n",
      " [ 0.40806763 -0.24503487 -2.65233537]]\n",
      " --- output --- \n",
      "[[[ 0.05166762  0.         -0.1963197 ]\n",
      "  [ 0.05070989  0.         -0.13252261]\n",
      "  [ 0.04996321  0.         -0.09838038]\n",
      "  [ 0.05057491  0.         -0.11183386]\n",
      "  [ 0.04939196  0.         -0.11877634]\n",
      "  [ 0.05065865  0.         -0.11083566]\n",
      "  [ 0.04908624  0.         -0.11313446]\n",
      "  [ 0.04802437  0.         -0.1184831 ]\n",
      "  [ 0.04793851  0.         -0.11636171]\n",
      "  [ 0.04628707  0.         -0.11818928]]]\n",
      " --- error --- \n",
      "loss: variable(0.00322675)\n",
      "loss: variable(0.0023529)\n",
      "loss: variable(0.00231066)\n",
      "loss: variable(0.00448254)\n",
      "loss: variable(0.00643305)\n",
      "loss: variable(0.00959258)\n",
      "loss: variable(0.01223574)\n",
      "loss: variable(0.01493867)\n",
      "loss: variable(0.01833757)\n",
      "loss: variable(0.02204343)\n",
      " --- trajectory --- \n",
      "[[ 0.          0.          0.        ]\n",
      " [ 0.05166762  0.         -0.1963197 ]\n",
      " [ 0.10140343 -0.00989152 -0.3288424 ]\n",
      " [ 0.14868945 -0.02602703 -0.42722273]\n",
      " [ 0.19471869 -0.04698247 -0.53905654]\n",
      " [ 0.23710653 -0.07233667 -0.65783286]\n",
      " [ 0.2771937  -0.10330954 -0.7686684 ]\n",
      " [ 0.3124787  -0.13743325 -0.8818028 ]\n",
      " [ 0.3430107  -0.1745026  -1.0002859 ]\n",
      " [ 0.36890045 -0.21484886 -1.1166475 ]\n",
      " [ 0.38920647 -0.25644404 -1.2348368 ]]\n",
      "(10, 3)\n"
     ]
    },
    {
     "data": {
      "image/png": "[encoded data removed]",
      "text/plain": [
       "<matplotlib.figure.Figure at 0x7fc9086f6c88>"
      ]
     },
     "metadata": {},
     "output_type": "display_data"
    }
   ],
   "source": [
    "for i in range(10):\n",
    "    rand_rad = xp.random.rand()*(2*DATA_RAD_PER_STEP)-DATA_RAD_PER_STEP # -36 ~ 36 m/step\n",
    "    x_test = data.generate_arc_path(DATA_NUM_STEP,rand_rad,DATA_M_PER_STEP)\n",
    "    x = xp.ravel(x_test[:,0:2])\n",
    "    x = Variable(xp.array([x],dtype=xp.float32))\n",
    "    y = model(x)\n",
    "    # zero-padding\n",
    "    pad = Variable(xp.zeros((1,DATA_NUM_WAYPOINTS,1),dtype=xp.float32))\n",
    "    y_pad = F.concat((y,pad),axis=2)\n",
    "    y_pad = F.permutate(y_pad, xp.array([0,2,1],'i'), axis=2)\n",
    "    print(' --- input --- ')\n",
    "    print(x_test)\n",
    "    print(' --- output --- ')\n",
    "    print(y_pad.data)\n",
    "    # loss\n",
    "    z_true = x_test\n",
    "    z = y_pad[0,0]\n",
    "    e = error_squares(z,z_true[0])\n",
    "    print(' --- error --- ')\n",
    "    print('loss:',e)\n",
    "    Z = xp.array([([0,0,0]),(z.data)],dtype='float32')\n",
    "    for step in range(1,DATA_NUM_STEP):\n",
    "        z = oplus(z,y_pad[0,step])\n",
    "        e = error_squares(z,z_true[step])\n",
    "        print('loss:',e)\n",
    "        Z = xp.vstack((Z,z.data))\n",
    "    print(' --- trajectory --- ')\n",
    "    print(Z)\n",
    "    print(z_true.shape)\n",
    "    fig = plot_path(Z,z_true,[-.5,1],[-.5,.5])\n",
    "    fig.savefig(dirname + '/test' + str(i) + '.png')"
   ]
  }
 ],
 "metadata": {
  "kernelspec": {
   "display_name": "Python 3",
   "language": "python",
   "name": "python3"
  },
  "language_info": {
   "codemirror_mode": {
    "name": "ipython",
    "version": 3
   },
   "file_extension": ".py",
   "mimetype": "text/x-python",
   "name": "python",
   "nbconvert_exporter": "python",
   "pygments_lexer": "ipython3",
   "version": "3.5.2"
  }
 },
 "nbformat": 4,
 "nbformat_minor": 2
}
