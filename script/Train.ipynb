{
 "cells": [
  {
   "cell_type": "code",
   "execution_count": 1,
   "metadata": {},
   "outputs": [
    {
     "name": "stderr",
     "output_type": "stream",
     "text": [
      "/usr/local/lib/python3.5/dist-packages/h5py/__init__.py:36: FutureWarning: Conversion of the second argument of issubdtype from `float` to `np.floating` is deprecated. In future, it will be treated as `np.float64 == np.dtype(float).type`.\n",
      "  from ._conv import register_converters as _register_converters\n"
     ]
    }
   ],
   "source": [
    "import chainer\n",
    "from chainer import Link, Chain, ChainList, Variable, optimizers, iterators\n",
    "import chainer.functions as F\n",
    "import chainer.links as L\n",
    "from chainer import cuda\n",
    "from chainer import initializers\n",
    "from chainer import serializers\n",
    "\n",
    "import os\n",
    "import time, datetime\n",
    "import numpy as np\n",
    "import random\n",
    "import matplotlib.pyplot as plt\n",
    "%matplotlib inline\n",
    "import coordinate\n",
    "import data\n",
    "from model import oplus, Generator\n",
    "import xp_settings as settings\n",
    "settings.set_gpu(0)\n",
    "xp = settings.xp\n"
   ]
  },
  {
   "cell_type": "code",
   "execution_count": 2,
   "metadata": {},
   "outputs": [],
   "source": [
    "def plot_path(cart_path,target,xlim=[-5,5],ylim=[-5,5]):\n",
    "    fig = plt.figure()\n",
    "    path = cart_path\n",
    "    target = target\n",
    "    if(settings.gpu_index >= 0):\n",
    "        path = xp.asnumpy(path)\n",
    "        target = xp.asnumpy(target)\n",
    "    plt.scatter(target[:,0],target[:,1],c=\"red\",s=80,marker=\"o\")\n",
    "    for i in range(1,len(path)):\n",
    "        plt.quiver(path[i-1,0],path[i-1,1]\n",
    "                   , path[i,0]-path[i-1,0],path[i,1]-path[i-1,1]\n",
    "                   , scale_units='xy', angles='xy', scale=1,color=\"blue\")\n",
    "    num_step = len(target)\n",
    "    #plt.scatter(t[num_step-1,0],t[num_step-1,1],c=\"yellow\",s=500,marker=\"*\")\n",
    "    plt.xlabel(\"x[m]\")\n",
    "    plt.ylabel(\"y[m]\")\n",
    "    plt.axis('scaled')\n",
    "    plt.xlim(xlim[0],xlim[1])\n",
    "    plt.ylim(ylim[0],ylim[1])\n",
    "    plt.grid()\n",
    "    plt.show()\n",
    "    return fig"
   ]
  },
  {
   "cell_type": "code",
   "execution_count": 3,
   "metadata": {},
   "outputs": [
    {
     "name": "stdout",
     "output_type": "stream",
     "text": [
      "Sample 1 : check Oplus\n",
      "(3,)\n",
      "variable([-0.14263964  2.9220755   1.0000002 ])\n",
      "variable([-0.14263964  2.9220755   0.        ])\n",
      "variable(8.558871)\n",
      "()\n"
     ]
    }
   ],
   "source": [
    "print('Sample 1 : check Oplus')\n",
    "sample_x1 = Variable(xp.array([1, 1, 1], dtype = 'float32'))\n",
    "sample_x2 = Variable(xp.array([1, 2, 0], dtype = 'float32'))\n",
    "print(sample_x1.shape)\n",
    "sample_z = oplus(sample_x1,sample_x2)\n",
    "print(sample_z)\n",
    "sample_z = sample_z * xp.array([1., 1., 0], dtype='float32')\n",
    "sample_zt = F.transpose(sample_z)\n",
    "print(sample_zt)\n",
    "sample_e = F.matmul(sample_z, sample_zt)\n",
    "print(sample_e)\n",
    "print(sample_e.shape)\n",
    "sample_e.backward()"
   ]
  },
  {
   "cell_type": "code",
   "execution_count": 4,
   "metadata": {},
   "outputs": [
    {
     "name": "stdout",
     "output_type": "stream",
     "text": [
      "Sample 2 : plot Oplus\n",
      "variable([1.8660254 0.5       1.0471976])\n",
      "variable([2.3660254 1.3660254 1.5707963])\n",
      "variable([2.3660254 2.3660254 2.094395 ])\n",
      "[[1.        0.        0.5235988]\n",
      " [1.8660254 0.5       1.0471976]\n",
      " [2.3660254 1.3660254 1.5707963]\n",
      " [2.3660254 2.3660254 2.094395 ]]\n"
     ]
    },
    {
     "data": {
      "image/png": "[encoded data removed]",
      "text/plain": [
       "<matplotlib.figure.Figure at 0x7f553a581e80>"
      ]
     },
     "metadata": {},
     "output_type": "display_data"
    },
    {
     "data": {
      "image/png": "[encoded data removed]",
      "text/plain": [
       "<matplotlib.figure.Figure at 0x7f553a581e80>"
      ]
     },
     "execution_count": 4,
     "metadata": {},
     "output_type": "execute_result"
    }
   ],
   "source": [
    "print('Sample 2 : plot Oplus')\n",
    "sample_x1 = Variable(xp.array([1, 0, xp.pi/6], dtype = 'float32'))\n",
    "sample_x2 = Variable(xp.array([1, 0, xp.pi/6], dtype = 'float32'))\n",
    "sample_x3 = Variable(xp.array([1, 0, xp.pi/6], dtype = 'float32'))\n",
    "sample_x4 = Variable(xp.array([1, 0, xp.pi/6], dtype = 'float32'))\n",
    "sample_z1 = oplus(sample_x1,sample_x2)\n",
    "print(sample_z1)\n",
    "sample_z2 = oplus(sample_z1,sample_x3)\n",
    "print(sample_z2)\n",
    "sample_z3 = oplus(sample_z2,sample_x4)\n",
    "print(sample_z3)\n",
    "sample_z = sample_z3 * xp.array([1., 1., 0], dtype='float32')\n",
    "sample_pathes = xp.array(xp.vstack((sample_x1.data,sample_z1.data,sample_z2.data,sample_z3.data)),dtype='float32')\n",
    "print(sample_pathes)\n",
    "plot_path(sample_pathes,sample_pathes,[-3,3],[-3,3])"
   ]
  },
  {
   "cell_type": "code",
   "execution_count": 5,
   "metadata": {
    "scrolled": true
   },
   "outputs": [
    {
     "name": "stdout",
     "output_type": "stream",
     "text": [
      "DATA_SIZE          : 1000\n",
      "DATA_NUM_WAYPOINTS : 10\n",
      "DATA_NUM_STEP      : 10\n",
      "DATA_HZ            : 10\n",
      "DATA_MAX_TRANS_VEL : 0.5\n",
      "DATA_MAX_ROTATE_VEL: 6.283185307179586\n",
      "DATA_M_PER_STEP    : 0.05\n",
      "DATA_RAD_PER_STEP  : 0.6283185307179586\n",
      "1000\n",
      "(10, 3)\n"
     ]
    }
   ],
   "source": [
    "# dataset\n",
    "DATA_SIZE = 1000\n",
    "DATA_NUM_WAYPOINTS = 10\n",
    "DATA_NUM_STEP = DATA_NUM_WAYPOINTS\n",
    "DATA_HZ = 10\n",
    "DATA_MAX_TRANS_VEL = 0.5 # [m/s]\n",
    "DATA_MAX_ROTATE_VEL = 2*xp.pi # [rad/s]\n",
    "DATA_M_PER_STEP = DATA_MAX_TRANS_VEL / DATA_HZ # [m/step]\n",
    "DATA_RAD_PER_STEP = DATA_MAX_ROTATE_VEL / DATA_HZ # [rad/step]\n",
    "\n",
    "print('DATA_SIZE          :',DATA_SIZE)\n",
    "print('DATA_NUM_WAYPOINTS :',DATA_NUM_WAYPOINTS)\n",
    "print('DATA_NUM_STEP      :',DATA_NUM_STEP)\n",
    "print('DATA_HZ            :',DATA_HZ) \n",
    "print('DATA_MAX_TRANS_VEL :',DATA_MAX_TRANS_VEL)\n",
    "print('DATA_MAX_ROTATE_VEL:',DATA_MAX_ROTATE_VEL)\n",
    "print('DATA_M_PER_STEP    :',DATA_M_PER_STEP)\n",
    "print('DATA_RAD_PER_STEP  :', DATA_RAD_PER_STEP)\n",
    "\n",
    "X_train = []\n",
    "'''\n",
    "for i in range(DATA_SIZE):\n",
    "    rand_rad = xp.random.rand()*(2*DATA_RAD_PER_STEP)-DATA_RAD_PER_STEP # -36 ~ 36 m/step\n",
    "    d = data.generate_arc_path(DATA_NUM_STEP,rand_rad,DATA_M_PER_STEP)\n",
    "    if(len(d) > 10):\n",
    "        print(rand_rad)\n",
    "        print(d)\n",
    "    #d_xy_fl = xp.ravel(d_xy[0:DATA_WAYPOINTS])\n",
    "    X_train.append(d)\n",
    "'''\n",
    "# old version\n",
    "for i in range(DATA_SIZE):\n",
    "    l = int(DATA_NUM_WAYPOINTS*DATA_M_PER_STEP)+1\n",
    "    rand_rad = xp.random.rand()*(2*DATA_RAD_PER_STEP)-DATA_RAD_PER_STEP # -36 ~ 36 m/step\n",
    "    d = data.make_arc_path_2(l,rand_rad,s=DATA_M_PER_STEP)\n",
    "    d_es,_ = data.old_get_evenly_spaced_points(d,DATA_M_PER_STEP)\n",
    "    d_xy = d_es[0:DATA_NUM_WAYPOINTS]\n",
    "    X_train.append(d_xy)\n",
    "print(len(X_train))\n",
    "print(X_train[0].shape)"
   ]
  },
  {
   "cell_type": "code",
   "execution_count": 6,
   "metadata": {},
   "outputs": [
    {
     "data": {
      "image/png": "[encoded data removed]",
      "text/plain": [
       "<matplotlib.figure.Figure at 0x7f553a5815c0>"
      ]
     },
     "metadata": {},
     "output_type": "display_data"
    },
    {
     "name": "stdout",
     "output_type": "stream",
     "text": [
      " -- x_train -- \n",
      "[[ 0.05044695  0.00677326 -1.30386276]\n",
      " [ 0.09732066  0.02661327 -1.0369292 ]\n",
      " [ 0.13730102  0.05811474 -0.76999564]\n",
      " [ 0.16755614  0.09904638 -0.50306208]\n",
      " [ 0.18594302  0.14650893 -0.23612851]\n",
      " [ 0.19115929  0.19714056  0.03080505]\n",
      " [ 0.18283547  0.24735496  0.29773861]\n",
      " [ 0.16156115  0.29359536  0.56467217]\n",
      " [ 0.12884322  0.33258649  0.83160574]\n",
      " [ 0.08699914  0.36156656  1.0985393 ]]\n"
     ]
    },
    {
     "data": {
      "image/png": "[encoded data removed]",
      "text/plain": [
       "<matplotlib.figure.Figure at 0x7f5534085cf8>"
      ]
     },
     "metadata": {},
     "output_type": "display_data"
    },
    {
     "name": "stdout",
     "output_type": "stream",
     "text": [
      " -- x_train -- \n",
      "[[ 0.05082732 -0.00413283 -1.73306181]\n",
      " [ 0.10031928 -0.01642275 -1.89532729]\n",
      " [ 0.14717562 -0.03654686 -2.05759277]\n",
      " [ 0.1901653  -0.06397647 -2.21985825]\n",
      " [ 0.2281589  -0.09799092 -2.38212373]\n",
      " [ 0.26015822 -0.13769659 -2.54438921]\n",
      " [ 0.28532257 -0.1820503  -2.70665469]\n",
      " [ 0.30299082 -0.22988678 -2.86892017]\n",
      " [ 0.31269878 -0.27994926 -3.03118565]\n",
      " [ 0.31419141 -0.33092247 -3.19345113]]\n"
     ]
    },
    {
     "data": {
      "image/png": "[encoded data removed]",
      "text/plain": [
       "<matplotlib.figure.Figure at 0x7f5534083a90>"
      ]
     },
     "metadata": {},
     "output_type": "display_data"
    },
    {
     "name": "stdout",
     "output_type": "stream",
     "text": [
      " -- x_train -- \n",
      "[[ 0.049236   -0.01164168 -2.03516101]\n",
      " [ 0.08804444 -0.04410117 -2.49952569]\n",
      " [ 0.10820617 -0.09050394 -2.96389037]\n",
      " [ 0.10545119 -0.14102248 -3.42825506]\n",
      " [ 0.08036297 -0.18495759 -3.89261974]\n",
      " [ 0.03825488 -0.21300437 -4.35698442]\n",
      " [-0.01195511 -0.21922286 -4.8213491 ]\n",
      " [-0.05963315 -0.20229607 -5.28571379]\n",
      " [-0.09468165 -0.16580887 -5.75007847]\n",
      " [-0.10967776 -0.1174888  -6.21444315]]\n"
     ]
    },
    {
     "data": {
      "image/png": "[encoded data removed]",
      "text/plain": [
       "<matplotlib.figure.Figure at 0x7f553026ee80>"
      ]
     },
     "metadata": {},
     "output_type": "display_data"
    },
    {
     "name": "stdout",
     "output_type": "stream",
     "text": [
      " -- x_train -- \n",
      "[[ 0.0505552   0.00614102 -1.32903756]\n",
      " [ 0.09816995  0.0242069  -1.08727879]\n",
      " [ 0.14007483  0.05314688 -0.84552002]\n",
      " [ 0.17383251  0.09127771 -0.60376124]\n",
      " [ 0.19747953  0.13638158 -0.36200247]\n",
      " [ 0.20964052  0.1858351  -0.1202437 ]\n",
      " [ 0.20960814  0.23676191  0.12151507]\n",
      " [ 0.19738429  0.28619993  0.36327384]\n",
      " [ 0.17367994  0.3312737   0.60503261]\n",
      " [ 0.13987382  0.36936158  0.84679138]]\n"
     ]
    },
    {
     "data": {
      "image/png": "[encoded data removed]",
      "text/plain": [
       "<matplotlib.figure.Figure at 0x7f553020e358>"
      ]
     },
     "metadata": {},
     "output_type": "display_data"
    },
    {
     "name": "stdout",
     "output_type": "stream",
     "text": [
      " -- x_train -- \n",
      "[[ 0.04996021  0.00259548 -1.46698793]\n",
      " [ 0.09938252  0.01035396 -1.36317953]\n",
      " [ 0.14773482  0.02319192 -1.25937112]\n",
      " [ 0.19449654  0.04097113 -1.15556272]\n",
      " [ 0.23916421  0.06350018 -1.05175432]\n",
      " [ 0.28125692  0.09053651 -0.94794592]\n",
      " [ 0.32032147  0.12178902 -0.84413752]\n",
      " [ 0.35593727  0.15692125 -0.74032912]\n",
      " [ 0.38772088  0.19555493 -0.63652072]\n",
      " [ 0.41533008  0.23727412 -0.53271232]]\n"
     ]
    },
    {
     "data": {
      "image/png": "[encoded data removed]",
      "text/plain": [
       "<matplotlib.figure.Figure at 0x7f55301c44e0>"
      ]
     },
     "metadata": {},
     "output_type": "display_data"
    },
    {
     "name": "stdout",
     "output_type": "stream",
     "text": [
      " -- x_train -- \n",
      "[[ 0.0491283   0.01197302 -1.09269798]\n",
      " [ 0.08723923  0.04520704 -0.61459963]\n",
      " [ 0.10578615  0.09224909 -0.13650127]\n",
      " [ 0.10060977  0.14254967  0.34159708]\n",
      " [ 0.07287094  0.18482851  0.81969543]\n",
      " [ 0.02879029  0.20960428  1.29779378]\n",
      " [-0.02174679  0.21132085  1.77589213]\n",
      " [-0.067407    0.18959325  2.25399048]\n",
      " [-0.09795071  0.14929406  2.73208883]\n",
      " [-0.10652828  0.09946065  3.21018718]]\n"
     ]
    },
    {
     "data": {
      "image/png": "[encoded data removed]",
      "text/plain": [
       "<matplotlib.figure.Figure at 0x7f55301a4160>"
      ]
     },
     "metadata": {},
     "output_type": "display_data"
    },
    {
     "name": "stdout",
     "output_type": "stream",
     "text": [
      " -- x_train -- \n",
      "[[ 0.05039125 -0.0070759  -1.84981041]\n",
      " [ 0.09688498 -0.0277563  -2.1288245 ]\n",
      " [ 0.13588512 -0.06044169 -2.40783858]\n",
      " [ 0.16437522 -0.102604   -2.68685267]\n",
      " [ 0.18015169 -0.15098219 -2.96586676]\n",
      " [ 0.18199431 -0.20183444 -3.24488084]\n",
      " [ 0.16976055 -0.25122757 -3.52389493]\n",
      " [ 0.14439664 -0.29534126 -3.80290901]\n",
      " [ 0.10786435 -0.33076354 -4.0819231 ]\n",
      " [ 0.06298928 -0.35475467 -4.36093718]]\n"
     ]
    },
    {
     "data": {
      "image/png": "[encoded data removed]",
      "text/plain": [
       "<matplotlib.figure.Figure at 0x7f55300d8e10>"
      ]
     },
     "metadata": {},
     "output_type": "display_data"
    },
    {
     "name": "stdout",
     "output_type": "stream",
     "text": [
      " -- x_train -- \n",
      "[[ 0.04918826 -0.01178983 -2.04129605]\n",
      " [ 0.08768711 -0.0445972  -2.51179578]\n",
      " [ 0.10713013 -0.09129254 -2.9822955 ]\n",
      " [ 0.10329202 -0.14172818 -3.45279523]\n",
      " [ 0.07700687 -0.18494364 -3.92329495]\n",
      " [ 0.03398688 -0.21154751 -4.39379468]\n",
      " [-0.01641901 -0.21575831 -4.8642944 ]\n",
      " [-0.06325679 -0.19666098 -5.33479413]\n",
      " [-0.09634783 -0.15840569 -5.80529385]\n",
      " [-0.10850093 -0.10930592 -6.27579357]]\n"
     ]
    },
    {
     "data": {
      "image/png": "[encoded data removed]",
      "text/plain": [
       "<matplotlib.figure.Figure at 0x7f55300dbb38>"
      ]
     },
     "metadata": {},
     "output_type": "display_data"
    },
    {
     "name": "stdout",
     "output_type": "stream",
     "text": [
      " -- x_train -- \n",
      "[[ 0.04998237  0.00225311 -1.4807013 ]\n",
      " [ 0.0995593   0.00899415 -1.39060628]\n",
      " [ 0.14832864  0.02016844 -1.30051125]\n",
      " [ 0.19589479  0.03568535 -1.21041622]\n",
      " [ 0.24187192  0.055419   -1.1203212 ]\n",
      " [ 0.28588708  0.07920932 -1.03022617]\n",
      " [ 0.32758323  0.10686334 -0.94013115]\n",
      " [ 0.36662214  0.13815674 -0.85003612]\n",
      " [ 0.40268716  0.17283567 -0.75994109]\n",
      " [ 0.43548572  0.21061884 -0.66984607]]\n"
     ]
    },
    {
     "data": {
      "image/png": "[encoded data removed]",
      "text/plain": [
       "<matplotlib.figure.Figure at 0x7f553012cc18>"
      ]
     },
     "metadata": {},
     "output_type": "display_data"
    },
    {
     "name": "stdout",
     "output_type": "stream",
     "text": [
      " -- x_train -- \n",
      "[[ 0.050013    0.00166741 -1.50414188]\n",
      " [ 0.09980388  0.00666224 -1.43748742]\n",
      " [ 0.14915151  0.01496231 -1.37083297]\n",
      " [ 0.19783674  0.02653075 -1.30417852]\n",
      " [ 0.24564334  0.04131618 -1.23752407]\n",
      " [ 0.292359    0.05925295 -1.17086962]\n",
      " [ 0.33777624  0.08026139 -1.10421517]\n",
      " [ 0.38169336  0.10424819 -1.03756072]\n",
      " [ 0.42391531  0.13110684 -0.97090626]\n",
      " [ 0.46425458  0.16071804 -0.90425181]]\n"
     ]
    },
    {
     "data": {
      "image/png": "[encoded data removed]",
      "text/plain": [
       "<matplotlib.figure.Figure at 0x7f553013b0f0>"
      ]
     },
     "metadata": {},
     "output_type": "display_data"
    },
    {
     "name": "stdout",
     "output_type": "stream",
     "text": [
      " -- x_train -- \n",
      "[[ 0.04906503  0.01216298 -1.08480319]\n",
      " [ 0.08676773  0.04583525 -0.59881005]\n",
      " [ 0.10437702  0.09321909 -0.11281691]\n",
      " [ 0.09781499  0.14334149  0.37317624]\n",
      " [ 0.06860126  0.18459526  0.85916938]\n",
      " [ 0.02350106  0.20742697  1.34516252]\n",
      " [-0.02704145  0.20654933  1.83115566]\n",
      " [-0.07132178  0.18216557  2.3171488 ]\n",
      " [-0.09908563  0.13992241  2.80314194]\n",
      " [-0.10390352  0.0896024   3.28913508]]\n"
     ]
    },
    {
     "data": {
      "image/png": "[encoded data removed]",
      "text/plain": [
       "<matplotlib.figure.Figure at 0x7f553a57a400>"
      ]
     },
     "metadata": {},
     "output_type": "display_data"
    },
    {
     "name": "stdout",
     "output_type": "stream",
     "text": [
      " -- x_train -- \n",
      "[[ 0.05082652  0.00414018 -1.40824109]\n",
      " [ 0.10031294  0.01645156 -1.24568585]\n",
      " [ 0.1471545   0.03660953 -1.08313062]\n",
      " [ 0.19011618  0.06408261 -0.92057538]\n",
      " [ 0.22806524  0.09814644 -0.75802014]\n",
      " [ 0.26000112  0.1379029  -0.59546491]\n",
      " [ 0.28508179  0.18230375 -0.43290967]\n",
      " [ 0.30264597  0.23017833 -0.27035443]\n",
      " [ 0.31223057  0.28026437 -0.1077992 ]\n",
      " [ 0.31358288  0.3312413   0.05475604]]\n"
     ]
    },
    {
     "data": {
      "image/png": "[encoded data removed]",
      "text/plain": [
       "<matplotlib.figure.Figure at 0x7f5530194630>"
      ]
     },
     "metadata": {},
     "output_type": "display_data"
    },
    {
     "name": "stdout",
     "output_type": "stream",
     "text": [
      " -- x_train -- \n",
      "[[ 5.00485352e-02 -3.37233557e-04 -1.58427238e+00]\n",
      " [ 1.00087981e-01 -1.34887299e-03 -1.59774844e+00]\n",
      " [ 1.50109252e-01 -3.03473457e-03 -1.61122450e+00]\n",
      " [ 2.00103262e-01 -5.39451216e-03 -1.62470055e+00]\n",
      " [ 2.50060933e-01 -8.42777722e-03 -1.63817661e+00]\n",
      " [ 2.99973193e-01 -1.21339789e-02 -1.65165267e+00]\n",
      " [ 3.49830977e-01 -1.65124441e-02 -1.66512873e+00]\n",
      " [ 3.99625231e-01 -2.15623778e-02 -1.67860478e+00]\n",
      " [ 4.49346913e-01 -2.72828628e-02 -1.69208084e+00]\n",
      " [ 4.98986993e-01 -3.36728604e-02 -1.70555690e+00]]\n"
     ]
    },
    {
     "data": {
      "image/png": "[encoded data removed]",
      "text/plain": [
       "<matplotlib.figure.Figure at 0x7f553014f2e8>"
      ]
     },
     "metadata": {},
     "output_type": "display_data"
    },
    {
     "name": "stdout",
     "output_type": "stream",
     "text": [
      " -- x_train -- \n",
      "[[ 0.04992882  0.00301429 -1.4501994 ]\n",
      " [ 0.09913237  0.01201336 -1.32960247]\n",
      " [ 0.14689593  0.02686649 -1.20900554]\n",
      " [ 0.19252568  0.04735793 -1.08840861]\n",
      " [ 0.2353588   0.07319003 -0.96781168]\n",
      " [ 0.27477309  0.10398753 -0.84721475]\n",
      " [ 0.31019603  0.13930308 -0.72661782]\n",
      " [ 0.34111307  0.17862369 -0.60602088]\n",
      " [ 0.36707509  0.22137818 -0.48542395]\n",
      " [ 0.38770498  0.2669455  -0.36482702]]\n"
     ]
    },
    {
     "data": {
      "image/png": "[encoded data removed]",
      "text/plain": [
       "<matplotlib.figure.Figure at 0x7f5530228e10>"
      ]
     },
     "metadata": {},
     "output_type": "display_data"
    },
    {
     "name": "stdout",
     "output_type": "stream",
     "text": [
      " -- x_train -- \n",
      "[[ 0.0498883   0.00348075 -1.43148047]\n",
      " [ 0.0988099   0.01385554 -1.29216461]\n",
      " [ 0.1458168   0.03092335 -1.15284875]\n",
      " [ 0.18999812  0.05435343 -1.01353289]\n",
      " [ 0.23049776  0.08369177 -0.87421704]\n",
      " [ 0.26653091  0.11836986 -0.73490118]\n",
      " [ 0.29739936  0.15771573 -0.59558532]\n",
      " [ 0.32250493  0.20096696 -0.45626946]\n",
      " [ 0.34136116  0.24728544 -0.3169536 ]\n",
      " [ 0.35360264  0.29577363 -0.17763774]]\n"
     ]
    },
    {
     "data": {
      "image/png": "[encoded data removed]",
      "text/plain": [
       "<matplotlib.figure.Figure at 0x7f5530277710>"
      ]
     },
     "metadata": {},
     "output_type": "display_data"
    },
    {
     "name": "stdout",
     "output_type": "stream",
     "text": [
      " -- x_train -- \n",
      "[[ 0.04938622  0.01116132 -1.12626308]\n",
      " [ 0.08917289  0.04247576 -0.68172983]\n",
      " [ 0.11162641  0.08785652 -0.23719658]\n",
      " [ 0.11238231  0.13848263  0.20733667]\n",
      " [ 0.09129367  0.18451352  0.65186992]\n",
      " [ 0.05245964  0.21700185  1.09640317]\n",
      " [ 0.00342866  0.22963264  1.54093642]\n",
      " [-0.04626877  0.21995075  1.98546967]\n",
      " [-0.08697262  0.18983812  2.43000292]\n",
      " [-0.11077098  0.14514794  2.87453617]]\n"
     ]
    },
    {
     "data": {
      "image/png": "[encoded data removed]",
      "text/plain": [
       "<matplotlib.figure.Figure at 0x7f5530060cf8>"
      ]
     },
     "metadata": {},
     "output_type": "display_data"
    },
    {
     "name": "stdout",
     "output_type": "stream",
     "text": [
      " -- x_train -- \n",
      "[[ 0.05019252 -0.00806034 -1.88925433]\n",
      " [ 0.09533762 -0.03143081 -2.20771234]\n",
      " [ 0.13089544 -0.06776123 -2.52617034]\n",
      " [ 0.15329024 -0.11339818 -2.84462835]\n",
      " [ 0.16026998 -0.16375234 -3.16308636]\n",
      " [ 0.15113276 -0.21376003 -3.48154436]\n",
      " [ 0.12679744 -0.25839242 -3.80000237]\n",
      " [ 0.0897112  -0.29316121 -4.11846037]\n",
      " [ 0.04360348 -0.31457001 -4.43691838]\n",
      " [-0.00688906 -0.32046593 -4.75537639]]\n"
     ]
    },
    {
     "data": {
      "image/png": "[encoded data removed]",
      "text/plain": [
       "<matplotlib.figure.Figure at 0x7f5530014518>"
      ]
     },
     "metadata": {},
     "output_type": "display_data"
    },
    {
     "name": "stdout",
     "output_type": "stream",
     "text": [
      " -- x_train -- \n",
      "[[ 0.05081568  0.00423857 -1.40436009]\n",
      " [ 0.10022697  0.01683716 -1.23792386]\n",
      " [ 0.14686826  0.03744755 -1.07148762]\n",
      " [ 0.18945054  0.06550016 -0.90505138]\n",
      " [ 0.22679695  0.10021968 -0.73861515]\n",
      " [ 0.25787534  0.14064656 -0.57217891]\n",
      " [ 0.2818268   0.18566352 -0.40574268]\n",
      " [ 0.29798937  0.23402642 -0.23930644]\n",
      " [ 0.30591637  0.28439866 -0.0728702 ]\n",
      " [ 0.30538872  0.33538808  0.09356603]]\n"
     ]
    },
    {
     "data": {
      "image/png": "[encoded data removed]",
      "text/plain": [
       "<matplotlib.figure.Figure at 0x7f550a7bfd68>"
      ]
     },
     "metadata": {},
     "output_type": "display_data"
    },
    {
     "name": "stdout",
     "output_type": "stream",
     "text": [
      " -- x_train -- \n",
      "[[ 0.04994633  0.00278844 -1.45925448]\n",
      " [ 0.09927189  0.01111912 -1.34771264]\n",
      " [ 0.14736364  0.02488849 -1.2361708 ]\n",
      " [ 0.19362385  0.04392542 -1.12462895]\n",
      " [ 0.23747756  0.0679933  -1.01308711]\n",
      " [ 0.27837974  0.096793   -0.90154527]\n",
      " [ 0.31582203  0.12996659 -0.79000342]\n",
      " [ 0.34933906  0.16710174 -0.67846158]\n",
      " [ 0.37851427  0.20773693 -0.56691973]\n",
      " [ 0.40298504  0.25136712 -0.45537789]]\n"
     ]
    },
    {
     "data": {
      "image/png": "[encoded data removed]",
      "text/plain": [
       "<matplotlib.figure.Figure at 0x7f550a7db630>"
      ]
     },
     "metadata": {},
     "output_type": "display_data"
    },
    {
     "name": "stdout",
     "output_type": "stream",
     "text": [
      " -- x_train -- \n",
      "[[ 0.0491171   0.01200688 -1.09129171]\n",
      " [ 0.0871557   0.04531934 -0.61178709]\n",
      " [ 0.10553608  0.09242366 -0.13228247]\n",
      " [ 0.1001125   0.14269532  0.34722215]\n",
      " [ 0.07210826  0.1847954   0.82672677]\n",
      " [ 0.02783979  0.20922812  1.30623139]\n",
      " [-0.02270802  0.2104826   1.78573601]\n",
      " [-0.06813398  0.18827589  2.26524063]\n",
      " [-0.09819211  0.14761678  2.74474525]\n",
      " [-0.10610274  0.09767605  3.22424987]]\n"
     ]
    }
   ],
   "source": [
    "# plot data\n",
    "p = X_train\n",
    "random.shuffle(p)\n",
    "if(settings.gpu_index >= 0):\n",
    "    p = chainer.cuda.to_cpu(X_train)\n",
    "\n",
    "for num in range(20):\n",
    "    plt.scatter(p[num][:,0], p[num][:,1],c=\"red\",edgecolor=\"red\",s=30,marker=\"o\")\n",
    "    plt.xlim([-.5,1])\n",
    "    plt.ylim([-.5,.5])\n",
    "    plt.grid()\n",
    "    plt.show()\n",
    "    print(' -- x_train -- ')\n",
    "    print(p[num])\n"
   ]
  },
  {
   "cell_type": "code",
   "execution_count": 7,
   "metadata": {},
   "outputs": [],
   "source": [
    "# loss\n",
    "def error_squares(z_oplus,z_true):\n",
    "    #print(predict)\n",
    "    #print(groundtruth)\n",
    "    w = xp.array([1., 1., 0.],dtype=xp.float32)\n",
    "    t = z_true * w\n",
    "    p = z_oplus * w\n",
    "    error = F.sqrt(F.sum((t-p)*(t-p)))\n",
    "    return error\n",
    "\n",
    "def error_limit_rotate_vel(predict,limit):\n",
    "    w = xp.array([0., 0., 1.],dtype=xp.float32)\n",
    "    p = predict * w\n",
    "    vel = F.sum(F.absolute(p))\n",
    "    if vel.data < limit:\n",
    "        error = vel * .0\n",
    "    else:\n",
    "        error = (vel - limit) / limit\n",
    "    return error\n",
    "\n",
    "def error_limit_trans_vel(predict,limit):\n",
    "    w = xp.array([1., 0., 0.],dtype=xp.float32)\n",
    "    p = predict * w\n",
    "    vel = F.sum(F.absolute(p))\n",
    "    if vel.data <= limit:\n",
    "        error = vel * .0\n",
    "    else:\n",
    "        error = (vel - limit) / limit\n",
    "    return error\n",
    "\n",
    "def calc_oplus(y):\n",
    "    dst = []\n",
    "    z = y[0,0]\n",
    "    dst.append(z)\n",
    "    for step in range(1,DATA_NUM_STEP):\n",
    "        z = oplus(z,y[0,step])\n",
    "        dst.append(z)\n",
    "    return dst\n",
    "\n",
    "def loss_function(y, y_true,dmesg=0):\n",
    "    z_true = y_true\n",
    "    z_oplus = calc_oplus(y)\n",
    "    # distance\n",
    "    e_distance = error_squares(z_oplus[0],z_true[0])\n",
    "    for i in range(1,DATA_NUM_STEP):\n",
    "        e_distance = e_distance + error_squares(z_oplus[i],z_true[i])\n",
    "    # limit v\n",
    "    e_lim_v = error_limit_trans_vel(y[0,0], DATA_M_PER_STEP)\n",
    "    for i in range(1,DATA_NUM_STEP):\n",
    "        e_lim_v = e_lim_v + error_limit_trans_vel(y[0,i], DATA_M_PER_STEP)        \n",
    "    # limit w\n",
    "    e_lim_w = error_limit_rotate_vel(y[0,0], DATA_RAD_PER_STEP)\n",
    "    for i in range(1,DATA_NUM_STEP):\n",
    "        e_lim_w = e_lim_w + error_limit_rotate_vel(y[0,i] , DATA_RAD_PER_STEP)\n",
    "    loss = (1 * e_distance) #  + (1 * e_lim_w) + (1 * e_lim_v)\n",
    "    if(dmesg):\n",
    "        print('e_distance: ' + str(e_distance)) # + '\\t e_lim_w: '  + str(e_lim_w) + '\\t e_lim_v: '  + str(e_lim_v))\n",
    "    return loss"
   ]
  },
  {
   "cell_type": "code",
   "execution_count": 8,
   "metadata": {},
   "outputs": [],
   "source": [
    "# training\n",
    "def train(model,X,epoch=10):\n",
    "    if settings.gpu_index >= 0:\n",
    "        cuda.cupy.cuda.Device(settings.gpu_index).use()\n",
    "        model.to_gpu(settings.gpu_index)\n",
    "    opt = optimizers.Adam()\n",
    "    opt.setup(model)\n",
    "    ep = 0\n",
    "    AvgLoss = []\n",
    "    while ep < epoch:\n",
    "        random.shuffle(X)\n",
    "        L = .0\n",
    "        for itr in range(len(X)):\n",
    "            x = xp.ravel(X[itr][:,0:2])\n",
    "            x = Variable(xp.array([x],dtype=xp.float32))\n",
    "            y = model(x)\n",
    "            # zero-padding\n",
    "            pad = Variable(xp.zeros((1,DATA_NUM_WAYPOINTS,1),dtype=xp.float32))\n",
    "            y_pad = F.concat((y,pad),axis=2)\n",
    "            y_pad = F.permutate(y_pad, xp.array([0,2,1],'i'), axis=2)\n",
    "            # loss\n",
    "            loss = loss_function(y_pad, X[itr][:])\n",
    "            model.cleargrads()\n",
    "            loss.backward()\n",
    "            opt.update()\n",
    "            # y_grad = chainer.grad( (e,), (y,) )[0]\n",
    "            # print(y_grad)\n",
    "            # x_grad = chainer.grad( (e,), (x,) )[0]\n",
    "            # print(x_grad)\n",
    "            L = L + loss.data\n",
    "        ep = ep + 1\n",
    "        print('Epoch:',ep,', Average loss:',L / len(X))\n",
    "        AvgLoss.append(L / len(X))\n",
    "    fig = plt.figure()\n",
    "    plt.plot(range(len(AvgLoss)),AvgLoss)\n",
    "    plt.xlabel('Epoch')\n",
    "    plt.ylabel('Average loss (squares)') #*10, lim_v, lim_w, )')\n",
    "    plt.text(len(AvgLoss)-1, AvgLoss[-1],str(AvgLoss[-1]),ha='center',va='top' )\n",
    "    return model, fig"
   ]
  },
  {
   "cell_type": "code",
   "execution_count": 9,
   "metadata": {},
   "outputs": [
    {
     "name": "stdout",
     "output_type": "stream",
     "text": [
      "Epoch: 1 , Average loss: 1.0558717\n",
      "Epoch: 2 , Average loss: 0.5456601\n",
      "Epoch: 3 , Average loss: 0.38894653\n",
      "Epoch: 4 , Average loss: 0.32579783\n",
      "Epoch: 5 , Average loss: 0.29167855\n",
      "Epoch: 6 , Average loss: 0.27819338\n",
      "Epoch: 7 , Average loss: 0.25953847\n",
      "Epoch: 8 , Average loss: 0.24823876\n",
      "Epoch: 9 , Average loss: 0.23403801\n",
      "Epoch: 10 , Average loss: 0.23053838\n",
      "Epoch: 11 , Average loss: 0.21985309\n",
      "Epoch: 12 , Average loss: 0.21197863\n",
      "Epoch: 13 , Average loss: 0.21714221\n",
      "Epoch: 14 , Average loss: 0.19840832\n",
      "Epoch: 15 , Average loss: 0.19608493\n",
      "Epoch: 16 , Average loss: 0.19209798\n",
      "Epoch: 17 , Average loss: 0.18458363\n",
      "Epoch: 18 , Average loss: 0.18632467\n",
      "Epoch: 19 , Average loss: 0.17844011\n",
      "Epoch: 20 , Average loss: 0.18181251\n",
      "Epoch: 21 , Average loss: 0.17815942\n",
      "Epoch: 22 , Average loss: 0.17494266\n",
      "Epoch: 23 , Average loss: 0.16542152\n",
      "Epoch: 24 , Average loss: 0.16656855\n",
      "Epoch: 25 , Average loss: 0.16277024\n",
      "Epoch: 26 , Average loss: 0.16387366\n",
      "Epoch: 27 , Average loss: 0.16149093\n",
      "Epoch: 28 , Average loss: 0.15959918\n",
      "Epoch: 29 , Average loss: 0.1574771\n",
      "Epoch: 30 , Average loss: 0.1559602\n",
      "Epoch: 31 , Average loss: 0.15482898\n",
      "Epoch: 32 , Average loss: 0.14932851\n",
      "Epoch: 33 , Average loss: 0.14727241\n",
      "Epoch: 34 , Average loss: 0.14495426\n",
      "Epoch: 35 , Average loss: 0.14668623\n",
      "Epoch: 36 , Average loss: 0.1423291\n",
      "Epoch: 37 , Average loss: 0.1404142\n",
      "Epoch: 38 , Average loss: 0.14076203\n",
      "Epoch: 39 , Average loss: 0.13819028\n",
      "Epoch: 40 , Average loss: 0.1360165\n",
      "Epoch: 41 , Average loss: 0.13747779\n",
      "Epoch: 42 , Average loss: 0.13636346\n",
      "Epoch: 43 , Average loss: 0.14055882\n",
      "Epoch: 44 , Average loss: 0.13262878\n",
      "Epoch: 45 , Average loss: 0.13525118\n",
      "Epoch: 46 , Average loss: 0.13044155\n",
      "Epoch: 47 , Average loss: 0.12978582\n",
      "Epoch: 48 , Average loss: 0.12776431\n",
      "Epoch: 49 , Average loss: 0.1323187\n",
      "Epoch: 50 , Average loss: 0.13118795\n",
      "Epoch: 51 , Average loss: 0.12411118\n",
      "Epoch: 52 , Average loss: 0.12816618\n",
      "Epoch: 53 , Average loss: 0.12284748\n",
      "Epoch: 54 , Average loss: 0.12514207\n",
      "Epoch: 55 , Average loss: 0.123677425\n",
      "Epoch: 56 , Average loss: 0.1213171\n",
      "Epoch: 57 , Average loss: 0.12315293\n",
      "Epoch: 58 , Average loss: 0.12301098\n",
      "Epoch: 59 , Average loss: 0.12515777\n",
      "Epoch: 60 , Average loss: 0.12429892\n",
      "Epoch: 61 , Average loss: 0.11941286\n",
      "Epoch: 62 , Average loss: 0.12135993\n",
      "Epoch: 63 , Average loss: 0.11909195\n",
      "Epoch: 64 , Average loss: 0.11962667\n",
      "Epoch: 65 , Average loss: 0.116879575\n",
      "Epoch: 66 , Average loss: 0.11956856\n",
      "Epoch: 67 , Average loss: 0.12424176\n",
      "Epoch: 68 , Average loss: 0.11835314\n",
      "Epoch: 69 , Average loss: 0.12056919\n",
      "Epoch: 70 , Average loss: 0.118547924\n",
      "Epoch: 71 , Average loss: 0.11838787\n",
      "Epoch: 72 , Average loss: 0.11472064\n",
      "Epoch: 73 , Average loss: 0.11280562\n",
      "Epoch: 74 , Average loss: 0.11728662\n",
      "Epoch: 75 , Average loss: 0.111890964\n",
      "Epoch: 76 , Average loss: 0.12018252\n",
      "Epoch: 77 , Average loss: 0.11236351\n",
      "Epoch: 78 , Average loss: 0.11907735\n",
      "Epoch: 79 , Average loss: 0.11225645\n",
      "Epoch: 80 , Average loss: 0.11705038\n",
      "Epoch: 81 , Average loss: 0.11248839\n",
      "Epoch: 82 , Average loss: 0.11599436\n",
      "Epoch: 83 , Average loss: 0.11078309\n",
      "Epoch: 84 , Average loss: 0.11192043\n",
      "Epoch: 85 , Average loss: 0.11110051\n",
      "Epoch: 86 , Average loss: 0.11139073\n",
      "Epoch: 87 , Average loss: 0.111679375\n",
      "Epoch: 88 , Average loss: 0.11647195\n",
      "Epoch: 89 , Average loss: 0.10825291\n",
      "Epoch: 90 , Average loss: 0.10703808\n",
      "Epoch: 91 , Average loss: 0.1084487\n",
      "Epoch: 92 , Average loss: 0.106949136\n",
      "Epoch: 93 , Average loss: 0.11125808\n",
      "Epoch: 94 , Average loss: 0.109019384\n",
      "Epoch: 95 , Average loss: 0.10863931\n",
      "Epoch: 96 , Average loss: 0.1077147\n",
      "Epoch: 97 , Average loss: 0.106884375\n",
      "Epoch: 98 , Average loss: 0.10811408\n",
      "Epoch: 99 , Average loss: 0.110130474\n",
      "Epoch: 100 , Average loss: 0.10814713\n",
      "start: 2019/09/17 14:44:18\n",
      "finish: 2019/09/17 15:53:46\n"
     ]
    },
    {
     "data": {
      "image/png": "[encoded data removed]",
      "text/plain": [
       "<matplotlib.figure.Figure at 0x7f5540a99240>"
      ]
     },
     "metadata": {},
     "output_type": "display_data"
    }
   ],
   "source": [
    "EPOCH = 100\n",
    "model = Generator(DATA_NUM_WAYPOINTS,DATA_NUM_STEP)\n",
    "start_time = '{0:%Y/%m/%d %H:%M:%S}'.format(datetime.datetime.now())\n",
    "model, fig = train(model,X_train,epoch=EPOCH)\n",
    "finish_time = '{0:%Y/%m/%d %H:%M:%S}'.format(datetime.datetime.now())\n",
    "print('start:',start_time)\n",
    "print('finish:',finish_time)"
   ]
  },
  {
   "cell_type": "code",
   "execution_count": 10,
   "metadata": {},
   "outputs": [],
   "source": [
    "# log\n",
    "def gen_filename():\n",
    "    name_date = '{0:%Y%m%d%H%M%S}'.format(datetime.datetime.now())\n",
    "    name_epoch = '{}epoch'.format(EPOCH)\n",
    "    name_datasize  = '{}data'.format(DATA_SIZE)\n",
    "    name_num_step = '{}step'.format(DATA_NUM_WAYPOINTS)\n",
    "    name_space = '{}mm'.format(int(DATA_M_PER_STEP * 1000))\n",
    "    fn = 'Cart' + name_space + name_num_step + '_' + name_date + '_'   + name_datasize + name_epoch\n",
    "    return fn\n",
    "dirname = gen_filename()\n",
    "os.mkdir(dirname)\n",
    "serializers.save_npz(dirname +'/'+ dirname+'.model', model)\n",
    "fig.savefig(dirname + '/' + 'loss.png')"
   ]
  },
  {
   "cell_type": "code",
   "execution_count": 11,
   "metadata": {},
   "outputs": [
    {
     "name": "stdout",
     "output_type": "stream",
     "text": [
      " --- input --- \n",
      "[[ 0.04867952  0.00985921 -1.17113633]\n",
      " [ 0.0896865   0.03788291 -0.77147633]\n",
      " [ 0.1165577   0.07965418 -0.37181633]\n",
      " [ 0.12505785  0.12858931  0.02784367]\n",
      " [ 0.11384722  0.17697548  0.42750367]\n",
      " [ 0.08469275  0.21718639  0.82716367]\n",
      " [ 0.04218957  0.24288425  1.22682367]\n",
      " [-0.00696324  0.25001875  1.62648367]\n",
      " [-0.05501855  0.23746539  2.02614367]\n",
      " [-0.09440221  0.20720274  2.42580367]]\n",
      " --- output --- \n",
      "[[[ 0.04347166  0.          0.65089095]\n",
      "  [ 0.06197787  0.          0.3670306 ]\n",
      "  [ 0.05171968  0.          0.36003625]\n",
      "  [ 0.05136223  0.          0.3861453 ]\n",
      "  [ 0.05099849  0.          0.41250002]\n",
      "  [ 0.05013778  0.          0.29334256]\n",
      "  [ 0.05152612  0.          0.5599159 ]\n",
      "  [ 0.05116908  0.          0.2675627 ]\n",
      "  [ 0.05023347  0.          0.4335057 ]\n",
      "  [ 0.04913635  0.         -0.20575894]]]\n",
      "[[ 37.293304  21.029305  20.628557  22.124496  23.63451   16.807291\n",
      "   32.08082   15.330213  24.838049 -11.789119]]\n",
      " --- error --- \n",
      "e_distance: variable(0.1052845)\n",
      "loss: variable(0.1052845)\n",
      " --- trajectory --- \n",
      "[[ 0.0000000e+00  0.0000000e+00  0.0000000e+00]\n",
      " [ 4.3471664e-02  0.0000000e+00  6.5089095e-01]\n",
      " [ 9.2777804e-02  3.7552115e-02  1.0179217e+00]\n",
      " [ 1.1993766e-01  8.1566527e-02  1.3779581e+00]\n",
      " [ 1.2978099e-01  1.3197672e-01  1.7641032e+00]\n",
      " [ 1.1998392e-01  1.8202534e-01  2.1766036e+00]\n",
      " [ 9.1434173e-02  2.2324073e-01  2.4699461e+00]\n",
      " [ 5.1099621e-02  2.5530419e-01  3.0298617e+00]\n",
      " [ 2.4959818e-04  2.6100948e-01 -2.9857609e+00]\n",
      " [-4.9375184e-02  2.5321317e-01 -2.5522552e+00]\n",
      " [-9.0222672e-02  2.2590268e-01 -2.7580142e+00]]\n",
      "(10, 3)\n"
     ]
    },
    {
     "data": {
      "image/png": "[encoded data removed]",
      "text/plain": [
       "<matplotlib.figure.Figure at 0x7f55b08f7f28>"
      ]
     },
     "metadata": {},
     "output_type": "display_data"
    },
    {
     "name": "stdout",
     "output_type": "stream",
     "text": [
      " --- grad --- \n",
      "variable([[[ 5.4134474  -1.033389  ]\n",
      "           [ 8.215611   -1.1004275 ]\n",
      "           [ 7.624966   -1.0468221 ]\n",
      "           [ 6.120824   -0.8980512 ]\n",
      "           [ 4.163413   -0.6900276 ]\n",
      "           [ 2.0962653  -0.4689495 ]\n",
      "           [ 0.89833695 -0.2710287 ]\n",
      "           [-0.79026216 -0.12472177]\n",
      "           [-0.84631324 -0.03390686]\n",
      "           [-0.72375536  0.        ]]])\n"
     ]
    }
   ],
   "source": [
    "rand_rad = xp.random.rand()*(2*DATA_RAD_PER_STEP)-DATA_RAD_PER_STEP # -36 ~ 36 m/step\n",
    "x_test = data.generate_arc_path(DATA_NUM_STEP,rand_rad,DATA_M_PER_STEP)\n",
    "x = xp.ravel(x_test[:,0:2])\n",
    "x = Variable(xp.array([x],dtype=xp.float32))\n",
    "y = model(x)\n",
    "# zero-padding\n",
    "pad = Variable(xp.zeros((1,DATA_NUM_WAYPOINTS,1),dtype=xp.float32))\n",
    "y_pad = F.concat((y,pad),axis=2)\n",
    "y_pad = F.permutate(y_pad, xp.array([0,2,1],'i'), axis=2)\n",
    "print(' --- input --- ')\n",
    "print(x_test)\n",
    "print(' --- output --- ')\n",
    "print(y_pad.data)\n",
    "print(xp.rad2deg(y_pad.data[:,:,2]))\n",
    "# loss\n",
    "z_true = x_test\n",
    "z = y_pad[0,0]\n",
    "print(' --- error --- ')\n",
    "Z = xp.array([([0,0,0]),(z.data)],dtype='float32')\n",
    "for step in range(1,DATA_NUM_STEP):\n",
    "    z = oplus(z,y_pad[0,step])\n",
    "    Z = xp.vstack((Z,z.data))\n",
    "loss = loss_function(y_pad, x_test, dmesg=1)\n",
    "print('loss:',loss)\n",
    "print(' --- trajectory --- ')\n",
    "print(Z)\n",
    "print(z_true.shape)\n",
    "fig = plot_path(Z,z_true,[-.5,1],[-.5,.5])\n",
    "print(' --- grad --- ')\n",
    "loss.backward()\n",
    "y_grad = chainer.grad( (loss,), (y,) )[0]\n",
    "print(y_grad)"
   ]
  },
  {
   "cell_type": "code",
   "execution_count": 12,
   "metadata": {},
   "outputs": [
    {
     "name": "stdout",
     "output_type": "stream",
     "text": [
      " --- input --- \n",
      "[[ 0.04986718  0.0031533  -1.44449633]\n",
      " [ 0.09893994  0.01256299 -1.31819633]\n",
      " [ 0.14643655  0.02807914 -1.19189633]\n",
      " [ 0.19160034  0.04945459 -1.06559633]\n",
      " [ 0.23371185  0.07634882 -0.93929633]\n",
      " [ 0.27210021  0.10833338 -0.81299633]\n",
      " [ 0.30615388  0.14489875 -0.68669633]\n",
      " [ 0.33533037  0.18546241 -0.56039633]\n",
      " [ 0.35916488  0.22937818 -0.43409633]\n",
      " [ 0.37727771  0.27594645 -0.30779633]]\n",
      " --- output --- \n",
      "[[[ 0.04794681  0.          0.2154727 ]\n",
      "  [ 0.05689987  0.          0.1017653 ]\n",
      "  [ 0.05159214  0.          0.1054515 ]\n",
      "  [ 0.0507933   0.          0.13090813]\n",
      "  [ 0.05001882  0.          0.13161181]\n",
      "  [ 0.04985468  0.          0.09057171]\n",
      "  [ 0.05056988  0.          0.17111242]\n",
      "  [ 0.05085038  0.          0.08284101]\n",
      "  [ 0.04978386  0.          0.13565142]\n",
      "  [ 0.04951827  0.         -0.11977162]]]\n",
      " --- error --- \n",
      "loss: variable(0.00369204)\n",
      "loss: variable(0.00460811)\n",
      "loss: variable(0.00611473)\n",
      "loss: variable(0.00728005)\n",
      "loss: variable(0.00776664)\n",
      "loss: variable(0.00804218)\n",
      "loss: variable(0.01028719)\n",
      "loss: variable(0.01065799)\n",
      "loss: variable(0.0126845)\n",
      "loss: variable(0.01433388)\n",
      " --- trajectory --- \n",
      "[[0.         0.         0.        ]\n",
      " [0.04794681 0.         0.2154727 ]\n",
      " [0.10353089 0.01216572 0.3172381 ]\n",
      " [0.15254861 0.02825956 0.42268968]\n",
      " [0.19887154 0.04909572 0.5535977 ]\n",
      " [0.24141948 0.07539317 0.6852095 ]\n",
      " [0.28002128 0.10694297 0.77578115]\n",
      " [0.31612182 0.14235574 0.94689345]\n",
      " [0.34582898 0.18362615 1.0297344 ]\n",
      " [0.37146997 0.22629899 1.165386  ]\n",
      " [0.39099976 0.27180335 1.0456145 ]]\n",
      "(10, 3)\n"
     ]
    },
    {
     "data": {
      "image/png": "[encoded data removed]",
      "text/plain": [
       "<matplotlib.figure.Figure at 0x7f550a72e1d0>"
      ]
     },
     "metadata": {},
     "output_type": "display_data"
    },
    {
     "name": "stdout",
     "output_type": "stream",
     "text": [
      " --- input --- \n",
      "[[ 4.83146264e-02 -1.11093939e-02 -2.02281633e+00]\n",
      " [ 8.69244518e-02 -4.22060679e-02 -2.47483633e+00]\n",
      " [ 1.08074047e-01 -8.70437350e-02 -2.92685633e+00]\n",
      " [ 1.07515162e-01 -1.36615999e-01 -3.37887633e+00]\n",
      " [ 8.53600577e-02 -1.80965443e-01 -3.83089633e+00]\n",
      " [ 4.60589581e-02 -2.11183737e-01 -4.28291633e+00]\n",
      " [-2.49385381e-03 -2.21201033e-01 -4.73493633e+00]\n",
      " [-5.05457335e-02 -2.09005189e-01 -5.18695633e+00]\n",
      " [-8.84446569e-02 -1.77045943e-01 -5.63897633e+00]\n",
      " [-1.08577991e-01 -1.31742846e-01 -6.09099633e+00]]\n",
      " --- output --- \n",
      "[[[ 0.07819466  0.          0.91314983]\n",
      "  [ 0.00511437  0.          0.98830485]\n",
      "  [-0.09667766  0.         -0.22300783]\n",
      "  [-0.05242981  0.         -0.55861336]\n",
      "  [-0.05376023  0.         -0.83352065]\n",
      "  [-0.07136704  0.          0.9208566 ]\n",
      "  [-0.05121779  0.          0.9993271 ]\n",
      "  [ 0.05466766  0.          0.6191261 ]\n",
      "  [ 0.0615809   0.         -0.7420106 ]\n",
      "  [ 0.04893401  0.          0.02709467]]]\n",
      " --- error --- \n",
      "loss: variable(0.03187844)\n",
      "loss: variable(0.04659195)\n",
      "loss: variable(0.00464786)\n",
      "loss: variable(0.0112093)\n",
      "loss: variable(0.01180621)\n",
      "loss: variable(0.01985644)\n",
      "loss: variable(0.03634693)\n",
      "loss: variable(0.02648375)\n",
      "loss: variable(0.0167536)\n",
      "loss: variable(0.01851131)\n",
      " --- trajectory --- \n",
      "[[ 0.          0.          0.        ]\n",
      " [ 0.07819466  0.          0.91314983]\n",
      " [ 0.08132084  0.00404768  1.9014547 ]\n",
      " [ 0.11270878 -0.08739283  1.678447  ]\n",
      " [ 0.11834199 -0.13951914  1.1198337 ]\n",
      " [ 0.09491155 -0.18790485  0.28631306]\n",
      " [ 0.02644975 -0.20806013  1.2071698 ]\n",
      " [ 0.00823332 -0.25592893  2.206497  ]\n",
      " [-0.02422513 -0.21194027  2.8256228 ]\n",
      " [-0.0827575  -0.19280472  2.0836122 ]\n",
      " [-0.10676613 -0.15016527  2.1107066 ]]\n",
      "(10, 3)\n"
     ]
    },
    {
     "data": {
      "image/png": "[encoded data removed]",
      "text/plain": [
       "<matplotlib.figure.Figure at 0x7f550a72e470>"
      ]
     },
     "metadata": {},
     "output_type": "display_data"
    },
    {
     "name": "stdout",
     "output_type": "stream",
     "text": [
      " --- input --- \n",
      "[[ 0.04941003  0.00662439 -1.30424633]\n",
      " [ 0.09533026  0.02602968 -1.03769633]\n",
      " [ 0.13451739  0.05684529 -0.77114633]\n",
      " [ 0.16420366  0.09689474 -0.50459633]\n",
      " [ 0.18229235  0.14334937 -0.23804633]\n",
      " [ 0.18750587  0.19292812  0.02850367]\n",
      " [ 0.179476    0.24212928  0.29505367]\n",
      " [ 0.15876987  0.28747782  0.56160367]\n",
      " [ 0.12684995  0.32577079  0.82815367]\n",
      " [ 0.08597071  0.3543036   1.09470367]]\n",
      " --- output --- \n",
      "[[[ 0.04577329  0.          0.45414925]\n",
      "  [ 0.05936683  0.          0.23504075]\n",
      "  [ 0.05165409  0.          0.23315173]\n",
      "  [ 0.05106965  0.          0.2594624 ]\n",
      "  [ 0.0504947   0.          0.2739524 ]\n",
      "  [ 0.0499922   0.          0.19112532]\n",
      "  [ 0.05103437  0.          0.37669453]\n",
      "  [ 0.05100518  0.          0.17411464]\n",
      "  [ 0.05000225  0.          0.28734964]\n",
      "  [ 0.04933276  0.         -0.16184752]]]\n",
      " --- error --- \n",
      "loss: variable(0.00755701)\n",
      "loss: variable(0.00379214)\n",
      "loss: variable(0.00491577)\n",
      "loss: variable(0.00624148)\n",
      "loss: variable(0.00731776)\n",
      "loss: variable(0.00783238)\n",
      "loss: variable(0.01231191)\n",
      "loss: variable(0.01108179)\n",
      "loss: variable(0.01442082)\n",
      "loss: variable(0.01678563)\n",
      " --- trajectory --- \n",
      "[[0.         0.         0.        ]\n",
      " [0.04577329 0.         0.45414925]\n",
      " [0.09912238 0.02604411 0.68919015]\n",
      " [0.138987   0.05889158 0.92234206]\n",
      " [0.16983078 0.09959503 1.1818044 ]\n",
      " [0.18898119 0.14631736 1.4557569 ]\n",
      " [0.19471958 0.19597912 1.6468823 ]\n",
      " [0.19084033 0.24686584 2.023577  ]\n",
      " [0.16852722 0.29273143 2.1976917 ]\n",
      " [0.13919424 0.3332259  2.4850414 ]\n",
      " [0.10011765 0.36333805 2.3231938 ]]\n",
      "(10, 3)\n"
     ]
    },
    {
     "data": {
      "image/png": "[encoded data removed]",
      "text/plain": [
       "<matplotlib.figure.Figure at 0x7f550a778c18>"
      ]
     },
     "metadata": {},
     "output_type": "display_data"
    },
    {
     "name": "stdout",
     "output_type": "stream",
     "text": [
      " --- input --- \n",
      "[[ 4.99996101e-02  1.70999333e-04 -1.56395633e+00]\n",
      " [ 9.99968810e-02  6.83989333e-04 -1.55711633e+00]\n",
      " [ 1.49989473e-01  1.53894600e-03 -1.55027633e+00]\n",
      " [ 1.99975049e-01  2.73582933e-03 -1.54343633e+00]\n",
      " [ 2.49951268e-01  4.27458333e-03 -1.53659633e+00]\n",
      " [ 2.99915793e-01  6.15513601e-03 -1.52975633e+00]\n",
      " [ 3.49866286e-01  8.37739939e-03 -1.52291633e+00]\n",
      " [ 3.99800411e-01  1.09412695e-02 -1.51607633e+00]\n",
      " [ 4.49715831e-01  1.38466264e-02 -1.50923633e+00]\n",
      " [ 4.99610211e-01  1.70933341e-02 -1.50239633e+00]]\n",
      " --- output --- \n",
      "[[[ 0.04967397  0.          0.00350533]\n",
      "  [ 0.05493865  0.         -0.00708517]\n",
      "  [ 0.0515429   0.          0.00119093]\n",
      "  [ 0.05057365  0.          0.0252609 ]\n",
      "  [ 0.04964058  0.          0.01415164]\n",
      "  [ 0.04974538  0.          0.00920763]\n",
      "  [ 0.05020069  0.         -0.00473585]\n",
      "  [ 0.05072733  0.          0.00921429]\n",
      "  [ 0.04961027  0.          0.0099757 ]\n",
      "  [ 0.04966572  0.         -0.08601265]]]\n",
      " --- error --- \n",
      "loss: variable(0.00036781)\n",
      "loss: variable(0.00464149)\n",
      "loss: variable(0.00635259)\n",
      "loss: variable(0.00732949)\n",
      "loss: variable(0.00718301)\n",
      "loss: variable(0.00697658)\n",
      "loss: variable(0.00710602)\n",
      "loss: variable(0.00798248)\n",
      "loss: variable(0.00785027)\n",
      "loss: variable(0.00770543)\n",
      " --- trajectory --- \n",
      "[[ 0.0000000e+00  0.0000000e+00  0.0000000e+00]\n",
      " [ 4.9673971e-02  0.0000000e+00  3.5053347e-03]\n",
      " [ 1.0461228e-01  1.9257797e-04 -3.5798550e-03]\n",
      " [ 1.5615484e-01  8.0622704e-06 -2.3889542e-03]\n",
      " [ 2.0672834e-01 -1.1275573e-04  2.2871971e-02]\n",
      " [ 2.5635594e-01  1.0225233e-03  3.7023544e-02]\n",
      " [ 3.0606723e-01  2.8638530e-03  4.6231270e-02]\n",
      " [ 3.5621428e-01  5.1838681e-03  4.1495323e-02]\n",
      " [ 4.0689796e-01  7.2882110e-03  5.0709724e-02]\n",
      " [ 4.5644447e-01  9.8028565e-03  6.0685396e-02]\n",
      " [ 5.0601876e-01  1.2814991e-02 -2.5327206e-02]]\n",
      "(10, 3)\n"
     ]
    },
    {
     "data": {
      "image/png": "[encoded data removed]",
      "text/plain": [
       "<matplotlib.figure.Figure at 0x7f550a7c4518>"
      ]
     },
     "metadata": {},
     "output_type": "display_data"
    },
    {
     "name": "stdout",
     "output_type": "stream",
     "text": [
      " --- input --- \n",
      "[[ 0.0472703   0.01403196 -0.99367633]\n",
      " [ 0.07922856  0.05158254 -0.41655633]\n",
      " [ 0.08552271  0.10048817  0.16056367]\n",
      " [ 0.06411391  0.14490709  0.73768367]\n",
      " [ 0.02193702  0.1704509   1.31480367]\n",
      " [-0.02734583  0.16884532  1.89192367]\n",
      " [-0.06777068  0.14061044  2.46904367]\n",
      " [-0.08624291  0.09489224  3.04616367]\n",
      " [-0.0767789   0.0465      3.62328367]\n",
      " [-0.04244429  0.01110916  4.20040367]]\n",
      " --- output --- \n",
      "[[[ 0.03945521  0.          0.85579324]\n",
      "  [ 0.06653099  0.          0.56406003]\n",
      "  [ 0.05183412  0.          0.5512218 ]\n",
      "  [ 0.05187263  0.          0.5747051 ]\n",
      "  [ 0.05187734  0.          0.6127856 ]\n",
      "  [ 0.05039176  0.          0.4557077 ]\n",
      "  [ 0.05238396  0.          0.7799793 ]\n",
      "  [ 0.05145501  0.          0.4184244 ]\n",
      "  [ 0.05063684  0.          0.6400271 ]\n",
      "  [ 0.04879368  0.         -0.28032896]]]\n",
      " --- error --- \n",
      "loss: variable(0.01606149)\n",
      "loss: variable(0.00407429)\n",
      "loss: variable(0.00543739)\n",
      "loss: variable(0.00785378)\n",
      "loss: variable(0.00980104)\n",
      "loss: variable(0.00984792)\n",
      "loss: variable(0.01314198)\n",
      "loss: variable(0.00993252)\n",
      "loss: variable(0.00866895)\n",
      "loss: variable(0.00881466)\n",
      " --- trajectory --- \n",
      "[[ 0.          0.          0.        ]\n",
      " [ 0.03945521  0.          0.85579324]\n",
      " [ 0.08307424  0.05023696  1.4198534 ]\n",
      " [ 0.09086856  0.10148171  1.9710753 ]\n",
      " [ 0.07065507  0.14925393  2.5457804 ]\n",
      " [ 0.02771656  0.17836653 -3.1246197 ]\n",
      " [-0.02266794  0.17751127 -2.668912  ]\n",
      " [-0.06930805  0.15366219 -1.8889327 ]\n",
      " [-0.08540303  0.10478919 -1.4705083 ]\n",
      " [-0.08033327  0.05440678 -0.8304813 ]\n",
      " [-0.04742093  0.01838455 -1.1108103 ]]\n",
      "(10, 3)\n"
     ]
    },
    {
     "data": {
      "image/png": "[encoded data removed]",
      "text/plain": [
       "<matplotlib.figure.Figure at 0x7f550a7f0080>"
      ]
     },
     "metadata": {},
     "output_type": "display_data"
    },
    {
     "name": "stdout",
     "output_type": "stream",
     "text": [
      " --- input --- \n",
      "[[ 4.99360474e-02 -2.18909894e-03 -1.65841633e+00]\n",
      " [ 9.94889677e-02 -8.73960021e-03 -1.74603633e+00]\n",
      " [ 1.48278573e-01 -1.96012461e-02 -1.83365633e+00]\n",
      " [ 1.95930533e-01 -3.46907021e-02 -1.92127633e+00]\n",
      " [ 2.42079245e-01 -5.38921966e-02 -2.00889633e+00]\n",
      " [ 2.86370639e-01 -7.70584090e-02 -2.09651633e+00]\n",
      " [ 3.28464896e-01 -1.04011600e-01 -2.18413633e+00]\n",
      " [ 3.68039054e-01 -1.34544975e-01 -2.27175633e+00]\n",
      " [ 4.04789487e-01 -1.68424271e-01 -2.35937633e+00]\n",
      " [ 4.38434231e-01 -2.05389555e-01 -2.44699633e+00]]\n",
      " --- output --- \n",
      "[[[ 0.05108069  0.         -0.1702801 ]\n",
      "  [ 0.05334076  0.         -0.09574728]\n",
      "  [ 0.05150279  0.         -0.08386149]\n",
      "  [ 0.05039472  0.         -0.06132656]\n",
      "  [ 0.04933247  0.         -0.08196931]\n",
      "  [ 0.04965635  0.         -0.05721018]\n",
      "  [ 0.04989994  0.         -0.14826342]\n",
      "  [ 0.0506271   0.         -0.05087162]\n",
      "  [ 0.04946887  0.         -0.09281494]\n",
      "  [ 0.04978582  0.         -0.05836267]]]\n",
      " --- error --- \n",
      "loss: variable(0.00247029)\n",
      "loss: variable(0.00417179)\n",
      "loss: variable(0.00587338)\n",
      "loss: variable(0.00701722)\n",
      "loss: variable(0.00684785)\n",
      "loss: variable(0.00685459)\n",
      "loss: variable(0.00636136)\n",
      "loss: variable(0.00776073)\n",
      "loss: variable(0.00740858)\n",
      "loss: variable(0.00744363)\n",
      " --- trajectory --- \n",
      "[[ 0.          0.          0.        ]\n",
      " [ 0.05108069  0.         -0.1702801 ]\n",
      " [ 0.10365    -0.00903904 -0.26602745]\n",
      " [ 0.15334105 -0.02257916 -0.34988904]\n",
      " [ 0.2006824  -0.03985415 -0.41121554]\n",
      " [ 0.2459023  -0.05957351 -0.4931848 ]\n",
      " [ 0.28964108 -0.0830825  -0.550395  ]\n",
      " [ 0.3321717  -0.10918136 -0.69865847]\n",
      " [ 0.37093717 -0.14174426 -0.7495301 ]\n",
      " [ 0.40714884 -0.17544714 -0.842345  ]\n",
      " [ 0.440292   -0.21259764 -0.9007077 ]]\n",
      "(10, 3)\n"
     ]
    },
    {
     "data": {
      "image/png": "[encoded data removed]",
      "text/plain": [
       "<matplotlib.figure.Figure at 0x7f553021aa90>"
      ]
     },
     "metadata": {},
     "output_type": "display_data"
    },
    {
     "name": "stdout",
     "output_type": "stream",
     "text": [
      " --- input --- \n",
      "[[ 0.04887678 -0.00910582 -1.93917633]\n",
      " [ 0.09119547 -0.03520151 -2.30755633]\n",
      " [ 0.1212779  -0.07478564 -2.67593633]\n",
      " [ 0.13508773 -0.12254696 -3.04431633]\n",
      " [ 0.13077202 -0.17207706 -3.41269633]\n",
      " [ 0.10890982 -0.21673017 -3.78107633]\n",
      " [ 0.07243453 -0.25051491 -4.14945633]\n",
      " [ 0.02624025 -0.26889818 -4.51783633]\n",
      " [-0.02347485 -0.26941338 -4.88621633]\n",
      " [-0.07004018 -0.25199138 -5.25459633]]\n",
      " --- output --- \n",
      "[[[ 0.05374582  0.         -0.2177151 ]\n",
      "  [ 0.09772319  0.          0.8988996 ]\n",
      "  [-0.08678421  0.         -0.54946774]\n",
      "  [ 0.01673293  0.         -0.47808453]\n",
      "  [-0.01883948  0.         -0.7674589 ]\n",
      "  [ 0.09355327  0.          0.66301405]\n",
      "  [-0.02797773  0.          0.8951021 ]\n",
      "  [-0.00561724  0.          0.8610591 ]\n",
      "  [-0.00444173  0.          0.7326181 ]\n",
      "  [ 0.00212556  0.          0.06178885]]]\n",
      " --- error --- \n",
      "loss: variable(0.01032587)\n",
      "loss: variable(0.0596553)\n",
      "loss: variable(0.03954406)\n",
      "loss: variable(0.0612422)\n",
      "loss: variable(0.116287)\n",
      "loss: variable(0.06688402)\n",
      "loss: variable(0.11419646)\n",
      "loss: variable(0.14334287)\n",
      "loss: variable(0.16824535)\n",
      "loss: variable(0.19281614)\n",
      " --- trajectory --- \n",
      "[[ 0.          0.          0.        ]\n",
      " [ 0.05374582  0.         -0.2177151 ]\n",
      " [ 0.14916211 -0.02110813  0.68118453]\n",
      " [ 0.08174577 -0.07575733  0.13171673]\n",
      " [ 0.09833376 -0.07355969 -0.34636784]\n",
      " [ 0.08061312 -0.067164   -1.1138268 ]\n",
      " [ 0.12189169 -0.15111811 -0.45081258]\n",
      " [ 0.09670912 -0.1389283   0.44428945]\n",
      " [ 0.09163723 -0.14134267  1.3053486 ]\n",
      " [ 0.09047198 -0.14562882  2.037967  ]\n",
      " [ 0.08951471 -0.14373103  2.0997555 ]]\n",
      "(10, 3)\n"
     ]
    },
    {
     "data": {
      "image/png": "[encoded data removed]",
      "text/plain": [
       "<matplotlib.figure.Figure at 0x7f553026ff60>"
      ]
     },
     "metadata": {},
     "output_type": "display_data"
    },
    {
     "name": "stdout",
     "output_type": "stream",
     "text": [
      " --- input --- \n",
      "[[ 0.04856026  0.01028605 -1.15332633]\n",
      " [ 0.08877958  0.03937742 -0.73585633]\n",
      " [ 0.11374971  0.08227724 -0.31838633]\n",
      " [ 0.11918165  0.13161684  0.09908367]\n",
      " [ 0.10414239  0.17892141  0.51655367]\n",
      " [ 0.07121514  0.2160657   0.93402367]\n",
      " [ 0.02605565  0.23666963  1.35149367]\n",
      " [-0.02357928  0.23719417  1.76896367]\n",
      " [-0.06916413  0.21754923  2.18643367]\n",
      " [-0.10286902  0.18110911  2.60390367]]\n",
      " --- output --- \n",
      "[[[ 0.04321802  0.          0.66873926]\n",
      "  [ 0.06226552  0.          0.3808178 ]\n",
      "  [ 0.05172691  0.          0.37333146]\n",
      "  [ 0.05139447  0.          0.39935282]\n",
      "  [ 0.051054    0.          0.42679662]\n",
      "  [ 0.05015382  0.          0.30425188]\n",
      "  [ 0.05158031  0.          0.5775449 ]\n",
      "  [ 0.05118715  0.          0.27759224]\n",
      "  [ 0.05025895  0.          0.44846368]\n",
      "  [ 0.04911471  0.         -0.21055053]]]\n",
      " --- error --- \n",
      "loss: variable(0.01159061)\n",
      "loss: variable(0.00338174)\n",
      "loss: variable(0.00424838)\n",
      "loss: variable(0.00677392)\n",
      "loss: variable(0.00982387)\n",
      "loss: variable(0.0120699)\n",
      "loss: variable(0.01918753)\n",
      "loss: variable(0.018257)\n",
      "loss: variable(0.02257084)\n",
      "loss: variable(0.02578725)\n",
      " --- trajectory --- \n",
      "[[ 0.          0.          0.        ]\n",
      " [ 0.04321802  0.          0.66873926]\n",
      " [ 0.0920718   0.03860446  1.049557  ]\n",
      " [ 0.11782949  0.08346218  1.4228885 ]\n",
      " [ 0.12540345  0.1342955   1.8222411 ]\n",
      " [ 0.11270104  0.18374404  2.249038  ]\n",
      " [ 0.08123328  0.22279768  2.5532897 ]\n",
      " [ 0.03832447  0.25142217  3.1308348 ]\n",
      " [-0.01285972  0.25197282 -2.8747585 ]\n",
      " [-0.06134003  0.2387206  -2.4262948 ]\n",
      " [-0.09841662  0.20650908 -2.6368454 ]]\n",
      "(10, 3)\n"
     ]
    },
    {
     "data": {
      "image/png": "[encoded data removed]",
      "text/plain": [
       "<matplotlib.figure.Figure at 0x7f553a576c50>"
      ]
     },
     "metadata": {},
     "output_type": "display_data"
    },
    {
     "name": "stdout",
     "output_type": "stream",
     "text": [
      " --- input --- \n",
      "[[ 0.04995801  0.001774   -1.49980633]\n",
      " [ 0.09966437  0.00708708 -1.42881633]\n",
      " [ 0.14886866  0.01591247 -1.35782633]\n",
      " [ 0.19732304  0.02820571 -1.28683633]\n",
      " [ 0.24478341  0.04390487 -1.21584633]\n",
      " [ 0.29101069  0.06293087 -1.14485633]\n",
      " [ 0.33577201  0.08518787 -1.07386633]\n",
      " [ 0.3788419   0.11056375 -1.00287633]\n",
      " [ 0.42000338  0.13893068 -0.93188633]\n",
      " [ 0.45904911  0.17014576 -0.86089633]]\n",
      " --- output --- \n",
      "[[[ 0.04875295  0.          0.11782259]\n",
      "  [ 0.05598458  0.          0.05110627]\n",
      "  [ 0.05156916  0.          0.05693898]\n",
      "  [ 0.05069078  0.          0.08182234]\n",
      "  [ 0.04984229  0.          0.0770475 ]\n",
      "  [ 0.04980367  0.          0.05268131]\n",
      "  [ 0.05039757  0.          0.0897049 ]\n",
      "  [ 0.05079295  0.          0.04854121]\n",
      "  [ 0.04970284  0.          0.07729015]\n",
      "  [ 0.04958709  0.         -0.10404518]]]\n",
      " --- error --- \n",
      "loss: variable(0.00214459)\n",
      "loss: variable(0.00471228)\n",
      "loss: variable(0.00635034)\n",
      "loss: variable(0.00743928)\n",
      "loss: variable(0.00763167)\n",
      "loss: variable(0.007674)\n",
      "loss: variable(0.00883358)\n",
      "loss: variable(0.00953993)\n",
      "loss: variable(0.0105398)\n",
      "loss: variable(0.01135087)\n",
      " --- trajectory --- \n",
      "[[0.         0.         0.        ]\n",
      " [0.04875295 0.         0.11782259]\n",
      " [0.10434939 0.006581   0.16892886]\n",
      " [0.15518448 0.01525114 0.22586775]\n",
      " [0.20458773 0.02660345 0.30769014]\n",
      " [0.2520892  0.04169859 0.38473773]\n",
      " [0.29825208 0.06039071 0.43741918]\n",
      " [0.3439046  0.08173928 0.52712417]\n",
      " [0.38780278 0.10729067 0.57566524]\n",
      " [0.42949504 0.13434854 0.6529553 ]\n",
      " [0.46888167 0.1644745  0.54891014]]\n",
      "(10, 3)\n"
     ]
    },
    {
     "data": {
      "image/png": "[encoded data removed]",
      "text/plain": [
       "<matplotlib.figure.Figure at 0x7f5530171668>"
      ]
     },
     "metadata": {},
     "output_type": "display_data"
    },
    {
     "name": "stdout",
     "output_type": "stream",
     "text": [
      " --- input --- \n",
      "[[ 0.04937757  0.00680259 -1.29698633]\n",
      " [ 0.09507628  0.02670353 -1.02317633]\n",
      " [ 0.13369137  0.05822012 -0.74936633]\n",
      " [ 0.16234582  0.09900422 -0.47555633]\n",
      " [ 0.17890474  0.14601721 -0.20174633]\n",
      " [ 0.18213442  0.19575642  0.07206367]\n",
      " [ 0.17179424  0.24451604  0.34587367]\n",
      " [ 0.14865458  0.28866325  0.61968367]\n",
      " [ 0.11443946  0.32490887  0.89349367]\n",
      " [ 0.07169806  0.35055244  1.16730367]]\n",
      " --- output --- \n",
      "[[[ 0.04565004  0.          0.46626094]\n",
      "  [ 0.05950668  0.          0.24238738]\n",
      "  [ 0.05165761  0.          0.24019955]\n",
      "  [ 0.05108532  0.          0.26652774]\n",
      "  [ 0.05052168  0.          0.2817356 ]\n",
      "  [ 0.04999999  0.          0.1967286 ]\n",
      "  [ 0.05106071  0.          0.38751137]\n",
      "  [ 0.05101396  0.          0.17921634]\n",
      "  [ 0.05001464  0.          0.2956085 ]\n",
      "  [ 0.04932224  0.         -0.16421719]]]\n",
      " --- error --- \n",
      "loss: variable(0.00775691)\n",
      "loss: variable(0.00372873)\n",
      "loss: variable(0.00483808)\n",
      "loss: variable(0.00616042)\n",
      "loss: variable(0.00722965)\n",
      "loss: variable(0.00768967)\n",
      "loss: variable(0.01219046)\n",
      "loss: variable(0.01079035)\n",
      "loss: variable(0.01406606)\n",
      "loss: variable(0.01632782)\n",
      " --- trajectory --- \n",
      "[[0.         0.         0.        ]\n",
      " [0.04565004 0.         0.46626094]\n",
      " [0.09880471 0.0267512  0.70864844]\n",
      " [0.13802534 0.06037039 0.948848  ]\n",
      " [0.16778865 0.10188973 1.2153757 ]\n",
      " [0.18536943 0.14925382 1.4971116 ]\n",
      " [0.18905033 0.19911814 1.6938403 ]\n",
      " [0.18278345 0.24979281 2.0813515 ]\n",
      " [0.15785488 0.29430115 2.260568  ]\n",
      " [0.12602752 0.33288202 2.5561764 ]\n",
      " [0.08491832 0.36013484 2.3919594 ]]\n",
      "(10, 3)\n"
     ]
    },
    {
     "data": {
      "image/png": "[encoded data removed]",
      "text/plain": [
       "<matplotlib.figure.Figure at 0x7f553006fcf8>"
      ]
     },
     "metadata": {},
     "output_type": "display_data"
    }
   ],
   "source": [
    "for i in range(10):\n",
    "    rand_rad = xp.random.rand()*(2*DATA_RAD_PER_STEP)-DATA_RAD_PER_STEP # -36 ~ 36 m/step\n",
    "    x_test = data.generate_arc_path(DATA_NUM_STEP,rand_rad,DATA_M_PER_STEP)\n",
    "    x = xp.ravel(x_test[:,0:2])\n",
    "    x = Variable(xp.array([x],dtype=xp.float32))\n",
    "    y = model(x)\n",
    "    # zero-padding\n",
    "    pad = Variable(xp.zeros((1,DATA_NUM_WAYPOINTS,1),dtype=xp.float32))\n",
    "    y_pad = F.concat((y,pad),axis=2)\n",
    "    y_pad = F.permutate(y_pad, xp.array([0,2,1],'i'), axis=2)\n",
    "    print(' --- input --- ')\n",
    "    print(x_test)\n",
    "    print(' --- output --- ')\n",
    "    print(y_pad.data)\n",
    "    # loss\n",
    "    z_true = x_test\n",
    "    z = y_pad[0,0]\n",
    "    e = error_squares(z,z_true[0])\n",
    "    print(' --- error --- ')\n",
    "    print('loss:',e)\n",
    "    Z = xp.array([([0,0,0]),(z.data)],dtype='float32')\n",
    "    for step in range(1,DATA_NUM_STEP):\n",
    "        z = oplus(z,y_pad[0,step])\n",
    "        e = error_squares(z,z_true[step])\n",
    "        print('loss:',e)\n",
    "        Z = xp.vstack((Z,z.data))\n",
    "    print(' --- trajectory --- ')\n",
    "    print(Z)\n",
    "    print(z_true.shape)\n",
    "    fig = plot_path(Z,z_true,[-.5,1],[-.5,.5])\n",
    "    fig.savefig(dirname + '/test' + str(i) + '.png')"
   ]
  }
 ],
 "metadata": {
  "kernelspec": {
   "display_name": "Python 3",
   "language": "python",
   "name": "python3"
  },
  "language_info": {
   "codemirror_mode": {
    "name": "ipython",
    "version": 3
   },
   "file_extension": ".py",
   "mimetype": "text/x-python",
   "name": "python",
   "nbconvert_exporter": "python",
   "pygments_lexer": "ipython3",
   "version": "3.5.2"
  }
 },
 "nbformat": 4,
 "nbformat_minor": 2
}
