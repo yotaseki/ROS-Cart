{
 "cells": [
  {
   "cell_type": "code",
   "execution_count": 1,
   "metadata": {},
   "outputs": [],
   "source": [
    "import chainer\n",
    "from chainer import Link, Chain, ChainList, Variable, optimizers, iterators\n",
    "import chainer.functions as F\n",
    "import chainer.links as L\n",
    "from chainer import cuda\n",
    "from chainer import initializers\n",
    "from chainer import serializers\n",
    "\n",
    "import os\n",
    "import time, datetime\n",
    "import numpy as np\n",
    "import random\n",
    "import matplotlib.pyplot as plt\n",
    "%matplotlib inline\n",
    "import coordinate\n",
    "import data\n",
    "from model import oplus, Generator\n",
    "import xp_settings as settings\n",
    "settings.set_gpu(0)\n",
    "xp = settings.xp\n"
   ]
  },
  {
   "cell_type": "code",
   "execution_count": 2,
   "metadata": {},
   "outputs": [],
   "source": [
    "def plot_path(cart_path,target):\n",
    "    fig = plt.figure()\n",
    "    path = cart_path\n",
    "    target = target\n",
    "    if(settings.gpu_index >= 0):\n",
    "        path = xp.asnumpy(path)\n",
    "        target = xp.asnumpy(target)\n",
    "    plt.scatter(target[:,0],target[:,1],c=\"red\",s=80,marker=\"o\")\n",
    "    for i in range(1,len(path)):\n",
    "        plt.quiver(path[i-1,0],path[i-1,1]\n",
    "                   , path[i,0]-path[i-1,0],path[i,1]-path[i-1,1]\n",
    "                   , scale_units='xy', angles='xy', scale=1,color=\"blue\")\n",
    "    num_step = len(target)\n",
    "    #plt.scatter(t[num_step-1,0],t[num_step-1,1],c=\"yellow\",s=500,marker=\"*\")\n",
    "    plt.xlabel(\"x[m]\")\n",
    "    plt.ylabel(\"y[m]\")\n",
    "    plt.axis('scaled')\n",
    "    plt.grid()\n",
    "    plt.show()\n",
    "    return fig"
   ]
  },
  {
   "cell_type": "code",
   "execution_count": 3,
   "metadata": {},
   "outputs": [
    {
     "name": "stdout",
     "output_type": "stream",
     "text": [
      "Sample 1 : check Oplus\n",
      "(3,)\n",
      "variable([-0.14263964  2.9220755   1.0000002 ])\n",
      "variable([-0.14263964  2.9220755   0.        ])\n",
      "variable(8.558871)\n",
      "()\n"
     ]
    }
   ],
   "source": [
    "print('Sample 1 : check Oplus')\n",
    "sample_x1 = Variable(xp.array([1, 1, 1], dtype = 'float32'))\n",
    "sample_x2 = Variable(xp.array([1, 2, 0], dtype = 'float32'))\n",
    "print(sample_x1.shape)\n",
    "sample_z = oplus(sample_x1,sample_x2)\n",
    "print(sample_z)\n",
    "sample_z = sample_z * xp.array([1., 1., 0], dtype='float32')\n",
    "sample_zt = F.transpose(sample_z)\n",
    "print(sample_zt)\n",
    "sample_e = F.matmul(sample_z, sample_zt)\n",
    "print(sample_e)\n",
    "print(sample_e.shape)\n",
    "sample_e.backward()"
   ]
  },
  {
   "cell_type": "code",
   "execution_count": 4,
   "metadata": {},
   "outputs": [
    {
     "name": "stdout",
     "output_type": "stream",
     "text": [
      "Sample 2 : plot Oplus\n",
      "variable([1.8660254 0.5       1.0471976])\n",
      "variable([2.3660254 1.3660254 1.5707963])\n",
      "variable([2.3660254 2.3660254 2.094395 ])\n",
      "[[1.        0.        0.5235988]\n",
      " [1.8660254 0.5       1.0471976]\n",
      " [2.3660254 1.3660254 1.5707963]\n",
      " [2.3660254 2.3660254 2.094395 ]]\n"
     ]
    },
    {
     "data": {
      "image/png": "[encoded data removed]",
      "text/plain": [
       "<matplotlib.figure.Figure at 0x7f11583baa90>"
      ]
     },
     "metadata": {},
     "output_type": "display_data"
    },
    {
     "data": {
      "image/png": "[encoded data removed]",
      "text/plain": [
       "<matplotlib.figure.Figure at 0x7f11583baa90>"
      ]
     },
     "execution_count": 4,
     "metadata": {},
     "output_type": "execute_result"
    }
   ],
   "source": [
    "print('Sample 2 : plot Oplus')\n",
    "sample_x1 = Variable(xp.array([1, 0, xp.pi/6], dtype = 'float32'))\n",
    "sample_x2 = Variable(xp.array([1, 0, xp.pi/6], dtype = 'float32'))\n",
    "sample_x3 = Variable(xp.array([1, 0, xp.pi/6], dtype = 'float32'))\n",
    "sample_x4 = Variable(xp.array([1, 0, xp.pi/6], dtype = 'float32'))\n",
    "sample_z1 = oplus(sample_x1,sample_x2)\n",
    "print(sample_z1)\n",
    "sample_z2 = oplus(sample_z1,sample_x3)\n",
    "print(sample_z2)\n",
    "sample_z3 = oplus(sample_z2,sample_x4)\n",
    "print(sample_z3)\n",
    "sample_z = sample_z3 * xp.array([1., 1., 0], dtype='float32')\n",
    "sample_pathes = xp.array(xp.vstack((sample_x1.data,sample_z1.data,sample_z2.data,sample_z3.data)),dtype='float32')\n",
    "print(sample_pathes)\n",
    "plot_path(sample_pathes,sample_pathes)"
   ]
  },
  {
   "cell_type": "code",
   "execution_count": 5,
   "metadata": {
    "scrolled": true
   },
   "outputs": [
    {
     "name": "stdout",
     "output_type": "stream",
     "text": [
      "DATA_SIZE            :5000\n",
      "DATA_NUM_WAYPOINTS   :10\n",
      "DATA_NUM_STEP        :10\n",
      "DATA_V_STEP          :0.03\n",
      "DATA_MAX_V_STEP      :0.05\n",
      "DATA_W_STEP          :0.15707963267948966\n",
      "DATA_MAX_W_STEP      :0.15707963267948966\n",
      "DATA_RANGE_TRANSLATE :0\n",
      "DATA_RANGE_ROTATE    :0\n"
     ]
    }
   ],
   "source": [
    "# dataset\n",
    "DATA_SIZE = 5000\n",
    "DATA_NUM_WAYPOINTS = 10\n",
    "DATA_NUM_STEP = DATA_NUM_WAYPOINTS\n",
    "DATA_V_STEP = 0.3 / DATA_NUM_WAYPOINTS # [m/step]\n",
    "DATA_MAX_V_STEP = 0.5 / DATA_NUM_WAYPOINTS # [m/step]\n",
    "DATA_W_STEP = xp.pi * 0.5 / DATA_NUM_WAYPOINTS # [rad/step]\n",
    "DATA_MAX_W_STEP = xp.pi * 0.5 / DATA_NUM_WAYPOINTS # [rad/step]\n",
    "DATA_RANGE_TRANSLATE = 0 # 経路を直進方向にずらす\n",
    "DATA_RANGE_ROTATE = 0 # 経路を回転方向にずらす\n",
    "\n",
    "params = []\n",
    "params.append('DATA_SIZE            :'+str(DATA_SIZE))\n",
    "params.append('DATA_NUM_WAYPOINTS   :'+str(DATA_NUM_WAYPOINTS))\n",
    "params.append('DATA_NUM_STEP        :'+str(DATA_NUM_STEP))\n",
    "params.append('DATA_V_STEP          :'+str(DATA_V_STEP))\n",
    "params.append('DATA_MAX_V_STEP      :'+str(DATA_MAX_V_STEP))\n",
    "params.append('DATA_W_STEP          :'+str(DATA_W_STEP))\n",
    "params.append('DATA_MAX_W_STEP      :'+str(DATA_MAX_W_STEP))\n",
    "params.append('DATA_RANGE_TRANSLATE :'+str(DATA_RANGE_TRANSLATE))\n",
    "params.append('DATA_RANGE_ROTATE    :'+str(DATA_RANGE_ROTATE))\n",
    "for a in params:\n",
    "    print(a)"
   ]
  },
  {
   "cell_type": "code",
   "execution_count": 6,
   "metadata": {},
   "outputs": [
    {
     "name": "stdout",
     "output_type": "stream",
     "text": [
      "5000\n",
      "(10, 3)\n"
     ]
    }
   ],
   "source": [
    "X_train = []\n",
    "\n",
    "for i in range(DATA_SIZE):\n",
    "    rand_rad = xp.random.rand()*(2*DATA_W_STEP)-DATA_W_STEP # -36 ~ 36 m/step\n",
    "    d = data.generate_arc_path(DATA_NUM_STEP,rand_rad,DATA_V_STEP)\n",
    "    d = data.rotate_path(d,rand_rad*0.5)\n",
    "    if DATA_RANGE_TRANSLATE != 0:\n",
    "        rand_trans_x = xp.random.rand() * DATA_RANGE_TRANSLATE\n",
    "        d = data.translate_path(d,rand_trans_x,0.0)\n",
    "    if DATA_RANGE_ROTATE != 0:\n",
    "        rand_rotate = xp.random.rand()*(DATA_RANGE_ROTATE*2)-DATA_RANGE_ROTATE\n",
    "        d = data.rotate_path(d,rand_rotate)\n",
    "    X_train.append(d)\n",
    "'''\n",
    "# old version\n",
    "for i in range(DATA_SIZE):\n",
    "    l = int(DATA_NUM_WAYPOINTS*DATA_M_PER_STEP)+1\n",
    "    rand_rad = xp.random.rand()*(2*DATA_RAD_PER_STEP)-DATA_RAD_PER_STEP # -36 ~ 36 m/step\n",
    "    d = data.make_arc_path_2(l,rand_rad,s=DATA_M_PER_STEP)\n",
    "    d_es,_ = data.old_get_evenly_spaced_points(d,DATA_M_PER_STEP)\n",
    "    d_xy = d_es[0:DATA_NUM_WAYPOINTS]\n",
    "    X_train.append(d_xy)\n",
    "'''\n",
    "print(len(X_train))\n",
    "print(X_train[0].shape)"
   ]
  },
  {
   "cell_type": "code",
   "execution_count": 7,
   "metadata": {
    "scrolled": true
   },
   "outputs": [
    {
     "data": {
      "image/png": "[encoded data removed]",
      "text/plain": [
       "<matplotlib.figure.Figure at 0x7f11583ba6a0>"
      ]
     },
     "metadata": {},
     "output_type": "display_data"
    },
    {
     "name": "stdout",
     "output_type": "stream",
     "text": [
      " -- x_train -- \n",
      "[[ 2.99731391e-02 -1.23545503e-08 -1.35088091e+00]\n",
      " [ 5.96247279e-02  4.37861183e-03 -1.20427091e+00]\n",
      " [ 8.83185613e-02  1.30419247e-02 -1.05766091e+00]\n",
      " [ 1.15438984e-01  2.58040461e-02 -9.11050915e-01]\n",
      " [ 1.40404100e-01  4.23911516e-02 -7.64440915e-01]\n",
      " [ 1.62678256e-01  6.24473481e-02 -6.17830915e-01]\n",
      " [ 1.81783539e-01  8.55423094e-02 -4.71220915e-01]\n",
      " [ 1.97310025e-01  1.11180510e-01 -3.24610915e-01]\n",
      " [ 2.08924577e-01  1.38811855e-01 -1.78000915e-01]\n",
      " [ 2.16377993e-01  1.67843487e-01 -3.13909146e-02]]\n"
     ]
    },
    {
     "data": {
      "image/png": "[encoded data removed]",
      "text/plain": [
       "<matplotlib.figure.Figure at 0x7f11583497b8>"
      ]
     },
     "metadata": {},
     "output_type": "display_data"
    },
    {
     "name": "stdout",
     "output_type": "stream",
     "text": [
      " -- x_train -- \n",
      "[[ 2.99790933e-02  3.96519729e-08 -1.76480765e+00]\n",
      " [ 5.97077835e-02 -3.86661500e-03 -1.89414765e+00]\n",
      " [ 8.86894370e-02 -1.15353694e-02 -2.02348765e+00]\n",
      " [ 1.16439900e-01 -2.28781131e-02 -2.15282765e+00]\n",
      " [ 1.42495587e-01 -3.77053595e-02 -2.28216765e+00]\n",
      " [ 1.66421223e-01 -5.57694115e-02 -2.41150765e+00]\n",
      " [ 1.87817118e-01 -7.67684998e-02 -2.54084765e+00]\n",
      " [ 2.06325842e-01 -1.00351823e-01 -2.67018765e+00]\n",
      " [ 2.21638198e-01 -1.26125411e-01 -2.79952765e+00]\n",
      " [ 2.33498385e-01 -1.53658700e-01 -2.92886765e+00]]\n"
     ]
    },
    {
     "data": {
      "image/png": "[encoded data removed]",
      "text/plain": [
       "<matplotlib.figure.Figure at 0x7f11583b7e10>"
      ]
     },
     "metadata": {},
     "output_type": "display_data"
    },
    {
     "name": "stdout",
     "output_type": "stream",
     "text": [
      " -- x_train -- \n",
      "[[ 2.99959132e-02  7.48274859e-08 -1.65656882e+00]\n",
      " [ 5.99428075e-02 -1.71408230e-03 -1.71374882e+00]\n",
      " [ 8.97427965e-02 -5.13686838e-03 -1.77092882e+00]\n",
      " [ 1.19298474e-01 -1.02570955e-02 -1.82810882e+00]\n",
      " [ 1.48513233e-01 -1.70580273e-02 -1.88528882e+00]\n",
      " [ 1.77291580e-01 -2.55174340e-02 -1.94246882e+00]\n",
      " [ 2.05539448e-01 -3.56076645e-02 -1.99964882e+00]\n",
      " [ 2.33164505e-01 -4.72957373e-02 -2.05682882e+00]\n",
      " [ 2.60076453e-01 -6.05434480e-02 -2.11400882e+00]\n",
      " [ 2.86187328e-01 -7.53074944e-02 -2.17118882e+00]]\n"
     ]
    },
    {
     "data": {
      "image/png": "[encoded data removed]",
      "text/plain": [
       "<matplotlib.figure.Figure at 0x7f11501e0f98>"
      ]
     },
     "metadata": {},
     "output_type": "display_data"
    },
    {
     "name": "stdout",
     "output_type": "stream",
     "text": [
      " -- x_train -- \n",
      "[[ 2.99970428e-02 -7.09131753e-08 -1.49783396e+00]\n",
      " [ 5.99586117e-02  1.45833917e-03 -1.44919396e+00]\n",
      " [ 8.98138363e-02  4.37178055e-03 -1.40055396e+00]\n",
      " [ 1.19492097e-01  8.73336181e-03 -1.35191396e+00]\n",
      " [ 1.48923195e-01  1.45327662e-02 -1.30327396e+00]\n",
      " [ 1.78037512e-01  2.17562758e-02 -1.25463396e+00]\n",
      " [ 2.06766183e-01  3.03868043e-02 -1.20599396e+00]\n",
      " [ 2.35041254e-01  4.04039372e-02 -1.15735396e+00]\n",
      " [ 2.62795843e-01  5.17839801e-02 -1.10871396e+00]\n",
      " [ 2.89964300e-01  6.45000149e-02 -1.06007396e+00]]\n"
     ]
    },
    {
     "data": {
      "image/png": "[encoded data removed]",
      "text/plain": [
       "<matplotlib.figure.Figure at 0x7f11501c19b0>"
      ]
     },
     "metadata": {},
     "output_type": "display_data"
    },
    {
     "name": "stdout",
     "output_type": "stream",
     "text": [
      " -- x_train -- \n",
      "[[ 2.99999935e-02  9.41270269e-08 -1.57421946e+00]\n",
      " [ 5.99999092e-02 -6.82116721e-05 -1.57649946e+00]\n",
      " [ 8.99995913e-02 -2.04917042e-04 -1.57877946e+00]\n",
      " [ 1.19998884e-01 -4.10021273e-04 -1.58105946e+00]\n",
      " [ 1.49997630e-01 -6.83523298e-04 -1.58333946e+00]\n",
      " [ 1.79995676e-01 -1.02542170e-03 -1.58561946e+00]\n",
      " [ 2.09992863e-01 -1.43571469e-03 -1.58789946e+00]\n",
      " [ 2.39989038e-01 -1.91440014e-03 -1.59017946e+00]\n",
      " [ 2.69984042e-01 -2.46147557e-03 -1.59245946e+00]\n",
      " [ 2.99977722e-01 -3.07693813e-03 -1.59473946e+00]]\n"
     ]
    },
    {
     "data": {
      "image/png": "[encoded data removed]",
      "text/plain": [
       "<matplotlib.figure.Figure at 0x7f115011a0b8>"
      ]
     },
     "metadata": {},
     "output_type": "display_data"
    },
    {
     "name": "stdout",
     "output_type": "stream",
     "text": [
      " -- x_train -- \n",
      "[[ 2.99992955e-02  1.26901432e-07 -1.60641056e+00]\n",
      " [ 5.99901408e-02 -7.11862614e-04 -1.63015056e+00]\n",
      " [ 8.99556343e-02 -2.13556730e-03 -1.65389056e+00]\n",
      " [ 1.19878888e-01 -4.27018480e-03 -1.67763056e+00]\n",
      " [ 1.49743040e-01 -7.11451214e-03 -1.70137056e+00]\n",
      " [ 1.79531258e-01 -1.06669464e-02 -1.72511056e+00]\n",
      " [ 2.09226756e-01 -1.49254855e-02 -1.74885056e+00]\n",
      " [ 2.38812797e-01 -1.98877295e-02 -1.77259056e+00]\n",
      " [ 2.68272710e-01 -2.55508819e-02 -1.79633056e+00]\n",
      " [ 2.97589890e-01 -3.19117512e-02 -1.82007056e+00]]\n"
     ]
    },
    {
     "data": {
      "image/png": "[encoded data removed]",
      "text/plain": [
       "<matplotlib.figure.Figure at 0x7f115015e048>"
      ]
     },
     "metadata": {},
     "output_type": "display_data"
    },
    {
     "name": "stdout",
     "output_type": "stream",
     "text": [
      " -- x_train -- \n",
      "[[ 2.99750315e-02 -5.53300710e-08 -1.35876948e+00]\n",
      " [ 5.96511211e-02  4.22276569e-03 -1.21741948e+00]\n",
      " [ 8.84363323e-02  1.25842322e-02 -1.07606948e+00]\n",
      " [ 1.15756499e-01  2.49175616e-02 -9.34719481e-01]\n",
      " [ 1.41066677e-01  4.09767462e-02 -7.93369481e-01]\n",
      " [ 1.63862014e-01  6.04414601e-02 -6.52019481e-01]\n",
      " [ 1.83687823e-01  8.29234489e-02 -5.10669481e-01]\n",
      " [ 2.00148646e-01  1.07974274e-01 -3.69319481e-01]\n",
      " [ 2.12916145e-01  1.35094257e-01 -2.27969481e-01]\n",
      " [ 2.21735653e-01  1.63742447e-01 -8.66194809e-02]]\n"
     ]
    },
    {
     "data": {
      "image/png": "[encoded data removed]",
      "text/plain": [
       "<matplotlib.figure.Figure at 0x7f1150156ac8>"
      ]
     },
     "metadata": {},
     "output_type": "display_data"
    },
    {
     "name": "stdout",
     "output_type": "stream",
     "text": [
      " -- x_train -- \n",
      "[[ 2.99997681e-02  4.51814728e-08 -1.59122783e+00]\n",
      " [ 5.99967544e-02 -4.08493850e-04 -1.60484783e+00]\n",
      " [ 8.99853942e-02 -1.22554131e-03 -1.61846783e+00]\n",
      " [ 1.19960125e-01 -2.45094564e-03 -1.63208783e+00]\n",
      " [ 1.49915386e-01 -4.08447951e-03 -1.64570783e+00]\n",
      " [ 1.79845620e-01 -6.12583992e-03 -1.65932783e+00]\n",
      " [ 2.09745276e-01 -8.57464817e-03 -1.67294783e+00]\n",
      " [ 2.39608807e-01 -1.14304500e-02 -1.68656783e+00]\n",
      " [ 2.69430673e-01 -1.46927157e-02 -1.70018783e+00]\n",
      " [ 2.99205343e-01 -1.83608401e-02 -1.71380783e+00]]\n"
     ]
    },
    {
     "data": {
      "image/png": "[encoded data removed]",
      "text/plain": [
       "<matplotlib.figure.Figure at 0x7f115025c080>"
      ]
     },
     "metadata": {},
     "output_type": "display_data"
    },
    {
     "name": "stdout",
     "output_type": "stream",
     "text": [
      " -- x_train -- \n",
      "[[ 2.99859490e-02  1.43458813e-07 -1.72984611e+00]\n",
      " [ 5.98035147e-02 -3.17317006e-03 -1.83587611e+00]\n",
      " [ 8.91177910e-02 -9.48429845e-03 -1.94190611e+00]\n",
      " [ 1.17599525e-01 -1.88623561e-02 -2.04793611e+00]\n",
      " [ 1.44928815e-01 -3.12020104e-02 -2.15396611e+00]\n",
      " [ 1.70798702e-01 -4.63646643e-02 -2.25999611e+00]\n",
      " [ 1.94918621e-01 -6.41800134e-02 -2.36602611e+00]\n",
      " [ 2.17017660e-01 -8.44479587e-02 -2.47205611e+00]\n",
      " [ 2.36847607e-01 -1.06940854e-01 -2.57808611e+00]\n",
      " [ 2.54185735e-01 -1.31406063e-01 -2.68411611e+00]]\n"
     ]
    },
    {
     "data": {
      "image/png": "[encoded data removed]",
      "text/plain": [
       "<matplotlib.figure.Figure at 0x7f115011ad68>"
      ]
     },
     "metadata": {},
     "output_type": "display_data"
    },
    {
     "name": "stdout",
     "output_type": "stream",
     "text": [
      " -- x_train -- \n",
      "[[ 2.99693197e-02 -3.30933034e-08 -1.33576022e+00]\n",
      " [ 5.95714970e-02  4.67663510e-03 -1.17907022e+00]\n",
      " [ 8.80812322e-02  1.39154189e-02 -1.02238022e+00]\n",
      " [ 1.14799992e-01  2.74899536e-02 -8.65690223e-01]\n",
      " [ 1.39073125e-01  4.50676419e-02 -7.09000223e-01]\n",
      " [ 1.60305902e-01  6.62178030e-02 -5.52310223e-01]\n",
      " [ 1.77978086e-01  9.04222247e-02 -3.95620223e-01]\n",
      " [ 1.91656682e-01  1.17087861e-01 -2.38930223e-01]\n",
      " [ 2.01006541e-01  1.45561362e-01 -8.22402226e-02]\n",
      " [ 2.05798579e-01  1.75145082e-01  7.44497774e-02]]\n"
     ]
    },
    {
     "data": {
      "image/png": "[encoded data removed]",
      "text/plain": [
       "<matplotlib.figure.Figure at 0x7f115023d908>"
      ]
     },
     "metadata": {},
     "output_type": "display_data"
    },
    {
     "name": "stdout",
     "output_type": "stream",
     "text": [
      " -- x_train -- \n",
      "[[ 2.99985550e-02  9.73316284e-08 -1.62179957e+00]\n",
      " [ 5.99797759e-02 -1.01955976e-03 -1.65579957e+00]\n",
      " [ 8.99090076e-02 -3.05779268e-03 -1.68979957e+00]\n",
      " [ 1.19751655e-01 -6.11224544e-03 -1.72379957e+00]\n",
      " [ 1.49473224e-01 -1.01793874e-02 -1.75779957e+00]\n",
      " [ 1.79039359e-01 -1.52545175e-02 -1.79179957e+00]\n",
      " [ 2.08415886e-01 -2.13317694e-02 -1.82579957e+00]\n",
      " [ 2.37568848e-01 -2.84041184e-02 -1.85979957e+00]\n",
      " [ 2.66464547e-01 -3.64633898e-02 -1.89379957e+00]\n",
      " [ 2.95069584e-01 -4.55002678e-02 -1.92779957e+00]]\n"
     ]
    },
    {
     "data": {
      "image/png": "[encoded data removed]",
      "text/plain": [
       "<matplotlib.figure.Figure at 0x7f11501eaeb8>"
      ]
     },
     "metadata": {},
     "output_type": "display_data"
    },
    {
     "name": "stdout",
     "output_type": "stream",
     "text": [
      " -- x_train -- \n",
      "[[ 2.99888101e-02  1.14936932e-08 -1.71272671e+00]\n",
      " [ 5.98434773e-02 -2.83328611e-03 -1.80734671e+00]\n",
      " [ 8.92969138e-02 -8.47454537e-03 -1.90196671e+00]\n",
      " [ 1.18085621e-01 -1.68732981e-02 -1.99658671e+00]\n",
      " [ 1.45952048e-01 -2.79544068e-02 -2.09120671e+00]\n",
      " [ 1.72646895e-01 -4.16187369e-02 -2.18582671e+00]\n",
      " [ 1.97931341e-01 -5.77440436e-02 -2.28044671e+00]\n",
      " [ 2.21579185e-01 -7.61860658e-02 -2.37506671e+00]\n",
      " [ 2.43378868e-01 -9.67798160e-02 -2.46968671e+00]\n",
      " [ 2.63135364e-01 -1.19341057e-01 -2.56430671e+00]]\n"
     ]
    },
    {
     "data": {
      "image/png": "[encoded data removed]",
      "text/plain": [
       "<matplotlib.figure.Figure at 0x7f115028a710>"
      ]
     },
     "metadata": {},
     "output_type": "display_data"
    },
    {
     "name": "stdout",
     "output_type": "stream",
     "text": [
      " -- x_train -- \n",
      "[[ 2.99880649e-02 -9.53553115e-08 -1.42421315e+00]\n",
      " [ 5.98330721e-02  2.92558179e-03 -1.32649315e+00]\n",
      " [ 8.92502522e-02  8.74911580e-03 -1.22877315e+00]\n",
      " [ 1.17958918e-01  1.74149408e-02 -1.13105315e+00]\n",
      " [ 1.45685144e-01  2.88403710e-02 -1.03333315e+00]\n",
      " [ 1.72164376e-01  4.29163894e-02 -9.35613147e-01]\n",
      " [ 1.97143961e-01  5.95086884e-02 -8.37893147e-01]\n",
      " [ 2.20385553e-01  7.84589507e-02 -7.40173147e-01]\n",
      " [ 2.41667390e-01  9.95863605e-02 -6.42453147e-01]\n",
      " [ 2.60786410e-01  1.22689329e-01 -5.44733147e-01]]\n"
     ]
    },
    {
     "data": {
      "image/png": "[encoded data removed]",
      "text/plain": [
       "<matplotlib.figure.Figure at 0x7f1150094d30>"
      ]
     },
     "metadata": {},
     "output_type": "display_data"
    },
    {
     "name": "stdout",
     "output_type": "stream",
     "text": [
      " -- x_train -- \n",
      "[[ 2.99748120e-02  1.34020526e-07 -1.78375580e+00]\n",
      " [ 5.96480716e-02 -4.24097641e-03 -1.92572580e+00]\n",
      " [ 8.84227039e-02 -1.26379932e-02 -2.06769580e+00]\n",
      " [ 1.15719716e-01 -2.50219544e-02 -2.20966580e+00]\n",
      " [ 1.40989846e-01 -4.11436743e-02 -2.35163580e+00]\n",
      " [ 1.63724619e-01 -6.06787574e-02 -2.49360580e+00]\n",
      " [ 1.83466572e-01 -8.32341256e-02 -2.63557580e+00]\n",
      " [ 1.99818466e-01 -1.08355928e-01 -2.77754580e+00]\n",
      " [ 2.12451272e-01 -1.35538671e-01 -2.91951580e+00]\n",
      " [ 2.21110799e-01 -1.64235395e-01 -3.06148580e+00]]\n"
     ]
    },
    {
     "data": {
      "image/png": "[encoded data removed]",
      "text/plain": [
       "<matplotlib.figure.Figure at 0x7f11501ead30>"
      ]
     },
     "metadata": {},
     "output_type": "display_data"
    },
    {
     "name": "stdout",
     "output_type": "stream",
     "text": [
      " -- x_train -- \n",
      "[[ 2.99978535e-02  5.16131013e-08 -1.63295805e+00]\n",
      " [ 5.99699555e-02 -1.24265210e-03 -1.67439805e+00]\n",
      " [ 8.98648431e-02 -3.72597739e-03 -1.71583805e+00]\n",
      " [ 1.19631186e-01 -7.44566031e-03 -1.75727805e+00]\n",
      " [ 1.49217875e-01 -1.23953141e-02 -1.79871805e+00]\n",
      " [ 1.78574108e-01 -1.85664400e-02 -1.84015805e+00]\n",
      " [ 2.07649480e-01 -2.59484420e-02 -1.88159805e+00]\n",
      " [ 2.36394067e-01 -3.45286451e-02 -1.92303805e+00]\n",
      " [ 2.64758516e-01 -4.42923167e-02 -1.96447805e+00]\n",
      " [ 2.92694122e-01 -5.52226925e-02 -2.00591805e+00]]\n"
     ]
    },
    {
     "data": {
      "image/png": "[encoded data removed]",
      "text/plain": [
       "<matplotlib.figure.Figure at 0x7f113c7c5b38>"
      ]
     },
     "metadata": {},
     "output_type": "display_data"
    },
    {
     "name": "stdout",
     "output_type": "stream",
     "text": [
      " -- x_train -- \n",
      "[[ 2.99750103e-02  1.26170610e-07 -1.78291554e+00]\n",
      " [ 5.96508354e-02 -4.22440229e-03 -1.92432554e+00]\n",
      " [ 8.84350425e-02 -1.25892490e-02 -2.06573554e+00]\n",
      " [ 1.15752998e-01 -2.49274226e-02 -2.20714554e+00]\n",
      " [ 1.41059341e-01 -4.09926100e-02 -2.34855554e+00]\n",
      " [ 1.63848869e-01 -6.04640940e-02 -2.48996554e+00]\n",
      " [ 1.83666622e-01 -8.29531559e-02 -2.63137554e+00]\n",
      " [ 2.00116969e-01 -1.08010836e-01 -2.77278554e+00]\n",
      " [ 2.12871504e-01 -1.35136894e-01 -2.91419554e+00]\n",
      " [ 2.21675603e-01 -1.63789802e-01 -3.05560554e+00]]\n"
     ]
    },
    {
     "data": {
      "image/png": "[encoded data removed]",
      "text/plain": [
       "<matplotlib.figure.Figure at 0x7f113c7fbac8>"
      ]
     },
     "metadata": {},
     "output_type": "display_data"
    },
    {
     "name": "stdout",
     "output_type": "stream",
     "text": [
      " -- x_train -- \n",
      "[[ 2.99866089e-02  2.76296393e-09 -1.72606142e+00]\n",
      " [ 5.98127184e-02 -3.09836862e-03 -1.82957142e+00]\n",
      " [ 8.91590472e-02 -9.26194684e-03 -1.93308142e+00]\n",
      " [ 1.17711450e-01 -1.84247523e-02 -2.03659142e+00]\n",
      " [ 1.45164280e-01 -3.04886994e-02 -2.14010142e+00]\n",
      " [ 1.71223662e-01 -4.53246464e-02 -2.24361142e+00]\n",
      " [ 1.95610637e-01 -6.27737783e-02 -2.34712142e+00]\n",
      " [ 2.18064146e-01 -8.26493062e-02 -2.45063142e+00]\n",
      " [ 2.38343832e-01 -1.04738468e-01 -2.55414142e+00]\n",
      " [ 2.56232606e-01 -1.28804803e-01 -2.65765142e+00]]\n"
     ]
    },
    {
     "data": {
      "image/png": "[encoded data removed]",
      "text/plain": [
       "<matplotlib.figure.Figure at 0x7f11501f8ac8>"
      ]
     },
     "metadata": {},
     "output_type": "display_data"
    },
    {
     "name": "stdout",
     "output_type": "stream",
     "text": [
      " -- x_train -- \n",
      "[[ 2.99999997e-02  1.36175522e-07 -1.57147587e+00]\n",
      " [ 5.99999965e-02 -1.32276484e-05 -1.57192587e+00]\n",
      " [ 8.99999842e-02 -4.00914691e-05 -1.57237587e+00]\n",
      " [ 1.19999957e-01 -8.04552810e-05 -1.57282587e+00]\n",
      " [ 1.49999908e-01 -1.34319076e-04 -1.57327587e+00]\n",
      " [ 1.79999832e-01 -2.01682843e-04 -1.57372587e+00]\n",
      " [ 2.09999723e-01 -2.82546569e-04 -1.57417587e+00]\n",
      " [ 2.39999574e-01 -3.76910237e-04 -1.57462587e+00]\n",
      " [ 2.69999380e-01 -4.84773829e-04 -1.57507587e+00]\n",
      " [ 2.99999135e-01 -6.06137321e-04 -1.57552587e+00]]\n"
     ]
    },
    {
     "data": {
      "image/png": "[encoded data removed]",
      "text/plain": [
       "<matplotlib.figure.Figure at 0x7f1150028dd8>"
      ]
     },
     "metadata": {},
     "output_type": "display_data"
    },
    {
     "name": "stdout",
     "output_type": "stream",
     "text": [
      " -- x_train -- \n",
      "[[ 2.99941539e-02 -1.48393416e-07 -1.46820638e+00]\n",
      " [ 5.99182010e-02  2.04940506e-03 -1.39981638e+00]\n",
      " [ 8.96322354e-02  6.13907795e-03 -1.33142638e+00]\n",
      " [ 1.18997333e-01  1.22497495e-02 -1.26303638e+00]\n",
      " [ 1.47876201e-01  2.03528502e-02 -1.19464638e+00]\n",
      " [ 1.76133820e-01  3.04104949e-02 -1.12625638e+00]\n",
      " [ 2.03638076e-01  4.23756604e-02 -1.05786638e+00]\n",
      " [ 2.30260376e-01  5.61924053e-02 -9.89476379e-01]\n",
      " [ 2.55876250e-01  7.17961310e-02 -9.21086379e-01]\n",
      " [ 2.80365935e-01  8.91138845e-02 -8.52696379e-01]]\n"
     ]
    },
    {
     "data": {
      "image/png": "[encoded data removed]",
      "text/plain": [
       "<matplotlib.figure.Figure at 0x7f113c754be0>"
      ]
     },
     "metadata": {},
     "output_type": "display_data"
    },
    {
     "name": "stdout",
     "output_type": "stream",
     "text": [
      " -- x_train -- \n",
      "[[ 2.99985053e-02 -6.29197369e-08 -1.51892423e+00]\n",
      " [ 5.99790788e-02  1.03701578e-03 -1.48434423e+00]\n",
      " [ 8.99058740e-02  3.10999612e-03 -1.44976423e+00]\n",
      " [ 1.19743109e-01  6.21639952e-03 -1.41518423e+00]\n",
      " [ 1.49455108e-01  1.03525118e-02 -1.38060423e+00]\n",
      " [ 1.79006346e-01  1.55133875e-02 -1.34602423e+00]\n",
      " [ 2.08361490e-01  2.16928561e-02 -1.31144423e+00]\n",
      " [ 2.37485442e-01  2.88835291e-02 -1.27686423e+00]\n",
      " [ 2.66343378e-01  3.70768088e-02 -1.24228423e+00]\n",
      " [ 2.94900795e-01  4.62628988e-02 -1.20770423e+00]]\n"
     ]
    }
   ],
   "source": [
    "# plot data\n",
    "p = X_train\n",
    "random.shuffle(p)\n",
    "if(settings.gpu_index >= 0):\n",
    "    p = chainer.cuda.to_cpu(X_train)\n",
    "\n",
    "for num in range(20):\n",
    "    plt.scatter(0, 0,c=\"black\",edgecolor=\"black\",s=30,marker=\"o\")\n",
    "    plt.scatter(p[num][:,0], p[num][:,1],c=\"red\",edgecolor=\"red\",s=30,marker=\"o\")\n",
    "    #plt.xlim([-.2,.2])\n",
    "    #plt.ylim([-.2,.2])\n",
    "    plt.grid()\n",
    "    plt.show()\n",
    "    print(' -- x_train -- ')\n",
    "    print(p[num])"
   ]
  },
  {
   "cell_type": "code",
   "execution_count": 8,
   "metadata": {},
   "outputs": [],
   "source": [
    "# loss\n",
    "def error_squares(z_oplus,z_true):\n",
    "    #print(predict)\n",
    "    #print(groundtruth)\n",
    "    w = xp.array([1., 1., 0.],dtype=xp.float32)\n",
    "    t = z_true * w\n",
    "    p = z_oplus * w\n",
    "    error = F.sqrt(F.sum((t-p)*(t-p)))\n",
    "    return error\n",
    "\n",
    "def error_diff_v(y0, y1):\n",
    "    w = xp.array([0., 0., 1.],dtype=xp.float32)\n",
    "    v0 = y0 * w\n",
    "    v1 = y1 * w\n",
    "    error = F.absolute(F.sum(v1 - v0))\n",
    "    return error\n",
    "\n",
    "def error_diff_w(y0, y1):\n",
    "    w = xp.array([0., 0., 1.],dtype=xp.float32)\n",
    "    v0 = y0 * w\n",
    "    v1 = y1 * w\n",
    "    error = F.absolute(F.sum(v1 - v0))\n",
    "    return error\n",
    "\n",
    "def calc_oplus(y):\n",
    "    dst = []\n",
    "    z = y[0,0]\n",
    "    dst.append(z)\n",
    "    for step in range(1,DATA_NUM_STEP):\n",
    "        z = oplus(z,y[0,step])\n",
    "        dst.append(z)\n",
    "    return dst\n",
    "\n",
    "def loss_function(y, y_true,disp_loss=0):\n",
    "    dmesg = ''\n",
    "    z_true = y_true\n",
    "    z_oplus = calc_oplus(y)\n",
    "    # distance\n",
    "    e_distance = error_squares(z_oplus[0],z_true[0])\n",
    "    for i in range(1,DATA_NUM_WAYPOINTS):\n",
    "        e_distance = e_distance + error_squares(z_oplus[i],z_true[i])\n",
    "    dmesg = dmesg + 'e_distance: ' + str(e_distance) + '\\t'    \n",
    "    '''\n",
    "    e_diff_v = error_diff_v(y[0,0],y[0,1])\n",
    "    for i in range(2,DATA_NUM_STEP):\n",
    "        e_diff_v = error_diff_v(y[0,i-1],y[0,i])\n",
    "    dmesg = dmesg + 'e_dv: ' + str(e_diff_v) + '\\t'\n",
    "    '''\n",
    "    e_diff_w = error_diff_v(y[0,0],y[0,1])\n",
    "    for i in range(2,DATA_NUM_STEP):\n",
    "        e_diff_w = error_diff_w(y[0,i-1],y[0,i])\n",
    "    dmesg = dmesg + 'e_dw: ' + str(e_diff_w) + '\\t'\n",
    "    \n",
    "    loss = (1 * e_distance)\n",
    "    #loss = loss + (1 * e_lim_w)\n",
    "    #loss = loss + (1 * e_lim_v)\n",
    "    #loss = loss + (1 * e_diff_v)\n",
    "    #loss = loss + (1 * e_diff_w)\n",
    "    if(disp_loss):\n",
    "        print(dmesg)\n",
    "    return loss"
   ]
  },
  {
   "cell_type": "code",
   "execution_count": null,
   "metadata": {},
   "outputs": [],
   "source": [
    "# training\n",
    "def train(model,X,epoch=10):\n",
    "    if settings.gpu_index >= 0:\n",
    "        cuda.cupy.cuda.Device(settings.gpu_index).use()\n",
    "        model.to_gpu(settings.gpu_index)\n",
    "    opt = optimizers.Adam()\n",
    "    opt.setup(model)\n",
    "    ep = 0\n",
    "    AvgLoss = []\n",
    "    while ep < epoch:\n",
    "        random.shuffle(X)\n",
    "        L = .0\n",
    "        for itr in range(len(X)):\n",
    "            x = xp.ravel(X[itr][:,0:2])\n",
    "            x = Variable(xp.array([x],dtype=xp.float32))\n",
    "            y = model(x)\n",
    "            # clip\n",
    "            v_limit = DATA_MAX_V_STEP\n",
    "            w_limit = DATA_MAX_W_STEP\n",
    "            v = F.expand_dims(F.transpose(F.clip(y[:,:,0],-v_limit,v_limit)),axis=0)\n",
    "            w = F.expand_dims(F.transpose(F.clip(y[:,:,1],-w_limit,w_limit)),axis=0)\n",
    "            # zero-padding\n",
    "            pad = Variable(xp.zeros((1,DATA_NUM_STEP,1),dtype=xp.float32))\n",
    "            y_pad = F.concat((v,pad,w),axis=2)\n",
    "            #y_pad = F.permutate(y_pad, xp.array([0,2,1],'i'), axis=2)\n",
    "            # loss\n",
    "            loss = loss_function(y_pad, X[itr][:])\n",
    "            model.cleargrads()\n",
    "            loss.backward()\n",
    "            opt.update()\n",
    "            #y_grad = chainer.grad( (e,), (y,) )[0]\n",
    "            #print(y_grad)\n",
    "            #x_grad = chainer.grad( (e,), (x,) )[0]\n",
    "            #print(x_grad)\n",
    "            L = L + loss.data\n",
    "        ep = ep + 1\n",
    "        print('Epoch:',ep,', Average loss:',L / len(X))\n",
    "        AvgLoss.append(L / len(X))\n",
    "    fig = plt.figure()\n",
    "    plt.plot(range(len(AvgLoss)),AvgLoss)\n",
    "    plt.xlabel('Epoch')\n",
    "    plt.ylabel('Average loss (squares)') #*10, lim_v, lim_w, )')\n",
    "    plt.text(len(AvgLoss)-1, AvgLoss[-1],str(AvgLoss[-1]),ha='center',va='top' )\n",
    "    return model, fig"
   ]
  },
  {
   "cell_type": "code",
   "execution_count": null,
   "metadata": {
    "scrolled": true
   },
   "outputs": [],
   "source": [
    "EPOCH = 20\n",
    "model = Generator(DATA_NUM_WAYPOINTS,DATA_NUM_STEP)\n",
    "start_time = '{0:%Y/%m/%d %H:%M:%S}'.format(datetime.datetime.now())\n",
    "model, fig = train(model,X_train,epoch=EPOCH)\n",
    "finish_time = '{0:%Y/%m/%d %H:%M:%S}'.format(datetime.datetime.now())\n",
    "print('start:',start_time)\n",
    "print('finish:',finish_time)"
   ]
  },
  {
   "cell_type": "code",
   "execution_count": null,
   "metadata": {},
   "outputs": [],
   "source": [
    "# log\n",
    "def gen_filename():\n",
    "    name_date = '{0:%Y%m%d%H%M}'.format(datetime.datetime.now())\n",
    "    name_epoch = '{}ep'.format(EPOCH)\n",
    "    name_datasize  = '{}data'.format(DATA_SIZE)\n",
    "    name_num_step = '{}step'.format(DATA_NUM_STEP)\n",
    "    name_space = '{}mm'.format(int(DATA_V_STEP * 1000))\n",
    "    fn = 'Cart' + name_space + name_num_step + '_' + name_date + '_'   + name_datasize + name_epoch\n",
    "    return fn\n",
    "dirname = gen_filename()\n",
    "print(dirname)"
   ]
  },
  {
   "cell_type": "code",
   "execution_count": null,
   "metadata": {},
   "outputs": [],
   "source": [
    "os.mkdir(dirname)\n",
    "f = open(dirname+'/params.txt','w')\n",
    "f.writelines(params)\n",
    "f.close()\n",
    "serializers.save_npz(dirname +'/'+ dirname+'.model', model)\n",
    "fig.savefig(dirname + '/' + 'loss.png')\n"
   ]
  },
  {
   "cell_type": "code",
   "execution_count": null,
   "metadata": {},
   "outputs": [],
   "source": [
    "rand_rad = xp.random.rand()*(2*DATA_W_STEP)-DATA_W_STEP # -36 ~ 36 m/step\n",
    "d = data.generate_arc_path(DATA_NUM_STEP,rand_rad,DATA_V_STEP)\n",
    "d = data.rotate_path(d,rand_rad*0.5)\n",
    "if DATA_RANGE_TRANSLATE != 0:\n",
    "    rand_trans_x = xp.random.rand() * DATA_RANGE_TRANSLATE\n",
    "    d = data.translate_path(d,rand_trans_x,0.0)\n",
    "if DATA_RANGE_ROTATE != 0:\n",
    "    rand_rotate = xp.random.rand()*(DATA_RANGE_ROTATE*2)-DATA_RANGE_ROTATE\n",
    "    d = data.rotate_path(d,rand_rotate)\n",
    "x_test = d\n",
    "'''\n",
    "x_test = xp.array(\n",
    "    [[ 0.02293546, -0.04092823,0],\n",
    "     [ 0.05309581, -0.05415406,0],\n",
    "     [ 0.08393338, -0.06682136,0],\n",
    "     [ 0.11579048, -0.07606434,0],\n",
    "     [ 0.14647007, -0.08932315,0],\n",
    "     [ 0.17848524, -0.09797464,0],\n",
    "     [ 0.21082233, -0.10660645,0],\n",
    "     [ 0.24306089, -0.11521195,0],\n",
    "     [ 0.27361556, -0.12854306,0],\n",
    "     [ 0.3055584,  -0.13706963,0]]\n",
    "    , dtype = xp.float32)\n",
    "'''\n",
    "x = xp.ravel(x_test[:,0:2])\n",
    "x = Variable(xp.array([x],dtype=xp.float32))\n",
    "y = model(x)\n",
    "# clip\n",
    "v_limit = DATA_MAX_V_STEP\n",
    "w_limit = DATA_MAX_W_STEP\n",
    "v = F.expand_dims(F.transpose(F.clip(y[:,:,0],-v_limit,v_limit)),axis=0)\n",
    "w = F.expand_dims(F.transpose(F.clip(y[:,:,1],-w_limit,w_limit)),axis=0)\n",
    "# zero-padding\n",
    "pad = Variable(xp.zeros((1,DATA_NUM_STEP,1),dtype=xp.float32))\n",
    "y_pad = F.concat((v,pad,w),axis=2)\n",
    "print(' --- input --- ')\n",
    "print(x_test)\n",
    "print(' --- output --- ')\n",
    "print(y_pad.data)\n",
    "print(xp.rad2deg(y_pad.data[:,:,2]))\n",
    "# loss\n",
    "z_true = x_test\n",
    "z = y_pad[0,0]\n",
    "print(' --- error --- ')\n",
    "Z = xp.array([([0,0,0]),(z.data)],dtype='float32')\n",
    "for step in range(1,DATA_NUM_STEP):\n",
    "    z = oplus(z,y_pad[0,step])\n",
    "    Z = xp.vstack((Z,z.data))\n",
    "loss = loss_function(y_pad, x_test, disp_loss=1)\n",
    "print('loss:',loss)\n",
    "# print(' --- trajectory --- ')\n",
    "# print(Z)\n",
    "# print(z_true.shape)\n",
    "fig = plot_path(Z,z_true)\n",
    "print(' --- grad --- ')\n",
    "loss.backward()\n",
    "y_grad = chainer.grad( (loss,), (y,) )[0]\n",
    "\n",
    "print(y_grad)"
   ]
  },
  {
   "cell_type": "code",
   "execution_count": null,
   "metadata": {
    "scrolled": false
   },
   "outputs": [],
   "source": [
    "for i in range(10):\n",
    "    rand_rad = xp.random.rand()*(2*DATA_W_STEP)-DATA_W_STEP # -36 ~ 36 m/step\n",
    "    d = data.generate_arc_path(DATA_NUM_STEP,rand_rad,DATA_V_STEP)\n",
    "    d = data.rotate_path(d,rand_rad*0.5)\n",
    "    if DATA_RANGE_TRANSLATE != 0:\n",
    "        rand_trans_x = xp.random.rand() * DATA_RANGE_TRANSLATE\n",
    "        d = data.translate_path(d,rand_trans_x,0.0)\n",
    "    if DATA_RANGE_ROTATE != 0:\n",
    "        rand_rotate = xp.random.rand()*(DATA_RANGE_ROTATE*2)-DATA_RANGE_ROTATE\n",
    "        d = data.rotate_path(d,rand_rotate)\n",
    "    \n",
    "    x_test = d\n",
    "    x = xp.ravel(x_test[:,0:2])\n",
    "    x = Variable(xp.array([x],dtype=xp.float32))\n",
    "    y = model(x)\n",
    "    # clip\n",
    "    v_limit = DATA_MAX_V_STEP\n",
    "    w_limit = DATA_MAX_W_STEP\n",
    "    v = F.expand_dims(F.transpose(F.clip(y[:,:,0],-v_limit,v_limit)),axis=0)\n",
    "    w = F.expand_dims(F.transpose(F.clip(y[:,:,1],-w_limit,w_limit)),axis=0)\n",
    "    # zero-padding\n",
    "    pad = Variable(xp.zeros((1,DATA_NUM_STEP,1),dtype=xp.float32))\n",
    "    y_pad = F.concat((v,pad,w),axis=2)\n",
    "    print(' --- input --- ')\n",
    "    print(x_test)\n",
    "    print(' --- output --- ')\n",
    "    print(y_pad.data)\n",
    "    # loss\n",
    "    z_true = x_test\n",
    "    z = y_pad[0,0]\n",
    "    e = error_squares(z,z_true[0])\n",
    "    print(' --- error --- ')\n",
    "    print('loss:',e)\n",
    "    Z = xp.array([([0,0,0]),(z.data)],dtype='float32')\n",
    "    for step in range(1,DATA_NUM_STEP):\n",
    "        z = oplus(z,y_pad[0,step])\n",
    "        e = error_squares(z,z_true[step])\n",
    "        print('loss:',e)\n",
    "        Z = xp.vstack((Z,z.data))\n",
    "    #print(' --- trajectory --- ')\n",
    "    #print(Z)\n",
    "    #print(z_true.shape)\n",
    "    fig = plot_path(Z,z_true)\n",
    "    fig.savefig(dirname + '/test' + str(i) + '.png')"
   ]
  }
 ],
 "metadata": {
  "kernelspec": {
   "display_name": "Python 3",
   "language": "python",
   "name": "python3"
  },
  "language_info": {
   "codemirror_mode": {
    "name": "ipython",
    "version": 3
   },
   "file_extension": ".py",
   "mimetype": "text/x-python",
   "name": "python",
   "nbconvert_exporter": "python",
   "pygments_lexer": "ipython3",
   "version": "3.5.2"
  }
 },
 "nbformat": 4,
 "nbformat_minor": 2
}
