{
 "cells": [
  {
   "cell_type": "code",
   "execution_count": 1,
   "metadata": {},
   "outputs": [],
   "source": [
    "import chainer\n",
    "from chainer import Link, Chain, ChainList, Variable, optimizers, iterators\n",
    "import chainer.functions as F\n",
    "import chainer.links as L\n",
    "from chainer import cuda\n",
    "from chainer import initializers\n",
    "from chainer import serializers\n",
    "\n",
    "import os\n",
    "import time, datetime\n",
    "import numpy as np\n",
    "import random\n",
    "import matplotlib.pyplot as plt\n",
    "%matplotlib inline\n",
    "import coordinate\n",
    "import data\n",
    "from model import oplus, Generator\n",
    "import xp_settings as settings\n",
    "settings.set_gpu(0)\n",
    "xp = settings.xp\n"
   ]
  },
  {
   "cell_type": "code",
   "execution_count": 2,
   "metadata": {},
   "outputs": [],
   "source": [
    "def plot_path(cart_path,target,xlim=[-5,5],ylim=[-5,5]):\n",
    "    fig = plt.figure()\n",
    "    path = cart_path\n",
    "    target = target\n",
    "    if(settings.gpu_index >= 0):\n",
    "        path = xp.asnumpy(path)\n",
    "        target = xp.asnumpy(target)\n",
    "    plt.scatter(target[:,0],target[:,1],c=\"red\",s=80,marker=\"o\")\n",
    "    for i in range(1,len(path)):\n",
    "        plt.quiver(path[i-1,0],path[i-1,1]\n",
    "                   , path[i,0]-path[i-1,0],path[i,1]-path[i-1,1]\n",
    "                   , scale_units='xy', angles='xy', scale=1,color=\"blue\")\n",
    "    num_step = len(target)\n",
    "    #plt.scatter(t[num_step-1,0],t[num_step-1,1],c=\"yellow\",s=500,marker=\"*\")\n",
    "    plt.xlabel(\"x[m]\")\n",
    "    plt.ylabel(\"y[m]\")\n",
    "    plt.axis('scaled')\n",
    "    plt.xlim(xlim[0],xlim[1])\n",
    "    plt.ylim(ylim[0],ylim[1])\n",
    "    plt.grid()\n",
    "    plt.show()\n",
    "    return fig"
   ]
  },
  {
   "cell_type": "code",
   "execution_count": 3,
   "metadata": {},
   "outputs": [
    {
     "name": "stdout",
     "output_type": "stream",
     "text": [
      "Sample 1 : check Oplus\n",
      "(3,)\n",
      "variable([-0.14263964  2.9220755   1.0000002 ])\n",
      "variable([-0.14263964  2.9220755   0.        ])\n",
      "variable(8.558871)\n",
      "()\n"
     ]
    }
   ],
   "source": [
    "print('Sample 1 : check Oplus')\n",
    "sample_x1 = Variable(xp.array([1, 1, 1], dtype = 'float32'))\n",
    "sample_x2 = Variable(xp.array([1, 2, 0], dtype = 'float32'))\n",
    "print(sample_x1.shape)\n",
    "sample_z = oplus(sample_x1,sample_x2)\n",
    "print(sample_z)\n",
    "sample_z = sample_z * xp.array([1., 1., 0], dtype='float32')\n",
    "sample_zt = F.transpose(sample_z)\n",
    "print(sample_zt)\n",
    "sample_e = F.matmul(sample_z, sample_zt)\n",
    "print(sample_e)\n",
    "print(sample_e.shape)\n",
    "sample_e.backward()"
   ]
  },
  {
   "cell_type": "code",
   "execution_count": 4,
   "metadata": {},
   "outputs": [
    {
     "name": "stdout",
     "output_type": "stream",
     "text": [
      "Sample 2 : plot Oplus\n",
      "variable([1.8660254 0.5       1.0471976])\n",
      "variable([2.3660254 1.3660254 1.5707963])\n",
      "variable([2.3660254 2.3660254 2.094395 ])\n",
      "[[1.        0.        0.5235988]\n",
      " [1.8660254 0.5       1.0471976]\n",
      " [2.3660254 1.3660254 1.5707963]\n",
      " [2.3660254 2.3660254 2.094395 ]]\n"
     ]
    },
    {
     "data": {
      "image/png": "[encoded data removed]",
      "text/plain": [
       "<matplotlib.figure.Figure at 0x7f8106143cc0>"
      ]
     },
     "metadata": {},
     "output_type": "display_data"
    },
    {
     "data": {
      "image/png": "[encoded data removed]",
      "text/plain": [
       "<matplotlib.figure.Figure at 0x7f8106143cc0>"
      ]
     },
     "execution_count": 4,
     "metadata": {},
     "output_type": "execute_result"
    }
   ],
   "source": [
    "print('Sample 2 : plot Oplus')\n",
    "sample_x1 = Variable(xp.array([1, 0, xp.pi/6], dtype = 'float32'))\n",
    "sample_x2 = Variable(xp.array([1, 0, xp.pi/6], dtype = 'float32'))\n",
    "sample_x3 = Variable(xp.array([1, 0, xp.pi/6], dtype = 'float32'))\n",
    "sample_x4 = Variable(xp.array([1, 0, xp.pi/6], dtype = 'float32'))\n",
    "sample_z1 = oplus(sample_x1,sample_x2)\n",
    "print(sample_z1)\n",
    "sample_z2 = oplus(sample_z1,sample_x3)\n",
    "print(sample_z2)\n",
    "sample_z3 = oplus(sample_z2,sample_x4)\n",
    "print(sample_z3)\n",
    "sample_z = sample_z3 * xp.array([1., 1., 0], dtype='float32')\n",
    "sample_pathes = xp.array(xp.vstack((sample_x1.data,sample_z1.data,sample_z2.data,sample_z3.data)),dtype='float32')\n",
    "print(sample_pathes)\n",
    "plot_path(sample_pathes,sample_pathes,[-3,3],[-3,3])"
   ]
  },
  {
   "cell_type": "code",
   "execution_count": 5,
   "metadata": {
    "scrolled": true
   },
   "outputs": [
    {
     "name": "stdout",
     "output_type": "stream",
     "text": [
      "DATA_SIZE          : 1000\n",
      "DATA_NUM_WAYPOINTS : 10\n",
      "DATA_NUM_STEP      : 10\n",
      "DATA_HZ            : 10\n",
      "DATA_MAX_TRANS_VEL : 0.3\n",
      "DATA_MAX_ROTATE_VEL: 6.283185307179586\n",
      "DATA_M_PER_STEP    : 0.03\n",
      "DATA_RAD_PER_STEP  : 0.6283185307179586\n",
      "1000\n",
      "(10, 3)\n"
     ]
    }
   ],
   "source": [
    "# dataset\n",
    "DATA_SIZE = 1000\n",
    "DATA_NUM_WAYPOINTS = 10\n",
    "DATA_NUM_STEP = DATA_NUM_WAYPOINTS\n",
    "DATA_HZ = 10\n",
    "DATA_MAX_TRANS_VEL = 0.3 # [m/s]\n",
    "DATA_MAX_ROTATE_VEL = 2*xp.pi # [rad/s]\n",
    "DATA_M_PER_STEP = DATA_MAX_TRANS_VEL / DATA_HZ # [m/step]\n",
    "DATA_RAD_PER_STEP = DATA_MAX_ROTATE_VEL / DATA_HZ # [rad/step]\n",
    "\n",
    "print('DATA_SIZE          :',DATA_SIZE)\n",
    "print('DATA_NUM_WAYPOINTS :',DATA_NUM_WAYPOINTS)\n",
    "print('DATA_NUM_STEP      :',DATA_NUM_STEP)\n",
    "print('DATA_HZ            :',DATA_HZ) \n",
    "print('DATA_MAX_TRANS_VEL :',DATA_MAX_TRANS_VEL)\n",
    "print('DATA_MAX_ROTATE_VEL:',DATA_MAX_ROTATE_VEL)\n",
    "print('DATA_M_PER_STEP    :',DATA_M_PER_STEP)\n",
    "print('DATA_RAD_PER_STEP  :',DATA_RAD_PER_STEP)\n",
    "\n",
    "X_train = []\n",
    "\n",
    "for i in range(DATA_SIZE):\n",
    "    rand_rad = xp.random.rand()*(2*DATA_RAD_PER_STEP)-DATA_RAD_PER_STEP # -36 ~ 36 m/step\n",
    "    d = data.generate_arc_path(DATA_NUM_STEP,rand_rad,DATA_M_PER_STEP)\n",
    "    d_rotate = data.rotate_path(d,rand_rad/2)\n",
    "    #d_xy_fl = xp.ravel(d_xy[0:DATA_WAYPOINTS])\n",
    "    X_train.append(d_rotate)\n",
    "'''\n",
    "# old version\n",
    "for i in range(DATA_SIZE):\n",
    "    l = int(DATA_NUM_WAYPOINTS*DATA_M_PER_STEP)+1\n",
    "    rand_rad = xp.random.rand()*(2*DATA_RAD_PER_STEP)-DATA_RAD_PER_STEP # -36 ~ 36 m/step\n",
    "    d = data.make_arc_path_2(l,rand_rad,s=DATA_M_PER_STEP)\n",
    "    d_es,_ = data.old_get_evenly_spaced_points(d,DATA_M_PER_STEP)\n",
    "    d_xy = d_es[0:DATA_NUM_WAYPOINTS]\n",
    "    X_train.append(d_xy)\n",
    "'''\n",
    "print(len(X_train))\n",
    "print(X_train[0].shape)"
   ]
  },
  {
   "cell_type": "code",
   "execution_count": 6,
   "metadata": {
    "scrolled": true
   },
   "outputs": [
    {
     "data": {
      "image/png": "[encoded data removed]",
      "text/plain": [
       "<matplotlib.figure.Figure at 0x7f8106143390>"
      ]
     },
     "metadata": {},
     "output_type": "display_data"
    },
    {
     "name": "stdout",
     "output_type": "stream",
     "text": [
      " -- x_train -- \n",
      "[[ 2.99312450e-02 -1.18514721e-07 -1.21887737e+00]\n",
      " [ 5.90425534e-02  6.95769379e-03 -9.84267367e-01]\n",
      " [ 8.57389210e-02  2.04922195e-02 -7.49657367e-01]\n",
      " [ 1.08557658e-01  3.98619039e-02 -5.15047367e-01]\n",
      " [ 1.26248529e-01  6.40054849e-02 -2.80437367e-01]\n",
      " [ 1.37842254e-01  9.16001396e-02 -4.58273672e-02]\n",
      " [ 1.42703615e-01  1.21133961e-01  1.88782633e-01]\n",
      " [ 1.40566258e-01  1.50988795e-01  4.23392633e-01]\n",
      " [ 1.31547289e-01  1.79528901e-01  6.58002633e-01]\n",
      " [ 1.16140856e-01  2.05190570e-01  8.92612633e-01]]\n"
     ]
    },
    {
     "data": {
      "image/png": "[encoded data removed]",
      "text/plain": [
       "<matplotlib.figure.Figure at 0x7f8106118cc0>"
      ]
     },
     "metadata": {},
     "output_type": "display_data"
    },
    {
     "name": "stdout",
     "output_type": "stream",
     "text": [
      " -- x_train -- \n",
      "[[ 2.99994839e-02 -2.88941755e-08 -1.54031536e+00]\n",
      " [ 5.99927751e-02  6.09489781e-04 -1.51999536e+00]\n",
      " [ 8.99674899e-02  1.82830436e-03 -1.49967536e+00]\n",
      " [ 1.19911252e-01  3.65591161e-03 -1.47935536e+00]\n",
      " [ 1.49811698e-01  6.09155694e-03 -1.45903536e+00]\n",
      " [ 1.79656482e-01  9.13423469e-03 -1.43871536e+00]\n",
      " [ 2.09433282e-01  1.27826886e-02 -1.41839536e+00]\n",
      " [ 2.39129803e-01  1.70354122e-02 -1.39807536e+00]\n",
      " [ 2.68733784e-01  2.18906497e-02 -1.37775536e+00]\n",
      " [ 2.98233002e-01  2.73463963e-02 -1.35743536e+00]]\n"
     ]
    },
    {
     "data": {
      "image/png": "[encoded data removed]",
      "text/plain": [
       "<matplotlib.figure.Figure at 0x7f81060b6f60>"
      ]
     },
     "metadata": {},
     "output_type": "display_data"
    },
    {
     "name": "stdout",
     "output_type": "stream",
     "text": [
      " -- x_train -- \n",
      "[[ 2.99460271e-02  1.62574195e-08 -1.88257187e+00]\n",
      " [ 5.92475246e-02 -6.17952977e-03 -2.09042187e+00]\n",
      " [ 8.66431708e-02 -1.82726314e-02 -2.29827187e+00]\n",
      " [ 1.10953684e-01 -3.57587252e-02 -2.50612187e+00]\n",
      " [ 1.31132587e-01 -5.78850992e-02 -2.71397187e+00]\n",
      " [ 1.46311251e-01 -8.36992946e-02 -2.92182187e+00]\n",
      " [ 1.55836292e-01 -1.12090105e-01 -3.12967187e+00]\n",
      " [ 1.59297691e-01 -1.41835412e-01 -3.33752187e+00]\n",
      " [ 1.56546448e-01 -1.71654788e-01 -3.54537187e+00]\n",
      " [ 1.47700994e-01 -2.00264620e-01 -3.75322187e+00]]\n"
     ]
    },
    {
     "data": {
      "image/png": "[encoded data removed]",
      "text/plain": [
       "<matplotlib.figure.Figure at 0x7f81001e66a0>"
      ]
     },
     "metadata": {},
     "output_type": "display_data"
    },
    {
     "name": "stdout",
     "output_type": "stream",
     "text": [
      " -- x_train -- \n",
      "[[ 2.96555711e-02 -5.89848686e-08 -7.82049338e-01]\n",
      " [ 5.53049306e-02  1.48849420e-02 -2.56219338e-01]\n",
      " [ 7.00180134e-02  4.06333029e-02  2.69610662e-01]\n",
      " [ 6.98195691e-02  7.02882101e-02  7.95440662e-01]\n",
      " [ 5.47632145e-02  9.58373604e-02  1.32127066e+00]\n",
      " [ 2.89169465e-02  1.10377764e-01  1.84710066e+00]\n",
      " [-7.35967936e-04  1.09980825e-01  2.37293066e+00]\n",
      " [-2.61837643e-02  9.47537914e-02  2.89876066e+00]\n",
      " [-4.05508367e-02  6.88107745e-02  3.42459066e+00]\n",
      " [-3.99554216e-02  3.91611813e-02  3.95042066e+00]]\n"
     ]
    },
    {
     "data": {
      "image/png": "[encoded data removed]",
      "text/plain": [
       "<matplotlib.figure.Figure at 0x7f81001e45c0>"
      ]
     },
     "metadata": {},
     "output_type": "display_data"
    },
    {
     "name": "stdout",
     "output_type": "stream",
     "text": [
      " -- x_train -- \n",
      "[[ 2.96213893e-02 -2.63894801e-08 -7.43695436e-01]\n",
      " [ 5.48526634e-02  1.55180120e-02 -1.92295436e-01]\n",
      " [ 6.82148651e-02  4.19543180e-02  3.59104564e-01]\n",
      " [ 6.57472219e-02  7.14727435e-02  9.10504564e-01]\n",
      " [ 4.81811833e-02  9.53235504e-02  1.46190456e+00]\n",
      " [ 2.07236067e-02  1.06436974e-01  2.01330456e+00]\n",
      " [-8.48663870e-03  1.01518817e-01  2.56470456e+00]\n",
      " [-3.07911644e-02  8.20268999e-02  3.11610456e+00]\n",
      " [-3.95785487e-02  5.37389417e-02  3.66750456e+00]\n",
      " [-3.22440691e-02  2.50399501e-02  4.21890456e+00]]\n"
     ]
    },
    {
     "data": {
      "image/png": "[encoded data removed]",
      "text/plain": [
       "<matplotlib.figure.Figure at 0x7f810019bf28>"
      ]
     },
     "metadata": {},
     "output_type": "display_data"
    },
    {
     "name": "stdout",
     "output_type": "stream",
     "text": [
      " -- x_train -- \n",
      "[[ 2.99993610e-02  8.75445817e-08 -1.60471425e+00]\n",
      " [ 5.99910563e-02 -6.78052695e-04 -1.62732425e+00]\n",
      " [ 8.99597544e-02 -2.03407406e-03 -1.64993425e+00]\n",
      " [ 1.19890136e-01 -4.06728337e-03 -1.67254425e+00]\n",
      " [ 1.49766900e-01 -6.77664126e-03 -1.69515425e+00]\n",
      " [ 1.79574774e-01 -1.01607627e-02 -1.71776425e+00]\n",
      " [ 2.09298522e-01 -1.42179179e-02 -1.74037425e+00]\n",
      " [ 2.38922947e-01 -1.89460327e-02 -1.76298425e+00]\n",
      " [ 2.68432907e-01 -2.43426902e-02 -1.78559425e+00]\n",
      " [ 2.97813317e-01 -3.04051317e-02 -1.80820425e+00]]\n"
     ]
    },
    {
     "data": {
      "image/png": "[encoded data removed]",
      "text/plain": [
       "<matplotlib.figure.Figure at 0x7f81001e4898>"
      ]
     },
     "metadata": {},
     "output_type": "display_data"
    },
    {
     "name": "stdout",
     "output_type": "stream",
     "text": [
      " -- x_train -- \n",
      "[[ 2.98879331e-02 -6.47906133e-08 -1.12140916e+00]\n",
      " [ 5.84446042e-02  8.82065398e-03 -8.21819159e-01]\n",
      " [ 8.31260464e-02  2.56763639e-02 -5.22229159e-01]\n",
      " [ 1.01733517e-01  4.90654764e-02 -2.22639159e-01]\n",
      " [ 1.12609372e-01  7.69043758e-02  7.69508410e-02]\n",
      " [ 1.14784738e-01  1.06713038e-01  3.76540841e-01]\n",
      " [ 1.08065822e-01  1.35835962e-01  6.76130841e-01]\n",
      " [ 9.30511780e-02  1.61678737e-01  9.75720841e-01]\n",
      " [ 7.10783836e-02  1.81939163e-01  1.27531084e+00]\n",
      " [ 4.41048819e-02  1.94812342e-01  1.57490084e+00]]\n"
     ]
    },
    {
     "data": {
      "image/png": "[encoded data removed]",
      "text/plain": [
       "<matplotlib.figure.Figure at 0x7f8100182b00>"
      ]
     },
     "metadata": {},
     "output_type": "display_data"
    },
    {
     "name": "stdout",
     "output_type": "stream",
     "text": [
      " -- x_train -- \n",
      "[[ 2.99970135e-02  9.27750923e-08 -1.64411942e+00]\n",
      " [ 5.99582035e-02 -1.46548478e-03 -1.69299942e+00]\n",
      " [ 8.98119992e-02 -4.39323171e-03 -1.74187942e+00]\n",
      " [ 1.19487087e-01 -8.77615429e-03 -1.79075942e+00]\n",
      " [ 1.48912578e-01 -1.46037827e-02 -1.83963942e+00]\n",
      " [ 1.78018184e-01 -2.18621960e-02 -1.88851942e+00]\n",
      " [ 2.06734375e-01 -3.05340554e-02 -1.93739942e+00]\n",
      " [ 2.34992557e-01 -4.05986459e-02 -1.98627942e+00]\n",
      " [ 2.62725226e-01 -5.20319253e-02 -2.03515942e+00]\n",
      " [ 2.89866136e-01 -6.48065820e-02 -2.08403942e+00]]\n"
     ]
    },
    {
     "data": {
      "image/png": "[encoded data removed]",
      "text/plain": [
       "<matplotlib.figure.Figure at 0x7f81000ed5c0>"
      ]
     },
     "metadata": {},
     "output_type": "display_data"
    },
    {
     "name": "stdout",
     "output_type": "stream",
     "text": [
      " -- x_train -- \n",
      "[[ 2.98813300e-02 -1.10173574e-07 -1.10834264e+00]\n",
      " [ 5.83538124e-02  9.06695258e-03 -8.00042640e-01]\n",
      " [ 8.27325373e-02  2.63461786e-02 -4.91742640e-01]\n",
      " [ 1.00718630e-01  5.02081644e-02 -1.83442640e-01]\n",
      " [ 1.10616029e-01  7.84027624e-02  1.24857360e-01]\n",
      " [ 1.11491427e-01  1.08271267e-01  4.33157360e-01]\n",
      " [ 1.03262275e-01  1.36997125e-01  7.41457360e-01]\n",
      " [ 8.67045688e-02  1.61871534e-01  1.04975736e+00]\n",
      " [ 6.33796734e-02  1.80548877e-01  1.35805736e+00]\n",
      " [ 3.54870899e-02  1.91267910e-01  1.66635736e+00]]\n"
     ]
    },
    {
     "data": {
      "image/png": "[encoded data removed]",
      "text/plain": [
       "<matplotlib.figure.Figure at 0x7f81000b2d68>"
      ]
     },
     "metadata": {},
     "output_type": "display_data"
    },
    {
     "name": "stdout",
     "output_type": "stream",
     "text": [
      " -- x_train -- \n",
      "[[ 2.97192234e-02 -1.35847434e-07 -8.58876756e-01]\n",
      " [ 5.61536734e-02  1.35811784e-02 -3.84266756e-01]\n",
      " [ 7.34598040e-02  3.77416851e-02  9.03432442e-02]\n",
      " [ 7.78119573e-02  6.71405117e-02  5.64953244e-01]\n",
      " [ 6.82480551e-02  9.52788132e-02  1.03956324e+00]\n",
      " [ 4.68822742e-02  1.15936394e-01  1.51417324e+00]\n",
      " [ 1.84376906e-02  1.24546731e-01  1.98878324e+00]\n",
      " [-1.07977937e-02  1.19206441e-01  2.46339324e+00]\n",
      " [-3.43614421e-02  1.01096038e-01  2.93800324e+00]\n",
      " [-4.70443222e-02  7.42189695e-02  3.41261324e+00]]\n"
     ]
    },
    {
     "data": {
      "image/png": "[encoded data removed]",
      "text/plain": [
       "<matplotlib.figure.Figure at 0x7f81000af080>"
      ]
     },
     "metadata": {},
     "output_type": "display_data"
    },
    {
     "name": "stdout",
     "output_type": "stream",
     "text": [
      " -- x_train -- \n",
      "[[ 2.98622276e-02 -9.20090040e-08 -1.07246325e+00]\n",
      " [ 5.80916375e-02  9.73916084e-03 -7.40243246e-01]\n",
      " [ 8.16010977e-02  2.81526863e-02 -4.08023246e-01]\n",
      " [ 9.78196434e-02  5.32268046e-02 -7.58032457e-02]\n",
      " [ 1.04973635e-01  8.22194422e-02  2.56416754e-01]\n",
      " [ 1.02280722e-01  1.11960001e-01  5.88636754e-01]\n",
      " [ 9.00353962e-02  1.39196092e-01  9.20856754e-01]\n",
      " [ 6.95767923e-02  1.60949210e-01  1.25307675e+00]\n",
      " [ 4.31422366e-02  1.74840463e-01  1.58529675e+00]\n",
      " [ 1.36225785e-02  1.79350720e-01  1.91751675e+00]]\n"
     ]
    },
    {
     "data": {
      "image/png": "[encoded data removed]",
      "text/plain": [
       "<matplotlib.figure.Figure at 0x7f81060c9320>"
      ]
     },
     "metadata": {},
     "output_type": "display_data"
    },
    {
     "name": "stdout",
     "output_type": "stream",
     "text": [
      " -- x_train -- \n",
      "[[ 2.99256597e-02 -1.45628820e-07 -1.20485146e+00]\n",
      " [ 5.89652277e-02  7.22817389e-03 -9.60891460e-01]\n",
      " [ 8.53989260e-02  2.12568839e-02 -7.16931460e-01]\n",
      " [ 1.07661301e-01  4.12551777e-02 -4.72971460e-01]\n",
      " [ 1.24433934e-01  6.60387188e-02 -2.29011460e-01]\n",
      " [ 1.34723517e-01  9.41397792e-02  1.49485396e-02]\n",
      " [ 1.37920681e-01  1.23894161e-01  2.58908540e-01]\n",
      " [ 1.33836086e-01  1.53539754e-01  5.02868540e-01]\n",
      " [ 1.22711628e-01  1.81320891e-01  7.46828540e-01]\n",
      " [ 1.05206118e-01  2.05592319e-01  9.90788540e-01]]\n"
     ]
    },
    {
     "data": {
      "image/png": "[encoded data removed]",
      "text/plain": [
       "<matplotlib.figure.Figure at 0x7f81000ed6d8>"
      ]
     },
     "metadata": {},
     "output_type": "display_data"
    },
    {
     "name": "stdout",
     "output_type": "stream",
     "text": [
      " -- x_train -- \n",
      "[[ 2.99862180e-02 -1.31367782e-08 -1.41328089e+00]\n",
      " [ 5.98072588e-02  3.14304262e-03 -1.30827089e+00]\n",
      " [ 8.91345847e-02  9.39454033e-03 -1.20326089e+00]\n",
      " [ 1.17645098e-01  1.86856074e-02 -1.09825089e+00]\n",
      " [ 1.45024698e-01  3.09138845e-02 -9.93240889e-01]\n",
      " [ 1.70971745e-01  4.59446529e-02 -8.88230889e-01]\n",
      " [ 1.95200382e-01  6.36123192e-02 -7.83220889e-01]\n",
      " [ 2.17443682e-01  8.37222392e-02 -6.78210889e-01]\n",
      " [ 2.37456591e-01  1.06052862e-01 -5.73200889e-01]\n",
      " [ 2.55018628e-01  1.30358173e-01 -4.68190889e-01]]\n"
     ]
    },
    {
     "data": {
      "image/png": "[encoded data removed]",
      "text/plain": [
       "<matplotlib.figure.Figure at 0x7f810013fe80>"
      ]
     },
     "metadata": {},
     "output_type": "display_data"
    },
    {
     "name": "stdout",
     "output_type": "stream",
     "text": [
      " -- x_train -- \n",
      "[[ 2.95427123e-02  2.23867931e-09 -2.48014140e+00]\n",
      " [ 5.38209706e-02 -1.68326453e-02 -3.08637140e+00]\n",
      " [ 6.41820959e-02 -4.44988509e-02 -3.69260140e+00]\n",
      " [ 5.69334224e-02 -7.31384840e-02 -4.29883140e+00]\n",
      " [ 3.46583498e-02 -9.25444880e-02 -4.90506140e+00]\n",
      " [ 5.29562946e-03 -9.58006368e-02 -5.51129140e+00]\n",
      " [-2.06899766e-02 -8.17464513e-02 -6.11752140e+00]\n",
      " [-3.40372970e-02 -5.53907899e-02 -6.72375140e+00]\n",
      " [-2.99893974e-02 -2.61267103e-02 -7.32998140e+00]\n",
      " [-9.98893398e-03 -4.38381921e-03 -7.93621140e+00]]\n"
     ]
    },
    {
     "data": {
      "image/png": "[encoded data removed]",
      "text/plain": [
       "<matplotlib.figure.Figure at 0x7f81000dbc50>"
      ]
     },
     "metadata": {},
     "output_type": "display_data"
    },
    {
     "name": "stdout",
     "output_type": "stream",
     "text": [
      " -- x_train -- \n",
      "[[ 2.98178227e-02 -1.45570857e-07 -9.97626445e-01]\n",
      " [ 5.74852362e-02  1.11181630e-02 -6.15516445e-01]\n",
      " [ 7.90114886e-02  3.17512193e-02 -2.33406445e-01]\n",
      " [ 9.12916302e-02  5.89229081e-02  1.48703555e-01]\n",
      " [ 9.25543714e-02  8.87139813e-02  5.30813555e-01]\n",
      " [ 8.26175745e-02  1.16827370e-01  9.12923555e-01]\n",
      " [ 6.29145243e-02  1.39207995e-01  1.29503356e+00]\n",
      " [ 3.62871917e-02  1.52627671e-01  1.67714356e+00]\n",
      " [ 6.57630715e-03  1.55150743e-01  2.05925356e+00]\n",
      " [-2.19326271e-02  1.46413282e-01  2.44136356e+00]]\n"
     ]
    },
    {
     "data": {
      "image/png": "[encoded data removed]",
      "text/plain": [
       "<matplotlib.figure.Figure at 0x7f81002b57f0>"
      ]
     },
     "metadata": {},
     "output_type": "display_data"
    },
    {
     "name": "stdout",
     "output_type": "stream",
     "text": [
      " -- x_train -- \n",
      "[[ 2.99119250e-02 -1.40000907e-08 -1.17245586e+00]\n",
      " [ 5.87753116e-02  7.85034761e-03 -9.06895859e-01]\n",
      " [ 8.45665868e-02  2.30007067e-02 -6.41335859e-01]\n",
      " [ 1.05477560e-01  4.43888921e-02 -3.75775859e-01]\n",
      " [ 1.20042190e-01  7.05154073e-02 -1.10215859e-01]\n",
      " [ 1.27239372e-01  9.95485579e-02  1.55344141e-01]\n",
      " [ 1.26564520e-01  1.29452869e-01  4.20904141e-01]\n",
      " [ 1.18064948e-01  1.58131791e-01  6.86464141e-01]\n",
      " [ 1.02336549e-01  1.83574682e-01  9.52024141e-01]\n",
      " [ 8.04820196e-02  2.03997777e-01  1.21758414e+00]]\n"
     ]
    },
    {
     "data": {
      "image/png": "[encoded data removed]",
      "text/plain": [
       "<matplotlib.figure.Figure at 0x7f8100060f98>"
      ]
     },
     "metadata": {},
     "output_type": "display_data"
    },
    {
     "name": "stdout",
     "output_type": "stream",
     "text": [
      " -- x_train -- \n",
      "[[ 2.99906351e-02 -1.03610023e-07 -1.44095287e+00]\n",
      " [ 5.98689948e-02  2.59254196e-03 -1.35439287e+00]\n",
      " [ 8.94113514e-02  7.75852308e-03 -1.26783287e+00]\n",
      " [ 1.18396493e-01  1.54591571e-02 -1.18127287e+00]\n",
      " [ 1.46607380e-01  2.56367821e-02 -1.09471287e+00]\n",
      " [ 1.73832770e-01  3.82151883e-02 -1.00815287e+00]\n",
      " [ 1.99868802e-01  5.31001893e-02 -9.21592872e-01]\n",
      " [ 2.24520518e-01  7.01803267e-02 -8.35032872e-01]\n",
      " [ 2.47603327e-01  8.93277054e-02 -7.48472872e-01]\n",
      " [ 2.68944387e-01  1.10398950e-01 -6.61912872e-01]]\n"
     ]
    },
    {
     "data": {
      "image/png": "[encoded data removed]",
      "text/plain": [
       "<matplotlib.figure.Figure at 0x7f8100246710>"
      ]
     },
     "metadata": {},
     "output_type": "display_data"
    },
    {
     "name": "stdout",
     "output_type": "stream",
     "text": [
      " -- x_train -- \n",
      "[[ 2.98770477e-02  5.62216097e-08 -2.04152821e+00]\n",
      " [ 5.82949566e-02 -9.22276511e-03 -2.35534821e+00]\n",
      " [ 8.24779393e-02 -2.67676028e-02 -2.66916821e+00]\n",
      " [ 1.00063865e-01 -5.09207227e-02 -2.98298821e+00]\n",
      " [ 1.09334986e-01 -7.93229109e-02 -3.29680821e+00]\n",
      " [ 1.09385723e-01 -1.09199916e-01 -3.61062821e+00]\n",
      " [ 1.00211121e-01 -1.37633429e-01 -3.92444821e+00]\n",
      " [ 8.27073310e-02 -1.61846138e-01 -4.23826821e+00]\n",
      " [ 5.85840773e-02 -1.79473010e-01 -4.55208821e+00]\n",
      " [ 3.01976568e-02 -1.88792297e-01 -4.86590821e+00]]\n"
     ]
    },
    {
     "data": {
      "image/png": "[encoded data removed]",
      "text/plain": [
       "<matplotlib.figure.Figure at 0x7f81001962e8>"
      ]
     },
     "metadata": {},
     "output_type": "display_data"
    },
    {
     "name": "stdout",
     "output_type": "stream",
     "text": [
      " -- x_train -- \n",
      "[[ 2.97102215e-02 -4.56725441e-08 -8.47524790e-01]\n",
      " [ 5.60330871e-02  1.37768919e-02 -3.65344790e-01]\n",
      " [ 7.29662535e-02  3.81892891e-02  1.16835210e-01]\n",
      " [ 7.66484895e-02  6.76704424e-02  5.99015210e-01]\n",
      " [ 6.62401430e-02  9.54978315e-02  1.08119521e+00]\n",
      " [ 4.41146057e-02  1.15326040e-01  1.56337521e+00]\n",
      " [ 1.53171135e-02  1.22633687e-01  2.04555521e+00]\n",
      " [-1.35857070e-02  1.15754426e-01  2.52773521e+00]\n",
      " [-3.60032113e-02  9.62569197e-02  3.00991521e+00]\n",
      " [-4.68235869e-02  6.85871395e-02  3.49209521e+00]]\n"
     ]
    },
    {
     "data": {
      "image/png": "[encoded data removed]",
      "text/plain": [
       "<matplotlib.figure.Figure at 0x7f8100232e10>"
      ]
     },
     "metadata": {},
     "output_type": "display_data"
    },
    {
     "name": "stdout",
     "output_type": "stream",
     "text": [
      " -- x_train -- \n",
      "[[ 2.98753830e-02  9.36276374e-08 -2.04470946e+00]\n",
      " [ 5.82721050e-02 -9.28240010e-03 -2.36064946e+00]\n",
      " [ 8.23791592e-02 -2.69286021e-02 -2.67658946e+00]\n",
      " [ 9.98101753e-02 -5.11917055e-02 -2.99252946e+00]\n",
      " [ 1.08839648e-01 -7.96698925e-02 -3.30846946e+00]\n",
      " [ 1.08573744e-01 -1.09544092e-01 -3.62440946e+00]\n",
      " [ 9.90387867e-02 -1.37857041e-01 -3.94034946e+00]\n",
      " [ 8.11786456e-02 -1.61806026e-01 -4.25628946e+00]\n",
      " [ 5.67613060e-02 -1.79020323e-01 -4.57222946e+00]\n",
      " [ 2.82038534e-02 -1.87795881e-01 -4.88816946e+00]]\n"
     ]
    }
   ],
   "source": [
    "# plot data\n",
    "p = X_train\n",
    "random.shuffle(p)\n",
    "if(settings.gpu_index >= 0):\n",
    "    p = chainer.cuda.to_cpu(X_train)\n",
    "\n",
    "for num in range(20):\n",
    "    plt.scatter(0, 0,c=\"black\",edgecolor=\"black\",s=30,marker=\"o\")\n",
    "    plt.scatter(p[num][:,0], p[num][:,1],c=\"red\",edgecolor=\"red\",s=30,marker=\"o\")\n",
    "    plt.xlim([-.2,.2])\n",
    "    plt.ylim([-.2,.2])\n",
    "    plt.grid()\n",
    "    plt.show()\n",
    "    print(' -- x_train -- ')\n",
    "    print(p[num])"
   ]
  },
  {
   "cell_type": "code",
   "execution_count": 7,
   "metadata": {},
   "outputs": [],
   "source": [
    "# loss\n",
    "def error_squares(z_oplus,z_true):\n",
    "    #print(predict)\n",
    "    #print(groundtruth)\n",
    "    w = xp.array([1., 1., 0.],dtype=xp.float32)\n",
    "    t = z_true * w\n",
    "    p = z_oplus * w\n",
    "    error = F.sqrt(F.sum((t-p)*(t-p)))\n",
    "    return error\n",
    "\n",
    "def error_limit_rotate_vel(predict,limit):\n",
    "    w = xp.array([0., 0., 1.],dtype=xp.float32)\n",
    "    p = predict * w\n",
    "    vel = F.sum(F.absolute(p))\n",
    "    if vel.data < limit:\n",
    "        error = vel * .0\n",
    "    else:\n",
    "        error = (vel - limit) / limit\n",
    "    return error\n",
    "\n",
    "def error_limit_trans_vel(predict,limit):\n",
    "    w = xp.array([1., 0., 0.],dtype=xp.float32)\n",
    "    p = predict * w\n",
    "    vel = F.sum(F.absolute(p))\n",
    "    if vel.data <= limit:\n",
    "        error = vel * .0\n",
    "    else:\n",
    "        error = (vel - limit) / limit\n",
    "    return error\n",
    "\n",
    "def error_diff_v(y0, y1):\n",
    "    w = xp.array([0., 0., 1.],dtype=xp.float32)\n",
    "    v0 = y0 * w\n",
    "    v1 = y1 * w\n",
    "    error = F.absolute(F.sum(v1 - v0))\n",
    "    return error\n",
    "\n",
    "def error_diff_w(y0, y1):\n",
    "    w = xp.array([0., 0., 1.],dtype=xp.float32)\n",
    "    v0 = y0 * w\n",
    "    v1 = y1 * w\n",
    "    error = F.absolute(F.sum(v1 - v0))\n",
    "    return error\n",
    "\n",
    "def calc_oplus(y):\n",
    "    dst = []\n",
    "    z = y[0,0]\n",
    "    dst.append(z)\n",
    "    for step in range(1,DATA_NUM_STEP):\n",
    "        z = oplus(z,y[0,step])\n",
    "        dst.append(z)\n",
    "    return dst\n",
    "\n",
    "def loss_function(y, y_true,disp_loss=0):\n",
    "    dmesg = ''\n",
    "    z_true = y_true\n",
    "    z_oplus = calc_oplus(y)\n",
    "    # distance\n",
    "    e_distance = error_squares(z_oplus[0],z_true[0])\n",
    "    for i in range(1,DATA_NUM_WAYPOINTS):\n",
    "        e_distance = e_distance + error_squares(z_oplus[i],z_true[i])\n",
    "    dmesg = dmesg + 'e_distance: ' + str(e_distance) + '\\t'\n",
    "    '''\n",
    "    # limit v\n",
    "    e_lim_v = error_limit_trans_vel(y[0,0], DATA_M_PER_STEP)\n",
    "    for i in range(1,DATA_NUM_STEP):\n",
    "        e_lim_v = e_lim_v + error_limit_trans_vel(y[0,i], DATA_M_PER_STEP)\n",
    "    dmesg = dmesg + 'e_distance: ' + str(e_distance) + '\\t'\n",
    "    # limit w\n",
    "    e_lim_w = error_limit_rotate_vel(y[0,0], DATA_RAD_PER_STEP)\n",
    "    for i in range(1,DATA_NUM_STEP):\n",
    "        e_lim_w = e_lim_w + error_limit_rotate_vel(y[0,i] , DATA_RAD_PER_STEP)\n",
    "    dmesg = dmesg + 'e_distance: ' + str(e_distance) + '\\t'\n",
    "    '''\n",
    "    \n",
    "    '''\n",
    "    e_diff_v = error_diff_v(y[0,0],y[0,1])\n",
    "    for i in range(2,DATA_NUM_STEP):\n",
    "        e_diff_v = error_diff_v(y[0,i-1],y[0,i])\n",
    "    dmesg = dmesg + 'e_dv: ' + str(e_distance) + '\\t'\n",
    "    '''\n",
    "    e_diff_w = error_diff_v(y[0,0],y[0,1])\n",
    "    for i in range(2,DATA_NUM_STEP):\n",
    "        e_diff_w = error_diff_w(y[0,i-1],y[0,i])\n",
    "    dmesg = dmesg + 'e_dw: ' + str(e_distance) + '\\t'\n",
    "    \n",
    "    loss = (100 * e_distance)\n",
    "    #loss = loss + (1 * e_lim_w)\n",
    "    #loss = loss + (1 * e_lim_v)\n",
    "    #loss = loss + (1 * e_diff_v)\n",
    "    loss = loss + (1 * e_diff_w)\n",
    "    if(disp_loss):\n",
    "        print(dmesg)\n",
    "    return loss"
   ]
  },
  {
   "cell_type": "code",
   "execution_count": 8,
   "metadata": {},
   "outputs": [],
   "source": [
    "# training\n",
    "def train(model,X,epoch=10):\n",
    "    if settings.gpu_index >= 0:\n",
    "        cuda.cupy.cuda.Device(settings.gpu_index).use()\n",
    "        model.to_gpu(settings.gpu_index)\n",
    "    opt = optimizers.Adam()\n",
    "    opt.setup(model)\n",
    "    ep = 0\n",
    "    AvgLoss = []\n",
    "    while ep < epoch:\n",
    "        random.shuffle(X)\n",
    "        L = .0\n",
    "        for itr in range(len(X)):\n",
    "            x = xp.ravel(X[itr][:,0:2])\n",
    "            x = Variable(xp.array([x],dtype=xp.float32))\n",
    "            y = model(x)\n",
    "            # zero-padding\n",
    "            pad = Variable(xp.zeros((1,DATA_NUM_WAYPOINTS,1),dtype=xp.float32))\n",
    "            y_pad = F.concat((y,pad),axis=2)\n",
    "            y_pad = F.permutate(y_pad, xp.array([0,2,1],'i'), axis=2)\n",
    "            # loss\n",
    "            loss = loss_function(y_pad, X[itr][:])\n",
    "            model.cleargrads()\n",
    "            loss.backward()\n",
    "            opt.update()\n",
    "            # y_grad = chainer.grad( (e,), (y,) )[0]\n",
    "            # print(y_grad)\n",
    "            # x_grad = chainer.grad( (e,), (x,) )[0]\n",
    "            # print(x_grad)\n",
    "            L = L + loss.data\n",
    "        ep = ep + 1\n",
    "        print('Epoch:',ep,', Average loss:',L / len(X))\n",
    "        AvgLoss.append(L / len(X))\n",
    "    fig = plt.figure()\n",
    "    plt.plot(range(len(AvgLoss)),AvgLoss)\n",
    "    plt.xlabel('Epoch')\n",
    "    plt.ylabel('Average loss (squares)') #*10, lim_v, lim_w, )')\n",
    "    plt.text(len(AvgLoss)-1, AvgLoss[-1],str(AvgLoss[-1]),ha='center',va='top' )\n",
    "    return model, fig"
   ]
  },
  {
   "cell_type": "code",
   "execution_count": 9,
   "metadata": {
    "scrolled": false
   },
   "outputs": [
    {
     "name": "stdout",
     "output_type": "stream",
     "text": [
      "Epoch: 1 , Average loss: 66.97131\n",
      "Epoch: 2 , Average loss: 35.72958\n",
      "Epoch: 3 , Average loss: 29.961819\n",
      "Epoch: 4 , Average loss: 26.929478\n",
      "Epoch: 5 , Average loss: 24.4991\n",
      "Epoch: 6 , Average loss: 22.746939\n",
      "Epoch: 7 , Average loss: 21.110748\n",
      "Epoch: 8 , Average loss: 20.047453\n",
      "Epoch: 9 , Average loss: 18.671541\n",
      "Epoch: 10 , Average loss: 17.872784\n",
      "Epoch: 11 , Average loss: 16.689644\n",
      "Epoch: 12 , Average loss: 16.265305\n",
      "Epoch: 13 , Average loss: 15.351883\n",
      "Epoch: 14 , Average loss: 14.885757\n",
      "Epoch: 15 , Average loss: 14.297971\n",
      "Epoch: 16 , Average loss: 14.158012\n",
      "Epoch: 17 , Average loss: 13.918568\n",
      "Epoch: 18 , Average loss: 13.646574\n",
      "Epoch: 19 , Average loss: 13.511459\n",
      "Epoch: 20 , Average loss: 13.200546\n",
      "Epoch: 21 , Average loss: 13.143515\n",
      "Epoch: 22 , Average loss: 12.833399\n",
      "Epoch: 23 , Average loss: 12.670028\n",
      "Epoch: 24 , Average loss: 12.619784\n",
      "Epoch: 25 , Average loss: 12.4048815\n",
      "Epoch: 26 , Average loss: 12.268879\n",
      "Epoch: 27 , Average loss: 11.996741\n",
      "Epoch: 28 , Average loss: 11.832453\n",
      "Epoch: 29 , Average loss: 11.584328\n",
      "Epoch: 30 , Average loss: 11.363453\n",
      "Epoch: 31 , Average loss: 11.540033\n",
      "Epoch: 32 , Average loss: 10.928565\n",
      "Epoch: 33 , Average loss: 11.137484\n",
      "Epoch: 34 , Average loss: 10.927164\n",
      "Epoch: 35 , Average loss: 11.005118\n",
      "Epoch: 36 , Average loss: 10.751599\n",
      "Epoch: 37 , Average loss: 10.7967205\n",
      "Epoch: 38 , Average loss: 10.6756\n",
      "Epoch: 39 , Average loss: 10.662336\n",
      "Epoch: 40 , Average loss: 10.334142\n",
      "Epoch: 41 , Average loss: 10.268776\n",
      "Epoch: 42 , Average loss: 10.274357\n",
      "Epoch: 43 , Average loss: 10.33782\n",
      "Epoch: 44 , Average loss: 9.966807\n",
      "Epoch: 45 , Average loss: 10.106656\n",
      "Epoch: 46 , Average loss: 9.925318\n",
      "Epoch: 47 , Average loss: 9.933952\n",
      "Epoch: 48 , Average loss: 9.605736\n",
      "Epoch: 49 , Average loss: 9.583335\n",
      "Epoch: 50 , Average loss: 9.687932\n",
      "Epoch: 51 , Average loss: 9.067941\n",
      "Epoch: 52 , Average loss: 9.387767\n",
      "Epoch: 53 , Average loss: 9.24906\n",
      "Epoch: 54 , Average loss: 9.247697\n",
      "Epoch: 55 , Average loss: 9.1052265\n",
      "Epoch: 56 , Average loss: 9.28677\n",
      "Epoch: 57 , Average loss: 8.957288\n",
      "Epoch: 58 , Average loss: 8.958639\n",
      "Epoch: 59 , Average loss: 8.907199\n",
      "Epoch: 60 , Average loss: 8.906413\n",
      "Epoch: 61 , Average loss: 8.962934\n",
      "Epoch: 62 , Average loss: 8.843289\n",
      "Epoch: 63 , Average loss: 8.687752\n",
      "Epoch: 64 , Average loss: 8.720535\n",
      "Epoch: 65 , Average loss: 8.745323\n",
      "Epoch: 66 , Average loss: 8.75337\n",
      "Epoch: 67 , Average loss: 8.647005\n",
      "Epoch: 68 , Average loss: 8.59329\n",
      "Epoch: 69 , Average loss: 8.359259\n",
      "Epoch: 70 , Average loss: 8.524989\n",
      "Epoch: 71 , Average loss: 8.458569\n",
      "Epoch: 72 , Average loss: 8.382206\n",
      "Epoch: 73 , Average loss: 8.450774\n",
      "Epoch: 74 , Average loss: 8.641611\n",
      "Epoch: 75 , Average loss: 8.300531\n",
      "Epoch: 76 , Average loss: 8.377518\n",
      "Epoch: 77 , Average loss: 8.541896\n",
      "Epoch: 78 , Average loss: 8.408064\n",
      "Epoch: 79 , Average loss: 8.295049\n",
      "Epoch: 80 , Average loss: 8.491684\n",
      "Epoch: 81 , Average loss: 8.286728\n",
      "Epoch: 82 , Average loss: 8.355794\n",
      "Epoch: 83 , Average loss: 8.485234\n",
      "Epoch: 84 , Average loss: 8.273395\n",
      "Epoch: 85 , Average loss: 8.166334\n",
      "Epoch: 86 , Average loss: 8.258049\n",
      "Epoch: 87 , Average loss: 8.280223\n",
      "Epoch: 88 , Average loss: 8.335085\n",
      "Epoch: 89 , Average loss: 8.283516\n",
      "Epoch: 90 , Average loss: 8.250127\n",
      "Epoch: 91 , Average loss: 8.245534\n",
      "Epoch: 92 , Average loss: 8.422525\n",
      "Epoch: 93 , Average loss: 8.17391\n",
      "Epoch: 94 , Average loss: 8.321597\n",
      "Epoch: 95 , Average loss: 8.232812\n",
      "Epoch: 96 , Average loss: 8.353758\n",
      "Epoch: 97 , Average loss: 8.204451\n",
      "Epoch: 98 , Average loss: 8.279124\n",
      "Epoch: 99 , Average loss: 8.375342\n",
      "Epoch: 100 , Average loss: 8.309899\n",
      "start: 2019/10/01 16:00:59\n",
      "finish: 2019/10/01 16:55:09\n"
     ]
    },
    {
     "data": {
      "image/png": "[encoded data removed]",
      "text/plain": [
       "<matplotlib.figure.Figure at 0x7f80dc723550>"
      ]
     },
     "metadata": {},
     "output_type": "display_data"
    }
   ],
   "source": [
    "EPOCH = 100\n",
    "model = Generator(DATA_NUM_WAYPOINTS,DATA_NUM_STEP)\n",
    "start_time = '{0:%Y/%m/%d %H:%M:%S}'.format(datetime.datetime.now())\n",
    "model, fig = train(model,X_train,epoch=EPOCH)\n",
    "finish_time = '{0:%Y/%m/%d %H:%M:%S}'.format(datetime.datetime.now())\n",
    "print('start:',start_time)\n",
    "print('finish:',finish_time)"
   ]
  },
  {
   "cell_type": "code",
   "execution_count": 10,
   "metadata": {},
   "outputs": [],
   "source": [
    "# log\n",
    "def gen_filename():\n",
    "    name_date = '{0:%Y%m%d%H%M}'.format(datetime.datetime.now())\n",
    "    name_epoch = '{}ep'.format(EPOCH)\n",
    "    name_datasize  = '{}data'.format(DATA_SIZE)\n",
    "    name_num_step = '{}step'.format(DATA_NUM_STEP)\n",
    "    name_space = '{}mm'.format(int(DATA_M_PER_STEP * 1000))\n",
    "    fn = 'Cart' + name_space + name_num_step + '_' + name_date + '_'   + name_datasize + name_epoch\n",
    "    return fn\n",
    "dirname = gen_filename()\n",
    "os.mkdir(dirname)\n",
    "serializers.save_npz(dirname +'/'+ dirname+'.model', model)\n",
    "fig.savefig(dirname + '/' + 'loss.png')"
   ]
  },
  {
   "cell_type": "code",
   "execution_count": 11,
   "metadata": {},
   "outputs": [
    {
     "name": "stdout",
     "output_type": "stream",
     "text": [
      " --- input --- \n",
      "[[ 0.02992435  0.00184342 -1.44774633]\n",
      " [ 0.05939618  0.00734581 -1.32469633]\n",
      " [ 0.08796981  0.01642396 -1.20164633]\n",
      " [ 0.11521314  0.02894059 -1.07859633]\n",
      " [ 0.14071419  0.04470642 -0.95554633]\n",
      " [ 0.16408733  0.06348303 -0.83249633]\n",
      " [ 0.18497911  0.08498648 -0.70944633]\n",
      " [ 0.2030736   0.10889159 -0.58639633]\n",
      " [ 0.21809717  0.13483687 -0.46334633]\n",
      " [ 0.22982263  0.16242996 -0.34029633]]\n",
      " --- output --- \n",
      "[[[ 0.02870924  0.          0.15416917]\n",
      "  [ 0.03051573  0.          0.16292772]\n",
      "  [ 0.03010028  0.          0.16161472]\n",
      "  [ 0.03025337  0.          0.23971248]\n",
      "  [ 0.03225495  0.         -0.48384848]\n",
      "  [ 0.03018563  0.          1.        ]\n",
      "  [ 0.05006586  0.          1.        ]\n",
      "  [ 0.0015783   0.         -0.9883676 ]\n",
      "  [ 0.06654597  0.          0.9999444 ]\n",
      "  [ 0.0210301   0.          0.9999428 ]]]\n",
      "[[  8.833243   9.335071   9.259841  13.734513 -27.722477  57.29578\n",
      "   57.29578  -56.629295  57.292595  57.292503]]\n",
      " --- error --- \n",
      "e_distance: variable(0.13999107)\te_dw: variable(0.13999107)\t\n",
      "loss: variable(13.999109)\n",
      " --- trajectory --- \n",
      "[[ 0.          0.          0.        ]\n",
      " [ 0.02870924  0.          0.15416917]\n",
      " [ 0.05886304  0.00468597  0.31709695]\n",
      " [ 0.08746266  0.01407153  0.4787116 ]\n",
      " [ 0.11431522  0.02800732  0.7184241 ]\n",
      " [ 0.13859816  0.0492375   0.23457551]\n",
      " [ 0.1679571   0.05625354  1.2345755 ]\n",
      " [ 0.18447492  0.10351613  2.2345755 ]\n",
      " [ 0.18350253  0.10475931  1.246208  ]\n",
      " [ 0.20472528  0.1678304   2.2461522 ]\n",
      " [ 0.19157779  0.18424407 -3.0370905 ]]\n",
      "(10, 3)\n"
     ]
    },
    {
     "data": {
      "image/png": "[encoded data removed]",
      "text/plain": [
       "<matplotlib.figure.Figure at 0x7f8100037588>"
      ]
     },
     "metadata": {},
     "output_type": "display_data"
    },
    {
     "name": "stdout",
     "output_type": "stream",
     "text": [
      " --- grad --- \n",
      "variable([[[-385.204       54.1648   ]\n",
      "           [-332.99356     53.94129  ]\n",
      "           [-278.14932     49.478172 ]\n",
      "           [-186.93094     41.365486 ]\n",
      "           [ -18.290874    31.253887 ]\n",
      "           [-141.92848     26.091064 ]\n",
      "           [ 134.89523     11.798426 ]\n",
      "           [ 232.691       11.640315 ]\n",
      "           [  95.11502      1.7743528]\n",
      "           [  92.9742      -1.       ]]])\n"
     ]
    }
   ],
   "source": [
    "rand_rad = xp.random.rand()*(2*DATA_RAD_PER_STEP)-DATA_RAD_PER_STEP # -36 ~ 36 m/step\n",
    "x_test = data.generate_arc_path(DATA_NUM_WAYPOINTS,rand_rad,DATA_M_PER_STEP)\n",
    "'''\n",
    "x_test = xp.array(\n",
    "    [[ 0.02293546, -0.04092823,0],\n",
    "     [ 0.05309581, -0.05415406,0],\n",
    "     [ 0.08393338, -0.06682136,0],\n",
    "     [ 0.11579048, -0.07606434,0],\n",
    "     [ 0.14647007, -0.08932315,0],\n",
    "     [ 0.17848524, -0.09797464,0],\n",
    "     [ 0.21082233, -0.10660645,0],\n",
    "     [ 0.24306089, -0.11521195,0],\n",
    "     [ 0.27361556, -0.12854306,0],\n",
    "     [ 0.3055584,  -0.13706963,0]]\n",
    "    , dtype = xp.float32)\n",
    "'''\n",
    "x = xp.ravel(x_test[:,0:2])\n",
    "x = Variable(xp.array([x],dtype=xp.float32))\n",
    "y = model(x)\n",
    "# zero-padding\n",
    "pad = Variable(xp.zeros((1,DATA_NUM_STEP,1),dtype=xp.float32))\n",
    "y_pad = F.concat((y,pad),axis=2)\n",
    "y_pad = F.permutate(y_pad, xp.array([0,2,1],'i'), axis=2)\n",
    "print(' --- input --- ')\n",
    "print(x_test)\n",
    "print(' --- output --- ')\n",
    "print(y_pad.data)\n",
    "print(xp.rad2deg(y_pad.data[:,:,2]))\n",
    "# loss\n",
    "z_true = x_test\n",
    "z = y_pad[0,0]\n",
    "print(' --- error --- ')\n",
    "Z = xp.array([([0,0,0]),(z.data)],dtype='float32')\n",
    "for step in range(1,DATA_NUM_STEP):\n",
    "    z = oplus(z,y_pad[0,step])\n",
    "    Z = xp.vstack((Z,z.data))\n",
    "loss = loss_function(y_pad, x_test, disp_loss=1)\n",
    "print('loss:',loss)\n",
    "print(' --- trajectory --- ')\n",
    "print(Z)\n",
    "print(z_true.shape)\n",
    "fig = plot_path(Z,z_true,[-.1,.4],[-.4,.4])\n",
    "print(' --- grad --- ')\n",
    "loss.backward()\n",
    "y_grad = chainer.grad( (loss,), (y,) )[0]\n",
    "print(y_grad)"
   ]
  },
  {
   "cell_type": "code",
   "execution_count": 12,
   "metadata": {
    "scrolled": false
   },
   "outputs": [
    {
     "name": "stdout",
     "output_type": "stream",
     "text": [
      " --- input --- \n",
      "[[ 0.02971104  0.00359384 -1.33004633]\n",
      " [ 0.05770831  0.01416807 -1.08929633]\n",
      " [ 0.08237689  0.03111275 -0.84854633]\n",
      " [ 0.10229389  0.05345049 -0.60779633]\n",
      " [ 0.11631045  0.07989283 -0.36704633]\n",
      " [ 0.1236181   0.10891454 -0.12629633]\n",
      " [ 0.12379531  0.13884161  0.11445367]\n",
      " [ 0.11683186  0.16794783  0.35520367]\n",
      " [ 0.10312942  0.1945543   0.59595367]\n",
      " [ 0.08347835  0.21712634  0.83670367]]\n",
      " --- output --- \n",
      "[[[ 0.02916962  0.          0.3041773 ]\n",
      "  [ 0.03005618  0.          0.32279626]\n",
      "  [ 0.02983912  0.          0.32729575]\n",
      "  [ 0.03032706  0.          0.3864121 ]\n",
      "  [ 0.03203024  0.         -0.34012502]\n",
      "  [ 0.02755854  0.          1.        ]\n",
      "  [ 0.04880664  0.          1.        ]\n",
      "  [ 0.02394123  0.         -0.9412835 ]\n",
      "  [ 0.05587237  0.          0.9999875 ]\n",
      "  [ 0.03941674  0.          0.9999869 ]]]\n",
      " --- error --- \n",
      "loss: variable(0.00363439)\n",
      "loss: variable(0.00516783)\n",
      "loss: variable(0.00461875)\n",
      "loss: variable(0.00351962)\n",
      "loss: variable(0.00979595)\n",
      "loss: variable(0.00378426)\n",
      "loss: variable(0.02502987)\n",
      "loss: variable(0.0417693)\n",
      "loss: variable(0.05229973)\n",
      "loss: variable(0.07216318)\n",
      " --- trajectory --- \n",
      "[[ 0.          0.          0.        ]\n",
      " [ 0.02916962  0.          0.3041773 ]\n",
      " [ 0.05784604  0.00900208  0.6269736 ]\n",
      " [ 0.08200996  0.02650859  0.95426965]\n",
      " [ 0.09954521  0.05125219  1.3406818 ]\n",
      " [ 0.10685096  0.08243812  1.0005567 ]\n",
      " [ 0.12172799  0.10563611  2.0005567 ]\n",
      " [ 0.10139256  0.15000455  3.0005567 ]\n",
      " [ 0.07768904  0.15336995  2.059273  ]\n",
      " [ 0.05146919  0.20270798  3.0592606 ]\n",
      " [ 0.01218597  0.20594957 -2.2239382 ]]\n",
      "(10, 3)\n"
     ]
    },
    {
     "data": {
      "image/png": "[encoded data removed]",
      "text/plain": [
       "<matplotlib.figure.Figure at 0x7f80dc7fcd30>"
      ]
     },
     "metadata": {},
     "output_type": "display_data"
    },
    {
     "name": "stdout",
     "output_type": "stream",
     "text": [
      " --- input --- \n",
      "[[ 0.02881287  0.00720693 -1.08059633]\n",
      " [ 0.05083966  0.02713034 -0.59039633]\n",
      " [ 0.06089257  0.0550778  -0.10019633]\n",
      " [ 0.0566039   0.08446706  0.39000367]\n",
      " [ 0.03898373  0.10837629  0.88020367]\n",
      " [ 0.01218202  0.12117433  1.37040367]\n",
      " [-0.01748884  0.11984694  1.86060367]\n",
      " [-0.04304068  0.10470675  2.35080367]\n",
      " [-0.05845546  0.07931963  2.84100367]\n",
      " [-0.06010267  0.04966482  3.33120367]]\n",
      " --- output --- \n",
      "[[[0.03197616 0.         0.61840296]\n",
      "  [0.02741071 0.         0.62831986]\n",
      "  [0.02929869 0.         0.6465342 ]\n",
      "  [0.03064255 0.         0.65446174]\n",
      "  [0.03040478 0.         0.06332026]\n",
      "  [0.02123958 0.         1.        ]\n",
      "  [0.04879127 0.         1.        ]\n",
      "  [0.03815087 0.         0.11705142]\n",
      "  [0.03984359 0.         0.9999996 ]\n",
      "  [0.03861232 0.         0.9999995 ]]]\n",
      " --- error --- \n",
      "loss: variable(0.00787059)\n",
      "loss: variable(0.01176313)\n",
      "loss: variable(0.01173934)\n",
      "loss: variable(0.01204014)\n",
      "loss: variable(0.02126929)\n",
      "loss: variable(0.02076107)\n",
      "loss: variable(0.04427512)\n",
      "loss: variable(0.06453266)\n",
      "loss: variable(0.08174664)\n",
      "loss: variable(0.08953581)\n",
      " --- trajectory --- \n",
      "[[ 0.0000000e+00  0.0000000e+00  0.0000000e+00]\n",
      " [ 3.1976156e-02  0.0000000e+00  6.1840296e-01]\n",
      " [ 5.4310549e-02  1.5890937e-02  1.2467229e+00]\n",
      " [ 6.3640147e-02  4.3664522e-02  1.8932574e+00]\n",
      " [ 5.3929470e-02  7.2727710e-02  2.5477192e+00]\n",
      " [ 2.8730612e-02  8.9741483e-02  2.6110394e+00]\n",
      " [ 1.0410892e-02  1.0048894e-01 -2.6721461e+00]\n",
      " [-3.3102080e-02  7.8416124e-02 -1.6721461e+00]\n",
      " [-3.6962047e-02  4.0461022e-02 -1.5550947e+00]\n",
      " [-3.6336463e-02  6.2234700e-04 -5.5509520e-01]\n",
      " [-3.5217702e-03 -1.9727280e-02  4.4490433e-01]]\n",
      "(10, 3)\n"
     ]
    },
    {
     "data": {
      "image/png": "[encoded data removed]",
      "text/plain": [
       "<matplotlib.figure.Figure at 0x7f80dc705ef0>"
      ]
     },
     "metadata": {},
     "output_type": "display_data"
    },
    {
     "name": "stdout",
     "output_type": "stream",
     "text": [
      " --- input --- \n",
      "[[ 2.82383682e-02 -8.71844584e-03 -2.16971633e+00]\n",
      " [ 4.66466750e-02 -3.18388042e-02 -2.76863633e+00]\n",
      " [ 4.88168029e-02 -6.13126448e-02 -3.36755633e+00]\n",
      " [ 3.39933084e-02 -8.68798258e-02 -3.96647633e+00]\n",
      " [ 7.33639972e-03 -9.96401532e-02 -4.56539633e+00]\n",
      " [-2.18743838e-02 -9.51516280e-02 -5.16431633e+00]\n",
      " [-4.34704733e-02 -7.49767512e-02 -5.76323633e+00]\n",
      " [-4.99340518e-02 -4.61386014e-02 -6.36215633e+00]\n",
      " [-3.90150822e-02 -1.86760298e-02 -6.96107633e+00]\n",
      " [-1.45145682e-02 -2.14903520e-03 -7.55999633e+00]]\n",
      " --- output --- \n",
      "[[[ 0.02410319  0.         -0.6500423 ]\n",
      "  [ 0.03376213  0.         -0.6349319 ]\n",
      "  [ 0.03062714  0.         -0.65169704]\n",
      "  [ 0.02754701  0.         -0.5793495 ]\n",
      "  [ 0.03232989  0.         -0.8963471 ]\n",
      "  [ 0.05303838  0.          1.        ]\n",
      "  [ 0.00755352  0.          1.        ]\n",
      "  [-0.02949994  0.         -0.9999849 ]\n",
      "  [-0.00951351  0.          0.2594455 ]\n",
      "  [-0.00832252  0.          0.27247396]]]\n",
      " --- error --- \n",
      "loss: variable(0.0096494)\n",
      "loss: variable(0.01220068)\n",
      "loss: variable(0.01577104)\n",
      "loss: variable(0.01941976)\n",
      "loss: variable(0.01701908)\n",
      "loss: variable(0.01591329)\n",
      "loss: variable(0.01458522)\n",
      "loss: variable(0.01572447)\n",
      "loss: variable(0.03225173)\n",
      "loss: variable(0.04238328)\n",
      " --- trajectory --- \n",
      "[[ 0.          0.          0.        ]\n",
      " [ 0.02410319  0.         -0.6500423 ]\n",
      " [ 0.05097982 -0.02043352 -1.2849742 ]\n",
      " [ 0.05961502 -0.04981812 -1.9366713 ]\n",
      " [ 0.04975963 -0.07554182 -2.5160208 ]\n",
      " [ 0.0235521  -0.09447294  2.8708174 ]\n",
      " [-0.02755376 -0.08028632 -2.412368  ]\n",
      " [-0.03318636 -0.08531917 -1.412368  ]\n",
      " [-0.03784046 -0.05618867 -2.412353  ]\n",
      " [-0.03074641 -0.04984979 -2.1529076 ]\n",
      " [-0.02617078 -0.04289796 -1.8804337 ]]\n",
      "(10, 3)\n"
     ]
    },
    {
     "data": {
      "image/png": "[encoded data removed]",
      "text/plain": [
       "<matplotlib.figure.Figure at 0x7f81002a6be0>"
      ]
     },
     "metadata": {},
     "output_type": "display_data"
    },
    {
     "name": "stdout",
     "output_type": "stream",
     "text": [
      " --- input --- \n",
      "[[ 0.02833854  0.00847727 -0.98945633]\n",
      " [ 0.0473666   0.0311239  -0.40811633]\n",
      " [ 0.05083261  0.06049947  0.17322367]\n",
      " [ 0.03759782  0.08695277  0.75456367]\n",
      " [ 0.01201045  0.10179272  1.33590367]\n",
      " [-0.01752288  0.10014372  1.91724367]\n",
      " [-0.04129916  0.08254754  2.49858367]\n",
      " [-0.05150682  0.05478532  3.07992367]\n",
      " [-0.04479217  0.02597819  3.66126367]\n",
      " [-0.02336128  0.00559059  4.24260367]]\n",
      " --- output --- \n",
      "[[[0.02260199 0.         0.6638817 ]\n",
      "  [0.03155849 0.         0.66148865]\n",
      "  [0.03330324 0.         0.68150145]\n",
      "  [0.0284205  0.         0.695112  ]\n",
      "  [0.03905827 0.         0.15191342]\n",
      "  [0.01641685 0.         1.        ]\n",
      "  [0.06287739 0.         1.        ]\n",
      "  [0.03690423 0.         0.30930322]\n",
      "  [0.08397616 0.         0.9999999 ]\n",
      "  [0.0480134  0.         0.9999998 ]]]\n",
      " --- error --- \n",
      "loss: variable(0.01023583)\n",
      "loss: variable(0.01167859)\n",
      "loss: variable(0.00993903)\n",
      "loss: variable(0.01115801)\n",
      "loss: variable(0.00855375)\n",
      "loss: variable(0.01007219)\n",
      "loss: variable(0.02844045)\n",
      "loss: variable(0.03366063)\n",
      "loss: variable(0.08633638)\n",
      "loss: variable(0.0874813)\n",
      " --- trajectory --- \n",
      "[[ 0.          0.          0.        ]\n",
      " [ 0.02260199  0.          0.6638817 ]\n",
      " [ 0.04745765  0.01944567  1.3253701 ]\n",
      " [ 0.05554933  0.05175094  2.0068715 ]\n",
      " [ 0.04354493  0.07751174  2.7019837 ]\n",
      " [ 0.0082004   0.09413438  2.8538973 ]\n",
      " [-0.00754173  0.09879255 -2.4292881 ]\n",
      " [-0.05513096  0.05769717 -1.4292881 ]\n",
      " [-0.04992612  0.02116182 -1.1199849 ]\n",
      " [-0.01333804 -0.0544246  -0.11998487]\n",
      " [ 0.03433016 -0.06017167  0.88001513]]\n",
      "(10, 3)\n"
     ]
    },
    {
     "data": {
      "image/png": "[encoded data removed]",
      "text/plain": [
       "<matplotlib.figure.Figure at 0x7f80dc7051d0>"
      ]
     },
     "metadata": {},
     "output_type": "display_data"
    },
    {
     "name": "stdout",
     "output_type": "stream",
     "text": [
      " --- input --- \n",
      "[[ 2.99860205e-02  7.93015182e-04 -1.51791633e+00]\n",
      " [ 5.98882108e-02  3.16984374e-03 -1.46503633e+00]\n",
      " [ 8.96229750e-02  7.12384091e-03 -1.41215633e+00]\n",
      " [ 1.19107185e-01  1.26439527e-02 -1.35927633e+00]\n",
      " [ 1.48258415e-01  1.97147469e-02 -1.30639633e+00]\n",
      " [ 1.76995166e-01  2.83164561e-02 -1.25351633e+00]\n",
      " [ 2.05237103e-01  3.84250330e-02 -1.20063633e+00]\n",
      " [ 2.32905269e-01  5.00122175e-02 -1.14775633e+00]\n",
      " [ 2.59922316e-01  6.30456161e-02 -1.09487633e+00]\n",
      " [ 2.86212713e-01  7.74887921e-02 -1.04199633e+00]]\n",
      " --- output --- \n",
      "[[[ 0.02828936  0.          0.06347918]\n",
      "  [ 0.03077591  0.          0.06220083]\n",
      "  [ 0.03038665  0.          0.05945985]\n",
      "  [ 0.03001118  0.          0.14282109]\n",
      "  [ 0.03241066  0.         -0.55788374]\n",
      "  [ 0.03194518  0.          1.        ]\n",
      "  [ 0.04962559  0.          1.        ]\n",
      "  [-0.01546592  0.         -0.99535316]\n",
      "  [ 0.07019905  0.          0.99984884]\n",
      "  [ 0.00473573  0.          0.99984586]]]\n",
      " --- error --- \n",
      "loss: variable(0.00187284)\n",
      "loss: variable(0.00150514)\n",
      "loss: variable(0.00144224)\n",
      "loss: variable(0.00143346)\n",
      "loss: variable(0.00227952)\n",
      "loss: variable(0.01429155)\n",
      "loss: variable(0.01512782)\n",
      "loss: variable(0.02125321)\n",
      "loss: variable(0.02198834)\n",
      "loss: variable(0.02053327)\n",
      " --- trajectory --- \n",
      "[[ 0.0000000e+00  0.0000000e+00  0.0000000e+00]\n",
      " [ 2.8289359e-02  0.0000000e+00  6.3479178e-02]\n",
      " [ 5.9003286e-02  1.9523179e-03  1.2567997e-01]\n",
      " [ 8.9150265e-02  5.7612653e-03  1.8513989e-01]\n",
      " [ 1.1864857e-01  1.1285843e-02  3.2796097e-01]\n",
      " [ 1.4933178e-01  2.1725748e-02 -2.2992277e-01]\n",
      " [ 1.8043628e-01  1.4445366e-02  7.7007723e-01]\n",
      " [ 2.1606036e-01  4.8994236e-02  1.7700770e+00]\n",
      " [ 2.1912205e-01  3.3834398e-02  7.7472377e-01]\n",
      " [ 2.6928729e-01  8.2939945e-02  1.7745726e+00]\n",
      " [ 2.6832893e-01  8.7577693e-02  2.7744181e+00]]\n",
      "(10, 3)\n"
     ]
    },
    {
     "data": {
      "image/png": "[encoded data removed]",
      "text/plain": [
       "<matplotlib.figure.Figure at 0x7f810020eb70>"
      ]
     },
     "metadata": {},
     "output_type": "display_data"
    },
    {
     "name": "stdout",
     "output_type": "stream",
     "text": [
      " --- input --- \n",
      "[[ 0.02965548  0.00392158 -1.30784633]\n",
      " [ 0.05727229  0.01541671 -1.04489633]\n",
      " [ 0.0809519   0.03369518 -0.78194633]\n",
      " [ 0.09906645  0.05750041 -0.51899633]\n",
      " [ 0.11037066  0.08519592 -0.25604633]\n",
      " [ 0.11408741  0.11487777  0.00690367]\n",
      " [ 0.1099612   0.14450547  0.26985367]\n",
      " [ 0.09827568  0.17204226  0.53280367]\n",
      " [ 0.07983418  0.19559512  0.79575367]\n",
      " [ 0.05590445  0.2135449   1.05870367]]\n",
      " --- output --- \n",
      "[[[ 0.02926057  0.          0.3314891 ]\n",
      "  [ 0.02994281  0.          0.35138172]\n",
      "  [ 0.02979693  0.          0.35727096]\n",
      "  [ 0.03030692  0.          0.41174716]\n",
      "  [ 0.03195921  0.         -0.31035823]\n",
      "  [ 0.02714517  0.          1.        ]\n",
      "  [ 0.04813142  0.          1.        ]\n",
      "  [ 0.02774059  0.         -0.91920424]\n",
      "  [ 0.05273984  0.          0.9999903 ]\n",
      "  [ 0.04204431  0.          0.9999898 ]]]\n",
      " --- error --- \n",
      "loss: variable(0.00394141)\n",
      "loss: variable(0.00567976)\n",
      "loss: variable(0.00515444)\n",
      "loss: variable(0.0041421)\n",
      "loss: variable(0.01062326)\n",
      "loss: variable(0.00480446)\n",
      "loss: variable(0.02584254)\n",
      "loss: variable(0.04572397)\n",
      "loss: variable(0.05448206)\n",
      "loss: variable(0.07610516)\n",
      " --- trajectory --- \n",
      "[[ 0.          0.          0.        ]\n",
      " [ 0.02926057  0.          0.3314891 ]\n",
      " [ 0.05757326  0.00974493  0.68287086]\n",
      " [ 0.08068866  0.02854747  1.0401418 ]\n",
      " [ 0.09602693  0.05468646  1.4518893 ]\n",
      " [ 0.09981816  0.08642001  1.1415312 ]\n",
      " [ 0.11111605  0.11110234  2.1415312 ]\n",
      " [ 0.08511302  0.15160513  3.1415312 ]\n",
      " [ 0.05737243  0.15160683  2.222327  ]\n",
      " [ 0.02539077  0.19354326 -3.0608685 ]\n",
      " [-0.01651663  0.19015294 -2.0608788 ]]\n",
      "(10, 3)\n"
     ]
    },
    {
     "data": {
      "image/png": "[encoded data removed]",
      "text/plain": [
       "<matplotlib.figure.Figure at 0x7f80dc7ce6a0>"
      ]
     },
     "metadata": {},
     "output_type": "display_data"
    },
    {
     "name": "stdout",
     "output_type": "stream",
     "text": [
      " --- input --- \n",
      "[[ 2.96820829e-02 -3.76830535e-03 -1.82335633e+00]\n",
      " [ 5.74808906e-02 -1.48341292e-02 -2.07591633e+00]\n",
      " [ 8.16326385e-02 -3.24953647e-02 -2.32847633e+00]\n",
      " [ 1.00604941e-01 -5.56314381e-02 -2.58103633e+00]\n",
      " [ 1.13194041e-01 -8.27744069e-02 -2.83359633e+00]\n",
      " [ 1.18601180e-01 -1.12202098e-01 -3.08615633e+00]\n",
      " [ 1.16483286e-01 -1.42047377e-01 -3.33871633e+00]\n",
      " [ 1.06974737e-01 -1.70416615e-01 -3.59127633e+00]\n",
      " [ 9.06788307e-02 -1.95509834e-01 -3.84383633e+00]\n",
      " [ 6.86295151e-02 -2.15734913e-01 -4.09639633e+00]]\n",
      " --- output --- \n",
      "[[[ 0.02938254  0.         -0.3442127 ]\n",
      "  [ 0.02995273  0.         -0.36259612]\n",
      "  [ 0.03002306  0.         -0.37142032]\n",
      "  [ 0.02969632  0.         -0.29242316]\n",
      "  [ 0.03043164  0.         -0.79295015]\n",
      "  [ 0.04282651  0.          1.        ]\n",
      "  [ 0.03491377  0.          1.        ]\n",
      "  [-0.06642689  0.         -0.99987036]\n",
      "  [ 0.0488493   0.          0.98203987]\n",
      "  [-0.0484677   0.          0.9820875 ]]]\n",
      " --- error --- \n",
      "loss: variable(0.00378019)\n",
      "loss: variable(0.00472741)\n",
      "loss: variable(0.00313872)\n",
      "loss: variable(0.00615447)\n",
      "loss: variable(0.01300156)\n",
      "loss: variable(0.04296041)\n",
      "loss: variable(0.02835494)\n",
      "loss: variable(0.08677496)\n",
      "loss: variable(0.04720043)\n",
      "loss: variable(0.08115342)\n",
      " --- trajectory --- \n",
      "[[ 0.          0.          0.        ]\n",
      " [ 0.02938254  0.         -0.3442127 ]\n",
      " [ 0.0575783  -0.01010772 -0.7068088 ]\n",
      " [ 0.08040898 -0.029605   -1.0782292 ]\n",
      " [ 0.09445205 -0.05577108 -1.3706523 ]\n",
      " [ 0.10050218 -0.08559524 -2.1636024 ]\n",
      " [ 0.07657541 -0.12111454 -1.1636024 ]\n",
      " [ 0.09040246 -0.15317361 -0.16360235]\n",
      " [ 0.02486257 -0.14235443 -1.1634727 ]\n",
      " [ 0.04421439 -0.18720709 -0.18143272]\n",
      " [-0.00345778 -0.17846163  0.80065465]]\n",
      "(10, 3)\n"
     ]
    },
    {
     "data": {
      "image/png": "[encoded data removed]",
      "text/plain": [
       "<matplotlib.figure.Figure at 0x7f80dc701ba8>"
      ]
     },
     "metadata": {},
     "output_type": "display_data"
    },
    {
     "name": "stdout",
     "output_type": "stream",
     "text": [
      " --- input --- \n",
      "[[ 2.99446744e-02 -1.57684439e-03 -1.67601633e+00]\n",
      " [ 5.95581296e-02 -6.28993603e-03 -1.78123633e+00]\n",
      " [ 8.85128101e-02 -1.40871432e-02 -1.88645633e+00]\n",
      " [ 1.16488447e-01 -2.48822208e-02 -1.99167633e+00]\n",
      " [ 1.43175601e-01 -3.85557639e-02 -2.09689633e+00]\n",
      " [ 1.68279084e-01 -5.49565291e-02 -2.20211633e+00]\n",
      " [ 1.91521226e-01 -7.39031068e-02 -2.30733633e+00]\n",
      " [ 2.12644944e-01 -9.51859283e-02 -2.41255633e+00]\n",
      " [ 2.31416589e-01 -1.18569583e-01 -2.51777633e+00]\n",
      " [ 2.47628526e-01 -1.43795425e-01 -2.62299633e+00]]\n",
      " --- output --- \n",
      "[[[ 0.02712406  0.         -0.1253216 ]\n",
      "  [ 0.03135979  0.         -0.14380997]\n",
      "  [ 0.0310219   0.         -0.14657344]\n",
      "  [ 0.02915114  0.         -0.06536097]\n",
      "  [ 0.03266503  0.         -0.6822816 ]\n",
      "  [ 0.03637353  0.          1.        ]\n",
      "  [ 0.0437432   0.          1.        ]\n",
      "  [-0.04628162  0.         -0.9990956 ]\n",
      "  [ 0.06458287  0.          0.9985211 ]\n",
      "  [-0.02761864  0.          0.9985161 ]]]\n",
      " --- error --- \n",
      "loss: variable(0.00323146)\n",
      "loss: variable(0.00271305)\n",
      "loss: variable(0.00195411)\n",
      "loss: variable(0.00192325)\n",
      "loss: variable(0.00077586)\n",
      "loss: variable(0.02019907)\n",
      "loss: variable(0.0113374)\n",
      "loss: variable(0.04627181)\n",
      "loss: variable(0.00637807)\n",
      "loss: variable(0.03209134)\n",
      " --- trajectory --- \n",
      "[[ 0.          0.          0.        ]\n",
      " [ 0.02712406  0.         -0.1253216 ]\n",
      " [ 0.05823791 -0.00391978 -0.26913166]\n",
      " [ 0.0881431  -0.01216833 -0.41570497]\n",
      " [ 0.11481149 -0.02394058 -0.481066  ]\n",
      " [ 0.1437691  -0.03905549 -1.1633476 ]\n",
      " [ 0.15818277 -0.07245129 -0.16334748]\n",
      " [ 0.20134369 -0.0795649   0.8366525 ]\n",
      " [ 0.17033723 -0.11392459 -0.16244316]\n",
      " [ 0.23406988 -0.12436956  0.8360779 ]\n",
      " [ 0.21555495 -0.14486313  1.834594  ]]\n",
      "(10, 3)\n"
     ]
    },
    {
     "data": {
      "image/png": "[encoded data removed]",
      "text/plain": [
       "<matplotlib.figure.Figure at 0x7f8100051cc0>"
      ]
     },
     "metadata": {},
     "output_type": "display_data"
    },
    {
     "name": "stdout",
     "output_type": "stream",
     "text": [
      " --- input --- \n",
      "[[ 0.0297144   0.00357299 -1.33145633]\n",
      " [ 0.05773476  0.01408828 -1.09211633]\n",
      " [ 0.08246363  0.03094637 -0.85277633]\n",
      " [ 0.10249118  0.05318618 -0.61343633]\n",
      " [ 0.11667564  0.0795398  -0.37409633]\n",
      " [ 0.12420834  0.10850478 -0.13475633]\n",
      " [ 0.12465983  0.13842982  0.10458367]\n",
      " [ 0.11800438  0.16760887  0.34392367]\n",
      " [ 0.10462141  0.19437841  0.58326367]\n",
      " [ 0.08527391  0.21721229  0.82260367]]\n",
      " --- output --- \n",
      "[[[ 0.02916332  0.          0.3022646 ]\n",
      "  [ 0.03006384  0.          0.3208427 ]\n",
      "  [ 0.02984088  0.          0.3252441 ]\n",
      "  [ 0.03032781  0.          0.38466832]\n",
      "  [ 0.03203382  0.         -0.34211555]\n",
      "  [ 0.02759135  0.          1.        ]\n",
      "  [ 0.04882641  0.          1.        ]\n",
      "  [ 0.0237432   0.         -0.9424833 ]\n",
      "  [ 0.05601244  0.          0.99998724]\n",
      "  [ 0.03928992  0.          0.99998665]]]\n",
      " --- error --- \n",
      "loss: variable(0.00361524)\n",
      "loss: variable(0.00514042)\n",
      "loss: variable(0.00459753)\n",
      "loss: variable(0.00348148)\n",
      "loss: variable(0.0097051)\n",
      "loss: variable(0.00373222)\n",
      "loss: variable(0.02488038)\n",
      "loss: variable(0.04147421)\n",
      "loss: variable(0.05205156)\n",
      "loss: variable(0.07185072)\n",
      " --- trajectory --- \n",
      "[[ 0.          0.          0.        ]\n",
      " [ 0.02916332  0.          0.3022646 ]\n",
      " [ 0.05786422  0.00894949  0.6231072 ]\n",
      " [ 0.08209708  0.02636348  0.94835114]\n",
      " [ 0.0997789   0.05100346  1.3330195 ]\n",
      " [ 0.10732423  0.08213598  0.9909041 ]\n",
      " [ 0.12244246  0.10521675  1.9909041 ]\n",
      " [ 0.10252818  0.14979745  2.990904  ]\n",
      " [ 0.07905403  0.15336175  2.0484211 ]\n",
      " [ 0.05330672  0.2031058   3.0484087 ]\n",
      " [ 0.01418726  0.2067617  -2.23479   ]]\n",
      "(10, 3)\n"
     ]
    },
    {
     "data": {
      "image/png": "[encoded data removed]",
      "text/plain": [
       "<matplotlib.figure.Figure at 0x7f8100051518>"
      ]
     },
     "metadata": {},
     "output_type": "display_data"
    },
    {
     "name": "stdout",
     "output_type": "stream",
     "text": [
      " --- input --- \n",
      "[[ 2.97500383e-02 -3.34404858e-03 -1.79466633e+00]\n",
      " [ 5.80152876e-02 -1.32092968e-02 -2.01853633e+00]\n",
      " [ 8.33850629e-02 -2.91033819e-02 -2.24240633e+00]\n",
      " [ 1.04593189e-01 -5.02330490e-02 -2.46627633e+00]\n",
      " [ 1.20581193e-01 -7.55437415e-02 -2.69014633e+00]\n",
      " [ 1.30551134e-01 -1.03772233e-01 -2.91401633e+00]\n",
      " [ 1.34005423e-01 -1.33509673e-01 -3.13788633e+00]\n",
      " [ 1.30771660e-01 -1.63271901e-01 -3.36175633e+00]\n",
      " [ 1.21011240e-01 -1.91573520e-01 -3.58562633e+00]\n",
      " [ 1.05211292e-01 -2.17002029e-01 -3.80949633e+00]]\n",
      " --- output --- \n",
      "[[[ 0.02879675  0.         -0.30052817]\n",
      "  [ 0.03031036  0.         -0.32043988]\n",
      "  [ 0.03030511  0.         -0.3279119 ]\n",
      "  [ 0.02953539  0.         -0.24803166]\n",
      "  [ 0.03099124  0.         -0.773404  ]\n",
      "  [ 0.04140281  0.          1.        ]\n",
      "  [ 0.03711294  0.          1.        ]\n",
      "  [-0.06378793  0.         -0.9998097 ]\n",
      "  [ 0.05330488  0.          0.98923326]\n",
      "  [-0.04566005  0.          0.98925614]]]\n",
      " --- error --- \n",
      "loss: variable(0.00347727)\n",
      "loss: variable(0.00424507)\n",
      "loss: variable(0.00268712)\n",
      "loss: variable(0.00500405)\n",
      "loss: variable(0.01042264)\n",
      "loss: variable(0.03831648)\n",
      "loss: variable(0.0234171)\n",
      "loss: variable(0.07983484)\n",
      "loss: variable(0.03893679)\n",
      "loss: variable(0.0721553)\n",
      " --- trajectory --- \n",
      "[[ 0.          0.          0.        ]\n",
      " [ 0.02879675  0.         -0.30052817]\n",
      " [ 0.0577486  -0.00897262 -0.6209681 ]\n",
      " [ 0.08239622 -0.02660482 -0.94887996]\n",
      " [ 0.09960336 -0.05061011 -1.1969116 ]\n",
      " [ 0.11092243 -0.07946033 -1.9703156 ]\n",
      " [ 0.09481776 -0.11760259 -0.9703157 ]\n",
      " [ 0.11578802 -0.14822315  0.02968431]\n",
      " [ 0.05202819 -0.15011637 -0.97012544]\n",
      " [ 0.0821559  -0.19409057  0.01910782]\n",
      " [ 0.03650419 -0.19496298  1.008364  ]]\n",
      "(10, 3)\n"
     ]
    },
    {
     "data": {
      "image/png": "[encoded data removed]",
      "text/plain": [
       "<matplotlib.figure.Figure at 0x7f810013af60>"
      ]
     },
     "metadata": {},
     "output_type": "display_data"
    }
   ],
   "source": [
    "for i in range(10):\n",
    "    rand_rad = xp.random.rand()*(2*DATA_RAD_PER_STEP)-DATA_RAD_PER_STEP # -36 ~ 36 m/step\n",
    "    x_test = data.generate_arc_path(DATA_NUM_WAYPOINTS,rand_rad,DATA_M_PER_STEP)\n",
    "    x = xp.ravel(x_test[:,0:2])\n",
    "    x = Variable(xp.array([x],dtype=xp.float32))\n",
    "    y = model(x)\n",
    "    # zero-padding\n",
    "    pad = Variable(xp.zeros((1,DATA_NUM_STEP,1),dtype=xp.float32))\n",
    "    y_pad = F.concat((y,pad),axis=2)\n",
    "    y_pad = F.permutate(y_pad, xp.array([0,2,1],'i'), axis=2)\n",
    "    print(' --- input --- ')\n",
    "    print(x_test)\n",
    "    print(' --- output --- ')\n",
    "    print(y_pad.data)\n",
    "    # loss\n",
    "    z_true = x_test\n",
    "    z = y_pad[0,0]\n",
    "    e = error_squares(z,z_true[0])\n",
    "    print(' --- error --- ')\n",
    "    print('loss:',e)\n",
    "    Z = xp.array([([0,0,0]),(z.data)],dtype='float32')\n",
    "    for step in range(1,DATA_NUM_STEP):\n",
    "        z = oplus(z,y_pad[0,step])\n",
    "        e = error_squares(z,z_true[step])\n",
    "        print('loss:',e)\n",
    "        Z = xp.vstack((Z,z.data))\n",
    "    print(' --- trajectory --- ')\n",
    "    print(Z)\n",
    "    print(z_true.shape)\n",
    "    fig = plot_path(Z,z_true,[-.1,.4],[-.4,.4])\n",
    "    fig.savefig(dirname + '/test' + str(i) + '.png')"
   ]
  }
 ],
 "metadata": {
  "kernelspec": {
   "display_name": "Python 3",
   "language": "python",
   "name": "python3"
  },
  "language_info": {
   "codemirror_mode": {
    "name": "ipython",
    "version": 3
   },
   "file_extension": ".py",
   "mimetype": "text/x-python",
   "name": "python",
   "nbconvert_exporter": "python",
   "pygments_lexer": "ipython3",
   "version": "3.5.2"
  }
 },
 "nbformat": 4,
 "nbformat_minor": 2
}
