{
 "cells": [
  {
   "cell_type": "code",
   "execution_count": 1,
   "metadata": {
    "scrolled": true
   },
   "outputs": [],
   "source": [
    "import chainer\n",
    "from chainer import Link, Chain, ChainList, Variable, optimizers, iterators\n",
    "import chainer.functions as F\n",
    "import chainer.links as L\n",
    "from chainer import cuda\n",
    "from chainer import initializers\n",
    "from chainer import serializers\n",
    "\n",
    "import os\n",
    "import time, datetime\n",
    "import numpy as np\n",
    "import random\n",
    "import pandas as pd\n",
    "import matplotlib.pyplot as plt\n",
    "%matplotlib inline\n",
    "import coordinate\n",
    "import data\n",
    "from model import oplus, Generator\n",
    "import xp_settings as settings\n",
    "settings.set_gpu(0)\n",
    "xp = settings.xp"
   ]
  },
  {
   "cell_type": "code",
   "execution_count": 2,
   "metadata": {},
   "outputs": [],
   "source": [
    "def plot_path(fig,cart_path,xlim=[-5,5],ylim=[-5,5],color='red',scatter=0):\n",
    "    path = cart_path\n",
    "    if(settings.gpu_index >= 0):\n",
    "        path = xp.asnumpy(path)\n",
    "    if(scatter==1):\n",
    "        fig.scatter(path[:,0],path[:,1],c=color,edgecolors='black',s=40,marker=\"o\",label='input')\n",
    "        # num_step = len(target)\n",
    "        # plt.scatter(path[num_step-1,0],path[num_step-1,1],c=\"yellow\",s=500,marker=\"*\")\n",
    "    else:\n",
    "        x = path[0:len(path)-1,0]\n",
    "        y = path[0:len(path)-1,1]\n",
    "        u = path[1:len(path),0] - x\n",
    "        v = path[1:len(path),1] - y\n",
    "        fig.quiver(x,y,u,v, scale_units='xy', angles='xy', scale=1,color=color, width=0.003)\n",
    "    fig.set_xlabel(\"x[m]\")\n",
    "    fig.set_ylabel(\"y[m]\")\n",
    "    fig.axis('scaled')\n",
    "    #fig.set_xlim(xlim[0],xlim[1])\n",
    "    #fig.set_ylim(ylim[0],ylim[1])\n",
    "    #fig.set_xlim(min(path[:,0]),max(path[:,0]))\n",
    "    #fig.set_ylim(min(path[:,1]),max(path[:,1]))\n",
    "    fig.grid()\n",
    "    return fig"
   ]
  },
  {
   "cell_type": "code",
   "execution_count": 3,
   "metadata": {},
   "outputs": [],
   "source": [
    "# loss\n",
    "def error_squares(z_oplus,z_true):\n",
    "    #print(predict)\n",
    "    #print(groundtruth)\n",
    "    w = xp.array([1., 1., 0.],dtype=xp.float32)\n",
    "    t = z_true * w\n",
    "    p = z_oplus * w\n",
    "    error = F.sqrt(F.sum((t-p)*(t-p)))\n",
    "    return error\n",
    "\n",
    "def error_diff_v(y0, y1):\n",
    "    w = xp.array([0., 0., 1.],dtype=xp.float32)\n",
    "    v0 = y0 * w\n",
    "    v1 = y1 * w\n",
    "    error = F.absolute(F.sum(v1 - v0))\n",
    "    return error\n",
    "\n",
    "def error_diff_w(y0, y1):\n",
    "    w = xp.array([0., 0., 1.],dtype=xp.float32)\n",
    "    v0 = y0 * w\n",
    "    v1 = y1 * w\n",
    "    error = F.absolute(F.sum(v1 - v0))\n",
    "    return error\n",
    "\n",
    "def calc_oplus(y):\n",
    "    dst = []\n",
    "    z = y[0,0]\n",
    "    dst.append(z)\n",
    "    for step in range(1,DATA_NUM_STEP):\n",
    "        z = oplus(z,y[0,step])\n",
    "        dst.append(z)\n",
    "    return dst\n",
    "\n",
    "def loss_function(y, y_true,disp_loss=0):\n",
    "    dmesg = ''\n",
    "    z_true = y_true\n",
    "    z_oplus = calc_oplus(y)\n",
    "    # distance\n",
    "    e_distance = error_squares(z_oplus[0],z_true[0])\n",
    "    for i in range(1,DATA_NUM_WAYPOINTS):\n",
    "        e_distance = e_distance + error_squares(z_oplus[i],z_true[i])\n",
    "    dmesg = dmesg + 'e_distance: ' + str(e_distance) + '\\t'    \n",
    "    '''\n",
    "    e_diff_v = error_diff_v(y[0,0],y[0,1])\n",
    "    for i in range(2,DATA_NUM_STEP):\n",
    "        e_diff_v = error_diff_v(y[0,i-1],y[0,i])\n",
    "    dmesg = dmesg + 'e_dv: ' + str(e_distance) + '\\t'\n",
    "    '''\n",
    "    e_diff_w = error_diff_v(y[0,0],y[0,1])\n",
    "    for i in range(2,DATA_NUM_STEP):\n",
    "        e_diff_w = e_diff_w + error_diff_w(y[0,i-1],y[0,i])\n",
    "    dmesg = dmesg + 'e_dw: ' + str(e_distance) + '\\t'\n",
    "    \n",
    "    loss = (1 * e_distance)\n",
    "    #loss = loss + (1 * e_lim_w)\n",
    "    #loss = loss + (1 * e_lim_v)\n",
    "    #loss = loss + (1 * e_diff_v)\n",
    "    #loss = loss + (1 * e_diff_w)\n",
    "    if(disp_loss):\n",
    "        print(dmesg)\n",
    "    return loss"
   ]
  },
  {
   "cell_type": "code",
   "execution_count": 4,
   "metadata": {},
   "outputs": [
    {
     "name": "stdout",
     "output_type": "stream",
     "text": [
      "DATA_SIZE            :5000\n",
      "DATA_NUM_WAYPOINTS   :10\n",
      "DATA_NUM_STEP        :10\n",
      "DATA_V_STEP          :0.05\n",
      "DATA_MAX_V_STEP      :0.1\n",
      "DATA_W_STEP          :0.15707963267948966\n",
      "DATA_MAX_W_STEP      :0.15707963267948966\n",
      "DATA_RANGE_TRANSLATE :0\n",
      "DATA_RANGE_ROTATE    :0\n"
     ]
    }
   ],
   "source": [
    "# dataset\n",
    "DATA_SIZE = 5000\n",
    "DATA_NUM_WAYPOINTS = 10\n",
    "DATA_NUM_STEP = DATA_NUM_WAYPOINTS\n",
    "DATA_V_STEP = 0.5 / DATA_NUM_WAYPOINTS # [m/step]\n",
    "DATA_MAX_V_STEP = 1.0 / DATA_NUM_WAYPOINTS # [m/step]\n",
    "DATA_W_STEP = xp.pi * 0.5 / DATA_NUM_WAYPOINTS # [rad/step]\n",
    "DATA_MAX_W_STEP = xp.pi * 0.5 / DATA_NUM_WAYPOINTS # [rad/step]\n",
    "DATA_RANGE_TRANSLATE = 0 # 0.03 # 経路を直進方向にずらす\n",
    "DATA_RANGE_ROTATE = 0 # 0.1 # 経路を回転方向にずらす\n",
    "\n",
    "params = []\n",
    "params.append('DATA_SIZE            :'+str(DATA_SIZE))\n",
    "params.append('DATA_NUM_WAYPOINTS   :'+str(DATA_NUM_WAYPOINTS))\n",
    "params.append('DATA_NUM_STEP        :'+str(DATA_NUM_STEP))\n",
    "params.append('DATA_V_STEP          :'+str(DATA_V_STEP))\n",
    "params.append('DATA_MAX_V_STEP      :'+str(DATA_MAX_V_STEP))\n",
    "params.append('DATA_W_STEP          :'+str(DATA_W_STEP))\n",
    "params.append('DATA_MAX_W_STEP      :'+str(DATA_MAX_W_STEP))\n",
    "params.append('DATA_RANGE_TRANSLATE :'+str(DATA_RANGE_TRANSLATE))\n",
    "params.append('DATA_RANGE_ROTATE    :'+str(DATA_RANGE_ROTATE))\n",
    "for a in params:\n",
    "    print(a)"
   ]
  },
  {
   "cell_type": "code",
   "execution_count": 5,
   "metadata": {},
   "outputs": [],
   "source": [
    "\n",
    "modelname = [\n",
    "    'Model30mm10step_201910231838_5000data15ep/Model30mm10step_201910231838_5000data15ep.model',\n",
    "    'Model30mm10step_201910241950_5000data15ep/Model30mm10step_201910241950_5000data15ep.model',\n",
    "    'Model30mm10step_201911041602_1000data10ep/Model30mm10step_201911041602_1000data10ep.model',\n",
    "    'Model30mm10step_201911041624_1000data10ep/Model30mm10step_201911041624_1000data10ep.model'\n",
    "    # 'Model30mm10step_201910152000_5000data5ep/Model30mm10step_201910152000_5000data5ep.model',\n",
    "    # 'Model30mm10step_201910211942_5000data30ep/Model30mm10step_201910211942_5000data30ep.model'\n",
    "]\n",
    "modelname = [ 'backup20191105/Model50mm10step_201911041801_1000data10ep/Model50mm10step_201911041801_1000data10ep.model']\n",
    "\n",
    "modelcolors = [\n",
    "    'blue',\n",
    "    'skyblue',\n",
    "    'green',\n",
    "    'yellowgreen',\n",
    "    'purple',\n",
    "    'magenta',\n",
    "    'hotpink'\n",
    "]\n",
    "models = [Generator(DATA_NUM_WAYPOINTS,DATA_NUM_STEP) for i in range(len(modelname))]\n",
    "for i in range(len(models)):\n",
    "    serializers.load_npz(modelname[i],models[i])\n",
    "    if settings.gpu_index >= 0:\n",
    "        cuda.cupy.cuda.Device(settings.gpu_index).use()\n",
    "        models[i].to_gpu(settings.gpu_index)"
   ]
  },
  {
   "cell_type": "code",
   "execution_count": 6,
   "metadata": {},
   "outputs": [],
   "source": [
    "def predict(model,x):\n",
    "    y_v, y_w = model(x)\n",
    "    # zero-padding\n",
    "    pad = Variable(xp.zeros((1,DATA_NUM_STEP),dtype=xp.float32))\n",
    "    y_pad = F.stack((y_v,pad,y_w),axis=2)\n",
    "    loss = loss_function(y_pad, x_test)\n",
    "    z_oplus = xp.array([x.data for x in calc_oplus(y_pad)],dtype=xp.float32)\n",
    "    return y_pad, loss, z_oplus\n",
    "\n",
    "def predict_clip(model,x):\n",
    "    y_v, y_w = model(x)\n",
    "    # clip\n",
    "    v_limit = DATA_MAX_V_STEP\n",
    "    w_limit = DATA_MAX_W_STEP\n",
    "    v = F.clip(y_v,0.0,v_limit)\n",
    "    w = F.clip(y_w,-w_limit,w_limit)\n",
    "    # zero-padding\n",
    "    pad = Variable(xp.zeros((1,DATA_NUM_STEP),dtype=xp.float32))\n",
    "    y_pad = F.stack((v,pad,w),axis=2)\n",
    "    #pad = Variable(xp.zeros((1,DATA_NUM_WAYPOINTS,1),dtype=xp.float32))\n",
    "    #y_pad = F.concat((y,pad),axis=2)\n",
    "    #y_pad = F.permutate(y_pad, xp.array([0,2,1],'i'), axis=2)\n",
    "    loss = loss_function(y_pad, x_test)\n",
    "    z_oplus = xp.array([x.data for x in calc_oplus(y_pad)],dtype=xp.float32)\n",
    "    return y_pad, loss, z_oplus"
   ]
  },
  {
   "cell_type": "code",
   "execution_count": 7,
   "metadata": {
    "scrolled": false
   },
   "outputs": [
    {
     "name": "stdout",
     "output_type": "stream",
     "text": [
      "input_A = -0.11065764846116538 rad/step\n",
      "model_A = backup20191105/Model50mm10step_201911041801_1000data10ep/Model50mm10step_201911041801_1000data10ep.model\n",
      "\n",
      " ------------------------------------------------------ \n",
      "-0.11065764846116538\n",
      "-0.11065\n"
     ]
    },
    {
     "data": {
      "image/png": "[encoded data removed]",
      "text/plain": [
       "<matplotlib.figure.Figure at 0x7f73800b9550>"
      ]
     },
     "metadata": {},
     "output_type": "display_data"
    },
    {
     "name": "stdout",
     "output_type": "stream",
     "text": [
      "average_loss : 0.027993798\n"
     ]
    }
   ],
   "source": [
    "#rad = xp.linspace(-DATA_RAD_PER_STEP, DATA_RAD_PER_STEP, 73) # -36 ~ 36 m/step\n",
    "#rad = xp.linspace(-xp.deg2rad(5),xp.deg2rad(5), 15)\n",
    "rad = xp.linspace(-DATA_W_STEP, DATA_W_STEP, 15) # -36 ~ 36 m/step\n",
    "panels = ['loss','v_1','w_1' ,'average_v','average_w']\n",
    "columns = ['model_'+chr(ord('A')+x) for x in range(len(modelname))]\n",
    "#columns = [x.split('/')[0] for x in modelname]\n",
    "rows = [float(x) for x in rad]\n",
    "rows_name = ['input_'+chr(ord('A')+x) for x in range(len(rad))]\n",
    "for i in range(len(rows)):\n",
    "    print(str(rows_name[i])+' = '+ str(rows[i])+' rad/step')\n",
    "for i in range(len(modelname)):\n",
    "    print(columns[i]+ ' = '+modelname[i])\n",
    "\n",
    "loss_df = pd.DataFrame(index=rows, columns=columns)\n",
    "v_1_df = pd.DataFrame(index=rows, columns=columns)\n",
    "w_1_df = pd.DataFrame(index=rows, columns=columns)\n",
    "ave_v_df = pd.DataFrame(index=rows, columns=columns)\n",
    "ave_w_df = pd.DataFrame(index=rows, columns=columns)\n",
    "for i in range(len(rad)):\n",
    "    print('\\n ------------------------------------------------------ ')\n",
    "    Y = []\n",
    "    fig ,axes = plt.subplots(3,1, gridspec_kw={'height_ratios': [6,1,1]},figsize=(10,20))\n",
    "    plt.subplots_adjust(wspace=0, hspace=0.2)\n",
    "    # fig = plt.figure(figsize=(10,10))\n",
    "    # ax = fig.add_subplot(1,1,1)\n",
    "    d = data.generate_arc_path(DATA_NUM_STEP,rad[i],DATA_V_STEP)\n",
    "    #print(DATA_NUM_STEP,rad[i],DATA_V_STEP)\n",
    "    #print(d)\n",
    "    d = data.rotate_path(d,rad[i]*0.5)\n",
    "    if DATA_RANGE_TRANSLATE != 0:\n",
    "        rand_trans_x = xp.random.rand() * DATA_RANGE_TRANSLATE\n",
    "        d = data.translate_path(d,rand_trans_x,0.0)\n",
    "    if DATA_RANGE_ROTATE != 0:\n",
    "        rand_rotate = xp.random.rand()*(DATA_RANGE_ROTATE*2)-DATA_RANGE_ROTATE\n",
    "        d = data.rotate_path(d,rand_rotate)\n",
    "    x_test = d\n",
    "    x = xp.ravel(x_test[:,0:2])\n",
    "    x = Variable(xp.array([x],dtype=xp.float32))\n",
    "    axes[0] = plot_path(axes[0],x_test,xlim=[-.1,.5],ylim=[-.2,.2],scatter=1)\n",
    "    for j in range(len(models)):\n",
    "        y, loss, z_oplus = predict_clip(models[j],x)\n",
    "        Y.append(y.data)\n",
    "        mean_v = xp.mean(y.data[0,:,0])\n",
    "        mean_w = xp.mean(y.data[0,:,2])\n",
    "        loss_df.iat[i,j] = loss.data\n",
    "        ave_v_df.iat[i,j] = mean_v\n",
    "        ave_w_df.iat[i,j] = mean_w\n",
    "        v_1_df.iat[i,j] = y.data[0,0,0]\n",
    "        w_1_df.iat[i,j] = y.data[0,0,2]\n",
    "        axes[0] = plot_path(axes[0], z_oplus,xlim=[-.1,.5],ylim=[-.2,.2],color=modelcolors[j])\n",
    "        if(settings.gpu_index >= 0):\n",
    "            y_np = xp.asnumpy(y.data)\n",
    "        margin = 0.0\n",
    "        axes[1].plot(y_np[0,:,0],color=modelcolors[j])\n",
    "        axes[1].set_ylim([0,DATA_MAX_V_STEP+margin])\n",
    "        axes[1].set_title('V', fontsize=18)\n",
    "        axes[1].set_ylabel('velocity [m/step]')\n",
    "        axes[1].set_xlabel('step')\n",
    "        axes[1].grid()\n",
    "        margin = 0.0\n",
    "        axes[2].plot(y_np[0,:,2],color=modelcolors[j])\n",
    "        axes[2].set_ylim([-DATA_MAX_W_STEP-margin,DATA_MAX_W_STEP+margin])\n",
    "        axes[2].set_ylabel('velocity [rad/step]')\n",
    "        axes[2].set_xlabel('step')\n",
    "        axes[2].set_title('W', fontsize=18)\n",
    "        axes[2].grid()\n",
    "    leg = columns.copy()\n",
    "    leg.insert(0,'input')\n",
    "    axes[0].legend(leg,bbox_to_anchor=(1.05, 1), loc='upper left', borderaxespad=0, fontsize=18)\n",
    "    axes[0].grid()\n",
    "    axes[0].set_title(rows_name[i], fontsize=18)\n",
    "    plt.pause(0.01)\n",
    "    print('average_loss :', loss.data)\n",
    "    plt.show()"
   ]
  },
  {
   "cell_type": "code",
   "execution_count": 9,
   "metadata": {},
   "outputs": [
    {
     "data": {
      "image/png": "[encoded data removed]",
      "text/plain": [
       "<matplotlib.figure.Figure at 0x7f73800b9470>"
      ]
     },
     "metadata": {},
     "output_type": "display_data"
    },
    {
     "data": {
      "image/png": "[encoded data removed]",
      "text/plain": [
       "<matplotlib.figure.Figure at 0x7f7370781c50>"
      ]
     },
     "metadata": {},
     "output_type": "display_data"
    },
    {
     "data": {
      "image/png": "[encoded data removed]",
      "text/plain": [
       "<matplotlib.figure.Figure at 0x7f73800b90f0>"
      ]
     },
     "metadata": {},
     "output_type": "display_data"
    },
    {
     "data": {
      "text/plain": [
       "\"\\n# print(v_df)\\nave_v_df.plot(title='average v')\\nplt.xticks(rows,rows_name,rotation=30)\\nplt.ylabel('v [m / step]')\\nplt.xlabel('input')\\nplt.grid()\\nplt.show()\\n# print(v_df)\\nave_w_df.plot(title='average ω')\\nplt.xticks(rows,rows_name,rotation=30)\\nplt.ylabel('loss')\\nplt.ylabel('ω [rad / step]')\\nplt.xlabel('input')\\nplt.grid()\\nplt.show()\\n# print(w_df)\\n\""
      ]
     },
     "execution_count": 9,
     "metadata": {},
     "output_type": "execute_result"
    }
   ],
   "source": [
    "loss_df = loss_df.astype(float)\n",
    "ave_v_df = ave_v_df.astype(float)\n",
    "ave_w_df = ave_w_df.astype(float)\n",
    "v_1_df = v_1_df.astype(float)\n",
    "w_1_df = w_1_df.astype(float)\n",
    "\n",
    "loss_df.plot(title='loss',color=modelcolors)\n",
    "plt.xticks(rows,rows_name,rotation=30)\n",
    "plt.ylabel('Error')\n",
    "plt.xlabel('input')\n",
    "plt.grid()\n",
    "plt.show()\n",
    "# print(loss_df)\n",
    "v_1_df.plot(title='v_1',color=modelcolors)\n",
    "plt.xticks(rows,rows_name,rotation=30)\n",
    "margin = 0.01\n",
    "#plt.ylim([0,DATA_M_PER_STEP+margin])\n",
    "plt.ylabel('V [m / step]')\n",
    "plt.xlabel('input')\n",
    "plt.grid()\n",
    "plt.show()\n",
    "# print(v_df)\n",
    "w_1_df.plot(title='w_1',color=modelcolors)\n",
    "plt.xticks(rows,rows_name,rotation=30)\n",
    "margin = 0\n",
    "#plt.ylim([-DATA_RAD_PER_STEP-margin,DATA_RAD_PER_STEP+margin])\n",
    "plt.ylabel('W [rad / step]')\n",
    "plt.xlabel('input')\n",
    "plt.grid()\n",
    "plt.show()\n",
    "'''\n",
    "# print(v_df)\n",
    "ave_v_df.plot(title='average v')\n",
    "plt.xticks(rows,rows_name,rotation=30)\n",
    "plt.ylabel('v [m / step]')\n",
    "plt.xlabel('input')\n",
    "plt.grid()\n",
    "plt.show()\n",
    "# print(v_df)\n",
    "ave_w_df.plot(title='average ω')\n",
    "plt.xticks(rows,rows_name,rotation=30)\n",
    "plt.ylabel('loss')\n",
    "plt.ylabel('ω [rad / step]')\n",
    "plt.xlabel('input')\n",
    "plt.grid()\n",
    "plt.show()\n",
    "# print(w_df)\n",
    "'''"
   ]
  },
  {
   "cell_type": "code",
   "execution_count": 10,
   "metadata": {
    "scrolled": false
   },
   "outputs": [
    {
     "name": "stdout",
     "output_type": "stream",
     "text": [
      "loss\n",
      "            model_A\n",
      "-0.110658  0.027994\n",
      "\n",
      "v_1\n",
      "            model_A\n",
      "-0.110658  0.050065\n",
      "\n",
      "w_1\n",
      "            model_A\n",
      "-0.110658 -0.115534\n"
     ]
    },
    {
     "data": {
      "text/plain": [
       "\"\\nprint('\\naverage v')\\nprint(ave_v_df)\\nprint('\\naverage w')\\nprint(ave_w_df)\\n\""
      ]
     },
     "execution_count": 10,
     "metadata": {},
     "output_type": "execute_result"
    }
   ],
   "source": [
    "print('loss')\n",
    "print(loss_df)\n",
    "print('\\nv_1')\n",
    "print(v_1_df)\n",
    "print('\\nw_1')\n",
    "print(w_1_df)\n",
    "'''\n",
    "print('\\naverage v')\n",
    "print(ave_v_df)\n",
    "print('\\naverage w')\n",
    "print(ave_w_df)\n",
    "'''"
   ]
  }
 ],
 "metadata": {
  "kernelspec": {
   "display_name": "Python 3",
   "language": "python",
   "name": "python3"
  },
  "language_info": {
   "codemirror_mode": {
    "name": "ipython",
    "version": 3
   },
   "file_extension": ".py",
   "mimetype": "text/x-python",
   "name": "python",
   "nbconvert_exporter": "python",
   "pygments_lexer": "ipython3",
   "version": "3.5.2"
  }
 },
 "nbformat": 4,
 "nbformat_minor": 2
}
