{
 "cells": [
  {
   "cell_type": "code",
   "execution_count": 1,
   "metadata": {},
   "outputs": [],
   "source": [
    "import chainer\n",
    "from chainer import Function,Link, Chain, ChainList, Variable, optimizers, iterators\n",
    "from chainer import function_node\n",
    "import chainer.functions as F \n",
    "import chainer.links as L \n",
    "from chainer import cuda\n",
    "from chainer import initializers\n",
    "from chainer import serializers\n",
    "import numpy as np\n",
    "from chainer.cuda import cupy as cp"
   ]
  },
  {
   "cell_type": "code",
   "execution_count": 2,
   "metadata": {},
   "outputs": [],
   "source": [
    "import matplotlib.pyplot as plt\n",
    "%matplotlib inline\n",
    "\n",
    "def plot_path(ax, path,color='blue', xlim=[.0,2.],ylim=[-1.0,1.0]):\n",
    "    for i in range(1,len(path)):\n",
    "        ax.quiver(path[i-1,0],path[i-1,1]\n",
    "                   , path[i,0]-path[i-1,0],path[i,1]-path[i-1,1]\n",
    "                   , scale_units='xy', angles='xy', scale=1,color=color)\n",
    "    ax.set_xlabel(\"x[m]\")\n",
    "    ax.set_ylabel(\"y[m]\")\n",
    "    ax.axis('scaled')\n",
    "    ax.grid()\n",
    "    ax.set_xlim(xlim)\n",
    "    ax.set_ylim(ylim)"
   ]
  },
  {
   "cell_type": "code",
   "execution_count": 3,
   "metadata": {},
   "outputs": [],
   "source": [
    "def perturbation(shape, sigma=0.01):\n",
    "    R, dim = shape\n",
    "    mu_arr = np.zeros(dim,dtype=np.float32)\n",
    "    sigma_arr = np.eye((dim),dtype=np.float32) * sigma **2\n",
    "    ret = np.random.multivariate_normal(mu_arr,sigma_arr,R).astype(np.float32)\n",
    "    return ret\n",
    "\n",
    "class Oplus_NES(function_node.FunctionNode):\n",
    "    def motion_update(self, t1, t2):\n",
    "        cos1 = np.cos(t1[2])\n",
    "        sin1 = np.sin(t1[2])\n",
    "        x = cos1 * t2[0] - sin1 * t2[1] + t1[0]\n",
    "        y = sin1 * t2[0] + cos1 * t2[1] + t1[1]\n",
    "        t = ( t1[2] + t2[2] + np.pi) % (2 * np.pi ) - np.pi\n",
    "        ret = np.array([x,y,t], dtype=t1.dtype)\n",
    "        return ret\n",
    "        \n",
    "    def forward_cpu(self, inputs):\n",
    "        t1, t2 = inputs\n",
    "        self.R = 1\n",
    "        self.sigma = .01\n",
    "        self.p = perturbation((self.R,2),sigma=self.sigma)\n",
    "        t1_up = t1 + self.p[:,0]\n",
    "        t1_down = t1 - self.p[:,0]\n",
    "        t2_up = t2 + self.p[:,1]\n",
    "        t2_down = t2 - self.p[:,1]\n",
    "        y_up = self.motion_update(t1_up, t2_up)\n",
    "        y_down = self.motion_update(t1_down, t2_down)        \n",
    "        ret = np.array([y_up, y_down],dtype=np.float32)\n",
    "        #print('ret:' + str(ret))\n",
    "        self.retain_inputs([0,1])\n",
    "        self.retain_outputs([0])\n",
    "        return ret ,\n",
    "\n",
    "    def forward_gpu(self, inputs):\n",
    "        t1, t2 = inputs\n",
    "        self.R = 1\n",
    "        self.sigma = .01\n",
    "        self.p = cp.asarray(perturbation((self.R,2),sigma=self.sigma))\n",
    "        t1_up = t1 + self.p[:,0]\n",
    "        t1_down = t1 - self.p[:,0]\n",
    "        t2_up = t1 + self.p[:,1]\n",
    "        t2_down = t1 - self.p[:,1]\n",
    "        y_up = cp.asarray(self.motion_update(t1_up, t2_up))\n",
    "        y_down = cp.asarray(self.motion_update(t1_down, t2_down))\n",
    "        ret = cp.array([y_up, y_down],dtype=cp.float32)\n",
    "        #print('ret:' + str(ret))\n",
    "        self.retain_inputs([0])\n",
    "        self.retain_outputs([0])\n",
    "        return ret,\n",
    "    \n",
    "    def backward(self, inputs, grad_outputs):\n",
    "        gy, = grad_outputs\n",
    "        t1, t2 = self.get_retained_inputs()\n",
    "        t1 = np.array(t1.data,dtype=np.float32)\n",
    "        t2 = np.array(t2.data,dtype=np.float32)\n",
    "        Y_up, Y_down = self.get_retained_outputs()[0]\n",
    "        Y_up = np.array(Y_up.data, dtype=np.float32)\n",
    "        Y_down = np.array(Y_down.data, dtype=np.float32)\n",
    "        D = Y_up - Y_down\n",
    "        dt1 = D * self.p[:,0] * 0.5 / (self.sigma**2 * self.R)\n",
    "        gt1_up = gy[0] * dt1\n",
    "        gt1_down = gy[1] * dt1\n",
    "        gt1 = gt1_up + gt1_down\n",
    "        dt2 = D * self.p[:,1] * 0.5 / (self.sigma**2 * self.R)\n",
    "        gt2_up = gy[0] * dt2\n",
    "        gt2_down = gy[1] * dt2\n",
    "        gt2 = gt2_up + gt2_down\n",
    "        return gt1,gt2\n",
    "        \n",
    "def oplus_nes(z,y):\n",
    "    return Oplus_NES().apply((z,y))[0]"
   ]
  },
  {
   "cell_type": "code",
   "execution_count": 4,
   "metadata": {},
   "outputs": [
    {
     "name": "stdout",
     "output_type": "stream",
     "text": [
      "[[0.0000000e+00 0.0000000e+00 0.0000000e+00]\n",
      " [4.9961966e-01 3.3578277e-04 0.0000000e+00]\n",
      " [9.9962831e-01 2.7082954e-04 0.0000000e+00]\n",
      " [1.4995143e+00 3.6653318e-04 0.0000000e+00]]\n"
     ]
    },
    {
     "data": {
      "image/png": "[encoded data removed]",
      "text/plain": [
       "<matplotlib.figure.Figure at 0x7f869ccb4160>"
      ]
     },
     "metadata": {},
     "output_type": "display_data"
    }
   ],
   "source": [
    "x1 = Variable(np.array([.0, .0, .0], dtype=np.float32))\n",
    "x2 = Variable(np.array([.5, .0, .0], dtype=np.float32))\n",
    "x3 = Variable(np.array([.5, .0, .0], dtype=np.float32))\n",
    "x4 = Variable(np.array([.5, .0, .0], dtype=np.float32))\n",
    "\n",
    "z1 = oplus_nes(x1, x2)\n",
    "mz1 = (z1[0] + z1[1]) *.5\n",
    "z2 = oplus_nes(mz1, x3)\n",
    "mz2 = (z2[0] + z2[1]) *.5\n",
    "z3 = oplus_nes(mz2, x4)\n",
    "mz3 = (z3[0] + z3[1]) *.5\n",
    "z = F.stack([x1, mz1, mz2, mz3])\n",
    "print(z.data)\n",
    "fig, ax = (plt.figure(), plt.axes())\n",
    "plot_path(ax, z.data)\n",
    "plt.show()"
   ]
  },
  {
   "cell_type": "code",
   "execution_count": 5,
   "metadata": {},
   "outputs": [
    {
     "name": "stdout",
     "output_type": "stream",
     "text": [
      "z=\n",
      "variable([[0.         0.         0.3       ]\n",
      "          [0.47767    0.14775428 0.6       ]\n",
      "          [0.8903196  0.43007836 0.90000004]\n",
      "          [1.2010078  0.82171303 1.2       ]])\n",
      "xt=\n",
      "[[ 0.0000000e+00  0.0000000e+00  0.0000000e+00]\n",
      " [ 5.0000620e-01 -7.1761897e-06  0.0000000e+00]\n",
      " [ 1.0000734e+00 -1.0347902e-04  0.0000000e+00]\n",
      " [ 1.4998679e+00  8.4741041e-05  0.0000000e+00]]\n",
      "error\n",
      "variable(3.683825)\n",
      "variable([-0.01191353  0.36393702  0.9851169 ])\n",
      "variable([ 0.0029694  -0.09070986 -0.09598885])\n",
      "variable([-0.10001038  3.7510648   3.4320633 ])\n",
      "variable([-0.20678857  3.0320327   3.2703018 ])\n"
     ]
    },
    {
     "data": {
      "image/png": "[encoded data removed]",
      "text/plain": [
       "<matplotlib.figure.Figure at 0x7f869cd1b908>"
      ]
     },
     "metadata": {},
     "output_type": "display_data"
    }
   ],
   "source": [
    "def Error(xt, x):\n",
    "    e = F.sum((xt - x)**2)\n",
    "    return e\n",
    "\n",
    "xt = np.array([\n",
    "    [ 0.0000000e+00,  0.0000000e+00,  0.0000000e+00],\n",
    "    [ 5.0000620e-01, -7.1761897e-06,  0.0000000e+00],\n",
    "    [ 1.0000734e+00, -1.0347902e-04,  0.0000000e+00],\n",
    "    [ 1.4998679e+00,  8.4741041e-05,  0.0000000e+00]]\n",
    "    )\n",
    "x1 = Variable(np.array([.0, .0, .3], dtype=np.float32))\n",
    "x2 = Variable(np.array([.5, .0, .3], dtype=np.float32))\n",
    "x3 = Variable(np.array([.5, .0, .3], dtype=np.float32))\n",
    "x4 = Variable(np.array([.5, .0, .3], dtype=np.float32))\n",
    "z1 = oplus_nes(x1, x2)\n",
    "mz1 = (z1[0] + z1[1]) *.5\n",
    "z2 = oplus_nes(mz1, x3)\n",
    "mz2 = (z2[0] + z2[1]) *.5\n",
    "z3 = oplus_nes(mz2, x4)\n",
    "mz3 = (z3[0] + z3[1]) *.5\n",
    "z = F.stack([x1, mz1, mz2, mz3])\n",
    "print('z=')\n",
    "print(z)\n",
    "print('xt=')\n",
    "print(xt)\n",
    "e = Error(z,xt)\n",
    "print('error')\n",
    "print(e)\n",
    "e.backward()\n",
    "gx1 = chainer.grad((e,),(x1,))[0]\n",
    "gx2 = chainer.grad((e,),(x2,))[0]\n",
    "gx3 = chainer.grad((e,),(x3,))[0]\n",
    "gx4 = chainer.grad((e,),(x4,))[0]\n",
    "print(gx1)\n",
    "print(gx2)\n",
    "print(gx3)\n",
    "print(gx4)\n",
    "\n",
    "fig, ax = (plt.figure(), plt.axes())\n",
    "plot_path(ax, xt, color='red')\n",
    "plot_path(ax, z.data, color='blue')\n",
    "plt.show()"
   ]
  },
  {
   "cell_type": "code",
   "execution_count": 6,
   "metadata": {
    "scrolled": true
   },
   "outputs": [
    {
     "data": {
      "image/png": "[encoded data removed]",
      "text/plain": [
       "<matplotlib.figure.Figure at 0x7f8699403940>"
      ]
     },
     "metadata": {},
     "output_type": "display_data"
    },
    {
     "data": {
      "text/plain": [
       "[<matplotlib.lines.Line2D at 0x7f869931fc88>]"
      ]
     },
     "execution_count": 6,
     "metadata": {},
     "output_type": "execute_result"
    },
    {
     "data": {
      "image/png": "[encoded data removed]",
      "text/plain": [
       "<matplotlib.figure.Figure at 0x7f869937bef0>"
      ]
     },
     "metadata": {},
     "output_type": "display_data"
    }
   ],
   "source": [
    "itr = 200\n",
    "lr = .01\n",
    "loss = []\n",
    "\n",
    "xt = np.array([\n",
    "    [ 0.0000000e+00,  0.0000000e+00,  0.0000000e+00],\n",
    "    [ 5.0000620e-01, -7.1761897e-06,  0.0000000e+00],\n",
    "    [ 1.0000734e+00, -1.0347902e-04,  0.0000000e+00],\n",
    "    [ 1.4998679e+00,  8.4741041e-05,  0.0000000e+00]])\n",
    "x1 = Variable(np.array([.0, .0, .0], dtype=np.float32))\n",
    "x2 = Variable(np.array([.5, .0, .3], dtype=np.float32))\n",
    "x3 = Variable(np.array([.5, .0, .3], dtype=np.float32))\n",
    "x4 = Variable(np.array([.5, .0, .3], dtype=np.float32))\n",
    "for i in range(itr):\n",
    "    z1 = oplus_nes(x1, x2)\n",
    "    mz1 = (z1[0] + z1[1]) *.5\n",
    "    z2 = oplus_nes(mz1, x3)\n",
    "    mz2 = (z2[0] + z2[1]) *.5\n",
    "    z3 = oplus_nes(mz2, x4)\n",
    "    mz3 = (z3[0] + z3[1]) *.5\n",
    "    z = F.stack([x1, mz1, mz2, mz3])\n",
    "    e = Error(z,xt)\n",
    "    e.backward()\n",
    "    loss.append(e.data)\n",
    "    gx1 = chainer.grad((e,),(x1,))[0]\n",
    "    gx2 = chainer.grad((e,),(x2,))[0]\n",
    "    gx3 = chainer.grad((e,),(x3,))[0]\n",
    "    gx4 = chainer.grad((e,),(x4,))[0]\n",
    "    #x1 = Variable(x1.data - lr*gx1.data)\n",
    "    x2 = Variable(x2.data - lr*gx2.data)\n",
    "    x3 = Variable(x3.data - lr*gx3.data)\n",
    "    x4 = Variable(x4.data - lr*gx4.data)\n",
    "\n",
    "\n",
    "fig, ax = (plt.figure(), plt.axes())\n",
    "plot_path(ax, xt, color='red')\n",
    "plot_path(ax, z.data, color='blue')\n",
    "plt.show()\n",
    "plt.plot(range(len(loss)),loss)"
   ]
  },
  {
   "cell_type": "code",
   "execution_count": 7,
   "metadata": {},
   "outputs": [],
   "source": [
    "class Simulator_Oplus_NES(function_node.FunctionNode):\n",
    "    def padding(self,v,w):\n",
    "        pad = np.zeros((1,len(v[0])),dtype=v.dtype)\n",
    "        y = np.stack((v,pad,w),axis=2)\n",
    "        return y\n",
    "    \n",
    "    def oplus(self, t1, t2):\n",
    "        cos1 = np.cos(t1[2])\n",
    "        sin1 = np.sin(t1[2])\n",
    "        x = cos1 * t2[0] - sin1 * t2[1] + t1[0]\n",
    "        y = sin1 * t2[0] + cos1 * t2[1] + t1[1]\n",
    "        t = ( t1[2] + t2[2] + np.pi) % (2 * np.pi ) - np.pi\n",
    "        ret = np.array([x,y,t], dtype=t1.dtype)\n",
    "        return ret\n",
    "        \n",
    "    def forward_cpu(self, inputs):\n",
    "        v, w = inputs\n",
    "        if len(v.data)!=len(w.data):\n",
    "            print('Error: inputs error {} != {}').format(t1,t2)\n",
    "            raise Exception\n",
    "        self.R = 1\n",
    "        self.sigma = .01\n",
    "        self.p = perturbation((self.R,2),sigma=self.sigma)\n",
    "        v_up = v + self.p[:,0]\n",
    "        v_down = v - self.p[:,0]\n",
    "        w_up = w + self.p[:,1]\n",
    "        w_down = w - self.p[:,1]\n",
    "        # Calcurate Oplus\n",
    "        vw_up = self.padding(v_up,w_up)\n",
    "        vw_down = self.padding(v_down,w_down)\n",
    "        y_up = vw_up[0,0]\n",
    "        y_down = vw_down[0,0]\n",
    "        z_up = [y_up]\n",
    "        z_down = [y_down]\n",
    "        for step in range(1, len(vw_up[0])):\n",
    "            y_up = self.oplus(y_up, vw_up[0,step])\n",
    "            y_down = self.oplus(y_down, vw_down[0,step])\n",
    "            z_up.append(y_up)\n",
    "            z_down.append(y_down)\n",
    "        #z_up = np.array(z_up,dtype=np.float32)\n",
    "        #z_down = np.array(z_down,dtype=np.float32)\n",
    "        z = np.array( [z_up, z_down],dtype=np.float32)\n",
    "        #print('ret:' + str(ret))\n",
    "        self.retain_inputs([0,1])\n",
    "        self.retain_outputs([0])\n",
    "        return z,\n",
    "\n",
    "    def forward_gpu(self, inputs):\n",
    "        v, w = inputs\n",
    "        if len(v.data)!=len(w.data):\n",
    "            print('Error: inputs error {} != {}').format(t1,t2)\n",
    "            raise Exception\n",
    "        self.R = 1\n",
    "        self.sigma = .01\n",
    "        self.p = cp.asarray(perturbation((self.R,2),sigma=self.sigma))\n",
    "        v_up = v + self.p[:,0]\n",
    "        v_down = v - self.p[:,0]\n",
    "        w_up = w + self.p[:,1]\n",
    "        w_down = w - self.p[:,1]\n",
    "        # Calcurate Oplus\n",
    "        vw_up = self.padding(v_up,w_up)\n",
    "        vw_down = self.padding(v_down,w_down)\n",
    "        y_up = vw_up[0,0]\n",
    "        y_down = vw_down[0,0]\n",
    "        z_up = [y_up]\n",
    "        z_down = [y_down]\n",
    "        for step in range(1, len(vw_up[0])):\n",
    "            y_up = self.oplus(y_up, vw_up[0,step])\n",
    "            y_down = self.oplus(y_down, vw_down[0,step])\n",
    "            z_up.append(y_up)\n",
    "            z_down.append(y_down)\n",
    "        #z_up = np.array(z_up,dtype=np.float32)\n",
    "        #z_down = np.array(z_down,dtype=np.float32)\n",
    "        z = np.array( [z_up, z_down],dtype=np.float32)\n",
    "        #print('ret:' + str(ret))\n",
    "        self.retain_inputs([0,1])\n",
    "        self.retain_outputs([0])\n",
    "        return z,\n",
    "    \n",
    "    def backward(self, inputs, grad_outputs):\n",
    "        gy, = grad_outputs\n",
    "        v, w = self.get_retained_inputs()\n",
    "        v = np.array(v.data,dtype=np.float32)\n",
    "        w = np.array(w.data,dtype=np.float32)\n",
    "        z_up, z_down = self.get_retained_outputs()[0]\n",
    "        z_up = np.array(z_up.data, dtype=np.float32)\n",
    "        z_down = np.array(z_down.data, dtype=np.float32)\n",
    "        D = z_up - z_down\n",
    "        dv = D * self.p[:,0] * 0.5 / (self.sigma**2 * self.R)\n",
    "        gv_up = F.sum(gy[0] * dv, axis=1)\n",
    "        gv_down = F.sum(gy[1] * dv, axis=1)\n",
    "        gv = F.expand_dims(gv_up + gv_down, axis=0)\n",
    "        dw = D * self.p[:,1] * 0.5 / (self.sigma**2 * self.R)\n",
    "        gw_up = F.sum(gy[0] * dw, axis=1)\n",
    "        gw_down = F.sum(gy[1] * dw, axis=1)\n",
    "        gw =F.expand_dims(gw_up + gw_down, axis=0)\n",
    "        return gv,gw\n",
    "        \n",
    "def sim_oplus_nes(v,w):\n",
    "    return Simulator_Oplus_NES().apply((v,w))[0]"
   ]
  },
  {
   "cell_type": "code",
   "execution_count": 8,
   "metadata": {},
   "outputs": [
    {
     "name": "stdout",
     "output_type": "stream",
     "text": [
      "variable([[[0.50721323 0.         0.30852345]\n",
      "           [0.9904774  0.15401638 0.6170469 ]\n",
      "           [1.4041557  0.44750473 0.92557037]\n",
      "           [1.7091831  0.8527498  1.2340938 ]\n",
      "           [1.8767545  1.3314826  1.5426172 ]]\n",
      "\n",
      "          [[0.49278674 0.         0.29147658]\n",
      "           [0.964788   0.14161056 0.58295316]\n",
      "           [1.3761864  0.4128856  0.8744297 ]\n",
      "           [1.6922767  0.79094064 1.1659063 ]\n",
      "           [1.8863941  1.2438835  1.4573829 ]]])\n"
     ]
    },
    {
     "data": {
      "image/png": "[encoded data removed]",
      "text/plain": [
       "<matplotlib.figure.Figure at 0x7f8699404e10>"
      ]
     },
     "metadata": {},
     "output_type": "display_data"
    }
   ],
   "source": [
    "v = Variable(np.array([[.5,.5,.5,.5,.5]],dtype=np.float32))\n",
    "w = Variable(np.array([[.3,.3,.3,.3,.3]],dtype=np.float32))\n",
    "z = sim_oplus_nes(v,w)\n",
    "print(z)\n",
    "fig, ax = (plt.figure(), plt.axes())\n",
    "plot_path(ax, z.data[0], color='blue', xlim=[.0, 5.], ylim=[-1.5,1.5])\n",
    "plot_path(ax, z.data[1], color='darkblue', xlim=[.0, 5.], ylim=[-1.5,1.5])\n",
    "mz = (z[0] + z[1])/2.\n",
    "plot_path(ax, mz.data, color='cyan', xlim=[.0, 5.], ylim=[-1.5,1.5])\n",
    "plt.show()"
   ]
  },
  {
   "cell_type": "code",
   "execution_count": 9,
   "metadata": {},
   "outputs": [
    {
     "name": "stdout",
     "output_type": "stream",
     "text": [
      "variable(7.97505)\n",
      "variable([[ 0.36889046  1.5663872   4.1727066   9.201448   17.788818  ]])\n",
      "variable([[ 0.4358931  1.8508946  4.9306083 10.872734  21.019854 ]])\n"
     ]
    }
   ],
   "source": [
    "def Error(xt, x):\n",
    "    e = F.sum((xt - x)**2)\n",
    "    return e\n",
    "\n",
    "xt = np.array([\n",
    "    [ 0.5,  0, .0],\n",
    "    [ 1.0, .0, .0],\n",
    "    [ 1.5, .0, .0],\n",
    "    [ 2.0, .0, .0],\n",
    "    [ 2.5, .0, .0]],dtype=np.float32)\n",
    "e = Error(xt, mz)\n",
    "print(e)\n",
    "e.backward()\n",
    "gv = chainer.grad((e,),(v,))[0]\n",
    "gw = chainer.grad((e,),(w,))[0]\n",
    "print(gv)\n",
    "print(gw)"
   ]
  },
  {
   "cell_type": "code",
   "execution_count": 10,
   "metadata": {
    "scrolled": false
   },
   "outputs": [
    {
     "data": {
      "image/png": "[encoded data removed]",
      "text/plain": [
       "<matplotlib.figure.Figure at 0x7f869ccde198>"
      ]
     },
     "metadata": {},
     "output_type": "display_data"
    },
    {
     "data": {
      "image/png": "[encoded data removed]",
      "text/plain": [
       "<matplotlib.figure.Figure at 0x7f86992fde10>"
      ]
     },
     "metadata": {},
     "output_type": "display_data"
    },
    {
     "data": {
      "image/png": "[encoded data removed]",
      "text/plain": [
       "<matplotlib.figure.Figure at 0x7f86992d3160>"
      ]
     },
     "metadata": {},
     "output_type": "display_data"
    },
    {
     "data": {
      "image/png": "[encoded data removed]",
      "text/plain": [
       "<matplotlib.figure.Figure at 0x7f8699252828>"
      ]
     },
     "metadata": {},
     "output_type": "display_data"
    },
    {
     "data": {
      "image/png": "[encoded data removed]",
      "text/plain": [
       "<matplotlib.figure.Figure at 0x7f8699292080>"
      ]
     },
     "metadata": {},
     "output_type": "display_data"
    },
    {
     "data": {
      "image/png": "[encoded data removed]",
      "text/plain": [
       "<matplotlib.figure.Figure at 0x7f86991febe0>"
      ]
     },
     "metadata": {},
     "output_type": "display_data"
    },
    {
     "data": {
      "text/plain": [
       "[<matplotlib.lines.Line2D at 0x7f86992fdeb8>]"
      ]
     },
     "execution_count": 10,
     "metadata": {},
     "output_type": "execute_result"
    },
    {
     "data": {
      "image/png": "[encoded data removed]",
      "text/plain": [
       "<matplotlib.figure.Figure at 0x7f86991c2b00>"
      ]
     },
     "metadata": {},
     "output_type": "display_data"
    }
   ],
   "source": [
    "itr = 50\n",
    "lr = .01\n",
    "loss = []\n",
    "xt = np.array([\n",
    "    [ 0.5,  0, .0],\n",
    "    [ 1.0, .0, .0],\n",
    "    [ 1.5, .0, .0],\n",
    "    [ 2.0, .0, .0],\n",
    "    [ 2.5, .0, .0]],dtype=np.float32)\n",
    "v = Variable(np.array([[.5,.1,-.5,.2,.3]],dtype=np.float32))\n",
    "w = Variable(np.array([[.3,-.3,.5,-.5,1.3]],dtype=np.float32))\n",
    "for i in range(itr):\n",
    "    z = sim_oplus_nes(v,w)\n",
    "    mz = z[0] + z[1]\n",
    "    e = Error(xt, mz)\n",
    "    e.backward()\n",
    "    loss.append(e.data)\n",
    "    gv = chainer.grad((e,),(v,))[0]\n",
    "    gw = chainer.grad((e,),(w,))[0]\n",
    "    v = Variable(v.data - lr*gv.data)\n",
    "    w = Variable(w.data - lr*gw.data)\n",
    "    if i % 10 == 0:\n",
    "        fig, ax = (plt.figure(), plt.axes())\n",
    "        plot_path(ax, xt, color='red', xlim=[.0, 5.], ylim=[-1.5,1.5])\n",
    "        plot_path(ax, mz.data, color='cyan', xlim=[.0, 5.], ylim=[-1.5,1.5])\n",
    "        plt.show()\n",
    "\n",
    "fig, ax = (plt.figure(), plt.axes())\n",
    "plot_path(ax, xt, color='red', xlim=[.0, 5.], ylim=[-1.5,1.5])\n",
    "plot_path(ax, mz.data, color='cyan', xlim=[.0, 5.], ylim=[-1.5,1.5])\n",
    "plt.show()\n",
    "plt.plot(range(len(loss)),loss)"
   ]
  }
 ],
 "metadata": {
  "kernelspec": {
   "display_name": "Python 3",
   "language": "python",
   "name": "python3"
  },
  "language_info": {
   "codemirror_mode": {
    "name": "ipython",
    "version": 3
   },
   "file_extension": ".py",
   "mimetype": "text/x-python",
   "name": "python",
   "nbconvert_exporter": "python",
   "pygments_lexer": "ipython3",
   "version": "3.5.2"
  }
 },
 "nbformat": 4,
 "nbformat_minor": 2
}
